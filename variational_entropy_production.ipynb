{
 "cells": [
  {
   "cell_type": "code",
   "execution_count": 55,
   "metadata": {},
   "outputs": [],
   "source": [
    "import numpy as np\n",
    "import matplotlib.pyplot as plt\n",
    "from scipy.optimize import fmin\n",
    "import os\n",
    "import scipy as scp\n",
    "from scipy.linalg import expm\n",
    "from sympy.physics.quantum.sho1d import RaisingOp, LoweringOp\n",
    "from sympy.physics.quantum import qapply, represent\n",
    "\n",
    "import scienceplots\n",
    "\n",
    "plt.style.use(['science', 'notebook', 'nature'])"
   ]
  },
  {
   "cell_type": "code",
   "execution_count": 56,
   "metadata": {},
   "outputs": [],
   "source": [
    "# number of vectors taken from the computational basis\n",
    "d_unit = 20\n",
    "dir_res = 'results'\n"
   ]
  },
  {
   "cell_type": "markdown",
   "metadata": {},
   "source": [
    "# Tools\n"
   ]
  },
  {
   "cell_type": "code",
   "execution_count": 57,
   "metadata": {},
   "outputs": [
    {
     "data": {
      "text/plain": [
       "1.5414940825367982"
      ]
     },
     "execution_count": 57,
     "metadata": {},
     "output_type": "execute_result"
    }
   ],
   "source": [
    "def n_avg(beta) :\n",
    "    '''\n",
    "    Returns the average number of particles at a given inverse temperature\n",
    "\n",
    "    Parameters\n",
    "    ----------\n",
    "    beta : array\n",
    "        inverse temperature\n",
    "\n",
    "    Return\n",
    "    ------\n",
    "    n_avg : array\n",
    "        average number of particles at T=1/beta\n",
    "\n",
    "    '''\n",
    "    return 1/(np.exp(beta) - 1)\n",
    "\n",
    "n_avg(0.5)"
   ]
  },
  {
   "cell_type": "code",
   "execution_count": 126,
   "metadata": {},
   "outputs": [],
   "source": [
    "def save_results(sols, folder, subfolder, i) :\n",
    "    '''\n",
    "    Save the results of the optimization in a subfolder of folder\n",
    "\n",
    "    Parameters\n",
    "    ----------\n",
    "    sols : dic\n",
    "        results of the optimization\n",
    "    folder : str\n",
    "        location where output is written\n",
    "    subfolder : str\n",
    "        name of the subfolder\n",
    "    i : int\n",
    "        index of optimization\n",
    "    '''\n",
    "    subfolder = f'{folder}/output_{i}'\n",
    "    os.makedirs(subfolder, exist_ok=True)\n",
    "\n",
    "    np.savetxt(f'{subfolder}/history.txt', sols['history'])\n",
    "    np.savetxt(f'{subfolder}/loss_rho_best.txt', sols['fopt'])\n",
    "    np.savetxt(f'{subfolder}/lagr_best.txt', sols['lagr_best'])\n",
    "    np.savetxt(f'{subfolder}/inverse_temperature.txt', sols['inv_temp'])\n",
    "    np.savetxt(f'{subfolder}/rho_best.txt', np.atleast_1d(sols['rho_best'].toarray()))\n",
    "        \n",
    "\n",
    "\n",
    "def optimize(l, lagr_0, a, at, beta, dim_single_part, ansatz, exponent_ansatz, lindblad, folder, i, **args) :\n",
    "    '''\n",
    "    Minimize the loss l with respect to the lagrange multipliers, \n",
    "    and write all results in folder/output.data\n",
    "\n",
    "    Parameters\n",
    "    ----------\n",
    "    l : function\n",
    "        loss\n",
    "    lagr_0 : array\n",
    "        initial guess for the lagrange multipliers\n",
    "    a : array\n",
    "        annihilation operator\n",
    "    at : array\n",
    "        creation operator\n",
    "    beta : array\n",
    "        inverse temperature\n",
    "    ansatz : function\n",
    "        compute the ansatz for the density matrix given lagrand multipliers\n",
    "    exponent_ansatz : function\n",
    "        compute the exponent of the ansatz for the density matrix\n",
    "    lindblad : function\n",
    "        compute the lindblad operator\n",
    "    folder : str\n",
    "        location where output is written\n",
    "    i : int\n",
    "        index of optimization\n",
    "    **args : dic\n",
    "        (optional) extra parameters used in the Hamiltonian (like\n",
    "        frequencies, ratio parameters, ...)\n",
    "\n",
    "    Note\n",
    "    ----\n",
    "    fmin[0]     # xopt \n",
    "    fmin[1]     # fopt\n",
    "    fmin[2]     # nb iteration\n",
    "    fmin[3]     # funcalls\n",
    "    fmin[4]     # warnflag\n",
    "    fmin[5]     # solution at each iterations\n",
    "    '''\n",
    "    sols = {}\n",
    "    solution = fmin(lambda x: l(x, ansatz, exponent_ansatz, a, at, lindblad, beta, **args), lagr_0, retall=True, full_output=True)\n",
    "    sols['inv_temp'] = np.array([beta])\n",
    "    sols['history'] = np.array(solution[5])\n",
    "    sols['lagr_best'] = solution[0]\n",
    "    sols['rho_best'] = ansatz(sols['lagr_best'], a, at, dim_single_part, **args)\n",
    "    sols['fopt'] = np.array([solution[1]])\n",
    "\n",
    "    save_results(sols, folder, f'output_{i}', i)\n",
    "\n",
    "    return sols\n",
    "\n"
   ]
  },
  {
   "cell_type": "code",
   "execution_count": 74,
   "metadata": {},
   "outputs": [],
   "source": [
    "def exp_mat(M) :\n",
    "    '''\n",
    "    Computes the matrix exponential exp(M)\n",
    "    \n",
    "    Parameters\n",
    "    ----------\n",
    "    M : csr_array\n",
    "        matrix\n",
    "\n",
    "    Return\n",
    "    ------\n",
    "    exp(M) : csr_array\n",
    "    '''\n",
    "    return scp.sparse.csr_array(expm(M.toarray()))\n",
    "    "
   ]
  },
  {
   "cell_type": "markdown",
   "metadata": {},
   "source": [
    "# Quantum Operators\n"
   ]
  },
  {
   "cell_type": "code",
   "execution_count": 60,
   "metadata": {},
   "outputs": [],
   "source": [
    "def creation_annihilation(N) :\n",
    "    '''\n",
    "    Create $a$ and $a^\\dag$ the single particle creation and annihilation operators\n",
    "    in the (sparse) matrix form, in the computational basis {|n>}.\n",
    "\n",
    "    Parameters\n",
    "    ----------\n",
    "    N : int\n",
    "        number of excited states to use in the basis\n",
    "    \n",
    "    Return\n",
    "    ------\n",
    "    a : coo_array\n",
    "        annihilation operator\n",
    "    at : coo_array\n",
    "        creation operator\n",
    "    '''\n",
    "    a = LoweringOp('a')\n",
    "    ad = RaisingOp('a')\n",
    "\n",
    "    a = scp.sparse.coo_array(represent(a, ndim=N, format=\"scipy.sparse\"))\n",
    "    ad = scp.sparse.coo_array(represent(ad, ndim=N, format=\"scipy.sparse\"))\n",
    "\n",
    "    return a, ad\n",
    "\n",
    "a, ad = creation_annihilation(d_unit)"
   ]
  },
  {
   "cell_type": "markdown",
   "metadata": {},
   "source": [
    "# Hamiltonians\n"
   ]
  },
  {
   "cell_type": "code",
   "execution_count": 81,
   "metadata": {},
   "outputs": [
    {
     "name": "stderr",
     "output_type": "stream",
     "text": [
      "c:\\Users\\antho\\miniconda3\\envs\\perso\\Lib\\site-packages\\scipy\\sparse\\_index.py:100: SparseEfficiencyWarning: Changing the sparsity structure of a csr_matrix is expensive. lil_matrix is more efficient.\n",
      "  self._set_intXint(row, col, x.flat[0])\n"
     ]
    },
    {
     "data": {
      "text/plain": [
       "array([ 0.,  1.,  2.,  3.,  4.,  5.,  6.,  7.,  8.,  9., 10., 11., 12.,\n",
       "       13., 14., 15., 16., 17., 18., 19.])"
      ]
     },
     "execution_count": 81,
     "metadata": {},
     "output_type": "execute_result"
    }
   ],
   "source": [
    "def H_sho(a, at, dim_single_part, **args) :\n",
    "    '''\n",
    "    Computes the matrix form of the Hamiltonian of the Simple Harmonic Oscillator\n",
    "    in the computational basis: \n",
    "    $ H = a^\\dag a $\n",
    "\n",
    "    Parameters\n",
    "    ----------\n",
    "    a : coo_array\n",
    "        annihilation operator\n",
    "    at : coo_array\n",
    "        creation operator\n",
    "    **args : dic\n",
    "        (optional) extra parameters used in the Hamiltonian (like\n",
    "        frequencies, ratio parameters, ...)  \n",
    "\n",
    "    Return\n",
    "    ------\n",
    "    H : coo_array\n",
    "        matrix form of Hamiltonian \n",
    "    '''\n",
    "    extra_params = args \n",
    "    a, at = creation_annihilation(dim_single_part)\n",
    "    H = scp.sparse.coo_array(at @ a)\n",
    "    return H\n",
    "\n",
    "np.diagonal(H_sho(a, ad, d_unit).toarray())"
   ]
  },
  {
   "cell_type": "markdown",
   "metadata": {},
   "source": [
    "# Ansätze\n"
   ]
  },
  {
   "cell_type": "markdown",
   "metadata": {},
   "source": [
    "Ansatz : $ \\hat \\rho = \\frac{e^{- \\lambda \\hat a^\\dagger \\hat a}}{\\text{Tr}(e^{- \\lambda \\hat a^\\dagger \\hat a})}$\n"
   ]
  },
  {
   "cell_type": "code",
   "execution_count": 87,
   "metadata": {},
   "outputs": [
    {
     "data": {
      "text/plain": [
       "(<20x20 sparse array of type '<class 'numpy.float64'>'\n",
       " \twith 19 stored elements in Compressed Sparse Row format>,\n",
       " <20x20 sparse array of type '<class 'numpy.float64'>'\n",
       " \twith 20 stored elements in Compressed Sparse Row format>)"
      ]
     },
     "execution_count": 87,
     "metadata": {},
     "output_type": "execute_result"
    }
   ],
   "source": [
    "def exponent_ansatz_sho(lagr, a, at, dim_single_part, **args) :\n",
    "    '''\n",
    "    Exponent of the ansatz for the density matrix given some parameters\n",
    "    Ansatz : $ \\hat \\rho = \\frac{e^{- \\lambda \\hat a^\\dagger \\hat a}}{\\text{Tr}(e^{- \\lambda \\hat a^\\dagger \\hat a})}$\n",
    "\n",
    "    Parameters\n",
    "    ----------\n",
    "    lagr : array\n",
    "        Lagrange multipliers of (pseudo-)conserved quantities.\n",
    "        They are the variational parameters\n",
    "    a : coo_array\n",
    "        annihilation operator\n",
    "    at : coo_array\n",
    "        creation operator\n",
    "    dim_single_part : int\n",
    "        number of excited states to use in the basis\n",
    "    **args : dic\n",
    "        (optional) extra parameters used in the Hamiltonian (like\n",
    "        frequencies, ratio parameters, ...)\n",
    "    \n",
    "    Return\n",
    "    ------\n",
    "    exponent : cooarray\n",
    "\n",
    "    Note\n",
    "    ----\n",
    "    Used to simplify the computation of entropy production\n",
    "    '''\n",
    "    return - lagr * H_sho(a, at, dim_single_part, **args)\n",
    "\n",
    "def ansatz_sho(lagr, a, at, dim_single_part, **args) :\n",
    "    '''\n",
    "    Creates an ansatz for the density matrix given some parameters\n",
    "    Ansatz : $ \\hat \\rho = \\frac{e^{- \\lambda \\hat a^\\dagger \\hat a}}{\\text{Tr}(e^{- \\lambda \\hat a^\\dagger \\hat a})}$\n",
    "\n",
    "    Parameters\n",
    "    ----------\n",
    "    lagr : array\n",
    "        Lagrange multipliers of (pseudo-)conserved quantities.\n",
    "        They are the variational parameters\n",
    "    a : coo_array\n",
    "        annihilation operator\n",
    "    at : coo_array\n",
    "        creation operator\n",
    "    dim_single_part : int\n",
    "        number of excited states to use in the basis\n",
    "    **args : dic\n",
    "        (optional) extra parameters used in the Hamiltonian (like\n",
    "        frequencies, ratio parameters, ...)\n",
    "        \n",
    "    Return\n",
    "    ------\n",
    "    rho : array\n",
    "        density matrix (ansatz)\n",
    "    '''\n",
    "    U = exp_mat(- lagr * H_sho(a, at, dim_single_part, **args))\n",
    "    rho = U / scp.sparse.csr_matrix.trace(U)\n",
    "    return rho\n",
    "\n",
    "exponent_ansatz_sho(0.7, a, ad, d_unit), ansatz_sho(0.7, a, ad, dim_single_part=d_unit)   "
   ]
  },
  {
   "cell_type": "markdown",
   "metadata": {},
   "source": [
    "# Lindbladian\n"
   ]
  },
  {
   "cell_type": "markdown",
   "metadata": {},
   "source": [
    "$ \\mathcal{L} \\hat \\rho = - i\\mkern1mu \\left[\\hat H, \\hat \\rho \\right] + \\gamma (\\bar n + 1) \\left( \\hat a \\hat \\rho \\hat a^\\dag - \\frac{1}{2} \\left\\{ \\hat a^\\dag \\hat a, \\hat \\rho \\right\\} \\right) + \\gamma \\bar n \\left( \\hat a^\\dag \\hat \\rho \\hat a - \\frac{1}{2} \\left\\{ \\hat a \\hat a^\\dag, \\hat \\rho \\right\\} \\right)$\n"
   ]
  },
  {
   "cell_type": "code",
   "execution_count": 84,
   "metadata": {},
   "outputs": [
    {
     "data": {
      "text/plain": [
       "<20x20 sparse array of type '<class 'numpy.complex128'>'\n",
       "\twith 20 stored elements in Compressed Sparse Row format>"
      ]
     },
     "execution_count": 84,
     "metadata": {},
     "output_type": "execute_result"
    }
   ],
   "source": [
    "def lindblad(M, H, a, at, beta, **args) :\n",
    "    '''\n",
    "    Computes the lindbladian of a density matrix M given a Hamiltonian H\n",
    "\n",
    "    Parameters\n",
    "    ----------\n",
    "    M : csr_array \n",
    "        density matrix\n",
    "    H : coo_array\n",
    "        Hamiltonian\n",
    "    a : coo_array\n",
    "        annihilation operator\n",
    "    at : coo_array\n",
    "        creation operator\n",
    "    beta : float\n",
    "        inversee temperature\n",
    "    **args : dic\n",
    "        (optional) extra parameters used in the Hamiltonian (like\n",
    "        frequencies, ratio parameters, ...)\n",
    "\n",
    "    Return\n",
    "    ------\n",
    "    L : float\n",
    "        the lindbladian\n",
    "    '''\n",
    "    L0 = - 1j * (H @ M - M @ H)\n",
    "    L1 = (n_avg(beta) + 1) * (a @ M @ at - 0.5 * (at @ a @ M + M @ at @ a))\n",
    "    L2 = n_avg(beta) * (at @ M @ a - 0.5 * (a @ at @ M + M @ a @ at))\n",
    "    return L0 + L1 + L2\n",
    "\n",
    "rho = ansatz_sho(0.7, a, ad, dim_single_part=d_unit)\n",
    "H = ansatz_sho(0.7, a, ad, dim_single_part=d_unit) \n",
    "\n",
    "lindblad(rho, H, a, ad, 0.5)"
   ]
  },
  {
   "cell_type": "markdown",
   "metadata": {},
   "source": [
    "# Losses\n"
   ]
  },
  {
   "cell_type": "code",
   "execution_count": 102,
   "metadata": {},
   "outputs": [
    {
     "name": "stderr",
     "output_type": "stream",
     "text": [
      "c:\\Users\\antho\\miniconda3\\envs\\perso\\Lib\\site-packages\\scipy\\sparse\\_index.py:100: SparseEfficiencyWarning: Changing the sparsity structure of a csr_matrix is expensive. lil_matrix is more efficient.\n",
      "  self._set_intXint(row, col, x.flat[0])\n"
     ]
    },
    {
     "data": {
      "text/plain": [
       "0.38853560268142395"
      ]
     },
     "execution_count": 102,
     "metadata": {},
     "output_type": "execute_result"
    }
   ],
   "source": [
    "def entropy_production(lagr, ansatz, exponent_ansatz, a, ad, lindblad, beta, **args) :\n",
    "    '''\n",
    "    Computes the entropy production of a density matrix given some parameters\n",
    "\n",
    "\n",
    "    Parameters\n",
    "    ----------\n",
    "    lagr : array\n",
    "        Lagrange multipliers of (pseudo-)conserved quantities.\n",
    "        They are the variational parameters\n",
    "    ansatz : function\n",
    "        compute the ansatz for the density matrix given lagrange multipliers\n",
    "    exponent_ansatz : function\n",
    "        compute the exponent of the ansatz for the density matrix given lagrange multipliers\n",
    "    a : coo_array\n",
    "        annihilation operator\n",
    "    ad : coo_array\n",
    "        creation operator\n",
    "    lindblad : function\n",
    "        computes the lindbladian of a density matrix M given a Hamiltonian H\n",
    "    beta : float\n",
    "        inverse temperature\n",
    "    **args : dic\n",
    "        (optional) extra parameters used in the Hamiltonian (like\n",
    "        frequencies, ratio parameters, ...)\n",
    "\n",
    "    Return\n",
    "    ------\n",
    "    S_prod : float\n",
    "        the entropy production\n",
    "    '''\n",
    "    ansats_M = ansatz(lagr, a, ad, dim_single_part=d_unit)\n",
    "    exponent_ansatz_M = exponent_ansatz(lagr, a, ad, dim_single_part=d_unit)\n",
    "    tot_dim = exponent_ansatz_M.shape[0]\n",
    "    I = scp.sparse.eye(tot_dim)\n",
    "    Z = scp.sparse.csr_matrix.trace(exp_mat(exponent_ansatz_M))\n",
    "\n",
    "    lindbladian = lindblad(ansats_M, H, a, ad, beta, **args)\n",
    "    S_prod = -scp.sparse.csr_matrix.trace((I + exponent_ansatz_M - np.log(Z) * I) @ lindbladian) \n",
    "    return np.abs(S_prod)\n",
    "\n",
    "ans, exp_ans = exponent_ansatz_sho(0.7, a, ad, d_unit), ansatz_sho(0.7, a, ad, dim_single_part=d_unit) \n",
    "lindbladian = lindblad(ans, exp_ans, a, ad, 0.5) \n",
    "entropy_production(0.7, ansatz_sho, exponent_ansatz_sho, a, ad, lindblad, 0.5)"
   ]
  },
  {
   "cell_type": "markdown",
   "metadata": {},
   "source": [
    "# Case 7\n"
   ]
  },
  {
   "cell_type": "code",
   "execution_count": 111,
   "metadata": {},
   "outputs": [],
   "source": [
    "case = 7\n",
    "folder = f'{dir_res}/case_{case}'\n",
    "os.makedirs(folder, exist_ok=True)"
   ]
  },
  {
   "cell_type": "markdown",
   "metadata": {},
   "source": [
    "##### set-up\n"
   ]
  },
  {
   "cell_type": "code",
   "execution_count": 112,
   "metadata": {},
   "outputs": [
    {
     "name": "stderr",
     "output_type": "stream",
     "text": [
      "c:\\Users\\antho\\miniconda3\\envs\\perso\\Lib\\site-packages\\scipy\\sparse\\_index.py:100: SparseEfficiencyWarning: Changing the sparsity structure of a csr_matrix is expensive. lil_matrix is more efficient.\n",
      "  self._set_intXint(row, col, x.flat[0])\n"
     ]
    }
   ],
   "source": [
    "N = 20\n",
    "lambda_0 = np.array([1])\n",
    "a, at = creation_annihilation(N)\n",
    "betas = np.linspace(1, 5, 3)        # true inverse temperature\n",
    "H = H_sho(a, at, N)                 # Hamiltonian\n",
    "ansatz = ansatz_sho\n",
    "exponent_ansatz = exponent_ansatz_sho"
   ]
  },
  {
   "cell_type": "markdown",
   "metadata": {},
   "source": [
    "##### compute\n"
   ]
  },
  {
   "cell_type": "code",
   "execution_count": 127,
   "metadata": {},
   "outputs": [
    {
     "name": "stderr",
     "output_type": "stream",
     "text": [
      "c:\\Users\\antho\\miniconda3\\envs\\perso\\Lib\\site-packages\\scipy\\sparse\\_index.py:100: SparseEfficiencyWarning: Changing the sparsity structure of a csr_matrix is expensive. lil_matrix is more efficient.\n",
      "  self._set_intXint(row, col, x.flat[0])\n"
     ]
    },
    {
     "name": "stdout",
     "output_type": "stream",
     "text": [
      "Optimization terminated successfully.\n",
      "         Current function value: 0.000000\n",
      "         Iterations: 10\n",
      "         Function evaluations: 20\n",
      "[1.]\n",
      "Optimization terminated successfully.\n",
      "         Current function value: 0.000000\n",
      "         Iterations: 19\n",
      "         Function evaluations: 38\n",
      "[3.]\n",
      "Optimization terminated successfully.\n",
      "         Current function value: 0.000000\n",
      "         Iterations: 21\n",
      "         Function evaluations: 42\n",
      "[5.]\n"
     ]
    }
   ],
   "source": [
    "for i,beta in enumerate(betas) :\n",
    "    opt = optimize(entropy_production, lambda_0, a, at, beta, N, ansatz, exponent_ansatz, lindblad, folder, i)\n",
    "    print(opt['lagr_best'])"
   ]
  },
  {
   "cell_type": "markdown",
   "metadata": {},
   "source": [
    "##### Plot\n"
   ]
  },
  {
   "cell_type": "code",
   "execution_count": 128,
   "metadata": {},
   "outputs": [
    {
     "data": {
      "image/png": "[encoded data removed]",
      "text/plain": [
       "<Figure size 330x250 with 1 Axes>"
      ]
     },
     "metadata": {},
     "output_type": "display_data"
    }
   ],
   "source": [
    "lagr_to_plot = [0]\n",
    "\n",
    "for i,beta in enumerate(betas) :\n",
    "\n",
    "    subfolder = f'{folder}/output_{i}'\n",
    "    explored_solutions = np.loadtxt(f'{subfolder}/history.txt', unpack=True)\n",
    "\n",
    "    for lagr in lagr_to_plot :\n",
    "        plt.figure(lagr)\n",
    "        if lagr == 0 :\n",
    "            plt.hlines(beta, 0, len(explored_solutions), color='r', ls='--', lw=1.5, label='ground truth' if i==0 else \"\")\n",
    "        plt.plot(explored_solutions, lw=2, label=rf'$\\beta = {round(beta,2)}$')\n",
    "\n",
    "for lagr in lagr_to_plot :\n",
    "    plt.figure(lagr)   \n",
    "    plt.xlabel(\"iteration\")\n",
    "    plt.ylabel(rf\"Lagrange multiplier $\\lambda_{lagr}$\")\n",
    "    plt.legend(loc='upper center', ncols=4, bbox_to_anchor=(0.5, 1.33))\n",
    "    plt.savefig(f'figs/opti_case_{case}_lagr_{lagr}.pdf', bbox_inches='tight')\n"
   ]
  },
  {
   "cell_type": "code",
   "execution_count": 129,
   "metadata": {},
   "outputs": [
    {
     "data": {
      "image/png": "[encoded data removed]",
      "text/plain": [
       "<Figure size 400x400 with 2 Axes>"
      ]
     },
     "metadata": {},
     "output_type": "display_data"
    },
    {
     "data": {
      "image/png": "[encoded data removed]",
      "text/plain": [
       "<Figure size 400x400 with 2 Axes>"
      ]
     },
     "metadata": {},
     "output_type": "display_data"
    }
   ],
   "source": [
    "for i,beta in enumerate(betas) :\n",
    "    subfolder = f'{folder}/output_{i}'\n",
    "    estimated_rho = np.loadtxt(f'{subfolder}/rho_best.txt')\n",
    "\n",
    "    plt.matshow(estimated_rho)\n",
    "    plt.colorbar()\n",
    "    plt.savefig(f'{subfolder}/rho_best.pdf', bbox_inches='tight')\n",
    "\n",
    "    if i == 0 or i == len(betas) - 1 :\n",
    "        plt.show()\n",
    "    else :\n",
    "        plt.close()"
   ]
  },
  {
   "cell_type": "code",
   "execution_count": null,
   "metadata": {},
   "outputs": [],
   "source": []
  },
  {
   "cell_type": "code",
   "execution_count": null,
   "metadata": {},
   "outputs": [],
   "source": []
  },
  {
   "cell_type": "code",
   "execution_count": null,
   "metadata": {},
   "outputs": [],
   "source": []
  }
 ],
 "metadata": {
  "kernelspec": {
   "display_name": "perso",
   "language": "python",
   "name": "python3"
  },
  "language_info": {
   "codemirror_mode": {
    "name": "ipython",
    "version": 3
   },
   "file_extension": ".py",
   "mimetype": "text/x-python",
   "name": "python",
   "nbconvert_exporter": "python",
   "pygments_lexer": "ipython3",
   "version": "3.11.5"
  }
 },
 "nbformat": 4,
 "nbformat_minor": 2
}
