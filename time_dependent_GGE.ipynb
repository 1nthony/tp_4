{
 "cells": [
  {
   "cell_type": "code",
   "execution_count": 73,
   "metadata": {},
   "outputs": [],
   "source": [
    "import scipy as scp\n",
    "import scipy.sparse\n",
    "import scipy.sparse.linalg\n",
    "from scipy.linalg import expm\n",
    "\n",
    "from scipy.sparse import csr_array\n",
    "\n",
    "import matplotlib.pyplot as plt\n",
    "\n",
    "import numpy as np\n",
    "\n",
    "import functools # for functools.reduce"
   ]
  },
  {
   "cell_type": "markdown",
   "metadata": {},
   "source": [
    "# Tools\n"
   ]
  },
  {
   "cell_type": "code",
   "execution_count": 74,
   "metadata": {},
   "outputs": [],
   "source": [
    "def exp_mat(M) :\n",
    "    '''\n",
    "    Computes the matrix exponential exp(M)\n",
    "    \n",
    "    Parameters\n",
    "    ----------\n",
    "    M : csr_array\n",
    "        matrix\n",
    "\n",
    "    Return\n",
    "    ------\n",
    "    exp(M) : csr_array\n",
    "    '''\n",
    "    return scp.sparse.csr_array(expm(M.toarray()))"
   ]
  },
  {
   "cell_type": "markdown",
   "metadata": {},
   "source": [
    "# Spin operators\n"
   ]
  },
  {
   "cell_type": "code",
   "execution_count": 24,
   "metadata": {},
   "outputs": [],
   "source": [
    "sx = scipy.sparse.csr_array([[0.,  1.],[1., 0.]])\n",
    "sy = scipy.sparse.csr_array([[0., -1.j],[1.j, 0.]])\n",
    "sz = scipy.sparse.csr_array([[1., 0.],[0., -1.]])\n",
    "\n",
    "I = scipy.sparse.identity(2)\n",
    "\n",
    "sp = ((sx + 1.j * sy) / 2).real\n",
    "sm = ((sx - 1.j * sy) / 2).real"
   ]
  },
  {
   "cell_type": "markdown",
   "metadata": {},
   "source": [
    "$$\n",
    "\\hat{\\sigma}^{z}_{j} = \\underbrace{\\hat{I}\\otimes\\hat{I}\\dots\\hat{I}}_{j-1\\ \\mathrm{terms}}\\otimes\\hat{\\sigma}^{z}\\otimes\\underbrace{\\hat{I}\\otimes\\hat{I}\\dots\\otimes\\hat{I}}_{N-j\\ \\mathrm{terms}},\n",
    "$$\n"
   ]
  },
  {
   "cell_type": "code",
   "execution_count": 49,
   "metadata": {},
   "outputs": [],
   "source": [
    "def sz_j(j, N):\n",
    "    \"\"\"\n",
    "    Compute the operator $Z_j$ acting on a N-spin system.\n",
    "    \n",
    "    Parameters\n",
    "    ----------\n",
    "    j : int\n",
    "        The index of the spin to act on.\n",
    "    N : int\n",
    "        The number of spins in the system.\n",
    "\n",
    "    Returns\n",
    "    -------\n",
    "    scipy.sparse.csr_matrix\n",
    "        The operator $Z_j$.\n",
    "    \"\"\"\n",
    "    return functools.reduce(scipy.sparse.kron, [I] * (j - 1) + [sz] + [I] * (N - j))\n",
    "\n",
    "\n",
    "def sp_j(j, N):\n",
    "    \"\"\"\n",
    "    Compute the operator $S^+_j$ acting on a N-spin system.\n",
    "    \n",
    "    Parameters\n",
    "    ----------\n",
    "    j : int\n",
    "        The index of the spin to act on.\n",
    "    N : int\n",
    "        The number of spins in the system.\n",
    "\n",
    "    Returns\n",
    "    -------\n",
    "    scipy.sparse.csr_matrix\n",
    "        The operator $S^+_j$.\n",
    "    \"\"\"\n",
    "    return functools.reduce(scipy.sparse.kron, [I] * (j - 1) + [sp] + [I] * (N - j))\n",
    "\n",
    "\n",
    "def sm_j(j, N):\n",
    "    \"\"\"\n",
    "    Compute the operator $S^-_j$ acting on a N-spin system.\n",
    "    \n",
    "    Parameters\n",
    "    ----------\n",
    "    j : int\n",
    "        The index of the spin to act on.\n",
    "    N : int\n",
    "        The number of spins in the system.\n",
    "\n",
    "    Returns\n",
    "    -------\n",
    "    scipy.sparse.csr_matrix\n",
    "        The operator $S^-_j$.\n",
    "    \"\"\"\n",
    "    return functools.reduce(scipy.sparse.kron, [I] * (j - 1) + [sm] + [I] * (N - j))\n"
   ]
  },
  {
   "cell_type": "markdown",
   "metadata": {},
   "source": [
    "# Hamiltonian\n"
   ]
  },
  {
   "cell_type": "code",
   "execution_count": 46,
   "metadata": {},
   "outputs": [
    {
     "data": {
      "text/plain": [
       "array([[ 2.,  0.,  0.,  0.],\n",
       "       [ 0., -2.,  0.,  0.],\n",
       "       [ 0.,  0., -2.,  0.],\n",
       "       [ 0.,  0.,  0.,  2.]])"
      ]
     },
     "execution_count": 46,
     "metadata": {},
     "output_type": "execute_result"
    }
   ],
   "source": [
    "def H_spin(N, J):\n",
    "    \"\"\"\n",
    "    Compute the Hamiltonian of an N-spin system with nearest-neighbor interactions.\n",
    "\n",
    "    Parameters\n",
    "    ----------\n",
    "    N : int\n",
    "        The number of spins in the system.\n",
    "    J : float\n",
    "        The coupling constant.\n",
    "\n",
    "    Returns\n",
    "    -------\n",
    "    scipy.sparse.csr_matrix\n",
    "        The Hamiltonian of the system.\n",
    "    \"\"\"\n",
    "    H = 0\n",
    "\n",
    "    for i in range(1, N+1):\n",
    "        if i == N:\n",
    "            ip1 = 1\n",
    "        else:\n",
    "            ip1 = i + 1\n",
    "        H += J * (sz_j(i, N) @ sz_j(ip1, N))\n",
    "        \n",
    "    return H\n",
    "\n",
    "N = 2\n",
    "J= 1\n",
    "\n",
    "H = H_spin(N, J)\n",
    "H.toarray()"
   ]
  },
  {
   "cell_type": "markdown",
   "metadata": {},
   "source": [
    "# Lindbladian\n"
   ]
  },
  {
   "cell_type": "markdown",
   "metadata": {},
   "source": [
    "Lindblad operators for the 2nd dissipator:\n"
   ]
  },
  {
   "cell_type": "code",
   "execution_count": 66,
   "metadata": {},
   "outputs": [
    {
     "data": {
      "text/plain": [
       "[None,\n",
       " <4x4 sparse matrix of type '<class 'numpy.complex128'>'\n",
       " \twith 2 stored elements (blocksize = 2x1) in Block Sparse Row format>,\n",
       " <4x4 sparse matrix of type '<class 'numpy.complex128'>'\n",
       " \twith 1 stored elements in Compressed Sparse Row format>]"
      ]
     },
     "execution_count": 66,
     "metadata": {},
     "output_type": "execute_result"
    }
   ],
   "source": [
    "def get_Lks(N) :\n",
    "    \"\"\"\n",
    "    Compute the L_k operators for a N-spin system (2nd dissipator).\n",
    "\n",
    "    Parameters\n",
    "    ----------\n",
    "    N : int\n",
    "        The number of spins in the system.\n",
    "\n",
    "    Returns\n",
    "    -------\n",
    "    list of scipy.sparse.csr_matrix\n",
    "        The L_k operators.\n",
    "\n",
    "    Note\n",
    "    ----\n",
    "    The L_k operators are indexed from 1 to N: get_Lks(N)[k] corresponds to L_k,\n",
    "    and get_Lks(N)[0] is a dummy value to have the same indexing as in the paper.\n",
    "    \"\"\"\n",
    "\n",
    "    Lks = [None]   # in order to have the same indexing as in the paper: from 1 to N\n",
    "\n",
    "    for k in range(1, N+1) :\n",
    "        kp1 = (k + 1) % N\n",
    "        kp2 = (k + 2) % N\n",
    "\n",
    "        if kp1 == 0:\n",
    "            kp1 = N\n",
    "        if kp2 == 0:\n",
    "            kp2 = N\n",
    "\n",
    "        sp_k = sp_j(k, N)\n",
    "        sm_kp1 = sm_j(kp1, N)\n",
    "        sp_kp2 = sp_j(kp2, N)\n",
    "\n",
    "        Lk = 1/2 * (sp_k @ sm_kp1 + 1j * sm_kp1 @ sp_kp2)\n",
    "        Lks.append(Lk)\n",
    "\n",
    "    return Lks\n",
    "\n",
    "Lks = get_Lks(N)\n",
    "Lks\n"
   ]
  },
  {
   "cell_type": "markdown",
   "metadata": {},
   "source": [
    "Dissipators:\n"
   ]
  },
  {
   "cell_type": "code",
   "execution_count": 67,
   "metadata": {},
   "outputs": [],
   "source": [
    "def dissipator_1(rho, J, N) :\n",
    "    \"\"\"\n",
    "    Compute the 1st dissipator of an N-spin system with nearest-neighbor interactions.\n",
    "\n",
    "    Parameters\n",
    "    ----------\n",
    "    rho : scipy.sparse.csr_matrix\n",
    "        The density matrix of the system.\n",
    "    J : float\n",
    "        The coupling constant.\n",
    "    N : int\n",
    "        The number of spins in the system.\n",
    "\n",
    "    Returns\n",
    "    -------\n",
    "    scipy.sparse.csr_matrix\n",
    "        The 1st dissipator of the system.\n",
    "    \"\"\"\n",
    "    D = 0\n",
    "    for k in range(N) :\n",
    "        D += J * (sz_j(k, N) @ rho @ sz_j(k, N) - 0.5 * (sz_j(k, N) @ sz_j(k, N) @ rho + rho @ sz_j(k, N) @ sz_j(k, N)))\n",
    "    return D\n",
    "\n",
    "def dissipator_2(rho, J, N) :\n",
    "    \"\"\"\n",
    "    Compute the 2nd dissipator of an N-spin system with nearest-neighbor interactions.\n",
    "\n",
    "    Parameters\n",
    "    ----------\n",
    "    rho : scipy.sparse.csr_matrix\n",
    "        The density matrix of the system.\n",
    "    J : float\n",
    "        The coupling constant.\n",
    "    N : int\n",
    "        The number of spins in the system.\n",
    "\n",
    "    Returns\n",
    "    -------\n",
    "    scipy.sparse.csr_matrix\n",
    "        The 2nd dissipator of the system.\n",
    "    \"\"\"\n",
    "    D = 0\n",
    "    for k in range(1, N+1) :\n",
    "        D += J * (Lks[k] @ rho @ Lks[k].H - 0.5 * (Lks[k].H @ Lks[k] @ rho + rho @ Lks[k].H @ Lks[k]))\n",
    "    return D"
   ]
  },
  {
   "cell_type": "markdown",
   "metadata": {},
   "source": [
    "Lindbladian\n"
   ]
  },
  {
   "cell_type": "code",
   "execution_count": 69,
   "metadata": {},
   "outputs": [],
   "source": [
    "def lindblad_non_unitary(rho, epsilon, gamma, J, N) :\n",
    "    \"\"\"\n",
    "    Compute the non-unitary part of the Lindblad equation of an N-spin system with nearest-neighbor interactions.\n",
    "\n",
    "    Parameters\n",
    "    ----------\n",
    "    rho : scipy.sparse.csr_matrix\n",
    "        The density matrix of the system.\n",
    "    epsilon : float\n",
    "        The perturbation strength.\n",
    "    gamma : float\n",
    "        The relative strength.\n",
    "    J : float\n",
    "        The coupling constant.\n",
    "    N : int\n",
    "        The number of spins in the system.\n",
    "\n",
    "    Returns\n",
    "    -------\n",
    "    scipy.sparse.csr_matrix\n",
    "        The non-unitary part of the Lindbladian of the system.\n",
    "    \"\"\"\n",
    "    L1 = epsilon * (gamma * dissipator_1(rho, J, N) + (1 - gamma) * dissipator_2(rho, J, N))\n",
    "    return L1 \n",
    "\n",
    "\n",
    "def lindblad(rho, H, epsilon, gamma, J, N) :\n",
    "    \"\"\"\n",
    "    Compute the Lindblad equation of an N-spin system with nearest-neighbor interactions.\n",
    "\n",
    "    Parameters\n",
    "    ----------\n",
    "    rho : scipy.sparse.csr_matrix\n",
    "        The density matrix of the system.\n",
    "    H : scipy.sparse.csr_matrix\n",
    "        The Hamiltonian of the system.\n",
    "    epsilon : float\n",
    "        The perturbation strength.\n",
    "    gamma : float\n",
    "        The relative strength.\n",
    "    J : float\n",
    "        The coupling constant.\n",
    "    N : int\n",
    "        The number of spins in the system.\n",
    "\n",
    "    Returns\n",
    "    -------\n",
    "    scipy.sparse.csr_matrix\n",
    "        The Lindbladian of the system.\n",
    "    \"\"\"\n",
    "    L0 = - 1j * (H @ rho - rho @ H)\n",
    "    L1 = lindblad_non_unitary(rho, epsilon, gamma, J, N)\n",
    "    return L0 + L1 "
   ]
  },
  {
   "cell_type": "markdown",
   "metadata": {},
   "source": [
    "# Conserved quantities\n"
   ]
  },
  {
   "cell_type": "code",
   "execution_count": 71,
   "metadata": {},
   "outputs": [],
   "source": [
    "def Ob(N) :\n",
    "    \"\"\"\n",
    "    Boost operator\n",
    "\n",
    "    Parameters\n",
    "    ----------\n",
    "    N : int\n",
    "        The number of spins in the system.\n",
    "\n",
    "    Returns\n",
    "    -------\n",
    "    scipy.sparse.csr_matrix\n",
    "        The boost operator.\n",
    "    \"\"\"\n",
    "    O = 0\n",
    "\n",
    "    for i in range(1, N+1):\n",
    "        if i == N:\n",
    "            ip1 = 1\n",
    "        else:\n",
    "            ip1 = i + 1\n",
    "        O += -1j * i * (sz_j(i, N) @ sz_j(ip1, N))\n",
    "        \n",
    "    return O\n",
    "\n",
    "\n"
   ]
  },
  {
   "cell_type": "code",
   "execution_count": 70,
   "metadata": {},
   "outputs": [],
   "source": [
    "N = 2\n",
    "J = 1\n",
    "\n",
    "C2 = H_spin(N, J)\n",
    "\n",
    "\n",
    "\n",
    "Cs = [\n",
    "    \n",
    "    \n",
    "    \n",
    "]"
   ]
  },
  {
   "cell_type": "markdown",
   "metadata": {},
   "source": [
    "# GGE\n"
   ]
  },
  {
   "cell_type": "code",
   "execution_count": null,
   "metadata": {},
   "outputs": [],
   "source": [
    "def GGE(lagr, conserved_quantities) :\n",
    "    \"\"\"\n",
    "    Compute the Generalized Gibbs Ensemble (GGE) density matrix, given the Lagrange multipliers and the conserved quantities.\n",
    "\n",
    "    Parameters\n",
    "    ----------\n",
    "    lagr : list of float\n",
    "        The Lagrange multipliers.\n",
    "\n",
    "    conserved_quantities : list of scipy.sparse.csr_matrix\n",
    "        The conserved quantities.\n",
    "\n",
    "    Returns\n",
    "    -------\n",
    "    scipy.sparse.csr_matrix\n",
    "        The GGE density matrix.\n",
    "    \"\"\"    \n",
    "    exponent = 0\n",
    "    for lambda_i, C_i in zip(lagr, conserved_quantities) :\n",
    "        exponent -= lambda_i * C_i\n",
    "\n",
    "    U = exp_mat(exponent)\n",
    "    rho = U / scp.sparse.csr_matrix.trace(U)\n",
    "    return rho"
   ]
  },
  {
   "cell_type": "code",
   "execution_count": null,
   "metadata": {},
   "outputs": [],
   "source": []
  },
  {
   "cell_type": "code",
   "execution_count": null,
   "metadata": {},
   "outputs": [],
   "source": [
    "# TODO\n",
    "# implement heat current JH\n",
    "# implement the conserved quantities\n",
    "# implement function: (X,rho_GGE) -> Tr[X @ rho_GGE]\n",
    "# build correlation matrix of the Lagrange multipliers ('chi')\n",
    "# implement function that computes Fi\n",
    "# numerical scheme for the lambdas, given Fi'\n",
    "# what is a Néel state ?\n",
    "# solve the system of equations for the lambdas: time-dependent GGE !\n",
    "# compute some observables (like in the paper) and compare with the exact solution\n",
    "# link everything with variational methods\n",
    " "
   ]
  }
 ],
 "metadata": {
  "kernelspec": {
   "display_name": "perso",
   "language": "python",
   "name": "python3"
  },
  "language_info": {
   "codemirror_mode": {
    "name": "ipython",
    "version": 3
   },
   "file_extension": ".py",
   "mimetype": "text/x-python",
   "name": "python",
   "nbconvert_exporter": "python",
   "pygments_lexer": "ipython3",
   "version": "3.11.5"
  }
 },
 "nbformat": 4,
 "nbformat_minor": 2
}
