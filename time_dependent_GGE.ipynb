{
 "cells": [
  {
   "cell_type": "code",
   "execution_count": 2,
   "metadata": {},
   "outputs": [],
   "source": [
    "import scipy as scp\n",
    "import scipy.sparse\n",
    "import scipy.sparse.linalg\n",
    "\n",
    "from scipy.sparse import csr_array\n",
    "\n",
    "import matplotlib.pyplot as plt\n",
    "\n",
    "import numpy as np\n",
    "\n",
    "import functools # for functools.reduce"
   ]
  },
  {
   "cell_type": "markdown",
   "metadata": {},
   "source": [
    "# Hamiltonian\n"
   ]
  },
  {
   "cell_type": "code",
   "execution_count": 24,
   "metadata": {},
   "outputs": [],
   "source": [
    "sx = scipy.sparse.csr_array([[0.,  1.],[1., 0.]])\n",
    "sy = scipy.sparse.csr_array([[0., -1.j],[1.j, 0.]])\n",
    "sz = scipy.sparse.csr_array([[1., 0.],[0., -1.]])\n",
    "\n",
    "I = scipy.sparse.identity(2)\n",
    "\n",
    "sp = ((sx + 1.j * sy) / 2).real\n",
    "sm = ((sx - 1.j * sy) / 2).real"
   ]
  },
  {
   "cell_type": "markdown",
   "metadata": {},
   "source": [
    "$$\n",
    "\\hat{\\sigma}^{z}_{j} = \\underbrace{\\hat{I}\\otimes\\hat{I}\\dots\\hat{I}}_{j-1\\ \\mathrm{terms}}\\otimes\\hat{\\sigma}^{z}\\otimes\\underbrace{\\hat{I}\\otimes\\hat{I}\\dots\\otimes\\hat{I}}_{N-j\\ \\mathrm{terms}},\n",
    "$$\n"
   ]
  },
  {
   "cell_type": "code",
   "execution_count": 27,
   "metadata": {},
   "outputs": [],
   "source": [
    "def sz_j(j, N):\n",
    "    \"\"\"\n",
    "    Compute the operator $Z_j$ acting on a N-spin system.\n",
    "    \n",
    "    Parameters\n",
    "    ----------\n",
    "    j : int\n",
    "        The index of the spin to act on.\n",
    "    N : int\n",
    "        The number of spins in the system.\n",
    "\n",
    "    Returns\n",
    "    -------\n",
    "    scipy.sparse.csr_matrix\n",
    "        The operator $Z_j$.\n",
    "    \"\"\"\n",
    "    return functools.reduce(scipy.sparse.kron, [I] * (j - 1) + [sz] + [I] * (N - j))"
   ]
  },
  {
   "cell_type": "code",
   "execution_count": 44,
   "metadata": {},
   "outputs": [],
   "source": [
    "def H_spin(N, J):\n",
    "    \"\"\"\n",
    "    Compute the Hamiltonian of an N-spin system with nearest-neighbor interactions.\n",
    "\n",
    "    Parameters\n",
    "    ----------\n",
    "    N : int\n",
    "        The number of spins in the system.\n",
    "    J : float\n",
    "        The coupling constant.\n",
    "\n",
    "    Returns\n",
    "    -------\n",
    "    scipy.sparse.csr_matrix\n",
    "        The Hamiltonian of the system.\n",
    "    \"\"\"\n",
    "    H = 0\n",
    "\n",
    "    for i in range(1, N+1):\n",
    "        if i == N:\n",
    "            ip1 = 1\n",
    "        else:\n",
    "            ip1 = i + 1\n",
    "        H += J * (sz_j(i, N) @ sz_j(ip1, N))\n",
    "        \n",
    "    return H"
   ]
  },
  {
   "cell_type": "code",
   "execution_count": 45,
   "metadata": {},
   "outputs": [
    {
     "data": {
      "text/plain": [
       "array([[ 2.,  0.,  0.,  0.],\n",
       "       [ 0., -2.,  0.,  0.],\n",
       "       [ 0.,  0., -2.,  0.],\n",
       "       [ 0.,  0.,  0.,  2.]])"
      ]
     },
     "execution_count": 45,
     "metadata": {},
     "output_type": "execute_result"
    }
   ],
   "source": [
    "N = 2\n",
    "J= 1\n",
    "\n",
    "H = H_spin(N, J)\n",
    "H.toarray()"
   ]
  },
  {
   "cell_type": "code",
   "execution_count": null,
   "metadata": {},
   "outputs": [],
   "source": []
  },
  {
   "cell_type": "code",
   "execution_count": null,
   "metadata": {},
   "outputs": [],
   "source": []
  },
  {
   "cell_type": "code",
   "execution_count": null,
   "metadata": {},
   "outputs": [],
   "source": []
  },
  {
   "cell_type": "code",
   "execution_count": null,
   "metadata": {},
   "outputs": [],
   "source": []
  }
 ],
 "metadata": {
  "kernelspec": {
   "display_name": "perso",
   "language": "python",
   "name": "python3"
  },
  "language_info": {
   "codemirror_mode": {
    "name": "ipython",
    "version": 3
   },
   "file_extension": ".py",
   "mimetype": "text/x-python",
   "name": "python",
   "nbconvert_exporter": "python",
   "pygments_lexer": "ipython3",
   "version": "3.11.5"
  }
 },
 "nbformat": 4,
 "nbformat_minor": 2
}
