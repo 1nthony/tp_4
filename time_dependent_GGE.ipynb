{
 "cells": [
  {
   "cell_type": "code",
   "execution_count": 97,
   "metadata": {},
   "outputs": [],
   "source": [
    "import scipy as scp\n",
    "import scipy.sparse\n",
    "import scipy.sparse.linalg\n",
    "from scipy.linalg import expm\n",
    "from scipy.sparse import csr_array\n",
    "\n",
    "from scipy.integrate import solve_ivp\n",
    "from scipy.optimize import fmin\n",
    "import matplotlib.pyplot as plt\n",
    "import numpy as np\n",
    "\n",
    "import functools # for functools.reduce\n",
    "from tqdm import tqdm\n",
    "import os"
   ]
  },
  {
   "cell_type": "markdown",
   "metadata": {},
   "source": [
    "# Tools\n"
   ]
  },
  {
   "cell_type": "code",
   "execution_count": 98,
   "metadata": {},
   "outputs": [],
   "source": [
    "def exp_mat(M) :\n",
    "    '''\n",
    "    Computes the matrix exponential exp(M)\n",
    "    \n",
    "    Parameters\n",
    "    ----------\n",
    "    M : csr_array\n",
    "        matrix\n",
    "\n",
    "    Return\n",
    "    ------\n",
    "    exp(M) : csr_array\n",
    "    '''\n",
    "    return scp.sparse.csr_array(expm(M.toarray()))"
   ]
  },
  {
   "cell_type": "markdown",
   "metadata": {},
   "source": [
    "# Spin operators\n"
   ]
  },
  {
   "cell_type": "code",
   "execution_count": 99,
   "metadata": {},
   "outputs": [],
   "source": [
    "sx = 1/2 * scipy.sparse.csr_array([[0.,  1.],[1., 0.]])\n",
    "sy = 1/2 * scipy.sparse.csr_array([[0., -1.j],[1.j, 0.]])\n",
    "sz = 1/2 * scipy.sparse.csr_array([[1., 0.],[0., -1.]])\n",
    "\n",
    "I = scipy.sparse.identity(2)\n",
    "\n",
    "sp = ((sx + 1.j * sy) / 2).real\n",
    "sm = ((sx - 1.j * sy) / 2).real"
   ]
  },
  {
   "cell_type": "markdown",
   "metadata": {},
   "source": [
    "$$\n",
    "\\hat{\\sigma}^{z}_{j} = \\underbrace{\\hat{I}\\otimes\\hat{I}\\dots\\hat{I}}_{j-1\\ \\mathrm{terms}}\\otimes\\hat{\\sigma}^{z}\\otimes\\underbrace{\\hat{I}\\otimes\\hat{I}\\dots\\otimes\\hat{I}}_{N-j\\ \\mathrm{terms}},\n",
    "$$\n"
   ]
  },
  {
   "cell_type": "code",
   "execution_count": 100,
   "metadata": {},
   "outputs": [],
   "source": [
    "def sx_j(j, N):\n",
    "    \"\"\"\n",
    "    Compute the operator $X_j$ acting on a N-spin system.\n",
    "    \n",
    "    Parameters\n",
    "    ----------\n",
    "    j : int\n",
    "        The index of the spin to act on.\n",
    "    N : int\n",
    "        The number of spins in the system.\n",
    "\n",
    "    Returns\n",
    "    -------\n",
    "    scipy.sparse.csr_matrix\n",
    "        The operator $X_j$.\n",
    "    \"\"\"\n",
    "    return functools.reduce(scipy.sparse.kron, [I] * (j - 1) + [sx] + [I] * (N - j))\n",
    "\n",
    "\n",
    "def sy_j(j, N):\n",
    "    \"\"\"\n",
    "    Compute the operator $Y_j$ acting on a N-spin system.\n",
    "    \n",
    "    Parameters\n",
    "    ----------\n",
    "    j : int\n",
    "        The index of the spin to act on.\n",
    "    N : int\n",
    "        The number of spins in the system.\n",
    "\n",
    "    Returns\n",
    "    -------\n",
    "    scipy.sparse.csr_matrix\n",
    "        The operator $Y_j$.\n",
    "    \"\"\"\n",
    "    return functools.reduce(scipy.sparse.kron, [I] * (j - 1) + [sy] + [I] * (N - j))\n",
    "\n",
    "\n",
    "def sz_j(j, N):\n",
    "    \"\"\"\n",
    "    Compute the operator $Z_j$ acting on a N-spin system.\n",
    "    \n",
    "    Parameters\n",
    "    ----------\n",
    "    j : int\n",
    "        The index of the spin to act on.\n",
    "    N : int\n",
    "        The number of spins in the system.\n",
    "\n",
    "    Returns\n",
    "    -------\n",
    "    scipy.sparse.csr_matrix\n",
    "        The operator $Z_j$.\n",
    "    \"\"\"\n",
    "    return functools.reduce(scipy.sparse.kron, [I] * (j - 1) + [sz] + [I] * (N - j))\n",
    "\n",
    "\n",
    "def sp_j(j, N):\n",
    "    \"\"\"\n",
    "    Compute the operator $S^+_j$ acting on a N-spin system.\n",
    "    \n",
    "    Parameters\n",
    "    ----------\n",
    "    j : int\n",
    "        The index of the spin to act on.\n",
    "    N : int\n",
    "        The number of spins in the system.\n",
    "\n",
    "    Returns\n",
    "    -------\n",
    "    scipy.sparse.csr_matrix\n",
    "        The operator $S^+_j$.\n",
    "    \"\"\"\n",
    "    return functools.reduce(scipy.sparse.kron, [I] * (j - 1) + [sp] + [I] * (N - j))\n",
    "\n",
    "\n",
    "def sm_j(j, N):\n",
    "    \"\"\"\n",
    "    Compute the operator $S^-_j$ acting on a N-spin system.\n",
    "    \n",
    "    Parameters\n",
    "    ----------\n",
    "    j : int\n",
    "        The index of the spin to act on.\n",
    "    N : int\n",
    "        The number of spins in the system.\n",
    "\n",
    "    Returns\n",
    "    -------\n",
    "    scipy.sparse.csr_matrix\n",
    "        The operator $S^-_j$.\n",
    "    \"\"\"\n",
    "    return functools.reduce(scipy.sparse.kron, [I] * (j - 1) + [sm] + [I] * (N - j))\n",
    "\n",
    "\n",
    "def write_spin_operators(N) :\n",
    "    path = f'results/time_dependent_GGE/heisenberg_spins/operators/N_{N}'\n",
    "    os.makedirs(path, exist_ok=True)\n",
    "    for k in range(1, N+1) :\n",
    "        s = sx_j(k, N)\n",
    "        scp.sparse.save_npz(path + f'/sx_k_{k}', s)\n",
    "\n",
    "        s = sy_j(k, N)\n",
    "        scp.sparse.save_npz(path + f'/sy_k_{k}', s)\n",
    "\n",
    "        s = sz_j(k, N)\n",
    "        scp.sparse.save_npz(path + f'/sz_k_{k}', s)\n",
    "\n",
    "        s = sp_j(k, N)\n",
    "        scp.sparse.save_npz(path + f'/sp_k_{k}', s)\n",
    "\n",
    "        s = sm_j(k, N)\n",
    "        scp.sparse.save_npz(path + f'/sm_k_{k}', s)\n",
    "\n",
    "\n",
    "N = 8\n",
    "write_spin_operators(N)\n"
   ]
  },
  {
   "cell_type": "markdown",
   "metadata": {},
   "source": [
    "# Hamiltonian\n"
   ]
  },
  {
   "cell_type": "code",
   "execution_count": 101,
   "metadata": {},
   "outputs": [
    {
     "data": {
      "text/plain": [
       "array([[ 0.5+0.j,  0. +0.j,  0. +0.j,  0. +0.j],\n",
       "       [ 0. +0.j, -0.5+0.j,  1. +0.j,  0. +0.j],\n",
       "       [ 0. +0.j,  1. +0.j, -0.5+0.j,  0. +0.j],\n",
       "       [ 0. +0.j,  0. +0.j,  0. +0.j,  0.5+0.j]])"
      ]
     },
     "execution_count": 101,
     "metadata": {},
     "output_type": "execute_result"
    }
   ],
   "source": [
    "def H_spin(N, J):\n",
    "    \"\"\"\n",
    "    Compute the Hamiltonian of an N-spin system with nearest-neighbor interactions.\n",
    "\n",
    "    Parameters\n",
    "    ----------\n",
    "    N : int\n",
    "        The number of spins in the system.\n",
    "    J : float\n",
    "        The coupling constant.\n",
    "\n",
    "    Returns\n",
    "    -------\n",
    "    scipy.sparse.csr_matrix\n",
    "        The Hamiltonian of the system.\n",
    "    \"\"\"\n",
    "    H = 0\n",
    "\n",
    "    for i in range(1, N+1):\n",
    "        if i == N:\n",
    "            ip1 = 1\n",
    "        else:\n",
    "            ip1 = i + 1\n",
    "        H += J * (sx_j(i, N) @ sx_j(ip1, N) + sy_j(i, N) @ sy_j(ip1, N) + sz_j(i, N) @ sz_j(ip1, N))\n",
    "\n",
    "    return H\n",
    "\n",
    "N = 2\n",
    "J= 1\n",
    "\n",
    "H = H_spin(N, J)\n",
    "H.toarray()"
   ]
  },
  {
   "cell_type": "markdown",
   "metadata": {},
   "source": [
    "# Lindbladian\n"
   ]
  },
  {
   "cell_type": "markdown",
   "metadata": {},
   "source": [
    "Lindblad operators for the 2nd dissipator:\n"
   ]
  },
  {
   "cell_type": "code",
   "execution_count": 116,
   "metadata": {},
   "outputs": [
    {
     "name": "stderr",
     "output_type": "stream",
     "text": [
      "100%|██████████| 2/2 [00:00<00:00, 124.95it/s]\n"
     ]
    }
   ],
   "source": [
    "def get_Lks(N) :\n",
    "    \"\"\"\n",
    "    Compute the L_k operators for a N-spin system (2nd dissipator).\n",
    "\n",
    "    Parameters\n",
    "    ----------\n",
    "    N : int\n",
    "        The number of spins in the system.\n",
    "\n",
    "    Returns\n",
    "    -------\n",
    "    list of scipy.sparse.csr_matrix\n",
    "        The L_k operators.\n",
    "\n",
    "    Note\n",
    "    ----\n",
    "    The L_k operators are indexed from 1 to N: get_Lks(N)[k] corresponds to L_k,\n",
    "    and get_Lks(N)[0] is a dummy value to have the same indexing as in the paper.\n",
    "    \"\"\"\n",
    "\n",
    "    Lks = [None]   # in order to have the same indexing as in the paper: from 1 to N\n",
    "\n",
    "    for k in tqdm(range(1, N+1)) :\n",
    "        kp1 = (k + 1) % N\n",
    "        kp2 = (k + 2) % N\n",
    "\n",
    "        if kp1 == 0:\n",
    "            kp1 = N\n",
    "        if kp2 == 0:\n",
    "            kp2 = N\n",
    "\n",
    "        sp_k = sp_j(k, N)\n",
    "        sm_kp1 = sm_j(kp1, N)\n",
    "        sp_kp2 = sp_j(kp2, N)\n",
    "\n",
    "        Lk = 1/2 * (sp_k @ sm_kp1 + 1j * sm_kp1 @ sp_kp2)\n",
    "        Lks.append(Lk)\n",
    "\n",
    "    return Lks\n",
    "\n",
    "\n",
    "\n",
    "def write_Lk_operators(N) :\n",
    "    path = f'results/time_dependent_GGE/heisenberg_spins/operators/N_{N}'\n",
    "    for k in tqdm(range(1, N+1)) :\n",
    "        kp1 = (k + 1) % N\n",
    "        kp2 = (k + 2) % N\n",
    "\n",
    "        if kp1 == 0:\n",
    "            kp1 = N\n",
    "        if kp2 == 0:\n",
    "            kp2 = N\n",
    "\n",
    "        sp_k = scp.sparse.load_npz(path + f'/sp_k_{k}.npz')\n",
    "        sm_kp1 = scp.sparse.load_npz(path + f'/sm_k_{kp1}.npz')\n",
    "        sp_kp2 = scp.sparse.load_npz(path + f'/sp_k_{kp2}.npz')\n",
    "\n",
    "        Lk = 1/2 * (sp_k @ sm_kp1 + 1j * sm_kp1 @ sp_kp2)\n",
    "        scp.sparse.save_npz(path + f'/Lk_{k}', Lk)\n",
    "\n",
    "\n",
    "\n",
    "N = 2\n",
    "write_Lk_operators(N)\n",
    "# Lks = get_Lks(N)\n",
    "# Lks\n"
   ]
  },
  {
   "cell_type": "markdown",
   "metadata": {},
   "source": [
    "write N=14\n"
   ]
  },
  {
   "cell_type": "code",
   "execution_count": 47,
   "metadata": {},
   "outputs": [],
   "source": [
    "# write all operators\n",
    "\n",
    "# N = 14\n",
    "# write_spin_operators(N) # 10 min for N=14\n",
    "# write_Lk_operators(N) # 1h30 for N=14, already done from 1 to 5"
   ]
  },
  {
   "cell_type": "markdown",
   "metadata": {},
   "source": [
    "check get_Lks and write_Lk give same results\n"
   ]
  },
  {
   "cell_type": "code",
   "execution_count": 8,
   "metadata": {},
   "outputs": [
    {
     "name": "stderr",
     "output_type": "stream",
     "text": [
      "100%|██████████| 8/8 [00:00<00:00, 96.39it/s]\n",
      "100%|██████████| 8/8 [00:00<00:00, 115.86it/s]\n"
     ]
    }
   ],
   "source": [
    "# N = 8\n",
    "# write_Lk_operators(N)\n",
    "# Lks = get_Lks(N)\n",
    "\n",
    "# for k in range(1, N+1) :\n",
    "#     Lk = scp.sparse.load_npz(f'results/time_dependent_GGE/heisenberg_spins/operators/N_{N}/Lk_{k}.npz')\n",
    "#     assert scp.sparse.linalg.norm(Lk - Lks[k]) == 0"
   ]
  },
  {
   "cell_type": "markdown",
   "metadata": {},
   "source": [
    "Dissipators:\n"
   ]
  },
  {
   "cell_type": "code",
   "execution_count": 118,
   "metadata": {},
   "outputs": [
    {
     "data": {
      "text/plain": [
       "(<4x4 sparse matrix of type '<class 'numpy.float64'>'\n",
       " \twith 0 stored elements (blocksize = 2x2) in Block Sparse Row format>,\n",
       " <4x4 sparse matrix of type '<class 'numpy.complex128'>'\n",
       " \twith 0 stored elements (blocksize = 2x2) in Block Sparse Row format>)"
      ]
     },
     "execution_count": 118,
     "metadata": {},
     "output_type": "execute_result"
    }
   ],
   "source": [
    "def dissipator_1(rho, J, N) :\n",
    "    \"\"\"\n",
    "    Compute the 1st dissipator of an N-spin system with nearest-neighbor interactions.\n",
    "\n",
    "    Parameters\n",
    "    ----------\n",
    "    rho : scipy.sparse.csr_matrix\n",
    "        The density matrix of the system.\n",
    "    J : float\n",
    "        The coupling constant.\n",
    "    N : int\n",
    "        The number of spins in the system.\n",
    "\n",
    "    Returns\n",
    "    -------\n",
    "    scipy.sparse.csr_matrix\n",
    "        The 1st dissipator of the system.\n",
    "    \"\"\"\n",
    "    path = f'results/time_dependent_GGE/heisenberg_spins/operators/N_{N}'\n",
    "    D = 0\n",
    "    for k in range(1, N+1) :\n",
    "        sz_k = scp.sparse.load_npz(path + f'/sz_k_{k}.npz')\n",
    "        D += J * (sz_k @ rho @ sz_k - 0.5 * (sz_k @ sz_k @ rho + rho @ sz_k @ sz_k))\n",
    "    return D\n",
    "\n",
    "\n",
    "def dissipator_2(rho, J, N) :\n",
    "    \"\"\"\n",
    "    Compute the 2nd dissipator of an N-spin system with nearest-neighbor interactions.\n",
    "\n",
    "    Parameters\n",
    "    ----------\n",
    "    rho : scipy.sparse.csr_matrix\n",
    "        The density matrix of the system.\n",
    "    J : float\n",
    "        The coupling constant.\n",
    "    N : int\n",
    "        The number of spins in the system.\n",
    "\n",
    "    Returns\n",
    "    -------\n",
    "    scipy.sparse.csr_matrix\n",
    "        The 2nd dissipator of the system.\n",
    "    \"\"\"\n",
    "    path = f'results/time_dependent_GGE/heisenberg_spins/operators/N_{N}'\n",
    "    D = 0\n",
    "    for k in range(1, N+1) :\n",
    "        Lk = scp.sparse.load_npz(path + f'/Lk_{k}.npz')\n",
    "        D += J * (Lk @ rho @ Lk.H - 0.5 * (Lk.H @ Lk @ rho + rho @ Lk.H @ Lk))\n",
    "    return D\n",
    "\n",
    "\n",
    "rho_test = scipy.sparse.identity(2**N)\n",
    "dissipator_1(rho_test, J, N), dissipator_2(rho_test, J, N)\n",
    "\n"
   ]
  },
  {
   "cell_type": "markdown",
   "metadata": {},
   "source": [
    "Lindbladian\n"
   ]
  },
  {
   "cell_type": "code",
   "execution_count": 119,
   "metadata": {},
   "outputs": [
    {
     "data": {
      "text/plain": [
       "<4x4 sparse matrix of type '<class 'numpy.complex128'>'\n",
       "\twith 0 stored elements (blocksize = 2x1) in Block Sparse Row format>"
      ]
     },
     "execution_count": 119,
     "metadata": {},
     "output_type": "execute_result"
    }
   ],
   "source": [
    "def lindblad_non_unitary(rho, epsilon, gamma, J, N) :\n",
    "    \"\"\"\n",
    "    Compute the non-unitary part of the Lindblad equation of an N-spin system with nearest-neighbor interactions.\n",
    "\n",
    "    Parameters\n",
    "    ----------\n",
    "    rho : scipy.sparse.csr_matrix\n",
    "        The density matrix of the system.\n",
    "    epsilon : float\n",
    "        The perturbation strength.\n",
    "    gamma : float\n",
    "        The relative strength.\n",
    "    J : float\n",
    "        The coupling constant.\n",
    "    N : int\n",
    "        The number of spins in the system.\n",
    "\n",
    "    Returns\n",
    "    -------\n",
    "    scipy.sparse.csr_matrix\n",
    "        The non-unitary part of the Lindbladian of the system.\n",
    "    \"\"\"\n",
    "    L1 = epsilon * (gamma * dissipator_1(rho, J, N) + (1 - gamma) * dissipator_2(rho, J, N))\n",
    "    return L1 \n",
    "\n",
    "\n",
    "def lindblad(rho, H, epsilon, gamma, J, N) :\n",
    "    \"\"\"\n",
    "    Compute the Lindblad equation of an N-spin system with nearest-neighbor interactions.\n",
    "\n",
    "    Parameters\n",
    "    ----------\n",
    "    rho : scipy.sparse.csr_matrix\n",
    "        The density matrix of the system.\n",
    "    H : scipy.sparse.csr_matrix\n",
    "        The Hamiltonian of the system.\n",
    "    epsilon : float\n",
    "        The perturbation strength.\n",
    "    gamma : float\n",
    "        The relative strength.\n",
    "    J : float\n",
    "        The coupling constant.\n",
    "    N : int\n",
    "        The number of spins in the system.\n",
    "\n",
    "    Returns\n",
    "    -------\n",
    "    scipy.sparse.csr_matrix\n",
    "        The Lindbladian of the system.\n",
    "    \"\"\"\n",
    "    L0 = - 1j * (H @ rho - rho @ H)\n",
    "    L1 = lindblad_non_unitary(rho, epsilon, gamma, J, N)\n",
    "    return L0 + L1 \n",
    "\n",
    "\n",
    "EPSILON = 0.1\n",
    "GAMMA = 0.5\n",
    "lindblad(rho_test, H_spin(N, J), EPSILON, GAMMA, J, N)"
   ]
  },
  {
   "cell_type": "markdown",
   "metadata": {},
   "source": [
    "# Quantities useful to define Conserved quantities\n"
   ]
  },
  {
   "cell_type": "code",
   "execution_count": 122,
   "metadata": {},
   "outputs": [
    {
     "data": {
      "text/plain": [
       "<4x4 sparse matrix of type '<class 'numpy.complex128'>'\n",
       "\twith 16 stored elements (blocksize = 2x2) in Block Sparse Row format>"
      ]
     },
     "execution_count": 122,
     "metadata": {},
     "output_type": "execute_result"
    }
   ],
   "source": [
    "def Ob(N) :\n",
    "    \"\"\"\n",
    "    Boost operator\n",
    "\n",
    "    Parameters\n",
    "    ----------\n",
    "    N : int\n",
    "        The number of spins in the system.\n",
    "\n",
    "    Returns\n",
    "    -------\n",
    "    scipy.sparse.csr_matrix\n",
    "        The boost operator.\n",
    "    \"\"\"\n",
    "    path = f'results/time_dependent_GGE/heisenberg_spins/operators/N_{N}'\n",
    "    O = 0\n",
    "\n",
    "\n",
    "    for i in range(1, N+1):\n",
    "        if i == N:\n",
    "            ip1 = 1\n",
    "        else:\n",
    "            ip1 = i + 1\n",
    "\n",
    "        sx_i = scp.sparse.load_npz(path + f'/sx_k_{i}.npz')\n",
    "        sx_ip1 = scp.sparse.load_npz(path + f'/sx_k_{ip1}.npz')\n",
    "\n",
    "        sy_i = scp.sparse.load_npz(path + f'/sy_k_{i}.npz')\n",
    "        sy_ip1 = scp.sparse.load_npz(path + f'/sy_k_{ip1}.npz')\n",
    "\n",
    "        sz_i = scp.sparse.load_npz(path + f'/sz_k_{i}.npz')\n",
    "        sz_ip1 = scp.sparse.load_npz(path + f'/sz_k_{ip1}.npz')\n",
    "\n",
    "        O += -1j * i * (sx_i @ sx_ip1 + sy_i @ sy_ip1 + sz_i @ sz_ip1)\n",
    "\n",
    "    return O\n",
    "\n",
    "\n",
    "Ob(N)\n",
    "\n"
   ]
  },
  {
   "cell_type": "code",
   "execution_count": 128,
   "metadata": {},
   "outputs": [
    {
     "data": {
      "text/plain": [
       "<4x4 sparse matrix of type '<class 'numpy.complex128'>'\n",
       "\twith 16 stored elements (blocksize = 2x2) in Block Sparse Row format>"
      ]
     },
     "execution_count": 128,
     "metadata": {},
     "output_type": "execute_result"
    }
   ],
   "source": [
    "def Jh(N, J) :\n",
    "    \"\"\"\n",
    "    Compute the heat current operator of an N-spin system with nearest-neighbor interactions.\n",
    "\n",
    "    Parameters\n",
    "    ----------\n",
    "    N : int\n",
    "        The number of spins in the system.\n",
    "    J : float\n",
    "        The coupling constant.\n",
    "\n",
    "    Returns\n",
    "    -------\n",
    "    float\n",
    "        The value of the JH operator.\n",
    "    \"\"\"\n",
    "    path = f'results/time_dependent_GGE/heisenberg_spins/operators/N_{N}'\n",
    "    JH = 0\n",
    "\n",
    "    for k in range(1, N+1) :\n",
    "        kp1 = (k + 1) % N\n",
    "        kp2 = (k + 2) % N\n",
    "\n",
    "        if kp1 == 0:\n",
    "            kp1 = N\n",
    "        if kp2 == 0:\n",
    "            kp2 = N\n",
    "\n",
    "        sx_k = scp.sparse.load_npz(path + f'/sx_k_{k}.npz')\n",
    "        sx_kp1 = scp.sparse.load_npz(path + f'/sx_k_{kp1}.npz')\n",
    "        sx_kp2 = scp.sparse.load_npz(path + f'/sx_k_{kp2}.npz')\n",
    "\n",
    "        sy_k = scp.sparse.load_npz(path + f'/sy_k_{k}.npz')\n",
    "        sy_kp1 = scp.sparse.load_npz(path + f'/sy_k_{kp1}.npz')\n",
    "        sy_kp2 = scp.sparse.load_npz(path + f'/sy_k_{kp2}.npz')\n",
    "\n",
    "        sz_k = scp.sparse.load_npz(path + f'/sz_k_{k}.npz')\n",
    "        sz_kp1 = scp.sparse.load_npz(path + f'/sz_k_{kp1}.npz')\n",
    "        sz_kp2 = scp.sparse.load_npz(path + f'/sz_k_{kp2}.npz')\n",
    "\n",
    "        S_k = [sx_k, sy_k, sz_k]\n",
    "        S_kp1 = [sx_kp1, sy_kp1, sz_kp1]\n",
    "        S_kp2 = [sx_kp2, sy_kp2, sz_kp2]\n",
    "\n",
    "        # just to make the formula of the cross product more readable\n",
    "        u = S_k\n",
    "        v = S_kp1\n",
    "        S_cross = [\n",
    "            u[1] @ v[2] - u[2] @ v[1], \n",
    "            u[2] @ v[0] - u[0] @ v[2], \n",
    "            u[0] @ v[1] - u[1] @ v[0],\n",
    "        ]\n",
    "        JH += J**2 * (S_cross[0] @ S_kp2[0] + S_cross[1] @ S_kp2[1] + S_cross[2] @ S_kp2[2])\n",
    "    \n",
    "    return JH\n",
    "\n",
    "\n",
    "Jh(N, J)\n",
    "\n"
   ]
  },
  {
   "cell_type": "code",
   "execution_count": 170,
   "metadata": {},
   "outputs": [],
   "source": [
    "def compute_operators(N) :\n",
    "   \n",
    "    path = f'results/time_dependent_GGE/heisenberg_spins/operators/N_{N}'\n",
    "    \n",
    "    try :\n",
    "        files = os.listdir(path)\n",
    "    except FileNotFoundError :\n",
    "        write_spin_operators(N)\n",
    "        write_Lk_operators(N)\n",
    "\n",
    "    try :\n",
    "        for k in range(1, N+1) :\n",
    "            sx = scp.sparse.load_npz(path + f'/sx_k_{k}.npz')\n",
    "            sy = scp.sparse.load_npz(path + f'/sy_k_{k}.npz')\n",
    "            sz = scp.sparse.load_npz(path + f'/sz_k_{k}.npz')\n",
    "            sp = scp.sparse.load_npz(path + f'/sp_k_{k}.npz')\n",
    "            sm = scp.sparse.load_npz(path + f'/sm_k_{k}.npz')\n",
    "    except FileNotFoundError :\n",
    "        write_spin_operators(N)\n",
    "\n",
    "\n",
    "    try :\n",
    "        for k in range(1, N+1) :\n",
    "            Lk = scp.sparse.load_npz(path + f'/Lk_{k}.npz')\n",
    "    except FileNotFoundError :\n",
    "        write_Lk_operators(N)\n",
    "\n",
    "compute_operators(N)"
   ]
  },
  {
   "cell_type": "code",
   "execution_count": 171,
   "metadata": {},
   "outputs": [],
   "source": [
    "# Hyperparameters\n",
    "N = 8\n",
    "J = 1\n",
    "EPSILON = 0.1\n",
    "GAMMA = 0.8\n",
    "\n",
    "# Conserved quantities\n",
    "Ob_val = Ob(N)\n",
    "\n",
    "C2 = H_spin(N, J)\n",
    "C3 = Jh(N, J)                   # JH\n",
    "C4 = Ob_val @ C3 - C3 @ Ob_val  # [Ob, C3]\n",
    "C5 = Ob_val @ C4 - C4 @ Ob_val  # [Ob, C4]\n",
    "\n",
    "Cs = [\n",
    "    C2,\n",
    "    C3,\n",
    "    C4,\n",
    "    C5\n",
    "]"
   ]
  },
  {
   "cell_type": "markdown",
   "metadata": {},
   "source": [
    "# GGE\n"
   ]
  },
  {
   "cell_type": "code",
   "execution_count": 172,
   "metadata": {},
   "outputs": [
    {
     "data": {
      "text/plain": [
       "<256x256 sparse array of type '<class 'numpy.complex128'>'\n",
       "\twith 12870 stored elements in Compressed Sparse Row format>"
      ]
     },
     "execution_count": 172,
     "metadata": {},
     "output_type": "execute_result"
    }
   ],
   "source": [
    "def GGE(lagr, conserved_quantities) :\n",
    "    \"\"\"\n",
    "    Compute the Generalized Gibbs Ensemble (GGE) density matrix, given the Lagrange multipliers and the conserved quantities.\n",
    "\n",
    "    Parameters\n",
    "    ----------\n",
    "    lagr : list of float\n",
    "        The Lagrange multipliers.\n",
    "\n",
    "    conserved_quantities : list of scipy.sparse.csr_matrix\n",
    "        The conserved quantities.\n",
    "\n",
    "    Returns\n",
    "    -------\n",
    "    scipy.sparse.csr_matrix\n",
    "        The GGE density matrix.\n",
    "    \"\"\"    \n",
    "    exponent = 0\n",
    "    for lambda_i, C_i in zip(lagr, conserved_quantities) :\n",
    "        exponent -= lambda_i * C_i\n",
    "\n",
    "    U = exp_mat(exponent)\n",
    "    rho = U / scp.sparse.csr_matrix.trace(U)\n",
    "    return rho\n",
    "\n",
    "test_GGE = GGE([1, 1, 1, 1], Cs); test_GGE"
   ]
  },
  {
   "cell_type": "code",
   "execution_count": 173,
   "metadata": {},
   "outputs": [
    {
     "data": {
      "text/plain": [
       "0j"
      ]
     },
     "execution_count": 173,
     "metadata": {},
     "output_type": "execute_result"
    }
   ],
   "source": [
    "def avg_GGE(lagr, conserved_quantities, O) :\n",
    "    \"\"\"\n",
    "    Compute the average of an observable in the Generalized Gibbs Ensemble (GGE), given the Lagrange multipliers, the conserved quantities, and the observable.\n",
    "\n",
    "    Parameters\n",
    "    ----------\n",
    "    lagr : list of float\n",
    "        The Lagrange multipliers.\n",
    "\n",
    "    conserved_quantities : list of scipy.sparse.csr_matrix\n",
    "        The conserved quantities.\n",
    "\n",
    "    O : scipy.sparse.csr_matrix\n",
    "        The observable.\n",
    "\n",
    "    Returns\n",
    "    -------\n",
    "    float\n",
    "        The average of the observable in the GGE.\n",
    "    \"\"\"\n",
    "    rho = GGE(lagr, conserved_quantities)\n",
    "    return scp.sparse.csr_matrix.trace(rho @ O)\n",
    "\n",
    "avg_GGE([1] * len(Cs), Cs, sp_j(1, N))"
   ]
  },
  {
   "cell_type": "markdown",
   "metadata": {},
   "source": [
    "# EOM Lagrange multipliers\n"
   ]
  },
  {
   "cell_type": "code",
   "execution_count": 174,
   "metadata": {},
   "outputs": [
    {
     "name": "stderr",
     "output_type": "stream",
     "text": [
      "C:\\Users\\antho\\AppData\\Local\\Temp\\ipykernel_10352\\2995203031.py:23: ComplexWarning: Casting complex values to real discards the imaginary part\n",
      "  chi_mat[i, j] = avg_GGE(lagr, conserved_quantities, conserved_quantities[i] @ conserved_quantities[j]) \\\n"
     ]
    },
    {
     "data": {
      "text/plain": [
       "array([[  1.5   ,   0.    ,   0.    ,   0.    ],\n",
       "       [  0.    ,   0.75  ,   0.    , -11.625 ],\n",
       "       [  0.    ,   0.    ,  11.625 ,   0.    ],\n",
       "       [  0.    , -11.625 ,   0.    , 663.1875]])"
      ]
     },
     "metadata": {},
     "output_type": "display_data"
    },
    {
     "name": "stderr",
     "output_type": "stream",
     "text": [
      "C:\\Users\\antho\\AppData\\Local\\Temp\\ipykernel_10352\\2995203031.py:50: ComplexWarning: Casting complex values to real discards the imaginary part\n",
      "  vect[j] = scp.sparse.csr_matrix.trace(conserved_quantities[j] @ lindblad_non_unitary(rho_GGE, EPSILON, GAMMA, J, N))\n"
     ]
    },
    {
     "data": {
      "text/plain": [
       "array([0.        , 0.00041667, 0.        , 0.        ])"
      ]
     },
     "execution_count": 174,
     "metadata": {},
     "output_type": "execute_result"
    }
   ],
   "source": [
    "def chi(lagr, conserved_quantities) :\n",
    "    \"\"\"\n",
    "    Parameters\n",
    "    ----------\n",
    "    lagr : list of float\n",
    "        The Lagrange multipliers.\n",
    "\n",
    "    conserved_quantities : list of scipy.sparse.csr_matrix\n",
    "        The conserved quantities.\n",
    "\n",
    "    O : scipy.sparse.csr_matrix\n",
    "        The observable.\n",
    "\n",
    "    Returns\n",
    "    -------\n",
    "    float\n",
    "        The susceptibility of the observable in the GGE.\n",
    "    \"\"\"\n",
    "    n = len(conserved_quantities)\n",
    "    chi_mat = np.zeros((n, n))\n",
    "    for i in range(n) :\n",
    "        for j in range(n) :\n",
    "            chi_mat[i, j] = avg_GGE(lagr, conserved_quantities, conserved_quantities[i] @ conserved_quantities[j]) \\\n",
    "                            - avg_GGE(lagr, conserved_quantities, conserved_quantities[i]) * avg_GGE(lagr, conserved_quantities, conserved_quantities[j])\n",
    "    return chi_mat\n",
    "    \n",
    "\n",
    "def force(lagr, conserved_quantities) :\n",
    "    \"\"\"\n",
    "    Compute the force acting on the Lagrange multipliers, given the Lagrange multipliers, the conserved quantities.\n",
    "\n",
    "    Parameters\n",
    "    ----------\n",
    "    lagr : list of float\n",
    "        The Lagrange multipliers.\n",
    "\n",
    "    conserved_quantities : list of scipy.sparse.csr_matrix\n",
    "        The conserved quantities.\n",
    "\n",
    "    Returns\n",
    "    -------\n",
    "    list of float\n",
    "        The force acting on the Lagrange multipliers.\n",
    "    \"\"\"\n",
    "    rho_GGE = GGE(lagr, conserved_quantities)\n",
    "\n",
    "    n = len(conserved_quantities)\n",
    "    vect = np.zeros(n)\n",
    "    for j in range(n) :\n",
    "        vect[j] = scp.sparse.csr_matrix.trace(conserved_quantities[j] @ lindblad_non_unitary(rho_GGE, EPSILON, GAMMA, J, N))\n",
    "\n",
    "    chi_mat = chi(lagr, conserved_quantities)\n",
    "    chi_mat_inv = np.linalg.inv(chi_mat)\n",
    "\n",
    "    f = -chi_mat_inv @ vect\n",
    "    return f\n",
    "\n",
    "\n",
    "display(chi([0]*len(Cs), Cs))\n",
    "\n",
    "force([0]*len(Cs), Cs)"
   ]
  },
  {
   "cell_type": "markdown",
   "metadata": {},
   "source": [
    "# Néel configuration\n"
   ]
  },
  {
   "cell_type": "markdown",
   "metadata": {},
   "source": [
    "up, down, up, down, ...\n"
   ]
  },
  {
   "cell_type": "code",
   "execution_count": 179,
   "metadata": {},
   "outputs": [
    {
     "data": {
      "text/plain": [
       "array([[0, 0, 0, ..., 0, 0, 0],\n",
       "       [0, 0, 0, ..., 0, 0, 0],\n",
       "       [0, 0, 0, ..., 0, 0, 0],\n",
       "       ...,\n",
       "       [0, 0, 0, ..., 0, 0, 0],\n",
       "       [0, 0, 0, ..., 0, 0, 0],\n",
       "       [0, 0, 0, ..., 0, 0, 0]], dtype=int32)"
      ]
     },
     "metadata": {},
     "output_type": "display_data"
    }
   ],
   "source": [
    "def generate_neel(N) :\n",
    "    \"\"\"\n",
    "    Generate the Neel state for a N-spin system.\n",
    "\n",
    "    Parameters\n",
    "    ----------\n",
    "    N : int\n",
    "        The number of spins in the system.\n",
    "\n",
    "    Returns\n",
    "    -------\n",
    "    scipy.sparse.csr_matrix\n",
    "        The Neel state.\n",
    "    \"\"\"\n",
    "    up = np.array([1, 0])\n",
    "    down = np.array([0, 1])\n",
    "\n",
    "    state = 1\n",
    "\n",
    "    # starts with up\n",
    "    for i in range(1, N+1) :\n",
    "        if i % 2 == 1 :\n",
    "            state = np.kron(state, up)\n",
    "        else :\n",
    "            state = np.kron(state, down)\n",
    "\n",
    "    rho = scp.sparse.csr_matrix(state).T @ scp.sparse.csr_matrix(state)\n",
    "    return rho\n",
    "\n",
    "\n",
    "N = 8\n",
    "GGE_neel = generate_neel(8).toarray(); display(GGE_neel)"
   ]
  },
  {
   "cell_type": "code",
   "execution_count": 181,
   "metadata": {},
   "outputs": [],
   "source": [
    "def find_lagr_closest_GGE(rho, conserved_quantities) :\n",
    "    \"\"\"\n",
    "    Find the closest GGE density matrix to the Neel state, given the Lagrange multipliers and the conserved quantities.\n",
    "\n",
    "    Parameters\n",
    "    ----------\n",
    "    rho : scipy.sparse.csr_matrix\n",
    "        The density matrix to be written in the GGE formalism.\n",
    "    lagr : list of float\n",
    "        The Lagrange multipliers.\n",
    "    conserved_quantities : list of scipy.sparse.csr_matrix\n",
    "        The conserved quantities.\n",
    "\n",
    "    Returns\n",
    "    -------\n",
    "    scipy.sparse.csr_matrix\n",
    "        The closest GGE density matrix to the Neel state.\n",
    "    \"\"\"\n",
    "\n",
    "    solution = fmin(lambda x: np.linalg.norm(GGE(x, conserved_quantities).toarray() - rho), x0=np.zeros(len(conserved_quantities)), disp=False)\n",
    "    return solution\n",
    "\n",
    "\n",
    "def fetch_neel(N) :\n",
    "    \"\"\"\n",
    "    Fetch the Neel state for a N-spin system.\n",
    "\n",
    "    Parameters\n",
    "    ----------\n",
    "    N : int\n",
    "        The number of spins in the system.\n",
    "\n",
    "    Returns\n",
    "    -------\n",
    "    scipy.sparse.csr_matrix\n",
    "        The Neel state.\n",
    "    \"\"\"\n",
    "\n",
    "    try :\n",
    "        lambdas_0 = np.loadtxt(f'results/time_dependent_GGE/heisenberg_spins/neel_lambda_0/lambdas_0_N_{N}.txt')\n",
    "    except FileNotFoundError :\n",
    "        GGE_neel = generate_neel(N)\n",
    "        lambdas_0 = find_lagr_closest_GGE(GGE_neel, Cs)\n",
    "        np.savetxt(f'results/time_dependent_GGE/heisenberg_spins/neel_lambda_0/lambdas_0_N_{N}.txt', lambdas_0)\n",
    "    return lambdas_0\n",
    "\n",
    "\n",
    "\n",
    "GGE_neel = generate_neel(N)\n",
    "lambdas_GGE_neel = find_lagr_closest_GGE(GGE_neel, Cs); display(lambdas_GGE_neel)\n",
    "\n",
    "total_spin = 0\n",
    "for j in range(1, N+1) :\n",
    "    total_spin += avg_GGE(lambdas_GGE_neel, Cs, sp_j(j, N))\n",
    "display(f\"Total Spin Sz: {total_spin}\")\n",
    "\n",
    "plt.matshow(GGE(lambdas_GGE_neel, Cs).toarray().real)\n",
    "plt.colorbar()\n",
    "plt.savefig('results/time_dependent_GGE/heisenberg_spins/GGE_neel.png')"
   ]
  },
  {
   "cell_type": "markdown",
   "metadata": {},
   "source": [
    "# Numerical integration\n"
   ]
  },
  {
   "cell_type": "code",
   "execution_count": 185,
   "metadata": {},
   "outputs": [],
   "source": [
    "# Hyperparameters\n",
    "N = 8\n",
    "J = 1\n",
    "EPSILON = 0.1\n",
    "GAMMA = 0.8\n",
    "compute_operators(N)\n",
    "\n",
    "# Conserved quantities\n",
    "Ob_val = Ob(N)\n",
    "\n",
    "C2 = H_spin(N, J)\n",
    "C3 = Jh(N, J)                   # JH\n",
    "C4 = Ob_val @ C3 - C3 @ Ob_val  # [Ob, C3]\n",
    "C5 = Ob_val @ C4 - C4 @ Ob_val  # [Ob, C4]\n",
    "\n",
    "Cs = [\n",
    "    C2,\n",
    "    C3,\n",
    "    C4,\n",
    "    C5\n",
    "]\n",
    "\n",
    "# Initial conditions\n",
    "lambdas_0 = fetch_neel(N)\n",
    "\n",
    "# Time grid\n",
    "# t_eval = np.arange(0, np.pi, 0.1)\n",
    "tmin = 0\n",
    "tmax = 90\n",
    "t_eval = np.linspace(tmin, tmax, 100)\n"
   ]
  },
  {
   "cell_type": "markdown",
   "metadata": {},
   "source": [
    "## Exact time evolution\n"
   ]
  },
  {
   "cell_type": "code",
   "execution_count": 200,
   "metadata": {},
   "outputs": [
    {
     "data": {
      "text/plain": [
       "(256, 256)"
      ]
     },
     "metadata": {},
     "output_type": "display_data"
    },
    {
     "data": {
      "text/plain": [
       "(256, 256)"
      ]
     },
     "metadata": {},
     "output_type": "display_data"
    },
    {
     "data": {
      "text/plain": [
       "(256, 256)"
      ]
     },
     "metadata": {},
     "output_type": "display_data"
    }
   ],
   "source": [
    "def avg_general(rho, O) :\n",
    "    \"\"\"\n",
    "    Compute the average of an observable in a density matrix.\n",
    "\n",
    "    Parameters\n",
    "    ----------\n",
    "    rho : scipy.sparse.csr_matrix\n",
    "        The density matrix.\n",
    "    O : scipy.sparse.csr_matrix\n",
    "        The observable.\n",
    "\n",
    "    Returns\n",
    "    -------\n",
    "    float\n",
    "        The average of the observable.\n",
    "    \"\"\"\n",
    "    return scp.sparse.csr_matrix.trace(rho @ O)\n",
    "\n",
    "\n",
    "def time_evolution(rho0, H, epsilon, gamma, J, N, t) :\n",
    "    \"\"\"\n",
    "    Compute the time evolution of a density matrix, given the initial density matrix, the Hamiltonian, the perturbation strength, the relative strength, the coupling constant, the number of spins, and the time.\n",
    "\n",
    "    Parameters\n",
    "    ----------\n",
    "    rho0 : scipy.sparse.csr_matrix\n",
    "        The initial density matrix.\n",
    "    H : scipy.sparse.csr_matrix\n",
    "        The Hamiltonian.\n",
    "    epsilon : float\n",
    "        The perturbation strength.\n",
    "    gamma : float\n",
    "        The relative strength.\n",
    "    J : float\n",
    "        The coupling constant.\n",
    "    N : int\n",
    "        The number of spins.\n",
    "    t : float\n",
    "        The time.\n",
    "\n",
    "    Returns\n",
    "    -------\n",
    "    scipy.sparse.csr_matrix\n",
    "        The density matrix at time t.\n",
    "    \"\"\"\n",
    "    def f(t, rho) :\n",
    "        return lindblad(rho.reshape(H.shape), H, epsilon, gamma, J, N).flatten()\n",
    "\n",
    "    rho0 = rho0.toarray()\n",
    "    sol = solve_ivp(f, [0, t[-1]], rho0.flatten(), t_eval=t, method='RK45')\n",
    "    return sol\n",
    "\n",
    "\n",
    "def get_rhos_exact(shape) :\n",
    "    rhos_re = scp.sparse.load_npz(f'results/time_dependent_GGE/heisenberg_spins/sol_exact/N_{N}/rhos_real.npz').T.toarray().reshape((-1, *shape))\n",
    "    rhos_im = scp.sparse.load_npz(f'results/time_dependent_GGE/heisenberg_spins/sol_exact/N_{N}/rhos_im.npz').T.toarray().reshape((-1, *shape))\n",
    "    return rhos_re + 1j * rhos_im\n",
    "\n",
    "\n",
    "lambdas_0 = fetch_neel(N)\n",
    "GGE_neel = GGE(lambdas_0, Cs)\n",
    "H = H_spin(N, J)"
   ]
  },
  {
   "cell_type": "markdown",
   "metadata": {},
   "source": [
    "compute\n"
   ]
  },
  {
   "cell_type": "code",
   "execution_count": null,
   "metadata": {},
   "outputs": [],
   "source": [
    "sol_exact = time_evolution(GGE_neel, H, EPSILON, GAMMA, J, N, t_eval)\n",
    "\n",
    "os.makedirs(f'results/time_dependent_GGE/heisenberg_spins/sol_exact/N_{N}', exist_ok=True)\n",
    "np.savetxt(f'results/time_dependent_GGE/heisenberg_spins/sol_exact/N_{N}/ts.txt', sol_exact.t)\n",
    "scp.sparse.save_npz(f'results/time_dependent_GGE/heisenberg_spins/sol_exact/N_{N}/rhos_real', csr_array(sol_exact.y.real))\n",
    "scp.sparse.save_npz(f'results/time_dependent_GGE/heisenberg_spins/sol_exact/N_{N}/rhos_im', csr_array(sol_exact.y.imag))"
   ]
  },
  {
   "cell_type": "markdown",
   "metadata": {},
   "source": [
    "#### Observables\n"
   ]
  },
  {
   "cell_type": "code",
   "execution_count": 346,
   "metadata": {},
   "outputs": [],
   "source": [
    "ts = np.loadtxt(f'results/time_dependent_GGE/heisenberg_spins/sol_exact/N_{N}/ts.txt')"
   ]
  },
  {
   "cell_type": "markdown",
   "metadata": {},
   "source": [
    "compute\n"
   ]
  },
  {
   "cell_type": "code",
   "execution_count": 334,
   "metadata": {},
   "outputs": [],
   "source": [
    "rhos_exact = get_rhos_exact(H.shape)\n",
    "\n",
    "\n",
    "# Average current\n",
    "JHs = []\n",
    "for i, t in enumerate(ts) :\n",
    "    rho_exact = scp.sparse.csr_matrix(rhos_exact[i])\n",
    "    JHs.append(avg_general(rho_exact, Jh(N, J)))\n",
    "\n",
    "np.savetxt(f'results/time_dependent_GGE/heisenberg_spins/sol_exact/N_{N}/avg_current.txt', -np.array(JHs).real / N)\n",
    "\n",
    "\n",
    "# Spin neighbor correlation\n",
    "Y_spin_cor = []\n",
    "\n",
    "j = 3\n",
    "sz_j = scp.sparse.load_npz(f'results/time_dependent_GGE/heisenberg_spins/operators/N_{N}/sz_k_{j}.npz')\n",
    "sz_jp1 = scp.sparse.load_npz(f'results/time_dependent_GGE/heisenberg_spins/operators/N_{N}/sz_k_{j+1}.npz')\n",
    "for i, t in enumerate(ts) :\n",
    "    rho_exact = scp.sparse.csr_matrix(rhos_exact[i])\n",
    "    avg_corr = avg_general(rho_exact, sz_j @ sz_jp1) \n",
    "    Y_spin_cor.append(-4 * avg_corr)\n",
    "\n",
    "np.savetxt(f'results/time_dependent_GGE/heisenberg_spins/sol_exact/N_{N}/spin_neighbor_correlation.txt', np.array(Y_spin_cor).real)\n",
    "\n"
   ]
  },
  {
   "cell_type": "markdown",
   "metadata": {},
   "source": [
    "Plot\n"
   ]
  },
  {
   "cell_type": "code",
   "execution_count": 347,
   "metadata": {},
   "outputs": [
    {
     "data": {
      "image/png": "[encoded data removed]",
      "text/plain": [
       "<Figure size 640x480 with 2 Axes>"
      ]
     },
     "metadata": {},
     "output_type": "display_data"
    }
   ],
   "source": [
    "plt.subplot(211)\n",
    "JHs = np.loadtxt(f'results/time_dependent_GGE/heisenberg_spins/sol_exact/N_{N}/avg_current.txt')\n",
    "plt.plot(ts, JHs)\n",
    "plt.ylabel(r'$-\\left< J_H(t) \\right> / N$') \n",
    "plt.savefig(f\"results/time_dependent_GGE/heisenberg_spins/sol_exact/N_{N}/avg_current.pdf\")\n",
    "\n",
    "\n",
    "plt.subplot(212)\n",
    "spin_corr = np.loadtxt(f'results/time_dependent_GGE/heisenberg_spins/sol_exact/N_{N}/spin_neighbor_correlation.txt')\n",
    "plt.plot(ts, spin_corr)\n",
    "plt.xlabel(r'$t$')\n",
    "plt.ylabel(r'$\\left< \\sigma_j^z \\sigma_j^{z+1} \\right>$')\n",
    "plt.savefig(\"results/time_dependent_GGE/heisenberg_spins/first_try/observables_exact.pdf\")"
   ]
  },
  {
   "cell_type": "markdown",
   "metadata": {},
   "source": [
    "## GGE evolution\n"
   ]
  },
  {
   "cell_type": "markdown",
   "metadata": {},
   "source": [
    "Compute\n"
   ]
  },
  {
   "cell_type": "code",
   "execution_count": null,
   "metadata": {},
   "outputs": [
    {
     "name": "stderr",
     "output_type": "stream",
     "text": [
      "C:\\Users\\antho\\AppData\\Local\\Temp\\ipykernel_10196\\2995203031.py:50: ComplexWarning: Casting complex values to real discards the imaginary part\n",
      "  vect[j] = scp.sparse.csr_matrix.trace(conserved_quantities[j] @ lindblad_non_unitary(rho_GGE, EPSILON, GAMMA, J, N))\n",
      "C:\\Users\\antho\\AppData\\Local\\Temp\\ipykernel_10196\\2995203031.py:23: ComplexWarning: Casting complex values to real discards the imaginary part\n",
      "  chi_mat[i, j] = avg_GGE(lagr, conserved_quantities, conserved_quantities[i] @ conserved_quantities[j]) \\\n"
     ]
    }
   ],
   "source": [
    "F = lambda t, s: force(s, Cs)\n",
    "\n",
    "sol = solve_ivp(F, [tmin, tmax], lambdas_0, t_eval=t_eval)\n",
    "\n",
    "all_params = np.vstack([sol.t, sol.y]).T\n",
    "np.savetxt(\"results/time_dependent_GGE/heisenberg_spins/first_try/time_dependent_params.txt\", all_params)"
   ]
  },
  {
   "cell_type": "markdown",
   "metadata": {},
   "source": [
    "### Observables\n"
   ]
  },
  {
   "cell_type": "code",
   "execution_count": 338,
   "metadata": {},
   "outputs": [],
   "source": [
    "time_dependent_params = np.loadtxt(\"results/time_dependent_GGE/heisenberg_spins/first_try/time_dependent_params.txt\", unpack=True)\n",
    "t_eval = time_dependent_params[0]\n",
    "lagr = time_dependent_params[1:]\n"
   ]
  },
  {
   "cell_type": "markdown",
   "metadata": {},
   "source": [
    "Compute\n"
   ]
  },
  {
   "cell_type": "code",
   "execution_count": 339,
   "metadata": {},
   "outputs": [],
   "source": [
    "# Heat current\n",
    "Y = []\n",
    "for i, t in enumerate(t_eval) :\n",
    "    avg_current = avg_GGE(lagr.T[i], Cs, -Jh(N, J)) / N\n",
    "    Y.append(avg_current)\n",
    "\n",
    "np.savetxt(\"results/time_dependent_GGE/heisenberg_spins/first_try/avg_current.txt\", np.vstack([t_eval, np.array(Y)]).T.real)\n",
    "\n",
    "\n",
    "# spin neighbor correlation\n",
    "j = 3\n",
    "\n",
    "Y = []\n",
    "for i, t in enumerate(t_eval) :\n",
    "    sz_j = scp.sparse.load_npz(f'results/time_dependent_GGE/heisenberg_spins/operators/N_{N}/sz_k_{j}.npz')\n",
    "    sz_jp1 = scp.sparse.load_npz(f'results/time_dependent_GGE/heisenberg_spins/operators/N_{N}/sz_k_{j+1}.npz')\n",
    "\n",
    "    avg_corr = avg_GGE(lagr.T[i], Cs, sz_j @ sz_jp1) \n",
    "    Y.append(-4 * avg_corr) # factor 4 because of the normalization of the spin operators\n",
    "\n",
    "np.savetxt(\"results/time_dependent_GGE/heisenberg_spins/first_try/spin_neighbor_correlation.txt\", np.vstack([t_eval, np.array(Y)]).T.real)\n",
    "\n"
   ]
  },
  {
   "cell_type": "markdown",
   "metadata": {},
   "source": [
    "Plot\n"
   ]
  },
  {
   "cell_type": "code",
   "execution_count": 344,
   "metadata": {},
   "outputs": [
    {
     "data": {
      "image/png": "[encoded data removed]",
      "text/plain": [
       "<Figure size 640x480 with 2 Axes>"
      ]
     },
     "metadata": {},
     "output_type": "display_data"
    }
   ],
   "source": [
    "plt.subplot(211)\n",
    "t_eval, Y = np.loadtxt(\"results/time_dependent_GGE/heisenberg_spins/first_try/avg_current.txt\", unpack=True)\n",
    "\n",
    "plt.plot(t_eval, Y, label='GGE')\n",
    "plt.xlabel(r'$t$')\n",
    "plt.ylabel(r'$-\\left< J_H(t) \\right> / N$') \n",
    "\n",
    "\n",
    "plt.subplot(212)\n",
    "t_eval, Y = np.loadtxt(\"results/time_dependent_GGE/heisenberg_spins/first_try/spin_neighbor_correlation.txt\", unpack=True)\n",
    "\n",
    "plt.plot(EPSILON * t_eval, Y)\n",
    "plt.xlabel(r'$\\epsilon t$')\n",
    "plt.ylabel(r'$\\left< \\sigma_j^z \\sigma_j^{z+1} \\right>$')\n",
    "\n",
    "\n",
    "plt.savefig(\"results/time_dependent_GGE/heisenberg_spins/first_try/observables_GGE.pdf\")"
   ]
  },
  {
   "cell_type": "markdown",
   "metadata": {},
   "source": [
    "## Comparison Exact vs GGE\n"
   ]
  },
  {
   "cell_type": "code",
   "execution_count": 348,
   "metadata": {},
   "outputs": [
    {
     "data": {
      "image/png": "[encoded data removed]",
      "text/plain": [
       "<Figure size 640x480 with 2 Axes>"
      ]
     },
     "metadata": {},
     "output_type": "display_data"
    }
   ],
   "source": [
    "plt.subplot(2, 1, 1)\n",
    "\n",
    "t_eval, Y = np.loadtxt(\"results/time_dependent_GGE/heisenberg_spins/first_try/avg_current.txt\", unpack=True)\n",
    "ts = np.loadtxt(f'results/time_dependent_GGE/heisenberg_spins/sol_exact/N_{N}/ts.txt')\n",
    "JHs_exact = np.loadtxt(f'results/time_dependent_GGE/heisenberg_spins/sol_exact/N_{N}/avg_current.txt')\n",
    "\n",
    "plt.plot(ts, JHs_exact, label='Exact')\n",
    "plt.plot(t_eval, Y, label='GGE')\n",
    "plt.xlabel(r'$t$')\n",
    "plt.ylabel(r'$-\\left< J_H(t) \\right> / N$') \n",
    "plt.legend()\n",
    "plt.savefig(\"results/time_dependent_GGE/heisenberg_spins/first_try/avg_current.pdf\")\n",
    "\n",
    "\n",
    "\n",
    "plt.subplot(2, 1, 2)\n",
    "t_eval, Y = np.loadtxt(\"results/time_dependent_GGE/heisenberg_spins/first_try/spin_neighbor_correlation.txt\", unpack=True)\n",
    "Y = np.loadtxt(f'results/time_dependent_GGE/heisenberg_spins/sol_exact/N_{N}/spin_neighbor_correlation.txt')\n",
    "ts = np.loadtxt(f'results/time_dependent_GGE/heisenberg_spins/sol_exact/N_{N}/ts.txt')\n",
    "\n",
    "plt.plot(ts, Y, label='Exact')\n",
    "plt.plot(t_eval, Y, label='GGE')\n",
    "plt.xlabel(r'$t$')\n",
    "plt.ylabel(r'$\\left< \\sigma_j^z \\sigma_j^{z+1} \\right>$')\n",
    "plt.legend()\n",
    "plt.savefig(\"results/time_dependent_GGE/heisenberg_spins/first_try/observables_exact_VS_GGE.pdf\")\n"
   ]
  },
  {
   "cell_type": "code",
   "execution_count": null,
   "metadata": {},
   "outputs": [],
   "source": []
  },
  {
   "cell_type": "code",
   "execution_count": null,
   "metadata": {},
   "outputs": [],
   "source": []
  },
  {
   "cell_type": "code",
   "execution_count": null,
   "metadata": {},
   "outputs": [],
   "source": []
  }
 ],
 "metadata": {
  "kernelspec": {
   "display_name": "perso",
   "language": "python",
   "name": "python3"
  },
  "language_info": {
   "codemirror_mode": {
    "name": "ipython",
    "version": 3
   },
   "file_extension": ".py",
   "mimetype": "text/x-python",
   "name": "python",
   "nbconvert_exporter": "python",
   "pygments_lexer": "ipython3",
   "version": "3.11.5"
  }
 },
 "nbformat": 4,
 "nbformat_minor": 2
}
