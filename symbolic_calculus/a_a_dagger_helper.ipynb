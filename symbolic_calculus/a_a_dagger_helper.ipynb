{
 "cells": [
  {
   "cell_type": "code",
   "execution_count": 1,
   "metadata": {},
   "outputs": [],
   "source": [
    "import sympy as smp\n",
    "\n",
    "from sympy.physics.mechanics import *\n",
    "from sympy.physics.quantum.trace import Tr\n",
    "from sympy.physics.quantum import *\n",
    "from sympy.physics.quantum.density import *\n",
    "from sympy.physics.quantum import IdentityOperator\n",
    "\n",
    "from sympy import Symbol, Integer\n",
    "from sympy.physics.quantum import Dagger, qapply, represent, InnerProduct, Commutator\n",
    "from sympy.physics.quantum.sho1d import RaisingOp, LoweringOp, NumberOp, Hamiltonian, SHOKet, SHOBra"
   ]
  },
  {
   "cell_type": "markdown",
   "metadata": {},
   "source": [
    "# Define quantities\n"
   ]
  },
  {
   "cell_type": "code",
   "execution_count": 12,
   "metadata": {},
   "outputs": [],
   "source": [
    "N = smp.symbols('N', integer=True, positive=True)\n",
    "Z = Symbol('Z', real=True, positive=True); Z\n",
    "rho = Operator('rho'); rho\n",
    "kN = SHOKet(N); kN\n",
    "bN = SHOBra(N); bN\n",
    "kNm1 = SHOKet(N-1); kNm1\n",
    "bNm1 = SHOBra(N-1); bNm1\n",
    "kNp1 = SHOKet(N+1); kNp1\n",
    "bNp1 = SHOBra(N+1); bNp1\n",
    "lambda_0 = Symbol('lambda_0', real=True, positive=True); lambda_0\n",
    "lambda_1 = Symbol('lambda_1', real=True, positive=True); lambda_1\n",
    "ad = RaisingOp('a')\n",
    "a = LoweringOp('a')"
   ]
  },
  {
   "cell_type": "code",
   "execution_count": 8,
   "metadata": {},
   "outputs": [
    {
     "data": {
      "text/latex": [
       "$\\displaystyle e^{- \\lambda_{0} \\left(N - 2\\right)} {\\left|N - 2\\right\\rangle } {\\left\\langle N - 2\\right|}$"
      ],
      "text/plain": [
       "exp(-lambda_0*(N - 2))*|N - 2>*<N - 2|"
      ]
     },
     "execution_count": 8,
     "metadata": {},
     "output_type": "execute_result"
    }
   ],
   "source": [
    "def projector(N) :\n",
    "    ket = SHOKet(N)\n",
    "    bra = SHOBra(N)\n",
    "    p = smp.exp( - lambda_0 * (N)) * ket * bra\n",
    "    return p\n",
    "\n",
    "projector(N-2)\n"
   ]
  },
  {
   "cell_type": "code",
   "execution_count": 10,
   "metadata": {},
   "outputs": [
    {
     "data": {
      "text/latex": [
       "$\\displaystyle \\frac{e^{\\frac{\\lambda_{1}^{2}}{\\lambda_{0}}} \\left(e^{- \\lambda_{0} \\left(N + 4\\right)} {\\left|N + 4\\right\\rangle } {\\left\\langle N + 4\\right|} + e^{- \\lambda_{0} \\left(N + 3\\right)} {\\left|N + 3\\right\\rangle } {\\left\\langle N + 3\\right|} + e^{- \\lambda_{0} \\left(N + 2\\right)} {\\left|N + 2\\right\\rangle } {\\left\\langle N + 2\\right|} + e^{- \\lambda_{0} \\left(N + 1\\right)} {\\left|N + 1\\right\\rangle } {\\left\\langle N + 1\\right|} + e^{- \\lambda_{0} \\left(N - 1\\right)} {\\left|N - 1\\right\\rangle } {\\left\\langle N - 1\\right|} + e^{- \\lambda_{0} \\left(N - 2\\right)} {\\left|N - 2\\right\\rangle } {\\left\\langle N - 2\\right|} + e^{- \\lambda_{0} \\left(N - 3\\right)} {\\left|N - 3\\right\\rangle } {\\left\\langle N - 3\\right|} + e^{- \\lambda_{0} \\left(N - 4\\right)} {\\left|N - 4\\right\\rangle } {\\left\\langle N - 4\\right|} + e^{- N \\lambda_{0}} {\\left|N\\right\\rangle } {\\left\\langle N\\right|}\\right)}{Z}$"
      ],
      "text/plain": [
       "exp(lambda_1**2/lambda_0)*(exp(-lambda_0*(N + 4))*|N + 4>*<N + 4| + exp(-lambda_0*(N + 3))*|N + 3>*<N + 3| + exp(-lambda_0*(N + 2))*|N + 2>*<N + 2| + exp(-lambda_0*(N + 1))*|N + 1>*<N + 1| + exp(-lambda_0*(N - 1))*|N - 1>*<N - 1| + exp(-lambda_0*(N - 2))*|N - 2>*<N - 2| + exp(-lambda_0*(N - 3))*|N - 3>*<N - 3| + exp(-lambda_0*(N - 4))*|N - 4>*<N - 4| + exp(-N*lambda_0)*|N>*<N|)/Z"
      ]
     },
     "execution_count": 10,
     "metadata": {},
     "output_type": "execute_result"
    }
   ],
   "source": [
    "rho_val = smp.exp(lambda_1**2 / lambda_0) / Z * (projector(N-4) + projector(N-3) + projector(N-2) + projector(N-1) + projector(N) + projector(N+1) + projector(N+2) + projector(N+3)  + projector(N+4))\n",
    "rho_val\n"
   ]
  },
  {
   "cell_type": "markdown",
   "metadata": {},
   "source": [
    "test: first term in the expression of $\\dot S$\n"
   ]
  },
  {
   "cell_type": "code",
   "execution_count": 13,
   "metadata": {},
   "outputs": [
    {
     "data": {
      "text/latex": [
       "$\\displaystyle {\\left\\langle N\\right|} a^{\\dagger} \\rho a {\\left|N\\right\\rangle }$"
      ],
      "text/plain": [
       "<N|*RaisingOp(a)*rho*a*|N>"
      ]
     },
     "metadata": {},
     "output_type": "display_data"
    },
    {
     "data": {
      "text/latex": [
       "$\\displaystyle {\\left\\langle N\\right|} a^{\\dagger} \\rho \\left(\\sqrt{N} {\\left|N - 1\\right\\rangle } - \\frac{\\lambda_{1} {\\left|N\\right\\rangle }}{\\lambda_{0}}\\right)$"
      ],
      "text/plain": [
       "<N|*RaisingOp(a)*rho*(sqrt(N)*|N - 1> - lambda_1*|N>/lambda_0)"
      ]
     },
     "metadata": {},
     "output_type": "display_data"
    },
    {
     "data": {
      "text/latex": [
       "$\\displaystyle \\left(\\sqrt{N} {\\left\\langle N - 1\\right|} - \\frac{\\lambda_{1} {\\left\\langle N\\right|}}{\\lambda_{0}}\\right) \\rho \\left(\\sqrt{N} {\\left|N - 1\\right\\rangle } - \\frac{\\lambda_{1} {\\left|N\\right\\rangle }}{\\lambda_{0}}\\right)$"
      ],
      "text/plain": [
       "(sqrt(N)*<N - 1| - lambda_1*<N|/lambda_0)*rho*(sqrt(N)*|N - 1> - lambda_1*|N>/lambda_0)"
      ]
     },
     "metadata": {},
     "output_type": "display_data"
    },
    {
     "data": {
      "text/latex": [
       "$\\displaystyle - \\frac{\\sqrt{N} \\lambda_{1} {\\left\\langle N\\right|} \\rho {\\left|N - 1\\right\\rangle }}{\\lambda_{0}} - \\frac{\\sqrt{N} \\lambda_{1} {\\left\\langle N - 1\\right|} \\rho {\\left|N\\right\\rangle }}{\\lambda_{0}} + N {\\left\\langle N - 1\\right|} \\rho {\\left|N - 1\\right\\rangle } + \\frac{\\lambda_{1}^{2} {\\left\\langle N\\right|} \\rho {\\left|N\\right\\rangle }}{\\lambda_{0}^{2}}$"
      ],
      "text/plain": [
       "-sqrt(N)*lambda_1*<N|*rho*|N - 1>/lambda_0 - sqrt(N)*lambda_1*<N - 1|*rho*|N>/lambda_0 + N*<N - 1|*rho*|N - 1> + lambda_1**2*<N|*rho*|N>/lambda_0**2"
      ]
     },
     "execution_count": 13,
     "metadata": {},
     "output_type": "execute_result"
    }
   ],
   "source": [
    "left_val = smp.sqrt(N) * bNm1 - lambda_1 / lambda_0 * bN; left_val\n",
    "right_val = smp.sqrt(N) * kNm1 - lambda_1 / lambda_0 * kN; right_val\n",
    "\n",
    "left = bN * ad\n",
    "right = a * kN\n",
    "\n",
    "expr_1 = left * rho * right; display(expr_1) \n",
    "expr_1 = expr_1.subs(right, right_val); display(expr_1)\n",
    "expr_1 = expr_1.subs(left, left_val); display(expr_1)\n",
    "\n",
    "expr_1 = qapply(expr_1); expr_1 "
   ]
  },
  {
   "cell_type": "code",
   "execution_count": 14,
   "metadata": {},
   "outputs": [
    {
     "data": {
      "text/latex": [
       "$\\displaystyle \\frac{\\left(N \\lambda_{0}^{2} e^{\\lambda_{0}} + \\lambda_{1}^{2}\\right) e^{- N \\lambda_{0}} e^{\\frac{\\lambda_{1}^{2}}{\\lambda_{0}}}}{Z \\lambda_{0}^{2}}$"
      ],
      "text/plain": [
       "(N*lambda_0**2*exp(lambda_0) + lambda_1**2)*exp(-N*lambda_0)*exp(lambda_1**2/lambda_0)/(Z*lambda_0**2)"
      ]
     },
     "execution_count": 14,
     "metadata": {},
     "output_type": "execute_result"
    }
   ],
   "source": [
    "qapply(expr_1.subs(rho, rho_val).expand()).factor()"
   ]
  },
  {
   "cell_type": "markdown",
   "metadata": {},
   "source": [
    "# Computation $\\bra{N} {\\mathcal{L}} \\rho \\ket{N}$\n"
   ]
  },
  {
   "cell_type": "markdown",
   "metadata": {},
   "source": [
    "for $\\ket{N}$ the eigen basis of operator $\\hat b = \\hat a + \\frac{\\lambda_1}{\\lambda_0}$\n"
   ]
  },
  {
   "cell_type": "code",
   "execution_count": 15,
   "metadata": {},
   "outputs": [
    {
     "data": {
      "text/latex": [
       "$\\displaystyle \\beta$"
      ],
      "text/plain": [
       "beta"
      ]
     },
     "execution_count": 15,
     "metadata": {},
     "output_type": "execute_result"
    }
   ],
   "source": [
    "beta = Symbol('beta', real=True, positive=True); beta"
   ]
  },
  {
   "cell_type": "code",
   "execution_count": 16,
   "metadata": {},
   "outputs": [
    {
     "data": {
      "text/latex": [
       "$\\displaystyle \\bar{n} \\left(- 0.5 \\left\\{a a^{\\dagger},\\rho\\right\\} + a^{\\dagger} \\rho a\\right) + \\left(\\bar{n} + 1\\right) \\left(- 0.5 \\left\\{a^{\\dagger} a,\\rho\\right\\} + a \\rho a^{\\dagger}\\right)$"
      ],
      "text/plain": [
       "\\bar{n}*(-0.5*{a*RaisingOp(a),rho} + RaisingOp(a)*rho*a) + (\\bar{n} + 1)*(-0.5*{RaisingOp(a)*a,rho} + a*rho*RaisingOp(a))"
      ]
     },
     "metadata": {},
     "output_type": "display_data"
    },
    {
     "data": {
      "text/latex": [
       "$\\displaystyle - i \\left[- \\beta a^{\\dagger} a + \\epsilon a + \\epsilon a^{\\dagger},\\rho\\right]$"
      ],
      "text/plain": [
       "-I*[-beta*RaisingOp(a)*a + epsilon*a + epsilon*RaisingOp(a),rho]"
      ]
     },
     "metadata": {},
     "output_type": "display_data"
    },
    {
     "data": {
      "text/latex": [
       "$\\displaystyle \\bar{n} \\left(- 0.5 \\left\\{a a^{\\dagger},\\rho\\right\\} + a^{\\dagger} \\rho a\\right) + \\left(\\bar{n} + 1\\right) \\left(- 0.5 \\left\\{a^{\\dagger} a,\\rho\\right\\} + a \\rho a^{\\dagger}\\right) - i \\left[- \\beta a^{\\dagger} a + \\epsilon a + \\epsilon a^{\\dagger},\\rho\\right]$"
      ],
      "text/plain": [
       "\\bar{n}*(-0.5*{a*RaisingOp(a),rho} + RaisingOp(a)*rho*a) + (\\bar{n} + 1)*(-0.5*{RaisingOp(a)*a,rho} + a*rho*RaisingOp(a)) - I*[-beta*RaisingOp(a)*a + epsilon*a + epsilon*RaisingOp(a),rho]"
      ]
     },
     "execution_count": 16,
     "metadata": {},
     "output_type": "execute_result"
    }
   ],
   "source": [
    "gamma = 1; gamma\n",
    "omega = 1; omega  \n",
    "n_bar = smp.symbols(r'\\bar{n}', integer=True, positive=True); n_bar\n",
    "# n_bar = 1 / (smp.exp(beta * omega) - 1); n_bar\n",
    "rho = Operator('rho'); rho\n",
    "\n",
    "Dissipator_1 = gamma * (1 + n_bar) * (qapply(a * rho * Dagger(a) - 1/2 * AntiCommutator(qapply(Dagger(a) * a), rho))); Dissipator_1\n",
    "Dissipator_2 = gamma * (n_bar) * (qapply(Dagger(a) * rho * a - 1/2 * AntiCommutator(qapply(a * Dagger(a)), rho))); Dissipator_2\n",
    "Dissipator = Dissipator_1 + Dissipator_2; display(Dissipator)\n",
    "\n",
    "# Hamiltonian\n",
    "eps = Symbol('epsilon', real=True, positive=True); eps\n",
    "H = qapply(-beta * Dagger(a) * a + eps * (a + Dagger(a))); H\n",
    "liouvillian = -smp.I * Commutator(H, rho); display(liouvillian)\n",
    "Dissipator = Dissipator + liouvillian; Dissipator"
   ]
  },
  {
   "cell_type": "code",
   "execution_count": 17,
   "metadata": {},
   "outputs": [
    {
     "data": {
      "text/latex": [
       "$\\displaystyle a {\\left|N\\right\\rangle }$"
      ],
      "text/plain": [
       "a*|N>"
      ]
     },
     "metadata": {},
     "output_type": "display_data"
    },
    {
     "data": {
      "text/latex": [
       "$\\displaystyle \\sqrt{N} {\\left|N - 1\\right\\rangle } - \\frac{\\lambda_{1} {\\left|N\\right\\rangle }}{\\lambda_{0}}$"
      ],
      "text/plain": [
       "sqrt(N)*|N - 1> - lambda_1*|N>/lambda_0"
      ]
     },
     "metadata": {},
     "output_type": "display_data"
    },
    {
     "data": {
      "text/plain": [
       "'-----------------'"
      ]
     },
     "metadata": {},
     "output_type": "display_data"
    },
    {
     "data": {
      "text/latex": [
       "$\\displaystyle {\\left\\langle N\\right|} a^{\\dagger}$"
      ],
      "text/plain": [
       "<N|*RaisingOp(a)"
      ]
     },
     "metadata": {},
     "output_type": "display_data"
    },
    {
     "data": {
      "text/latex": [
       "$\\displaystyle \\sqrt{N} {\\left\\langle N - 1\\right|} - \\frac{\\lambda_{1} {\\left\\langle N\\right|}}{\\lambda_{0}}$"
      ],
      "text/plain": [
       "sqrt(N)*<N - 1| - lambda_1*<N|/lambda_0"
      ]
     },
     "metadata": {},
     "output_type": "display_data"
    }
   ],
   "source": [
    "aN = a * kN; display(aN)\n",
    "aN_val = smp.sqrt(N) * kNm1 - lambda_1 / lambda_0 * kN; display(aN_val)\n",
    "display('-----------------')\n",
    "Nad = Dagger(aN); display(Nad)\n",
    "Nad_val = Dagger(aN_val); display(Nad_val)"
   ]
  },
  {
   "cell_type": "code",
   "execution_count": 18,
   "metadata": {},
   "outputs": [
    {
     "data": {
      "text/latex": [
       "$\\displaystyle a^{\\dagger} {\\left|N\\right\\rangle }$"
      ],
      "text/plain": [
       "RaisingOp(a)*|N>"
      ]
     },
     "metadata": {},
     "output_type": "display_data"
    },
    {
     "data": {
      "text/latex": [
       "$\\displaystyle \\sqrt{N + 1} {\\left|N + 1\\right\\rangle } - \\frac{\\lambda_{1} {\\left|N\\right\\rangle }}{\\lambda_{0}}$"
      ],
      "text/plain": [
       "sqrt(N + 1)*|N + 1> - lambda_1*|N>/lambda_0"
      ]
     },
     "metadata": {},
     "output_type": "display_data"
    },
    {
     "data": {
      "text/plain": [
       "'-----------------'"
      ]
     },
     "metadata": {},
     "output_type": "display_data"
    },
    {
     "data": {
      "text/latex": [
       "$\\displaystyle {\\left\\langle N\\right|} a$"
      ],
      "text/plain": [
       "<N|*a"
      ]
     },
     "metadata": {},
     "output_type": "display_data"
    },
    {
     "data": {
      "text/latex": [
       "$\\displaystyle \\sqrt{N + 1} {\\left\\langle N + 1\\right|} - \\frac{\\lambda_{1} {\\left\\langle N\\right|}}{\\lambda_{0}}$"
      ],
      "text/plain": [
       "sqrt(N + 1)*<N + 1| - lambda_1*<N|/lambda_0"
      ]
     },
     "metadata": {},
     "output_type": "display_data"
    }
   ],
   "source": [
    "adN = ad * kN; display(adN)\n",
    "adN_val = smp.sqrt(N+1) * kNp1 - lambda_1 / lambda_0 * kN; display(adN_val)\n",
    "display('-----------------')\n",
    "Na = Dagger(adN); display(Na)\n",
    "Na_val = Dagger(adN_val); display(Na_val)"
   ]
  },
  {
   "cell_type": "code",
   "execution_count": 19,
   "metadata": {},
   "outputs": [
    {
     "data": {
      "text/latex": [
       "$\\displaystyle {\\left\\langle N\\right|} \\left(\\bar{n} \\left(- 0.5 \\left\\{a a^{\\dagger},\\rho\\right\\} + a^{\\dagger} \\rho a\\right) + \\left(\\bar{n} + 1\\right) \\left(- 0.5 \\left\\{a^{\\dagger} a,\\rho\\right\\} + a \\rho a^{\\dagger}\\right) - i \\left[- \\beta a^{\\dagger} a + \\epsilon a + \\epsilon a^{\\dagger},\\rho\\right]\\right) {\\left|N\\right\\rangle }$"
      ],
      "text/plain": [
       "<N|*(\\bar{n}*(-0.5*{a*RaisingOp(a),rho} + RaisingOp(a)*rho*a) + (\\bar{n} + 1)*(-0.5*{RaisingOp(a)*a,rho} + a*rho*RaisingOp(a)) - I*[-beta*RaisingOp(a)*a + epsilon*a + epsilon*RaisingOp(a),rho])*|N>"
      ]
     },
     "metadata": {},
     "output_type": "display_data"
    },
    {
     "data": {
      "text/latex": [
       "$\\displaystyle \\bar{n} {\\left\\langle N\\right|} a \\rho a^{\\dagger} {\\left|N\\right\\rangle } - 0.5 \\bar{n} {\\left\\langle N\\right|} a a^{\\dagger} \\rho {\\left|N\\right\\rangle } - 0.5 \\bar{n} {\\left\\langle N\\right|} \\rho a a^{\\dagger} {\\left|N\\right\\rangle } - 0.5 \\bar{n} {\\left\\langle N\\right|} \\rho a^{\\dagger} a {\\left|N\\right\\rangle } - 0.5 \\bar{n} {\\left\\langle N\\right|} a^{\\dagger} a \\rho {\\left|N\\right\\rangle } + \\bar{n} {\\left\\langle N\\right|} a^{\\dagger} \\rho a {\\left|N\\right\\rangle } - i \\beta {\\left\\langle N\\right|} \\rho a^{\\dagger} a {\\left|N\\right\\rangle } + i \\beta {\\left\\langle N\\right|} a^{\\dagger} a \\rho {\\left|N\\right\\rangle } - i \\epsilon {\\left\\langle N\\right|} a \\rho {\\left|N\\right\\rangle } + i \\epsilon {\\left\\langle N\\right|} \\rho a {\\left|N\\right\\rangle } + i \\epsilon {\\left\\langle N\\right|} \\rho a^{\\dagger} {\\left|N\\right\\rangle } - i \\epsilon {\\left\\langle N\\right|} a^{\\dagger} \\rho {\\left|N\\right\\rangle } + {\\left\\langle N\\right|} a \\rho a^{\\dagger} {\\left|N\\right\\rangle } - 0.5 {\\left\\langle N\\right|} \\rho a^{\\dagger} a {\\left|N\\right\\rangle } - 0.5 {\\left\\langle N\\right|} a^{\\dagger} a \\rho {\\left|N\\right\\rangle }$"
      ],
      "text/plain": [
       "\\bar{n}*<N|*a*rho*RaisingOp(a)*|N> - 0.5*\\bar{n}*<N|*a*RaisingOp(a)*rho*|N> - 0.5*\\bar{n}*<N|*rho*a*RaisingOp(a)*|N> - 0.5*\\bar{n}*<N|*rho*RaisingOp(a)*a*|N> - 0.5*\\bar{n}*<N|*RaisingOp(a)*a*rho*|N> + \\bar{n}*<N|*RaisingOp(a)*rho*a*|N> - I*beta*<N|*rho*RaisingOp(a)*a*|N> + I*beta*<N|*RaisingOp(a)*a*rho*|N> - I*epsilon*<N|*a*rho*|N> + I*epsilon*<N|*rho*a*|N> + I*epsilon*<N|*rho*RaisingOp(a)*|N> - I*epsilon*<N|*RaisingOp(a)*rho*|N> + <N|*a*rho*RaisingOp(a)*|N> - 0.5*<N|*rho*RaisingOp(a)*a*|N> - 0.5*<N|*RaisingOp(a)*a*rho*|N>"
      ]
     },
     "metadata": {},
     "output_type": "display_data"
    }
   ],
   "source": [
    "expr_diss = (bN * Dissipator * kN); display(expr_diss)\n",
    "expanded_dissipator = expr_diss.expand().doit().expand(); display(expanded_dissipator)"
   ]
  },
  {
   "cell_type": "code",
   "execution_count": 20,
   "metadata": {},
   "outputs": [
    {
     "data": {
      "text/latex": [
       "$\\displaystyle - 0.5 \\sqrt{N} \\bar{n} {\\left\\langle N\\right|} \\rho a^{\\dagger} {\\left|N - 1\\right\\rangle } - 0.5 \\sqrt{N} \\bar{n} {\\left\\langle N - 1\\right|} a \\rho {\\left|N\\right\\rangle } - \\frac{0.5 \\sqrt{N} \\bar{n} \\lambda_{1} {\\left\\langle N\\right|} \\rho {\\left|N - 1\\right\\rangle }}{\\lambda_{0}} - \\frac{0.5 \\sqrt{N} \\bar{n} \\lambda_{1} {\\left\\langle N - 1\\right|} \\rho {\\left|N\\right\\rangle }}{\\lambda_{0}} - i \\sqrt{N} \\beta {\\left\\langle N\\right|} \\rho a^{\\dagger} {\\left|N - 1\\right\\rangle } + i \\sqrt{N} \\beta {\\left\\langle N - 1\\right|} a \\rho {\\left|N\\right\\rangle } + i \\sqrt{N} \\epsilon {\\left\\langle N\\right|} \\rho {\\left|N - 1\\right\\rangle } - i \\sqrt{N} \\epsilon {\\left\\langle N - 1\\right|} \\rho {\\left|N\\right\\rangle } - 0.5 \\sqrt{N} {\\left\\langle N\\right|} \\rho a^{\\dagger} {\\left|N - 1\\right\\rangle } - 0.5 \\sqrt{N} {\\left\\langle N - 1\\right|} a \\rho {\\left|N\\right\\rangle } + N \\bar{n} {\\left\\langle N - 1\\right|} \\rho {\\left|N - 1\\right\\rangle } + N \\bar{n} {\\left\\langle N + 1\\right|} \\rho {\\left|N + 1\\right\\rangle } + N {\\left\\langle N + 1\\right|} \\rho {\\left|N + 1\\right\\rangle } - 0.5 \\bar{n} \\sqrt{N + 1} {\\left\\langle N\\right|} \\rho a {\\left|N + 1\\right\\rangle } - 0.5 \\bar{n} \\sqrt{N + 1} {\\left\\langle N + 1\\right|} a^{\\dagger} \\rho {\\left|N\\right\\rangle } + \\bar{n} {\\left\\langle N + 1\\right|} \\rho {\\left|N + 1\\right\\rangle } - \\frac{0.5 \\bar{n} \\lambda_{1} \\sqrt{N + 1} {\\left\\langle N\\right|} \\rho {\\left|N + 1\\right\\rangle }}{\\lambda_{0}} - \\frac{0.5 \\bar{n} \\lambda_{1} \\sqrt{N + 1} {\\left\\langle N + 1\\right|} \\rho {\\left|N\\right\\rangle }}{\\lambda_{0}} + \\frac{i \\beta \\lambda_{1} \\sqrt{N + 1} {\\left\\langle N\\right|} \\rho {\\left|N + 1\\right\\rangle }}{\\lambda_{0}} - \\frac{i \\beta \\lambda_{1} \\sqrt{N + 1} {\\left\\langle N + 1\\right|} \\rho {\\left|N\\right\\rangle }}{\\lambda_{0}} + i \\epsilon \\sqrt{N + 1} {\\left\\langle N\\right|} \\rho {\\left|N + 1\\right\\rangle } - i \\epsilon \\sqrt{N + 1} {\\left\\langle N + 1\\right|} \\rho {\\left|N\\right\\rangle } + {\\left\\langle N + 1\\right|} \\rho {\\left|N + 1\\right\\rangle } - \\frac{0.5 \\lambda_{1} \\sqrt{N + 1} {\\left\\langle N\\right|} \\rho {\\left|N + 1\\right\\rangle }}{\\lambda_{0}} - \\frac{0.5 \\lambda_{1} \\sqrt{N + 1} {\\left\\langle N + 1\\right|} \\rho {\\left|N\\right\\rangle }}{\\lambda_{0}}$"
      ],
      "text/plain": [
       "-0.5*sqrt(N)*\\bar{n}*<N|*rho*RaisingOp(a)*|N - 1> - 0.5*sqrt(N)*\\bar{n}*<N - 1|*a*rho*|N> - 0.5*sqrt(N)*\\bar{n}*lambda_1*<N|*rho*|N - 1>/lambda_0 - 0.5*sqrt(N)*\\bar{n}*lambda_1*<N - 1|*rho*|N>/lambda_0 - I*sqrt(N)*beta*<N|*rho*RaisingOp(a)*|N - 1> + I*sqrt(N)*beta*<N - 1|*a*rho*|N> + I*sqrt(N)*epsilon*<N|*rho*|N - 1> - I*sqrt(N)*epsilon*<N - 1|*rho*|N> - 0.5*sqrt(N)*<N|*rho*RaisingOp(a)*|N - 1> - 0.5*sqrt(N)*<N - 1|*a*rho*|N> + N*\\bar{n}*<N - 1|*rho*|N - 1> + N*\\bar{n}*<N + 1|*rho*|N + 1> + N*<N + 1|*rho*|N + 1> - 0.5*\\bar{n}*sqrt(N + 1)*<N|*rho*a*|N + 1> - 0.5*\\bar{n}*sqrt(N + 1)*<N + 1|*RaisingOp(a)*rho*|N> + \\bar{n}*<N + 1|*rho*|N + 1> - 0.5*\\bar{n}*lambda_1*sqrt(N + 1)*<N|*rho*|N + 1>/lambda_0 - 0.5*\\bar{n}*lambda_1*sqrt(N + 1)*<N + 1|*rho*|N>/lambda_0 + I*beta*lambda_1*sqrt(N + 1)*<N|*rho*|N + 1>/lambda_0 - I*beta*lambda_1*sqrt(N + 1)*<N + 1|*rho*|N>/lambda_0 + I*epsilon*sqrt(N + 1)*<N|*rho*|N + 1> - I*epsilon*sqrt(N + 1)*<N + 1|*rho*|N> + <N + 1|*rho*|N + 1> - 0.5*lambda_1*sqrt(N + 1)*<N|*rho*|N + 1>/lambda_0 - 0.5*lambda_1*sqrt(N + 1)*<N + 1|*rho*|N>/lambda_0"
      ]
     },
     "metadata": {},
     "output_type": "display_data"
    }
   ],
   "source": [
    "# expanded_dissipator.subs({aN: aN_val})\n",
    "# expanded_dissipator.subs({adN: adN_val})\n",
    "# expanded_dissipator.subs({Nad: Nad_val})\n",
    "# expanded_dissipator.subs({Na: Na_val})\n",
    "dissipator = expanded_dissipator.subs({\n",
    "        aN: aN_val, \n",
    "        adN: adN_val, \n",
    "        Nad: Nad_val, \n",
    "        Na: Na_val\n",
    "    }).expand().subs({\n",
    "        aN: aN_val, \n",
    "        adN: adN_val, \n",
    "        Nad: Nad_val, \n",
    "        Na: Na_val\n",
    "    }).expand(); display(dissipator)"
   ]
  },
  {
   "cell_type": "code",
   "execution_count": 21,
   "metadata": {},
   "outputs": [
    {
     "data": {
      "text/latex": [
       "$\\displaystyle \\frac{1.0 \\left(- N e^{\\lambda_{0}} + N + 1\\right) \\left(- \\bar{n} e^{\\lambda_{0}} + \\bar{n} + 1\\right) e^{\\frac{- N \\lambda_{0}^{2} - \\lambda_{0}^{2} + \\lambda_{1}^{2}}{\\lambda_{0}}}}{Z}$"
      ],
      "text/plain": [
       "1.0*(-N*exp(lambda_0) + N + 1)*(-\\bar{n}*exp(lambda_0) + \\bar{n} + 1)*exp((-N*lambda_0**2 - lambda_0**2 + lambda_1**2)/lambda_0)/Z"
      ]
     },
     "metadata": {},
     "output_type": "display_data"
    },
    {
     "data": {
      "text/latex": [
       "$\\displaystyle \\frac{1.0 \\left(N \\left(1.0 e^{\\lambda_{0}} - 1.0\\right) - 1.0\\right) \\left(1.0 \\bar{n} e^{\\lambda_{0}} - 1.0 \\bar{n} - 1.0\\right) e^{- \\lambda_{0}} e^{- N \\lambda_{0}} e^{\\frac{\\lambda_{1}^{2}}{\\lambda_{0}}}}{Z}$"
      ],
      "text/plain": [
       "1.0*(N*(1.0*exp(lambda_0) - 1.0) - 1.0)*(1.0*\\bar{n}*exp(lambda_0) - 1.0*\\bar{n} - 1.0)*exp(-lambda_0)*exp(-N*lambda_0)*exp(lambda_1**2/lambda_0)/Z"
      ]
     },
     "execution_count": 21,
     "metadata": {},
     "output_type": "execute_result"
    }
   ],
   "source": [
    "Lrho = qapply(dissipator.subs(rho, rho_val).expand()).factor().simplify(); display(Lrho)\n",
    "Lrho.expand().factor().collect(N)"
   ]
  },
  {
   "cell_type": "markdown",
   "metadata": {},
   "source": [
    "# Compute $\\dot S$\n"
   ]
  },
  {
   "cell_type": "code",
   "execution_count": 22,
   "metadata": {},
   "outputs": [
    {
     "data": {
      "text/latex": [
       "$\\displaystyle \\sum_{N=0}^{\\infty} \\left(- A + N \\lambda_{0}\\right) \\left(B N + 1\\right) e^{- N \\lambda_{0}}$"
      ],
      "text/plain": [
       "Sum((-A + N*lambda_0)*(B*N + 1)*exp(-N*lambda_0), (N, 0, oo))"
      ]
     },
     "metadata": {},
     "output_type": "display_data"
    },
    {
     "data": {
      "text/latex": [
       "$\\displaystyle \\sum_{N=0}^{\\infty} - A e^{- N \\lambda_{0}} + \\sum_{N=0}^{\\infty} N \\lambda_{0} e^{- N \\lambda_{0}} + \\sum_{N=0}^{\\infty} - A B N e^{- N \\lambda_{0}} + \\sum_{N=0}^{\\infty} B N^{2} \\lambda_{0} e^{- N \\lambda_{0}}$"
      ],
      "text/plain": [
       "Sum(-A*exp(-N*lambda_0), (N, 0, oo)) + Sum(N*lambda_0*exp(-N*lambda_0), (N, 0, oo)) + Sum(-A*B*N*exp(-N*lambda_0), (N, 0, oo)) + Sum(B*N**2*lambda_0*exp(-N*lambda_0), (N, 0, oo))"
      ]
     },
     "execution_count": 22,
     "metadata": {},
     "output_type": "execute_result"
    }
   ],
   "source": [
    "A = smp.symbols('A', real=True, positive=True); A\n",
    "B = smp.symbols('B', real=True, positive=True); B\n",
    "\n",
    "summand = -(A - lambda_0 * N) * (1 + N * B) * smp.exp(-N * lambda_0); summand\n",
    "\n",
    "\n",
    "s = smp.Sum(summand, (N, 0, smp.oo)); display(s)\n",
    "s.expand().doit()"
   ]
  },
  {
   "cell_type": "code",
   "execution_count": 23,
   "metadata": {},
   "outputs": [
    {
     "data": {
      "text/latex": [
       "$\\displaystyle \\frac{1}{1 - e^{- x}}$"
      ],
      "text/plain": [
       "1/(1 - exp(-x))"
      ]
     },
     "metadata": {},
     "output_type": "display_data"
    },
    {
     "data": {
      "text/latex": [
       "$\\displaystyle - \\frac{e^{- x}}{\\left(1 - e^{- x}\\right)^{2}}$"
      ],
      "text/plain": [
       "-exp(-x)/(1 - exp(-x))**2"
      ]
     },
     "metadata": {},
     "output_type": "display_data"
    },
    {
     "data": {
      "text/latex": [
       "$\\displaystyle \\frac{e^{- x}}{\\left(1 - e^{- x}\\right)^{2}} + \\frac{2 e^{- 2 x}}{\\left(1 - e^{- x}\\right)^{3}}$"
      ],
      "text/plain": [
       "exp(-x)/(1 - exp(-x))**2 + 2*exp(-2*x)/(1 - exp(-x))**3"
      ]
     },
     "metadata": {},
     "output_type": "display_data"
    }
   ],
   "source": [
    "x = smp.symbols('x', real=True, positive=True); x\n",
    "\n",
    "f = 1 / (1 - smp.exp(-x)); display(f)\n",
    "fp = f.diff(x); display(fp)\n",
    "fpp = fp.diff(x); display(fpp)"
   ]
  },
  {
   "cell_type": "code",
   "execution_count": 24,
   "metadata": {},
   "outputs": [
    {
     "data": {
      "text/latex": [
       "$\\displaystyle \\frac{A}{1 - e^{- \\lambda_{0}}} - B \\lambda_{0} \\left(\\frac{e^{- \\lambda_{0}}}{\\left(1 - e^{- \\lambda_{0}}\\right)^{2}} + \\frac{2 e^{- 2 \\lambda_{0}}}{\\left(1 - e^{- \\lambda_{0}}\\right)^{3}}\\right) + \\frac{\\left(A B - \\lambda_{0}\\right) e^{- \\lambda_{0}}}{\\left(1 - e^{- \\lambda_{0}}\\right)^{2}}$"
      ],
      "text/plain": [
       "A/(1 - exp(-lambda_0)) - B*lambda_0*(exp(-lambda_0)/(1 - exp(-lambda_0))**2 + 2*exp(-2*lambda_0)/(1 - exp(-lambda_0))**3) + (A*B - lambda_0)*exp(-lambda_0)/(1 - exp(-lambda_0))**2"
      ]
     },
     "execution_count": 24,
     "metadata": {},
     "output_type": "execute_result"
    }
   ],
   "source": [
    "S_dot = A * f - (A*B - lambda_0) * fp - lambda_0 * B * fpp; S_dot\n",
    "S_dot = S_dot.subs({x:lambda_0}); S_dot"
   ]
  },
  {
   "cell_type": "code",
   "execution_count": 25,
   "metadata": {},
   "outputs": [
    {
     "data": {
      "text/latex": [
       "$\\displaystyle A$"
      ],
      "text/plain": [
       "A"
      ]
     },
     "metadata": {},
     "output_type": "display_data"
    },
    {
     "data": {
      "text/latex": [
       "$\\displaystyle - \\log{\\left(Z \\right)} + 1 + \\frac{\\lambda_{1}^{2}}{\\lambda_{0}}$"
      ],
      "text/plain": [
       "-log(Z) + 1 + lambda_1**2/lambda_0"
      ]
     },
     "metadata": {},
     "output_type": "display_data"
    }
   ],
   "source": [
    "display(A)\n",
    "A_val = 1 + lambda_1**2 / lambda_0 - smp.ln(Z); display(A_val)"
   ]
  },
  {
   "cell_type": "code",
   "execution_count": 26,
   "metadata": {},
   "outputs": [
    {
     "data": {
      "text/latex": [
       "$\\displaystyle B$"
      ],
      "text/plain": [
       "B"
      ]
     },
     "metadata": {},
     "output_type": "display_data"
    },
    {
     "data": {
      "text/latex": [
       "$\\displaystyle 1 - e^{- \\lambda_{0}}$"
      ],
      "text/plain": [
       "1 - exp(-lambda_0)"
      ]
     },
     "metadata": {},
     "output_type": "display_data"
    }
   ],
   "source": [
    "display(B)\n",
    "B_val = 1 - smp.exp(-lambda_0); display(B_val)"
   ]
  },
  {
   "cell_type": "code",
   "execution_count": 27,
   "metadata": {},
   "outputs": [
    {
     "data": {
      "text/latex": [
       "$\\displaystyle C$"
      ],
      "text/plain": [
       "C"
      ]
     },
     "metadata": {},
     "output_type": "display_data"
    },
    {
     "data": {
      "text/latex": [
       "$\\displaystyle - \\frac{\\left(\\bar{n} \\left(1 - e^{\\lambda_{0}}\\right) + 1\\right) e^{- \\lambda_{0} + \\frac{\\lambda_{1}^{2}}{\\lambda_{0}}}}{Z}$"
      ],
      "text/plain": [
       "-(\\bar{n}*(1 - exp(lambda_0)) + 1)*exp(-lambda_0 + lambda_1**2/lambda_0)/Z"
      ]
     },
     "execution_count": 27,
     "metadata": {},
     "output_type": "execute_result"
    }
   ],
   "source": [
    "# prefactor\n",
    "C = smp.Symbol('C', real=True, positive=True); display(C)\n",
    "C_val = -smp.exp(-lambda_0 + lambda_1**2 / lambda_0) / Z * (1 + n_bar * (1 - smp.exp(lambda_0))); C_val"
   ]
  },
  {
   "cell_type": "code",
   "execution_count": 28,
   "metadata": {},
   "outputs": [
    {
     "data": {
      "text/latex": [
       "$\\displaystyle \\frac{A}{1 - e^{- \\lambda_{0}}} - B \\lambda_{0} \\left(\\frac{e^{- \\lambda_{0}}}{\\left(1 - e^{- \\lambda_{0}}\\right)^{2}} + \\frac{2 e^{- 2 \\lambda_{0}}}{\\left(1 - e^{- \\lambda_{0}}\\right)^{3}}\\right) + \\frac{\\left(A B - \\lambda_{0}\\right) e^{- \\lambda_{0}}}{\\left(1 - e^{- \\lambda_{0}}\\right)^{2}}$"
      ],
      "text/plain": [
       "A/(1 - exp(-lambda_0)) - B*lambda_0*(exp(-lambda_0)/(1 - exp(-lambda_0))**2 + 2*exp(-2*lambda_0)/(1 - exp(-lambda_0))**3) + (A*B - lambda_0)*exp(-lambda_0)/(1 - exp(-lambda_0))**2"
      ]
     },
     "metadata": {},
     "output_type": "display_data"
    },
    {
     "data": {
      "text/latex": [
       "$\\displaystyle \\frac{- \\lambda_{0}^{2} \\left(e^{\\lambda_{0}} + 1\\right) - \\lambda_{0}^{2} e^{\\lambda_{0}} - \\left(1 - e^{\\lambda_{0}}\\right) \\left(\\lambda_{0} \\cdot \\left(1 - \\log{\\left(Z \\right)}\\right) + \\lambda_{1}^{2}\\right) e^{\\lambda_{0}} - \\left(1 - e^{\\lambda_{0}}\\right) \\left(\\lambda_{0} \\cdot \\left(1 - \\log{\\left(Z \\right)}\\right) + \\lambda_{1}^{2}\\right)}{\\lambda_{0} \\left(1 - e^{\\lambda_{0}}\\right)^{2}}$"
      ],
      "text/plain": [
       "(-lambda_0**2*(exp(lambda_0) + 1) - lambda_0**2*exp(lambda_0) - (1 - exp(lambda_0))*(lambda_0*(1 - log(Z)) + lambda_1**2)*exp(lambda_0) - (1 - exp(lambda_0))*(lambda_0*(1 - log(Z)) + lambda_1**2))/(lambda_0*(1 - exp(lambda_0))**2)"
      ]
     },
     "execution_count": 28,
     "metadata": {},
     "output_type": "execute_result"
    }
   ],
   "source": [
    "display(S_dot)\n",
    "S_dot = S_dot.subs({A:A_val, B:B_val, C:C_val}).simplify(); S_dot"
   ]
  },
  {
   "cell_type": "code",
   "execution_count": 29,
   "metadata": {},
   "outputs": [
    {
     "data": {
      "text/latex": [
       "$\\displaystyle - \\frac{2 \\lambda_{0}^{2} e^{\\lambda_{0}} + \\lambda_{0}^{2} + \\lambda_{0} e^{2 \\lambda_{0}} \\log{\\left(Z \\right)} - \\lambda_{0} e^{2 \\lambda_{0}} - \\lambda_{0} \\log{\\left(Z \\right)} + \\lambda_{0} - \\lambda_{1}^{2} e^{2 \\lambda_{0}} + \\lambda_{1}^{2}}{\\lambda_{0} \\left(e^{\\lambda_{0}} - 1\\right)^{2}}$"
      ],
      "text/plain": [
       "-(2*lambda_0**2*exp(lambda_0) + lambda_0**2 + lambda_0*exp(2*lambda_0)*log(Z) - lambda_0*exp(2*lambda_0) - lambda_0*log(Z) + lambda_0 - lambda_1**2*exp(2*lambda_0) + lambda_1**2)/(lambda_0*(exp(lambda_0) - 1)**2)"
      ]
     },
     "execution_count": 29,
     "metadata": {},
     "output_type": "execute_result"
    }
   ],
   "source": [
    "expr = S_dot.factor(); expr"
   ]
  },
  {
   "cell_type": "code",
   "execution_count": 30,
   "metadata": {},
   "outputs": [
    {
     "data": {
      "text/latex": [
       "$\\displaystyle - \\lambda_{0} \\left(e^{\\lambda_{0}} - 1\\right)^{2}$"
      ],
      "text/plain": [
       "-lambda_0*(exp(lambda_0) - 1)**2"
      ]
     },
     "metadata": {},
     "output_type": "display_data"
    },
    {
     "data": {
      "text/latex": [
       "$\\displaystyle 2 \\lambda_{0}^{2} e^{\\lambda_{0}} + \\lambda_{0}^{2} + \\lambda_{0} e^{2 \\lambda_{0}} \\log{\\left(Z \\right)} - \\lambda_{0} e^{2 \\lambda_{0}} - \\lambda_{0} \\log{\\left(Z \\right)} + \\lambda_{0} - \\lambda_{1}^{2} e^{2 \\lambda_{0}} + \\lambda_{1}^{2}$"
      ],
      "text/plain": [
       "2*lambda_0**2*exp(lambda_0) + lambda_0**2 + lambda_0*exp(2*lambda_0)*log(Z) - lambda_0*exp(2*lambda_0) - lambda_0*log(Z) + lambda_0 - lambda_1**2*exp(2*lambda_0) + lambda_1**2"
      ]
     },
     "execution_count": 30,
     "metadata": {},
     "output_type": "execute_result"
    }
   ],
   "source": [
    "den = - lambda_0 * (smp.exp(lambda_0) -1)**2; display(den)\n",
    "num = expr * den; num"
   ]
  },
  {
   "cell_type": "code",
   "execution_count": 31,
   "metadata": {},
   "outputs": [
    {
     "data": {
      "text/latex": [
       "$\\displaystyle \\lambda_{0}^{2} \\cdot \\left(2 e^{\\lambda_{0}} + 1\\right) + \\lambda_{0} \\left(e^{2 \\lambda_{0}} \\log{\\left(Z \\right)} - e^{2 \\lambda_{0}} - \\log{\\left(Z \\right)} + 1\\right) - \\lambda_{1}^{2} e^{2 \\lambda_{0}} + \\lambda_{1}^{2}$"
      ],
      "text/plain": [
       "lambda_0**2*(2*exp(lambda_0) + 1) + lambda_0*(exp(2*lambda_0)*log(Z) - exp(2*lambda_0) - log(Z) + 1) - lambda_1**2*exp(2*lambda_0) + lambda_1**2"
      ]
     },
     "execution_count": 31,
     "metadata": {},
     "output_type": "execute_result"
    }
   ],
   "source": [
    "clean_numerator = num.collect(lambda_0); clean_numerator"
   ]
  },
  {
   "cell_type": "code",
   "execution_count": 32,
   "metadata": {},
   "outputs": [
    {
     "data": {
      "text/latex": [
       "$\\displaystyle \\lambda_{0}^{2} \\cdot \\left(2 e^{\\lambda_{0}} + 1\\right) + \\lambda_{0} \\left(e^{2 \\lambda_{0}} \\log{\\left(\\frac{e^{\\frac{\\lambda_{1}^{2}}{\\lambda_{0}}}}{1 - e^{- \\lambda_{0}}} \\right)} - e^{2 \\lambda_{0}} - \\log{\\left(\\frac{e^{\\frac{\\lambda_{1}^{2}}{\\lambda_{0}}}}{1 - e^{- \\lambda_{0}}} \\right)} + 1\\right) - \\lambda_{1}^{2} e^{2 \\lambda_{0}} + \\lambda_{1}^{2}$"
      ],
      "text/plain": [
       "lambda_0**2*(2*exp(lambda_0) + 1) + lambda_0*(exp(2*lambda_0)*log(exp(lambda_1**2/lambda_0)/(1 - exp(-lambda_0))) - exp(2*lambda_0) - log(exp(lambda_1**2/lambda_0)/(1 - exp(-lambda_0))) + 1) - lambda_1**2*exp(2*lambda_0) + lambda_1**2"
      ]
     },
     "metadata": {},
     "output_type": "display_data"
    },
    {
     "data": {
      "text/latex": [
       "$\\displaystyle \\lambda_{0} \\left(\\lambda_{0} e^{2 \\lambda_{0}} + 2 \\lambda_{0} e^{\\lambda_{0}} + e^{2 \\lambda_{0}} \\log{\\left(\\frac{1}{e^{\\lambda_{0}} - 1} \\right)} - e^{2 \\lambda_{0}} - \\log{\\left(\\frac{1}{e^{\\lambda_{0}} - 1} \\right)} + 1\\right)$"
      ],
      "text/plain": [
       "lambda_0*(lambda_0*exp(2*lambda_0) + 2*lambda_0*exp(lambda_0) + exp(2*lambda_0)*log(1/(exp(lambda_0) - 1)) - exp(2*lambda_0) - log(1/(exp(lambda_0) - 1)) + 1)"
      ]
     },
     "execution_count": 32,
     "metadata": {},
     "output_type": "execute_result"
    }
   ],
   "source": [
    "Z_val = smp.exp(lambda_1**2 / lambda_0) / (1 - smp.exp(-lambda_0)); Z_val\n",
    "\n",
    "clean_numerator = clean_numerator.subs({Z:Z_val}); display(clean_numerator)\n",
    "final_num = clean_numerator.simplify(); final_num"
   ]
  },
  {
   "cell_type": "code",
   "execution_count": 50,
   "metadata": {},
   "outputs": [
    {
     "data": {
      "text/latex": [
       "$\\displaystyle \\frac{\\left(- \\bar{n} \\left(1 - e^{\\lambda_{0}}\\right) - 1\\right) \\left(\\lambda_{0} e^{2 \\lambda_{0}} + 2 \\lambda_{0} e^{\\lambda_{0}} + e^{2 \\lambda_{0}} \\log{\\left(\\frac{1}{e^{\\lambda_{0}} - 1} \\right)} - e^{2 \\lambda_{0}} - \\log{\\left(\\frac{1}{e^{\\lambda_{0}} - 1} \\right)} + 1\\right) e^{- 2 \\lambda_{0}}}{1 - e^{\\lambda_{0}}}$"
      ],
      "text/plain": [
       "(-\\bar{n}*(1 - exp(lambda_0)) - 1)*(lambda_0*exp(2*lambda_0) + 2*lambda_0*exp(lambda_0) + exp(2*lambda_0)*log(1/(exp(lambda_0) - 1)) - exp(2*lambda_0) - log(1/(exp(lambda_0) - 1)) + 1)*exp(-2*lambda_0)/(1 - exp(lambda_0))"
      ]
     },
     "execution_count": 50,
     "metadata": {},
     "output_type": "execute_result"
    }
   ],
   "source": [
    "final_expr = C_val * final_num / den; final_expr\n",
    "final_expr = final_expr.subs({Z:Z_val}).simplify(); final_expr"
   ]
  },
  {
   "cell_type": "code",
   "execution_count": 55,
   "metadata": {},
   "outputs": [
    {
     "data": {
      "text/latex": [
       "$\\displaystyle \\frac{\\left(e^{\\beta} - e^{\\lambda_{0}}\\right) \\left(\\lambda_{0} e^{2 \\lambda_{0}} + 2 \\lambda_{0} e^{\\lambda_{0}} + e^{2 \\lambda_{0}} \\log{\\left(\\frac{1}{e^{\\lambda_{0}} - 1} \\right)} - e^{2 \\lambda_{0}} - \\log{\\left(\\frac{1}{e^{\\lambda_{0}} - 1} \\right)} + 1\\right) e^{- 2 \\lambda_{0}}}{\\left(1 - e^{\\beta}\\right) \\left(1 - e^{\\lambda_{0}}\\right)}$"
      ],
      "text/plain": [
       "(exp(beta) - exp(lambda_0))*(lambda_0*exp(2*lambda_0) + 2*lambda_0*exp(lambda_0) + exp(2*lambda_0)*log(1/(exp(lambda_0) - 1)) - exp(2*lambda_0) - log(1/(exp(lambda_0) - 1)) + 1)*exp(-2*lambda_0)/((1 - exp(beta))*(1 - exp(lambda_0)))"
      ]
     },
     "execution_count": 55,
     "metadata": {},
     "output_type": "execute_result"
    }
   ],
   "source": [
    "n_bar_val = 1 / (smp.exp(beta * omega) - 1); n_bar_val\n",
    "final_expr_subs = final_expr.subs({n_bar:n_bar_val}).simplify(); final_expr_subs"
   ]
  },
  {
   "cell_type": "code",
   "execution_count": 56,
   "metadata": {},
   "outputs": [
    {
     "data": {
      "text/latex": [
       "$\\displaystyle \\frac{\\left(e^{\\beta} - e^{\\lambda_{0}}\\right) \\left(\\lambda_{0} e^{2 \\lambda_{0}} + 2 \\lambda_{0} e^{\\lambda_{0}} + e^{2 \\lambda_{0}} \\log{\\left(\\frac{1}{e^{\\lambda_{0}} - 1} \\right)} - e^{2 \\lambda_{0}} - \\log{\\left(\\frac{1}{e^{\\lambda_{0}} - 1} \\right)} + 1\\right) e^{- 2 \\lambda_{0}}}{\\left(1 - e^{\\beta}\\right) \\left(1 - e^{\\lambda_{0}}\\right)}$"
      ],
      "text/plain": [
       "(exp(beta) - exp(lambda_0))*(lambda_0*exp(2*lambda_0) + 2*lambda_0*exp(lambda_0) + exp(2*lambda_0)*log(1/(exp(lambda_0) - 1)) - exp(2*lambda_0) - log(1/(exp(lambda_0) - 1)) + 1)*exp(-2*lambda_0)/((1 - exp(beta))*(1 - exp(lambda_0)))"
      ]
     },
     "execution_count": 56,
     "metadata": {},
     "output_type": "execute_result"
    }
   ],
   "source": [
    "final = final_expr_subs.simplify(); final.simplify()"
   ]
  },
  {
   "cell_type": "markdown",
   "metadata": {},
   "source": [
    "check that the Hamiltonian does not contributes\n"
   ]
  },
  {
   "cell_type": "code",
   "execution_count": 45,
   "metadata": {},
   "outputs": [
    {
     "data": {
      "text/latex": [
       "$\\displaystyle \\frac{e^{\\frac{\\lambda_{1}^{2}}{\\lambda_{0}}} \\left(e^{- \\lambda_{0} \\left(N + 4\\right)} {\\left|N + 4\\right\\rangle } {\\left\\langle N + 4\\right|} + e^{- \\lambda_{0} \\left(N + 3\\right)} {\\left|N + 3\\right\\rangle } {\\left\\langle N + 3\\right|} + e^{- \\lambda_{0} \\left(N + 2\\right)} {\\left|N + 2\\right\\rangle } {\\left\\langle N + 2\\right|} + e^{- \\lambda_{0} \\left(N + 1\\right)} {\\left|N + 1\\right\\rangle } {\\left\\langle N + 1\\right|} + e^{- \\lambda_{0} \\left(N - 1\\right)} {\\left|N - 1\\right\\rangle } {\\left\\langle N - 1\\right|} + e^{- \\lambda_{0} \\left(N - 2\\right)} {\\left|N - 2\\right\\rangle } {\\left\\langle N - 2\\right|} + e^{- \\lambda_{0} \\left(N - 3\\right)} {\\left|N - 3\\right\\rangle } {\\left\\langle N - 3\\right|} + e^{- \\lambda_{0} \\left(N - 4\\right)} {\\left|N - 4\\right\\rangle } {\\left\\langle N - 4\\right|} + e^{- N \\lambda_{0}} {\\left|N\\right\\rangle } {\\left\\langle N\\right|}\\right)}{Z}$"
      ],
      "text/plain": [
       "exp(lambda_1**2/lambda_0)*(exp(-lambda_0*(N + 4))*|N + 4>*<N + 4| + exp(-lambda_0*(N + 3))*|N + 3>*<N + 3| + exp(-lambda_0*(N + 2))*|N + 2>*<N + 2| + exp(-lambda_0*(N + 1))*|N + 1>*<N + 1| + exp(-lambda_0*(N - 1))*|N - 1>*<N - 1| + exp(-lambda_0*(N - 2))*|N - 2>*<N - 2| + exp(-lambda_0*(N - 3))*|N - 3>*<N - 3| + exp(-lambda_0*(N - 4))*|N - 4>*<N - 4| + exp(-N*lambda_0)*|N>*<N|)/Z"
      ]
     },
     "execution_count": 45,
     "metadata": {},
     "output_type": "execute_result"
    }
   ],
   "source": [
    "rho_val"
   ]
  },
  {
   "cell_type": "code",
   "execution_count": 44,
   "metadata": {},
   "outputs": [
    {
     "data": {
      "text/latex": [
       "$\\displaystyle \\left[- \\beta a^{\\dagger} a + \\epsilon \\left(a + a^{\\dagger}\\right),\\rho\\right]$"
      ],
      "text/plain": [
       "[-beta*RaisingOp(a)*a + epsilon*(a + RaisingOp(a)),rho]"
      ]
     },
     "metadata": {},
     "output_type": "display_data"
    },
    {
     "data": {
      "text/latex": [
       "$\\displaystyle - \\beta \\left(- \\rho a^{\\dagger} a + a^{\\dagger} a \\rho\\right) + \\epsilon \\left(\\left(a + a^{\\dagger}\\right) \\rho - \\rho \\left(a + a^{\\dagger}\\right)\\right)$"
      ],
      "text/plain": [
       "-beta*(-rho*RaisingOp(a)*a + RaisingOp(a)*a*rho) + epsilon*((a + RaisingOp(a))*rho - rho*(a + RaisingOp(a)))"
      ]
     },
     "metadata": {},
     "output_type": "display_data"
    },
    {
     "data": {
      "text/latex": [
       "$\\displaystyle - \\sqrt{N} \\epsilon {\\left\\langle N\\right|} \\rho {\\left|N - 1\\right\\rangle } + N \\beta {\\left\\langle N\\right|} \\rho {\\left|N\\right\\rangle } - \\beta {\\left\\langle N\\right|} a^{\\dagger} a \\rho {\\left|N\\right\\rangle } - \\epsilon \\sqrt{N + 1} {\\left\\langle N\\right|} \\rho {\\left|N + 1\\right\\rangle } + \\epsilon {\\left\\langle N\\right|} a \\rho {\\left|N\\right\\rangle } + \\epsilon {\\left\\langle N\\right|} a^{\\dagger} \\rho {\\left|N\\right\\rangle }$"
      ],
      "text/plain": [
       "-sqrt(N)*epsilon*<N|*rho*|N - 1> + N*beta*<N|*rho*|N> - beta*<N|*RaisingOp(a)*a*rho*|N> - epsilon*sqrt(N + 1)*<N|*rho*|N + 1> + epsilon*<N|*a*rho*|N> + epsilon*<N|*RaisingOp(a)*rho*|N>"
      ]
     },
     "metadata": {},
     "output_type": "display_data"
    },
    {
     "data": {
      "text/latex": [
       "$\\displaystyle 0$"
      ],
      "text/plain": [
       "0"
      ]
     },
     "metadata": {},
     "output_type": "display_data"
    }
   ],
   "source": [
    "Comm = Commutator(H, rho); display(Comm)\n",
    "Comm = Comm.expand(commutator=True).doit(); display(Comm)\n",
    "proj_comm = qapply(bN * Comm * kN); display(proj_comm)\n",
    "proj_comm = proj_comm.subs({rho: rho_val}); display(qapply(proj_comm))"
   ]
  },
  {
   "cell_type": "markdown",
   "metadata": {},
   "source": [
    "# plot $\\dot S$ as a function of the Lagrange multipliers\n"
   ]
  },
  {
   "cell_type": "code",
   "execution_count": 57,
   "metadata": {},
   "outputs": [],
   "source": [
    "import numpy as np\n",
    "import matplotlib.pyplot as plt\n",
    "import scienceplots\n",
    "\n",
    "plt.style.use(['science', 'notebook', 'nature'])"
   ]
  },
  {
   "cell_type": "markdown",
   "metadata": {},
   "source": [
    "2D plot\n"
   ]
  },
  {
   "cell_type": "code",
   "execution_count": 63,
   "metadata": {},
   "outputs": [],
   "source": [
    "Sdot_fun = smp.lambdify([lambda_0, lambda_1, beta], final)"
   ]
  },
  {
   "cell_type": "code",
   "execution_count": 73,
   "metadata": {},
   "outputs": [],
   "source": [
    "beta_true = 3\n",
    "\n",
    "xmin = 0.3\n",
    "xmax = 7\n",
    "\n",
    "X = np.linspace(xmin, xmax, 50)\n",
    "Y = np.linspace(xmin, xmax, 50)\n",
    "X, Y = np.meshgrid(X, Y)\n",
    "\n",
    "fxy = Sdot_fun(X, Y, beta_true)"
   ]
  },
  {
   "cell_type": "code",
   "execution_count": 74,
   "metadata": {},
   "outputs": [
    {
     "data": {
      "text/plain": [
       "(50, 50)"
      ]
     },
     "execution_count": 74,
     "metadata": {},
     "output_type": "execute_result"
    }
   ],
   "source": [
    "fxy.shape"
   ]
  },
  {
   "cell_type": "code",
   "execution_count": 75,
   "metadata": {},
   "outputs": [
    {
     "data": {
      "text/plain": [
       "<matplotlib.colorbar.Colorbar at 0x26efb4bb750>"
      ]
     },
     "execution_count": 75,
     "metadata": {},
     "output_type": "execute_result"
    },
    {
     "data": {
      "image/png": "[encoded data removed]",
      "text/plain": [
       "<Figure size 330x250 with 2 Axes>"
      ]
     },
     "metadata": {},
     "output_type": "display_data"
    }
   ],
   "source": [
    "plt.contourf(X, Y, fxy)  \n",
    "plt.xlabel(r'$\\lambda_0$')\n",
    "plt.ylabel(r'$\\lambda_1$')\n",
    "plt.colorbar()"
   ]
  },
  {
   "cell_type": "markdown",
   "metadata": {},
   "source": [
    "1D plot\n"
   ]
  },
  {
   "cell_type": "code",
   "execution_count": 77,
   "metadata": {},
   "outputs": [],
   "source": [
    "Sdot_fun = smp.lambdify([lambda_0, beta], final)"
   ]
  },
  {
   "cell_type": "code",
   "execution_count": 79,
   "metadata": {},
   "outputs": [
    {
     "data": {
      "text/plain": [
       "array([-0.        ,  0.06668178])"
      ]
     },
     "execution_count": 79,
     "metadata": {},
     "output_type": "execute_result"
    }
   ],
   "source": [
    "Sdot_fun(np.array([2, 3]), 2)"
   ]
  },
  {
   "cell_type": "code",
   "execution_count": 81,
   "metadata": {},
   "outputs": [
    {
     "data": {
      "text/plain": [
       "array([4.41526211, 2.57158862, 0.48900583, 0.66441209])"
      ]
     },
     "execution_count": 81,
     "metadata": {},
     "output_type": "execute_result"
    }
   ],
   "source": [
    "beta_true = 0.8\n",
    "\n",
    "xmin = 0.1\n",
    "xmax = 0.6\n",
    "\n",
    "X = np.array([0.1, 0.2, 3, 4])\n",
    "\n",
    "Sdot_fun(X, beta_true)"
   ]
  },
  {
   "cell_type": "code",
   "execution_count": 169,
   "metadata": {},
   "outputs": [
    {
     "data": {
      "image/png": "[encoded data removed]",
      "text/plain": [
       "<Figure size 330x250 with 1 Axes>"
      ]
     },
     "metadata": {},
     "output_type": "display_data"
    }
   ],
   "source": [
    "beta_true = 3\n",
    "\n",
    "xmin = 0.5\n",
    "xmax = 5\n",
    "\n",
    "X = np.linspace(xmin, xmax, 2000)\n",
    "Y = np.abs(Sdot_fun(X, beta_true))\n",
    "\n",
    "plt.plot(X, Y, lw=1.7)  \n",
    "plt.xlabel(r'$\\lambda_0$')\n",
    "plt.ylabel(r'$|\\dot{S}(\\lambda_0)|$')\n",
    "plt.title(rf'$\\beta = {beta_true}$')\n",
    "plt.vlines(beta_true, -0.1, 0.5, colors='r', linestyles='dashed')\n",
    "plt.hlines(0, xmin, xmax, linestyles='dashed', color='gray')\n",
    "plt.savefig(f'Sdot_lambda0_beta_{beta_true}.pdf')\n",
    "# plt.xscale('log')\n",
    "# plt.yscale('log')"
   ]
  },
  {
   "cell_type": "code",
   "execution_count": 145,
   "metadata": {},
   "outputs": [
    {
     "data": {
      "text/plain": [
       "2.8996998499249624"
      ]
     },
     "execution_count": 145,
     "metadata": {},
     "output_type": "execute_result"
    }
   ],
   "source": [
    "from_val = 0\n",
    "X[np.argmin(Y[X>from_val]) + len(X[X<from_val])]\n"
   ]
  },
  {
   "cell_type": "code",
   "execution_count": 155,
   "metadata": {},
   "outputs": [
    {
     "data": {
      "text/plain": [
       "<matplotlib.collections.LineCollection at 0x26eff7fdf10>"
      ]
     },
     "execution_count": 155,
     "metadata": {},
     "output_type": "execute_result"
    },
    {
     "data": {
      "image/png": "[encoded data removed]",
      "text/plain": [
       "<Figure size 330x250 with 1 Axes>"
      ]
     },
     "metadata": {},
     "output_type": "display_data"
    }
   ],
   "source": [
    "beta_true = 2.9\n",
    "\n",
    "xmin = 0.5\n",
    "xmax = 5\n",
    "\n",
    "X = np.linspace(xmin, xmax, 2000)\n",
    "Y = Sdot_fun(X, beta_true)\n",
    "\n",
    "plt.plot(X, Y)  \n",
    "plt.xlabel(r'$\\lambda_0$')\n",
    "plt.ylabel(r'$\\dot{S}(\\lambda_0)$')\n",
    "plt.ylim([None, 0.1])\n",
    "plt.hlines(0, xmin, xmax, linestyles='dashed', color='black')"
   ]
  },
  {
   "cell_type": "code",
   "execution_count": 149,
   "metadata": {},
   "outputs": [
    {
     "data": {
      "text/plain": [
       "2.0195097548774386"
      ]
     },
     "execution_count": 149,
     "metadata": {},
     "output_type": "execute_result"
    }
   ],
   "source": [
    "X[np.argmin(Y)]"
   ]
  }
 ],
 "metadata": {
  "kernelspec": {
   "display_name": "perso",
   "language": "python",
   "name": "python3"
  },
  "language_info": {
   "codemirror_mode": {
    "name": "ipython",
    "version": 3
   },
   "file_extension": ".py",
   "mimetype": "text/x-python",
   "name": "python",
   "nbconvert_exporter": "python",
   "pygments_lexer": "ipython3",
   "version": "3.11.5"
  }
 },
 "nbformat": 4,
 "nbformat_minor": 2
}
