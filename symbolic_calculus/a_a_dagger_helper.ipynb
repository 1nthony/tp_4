{
 "cells": [
  {
   "cell_type": "code",
   "execution_count": 1,
   "metadata": {},
   "outputs": [],
   "source": [
    "import sympy as smp\n",
    "\n",
    "from sympy.physics.mechanics import *\n",
    "from sympy.physics.quantum.trace import Tr\n",
    "from sympy.physics.quantum import *\n",
    "from sympy.physics.quantum.density import *\n",
    "from sympy.physics.quantum import IdentityOperator\n",
    "\n",
    "from sympy import Symbol, Integer\n",
    "from sympy.physics.quantum import Dagger, qapply, represent, InnerProduct, Commutator\n",
    "from sympy.physics.quantum.sho1d import RaisingOp, LoweringOp, NumberOp, Hamiltonian, SHOKet, SHOBra"
   ]
  },
  {
   "cell_type": "markdown",
   "metadata": {},
   "source": [
    "# GGE\n"
   ]
  },
  {
   "cell_type": "code",
   "execution_count": 2,
   "metadata": {},
   "outputs": [
    {
     "data": {
      "text/latex": [
       "$\\displaystyle \\beta$"
      ],
      "text/plain": [
       "beta"
      ]
     },
     "execution_count": 2,
     "metadata": {},
     "output_type": "execute_result"
    }
   ],
   "source": [
    "beta = Symbol('beta', real=True, positive=True); beta"
   ]
  },
  {
   "cell_type": "code",
   "execution_count": 3,
   "metadata": {},
   "outputs": [],
   "source": [
    "ad = RaisingOp('a')\n",
    "a = LoweringOp('a')\n",
    "kn = SHOKet('n')\n",
    "bn = SHOBra('n'); bn\n",
    "n = smp.symbols('n', integer=True, positive=True)"
   ]
  },
  {
   "cell_type": "code",
   "execution_count": 4,
   "metadata": {},
   "outputs": [
    {
     "data": {
      "text/latex": [
       "$\\displaystyle \\left\\langle n \\right. {\\left|n\\right\\rangle }$"
      ],
      "text/plain": [
       "<n|n>"
      ]
     },
     "execution_count": 4,
     "metadata": {},
     "output_type": "execute_result"
    }
   ],
   "source": [
    "qapply(bn * kn)"
   ]
  },
  {
   "cell_type": "code",
   "execution_count": 5,
   "metadata": {},
   "outputs": [
    {
     "data": {
      "text/latex": [
       "$\\displaystyle e^{- \\beta a^{\\dagger} a} \\operatorname{tr}\\left(e^{- \\beta a^{\\dagger} a}\\right)^{-1}$"
      ],
      "text/plain": [
       "exp(-beta*RaisingOp(a)*a)*Tr(exp(-beta*RaisingOp(a)*a))**(-1)"
      ]
     },
     "execution_count": 5,
     "metadata": {},
     "output_type": "execute_result"
    }
   ],
   "source": [
    "gibbs = smp.exp(-beta * qapply(ad*a))\n",
    "gibbs = gibbs / Tr(gibbs); gibbs"
   ]
  },
  {
   "cell_type": "code",
   "execution_count": 6,
   "metadata": {},
   "outputs": [
    {
     "data": {
      "text/latex": [
       "$\\displaystyle {\\left\\langle n\\right|} \\operatorname{tr}\\left(e^{- \\beta a^{\\dagger} a}\\right)^{-1} {\\left|n\\right\\rangle } e^{- \\beta a^{\\dagger} a}$"
      ],
      "text/plain": [
       "<n|*Tr(exp(-beta*RaisingOp(a)*a))**(-1)*|n>*exp(-beta*RaisingOp(a)*a)"
      ]
     },
     "execution_count": 6,
     "metadata": {},
     "output_type": "execute_result"
    }
   ],
   "source": [
    "smp.simplify(qapply(bn * gibbs * kn))"
   ]
  },
  {
   "cell_type": "code",
   "execution_count": 7,
   "metadata": {},
   "outputs": [
    {
     "data": {
      "text/latex": [
       "$\\displaystyle {\\left\\langle n\\right|} e^{- \\beta a^{\\dagger} a} \\operatorname{tr}\\left(e^{- \\beta a^{\\dagger} a}\\right)^{-1} {\\left|n\\right\\rangle }$"
      ],
      "text/plain": [
       "<n|*exp(-beta*RaisingOp(a)*a)*Tr(exp(-beta*RaisingOp(a)*a))**(-1)*|n>"
      ]
     },
     "execution_count": 7,
     "metadata": {},
     "output_type": "execute_result"
    }
   ],
   "source": [
    "qapply(bn * gibbs * kn).doit()"
   ]
  },
  {
   "cell_type": "code",
   "execution_count": 8,
   "metadata": {},
   "outputs": [
    {
     "data": {
      "text/latex": [
       "$\\displaystyle \\sum_{n=0}^{\\infty} {\\left\\langle n\\right|} e^{- \\beta a^{\\dagger} a} \\operatorname{tr}\\left(e^{- \\beta a^{\\dagger} a}\\right)^{-1} {\\left|n\\right\\rangle }$"
      ],
      "text/plain": [
       "Sum(<n|*exp(-beta*RaisingOp(a)*a)*Tr(exp(-beta*RaisingOp(a)*a))**(-1)*|n>, (n, 0, oo))"
      ]
     },
     "execution_count": 8,
     "metadata": {},
     "output_type": "execute_result"
    }
   ],
   "source": [
    "exp = smp.Sum((SHOBra(n) * gibbs * SHOKet(n)), (n, 0, smp.oo)); exp"
   ]
  },
  {
   "cell_type": "code",
   "execution_count": 9,
   "metadata": {},
   "outputs": [
    {
     "data": {
      "text/latex": [
       "$\\displaystyle \\sum_{n=0}^{\\infty} \\frac{\\left(-1\\right)^{n} \\beta^{n} \\left(a^{\\dagger} a\\right)^{n}}{n!}$"
      ],
      "text/plain": [
       "Sum((-1)**n*beta**n*(RaisingOp(a)*a)**n/factorial(n), (n, 0, oo))"
      ]
     },
     "execution_count": 9,
     "metadata": {},
     "output_type": "execute_result"
    }
   ],
   "source": [
    "x = -beta * qapply(ad*a)\n",
    "exp = smp.Sum(qapply(x**n) / smp.factorial(n), (n, 0, smp.oo)); exp"
   ]
  },
  {
   "cell_type": "code",
   "execution_count": 10,
   "metadata": {},
   "outputs": [
    {
     "data": {
      "text/latex": [
       "$\\displaystyle 0$"
      ],
      "text/plain": [
       "0"
      ]
     },
     "execution_count": 10,
     "metadata": {},
     "output_type": "execute_result"
    }
   ],
   "source": [
    "zero = SHOKet(0); zero\n",
    "qapply(a * zero)"
   ]
  },
  {
   "cell_type": "code",
   "execution_count": 11,
   "metadata": {},
   "outputs": [
    {
     "data": {
      "text/latex": [
       "$\\displaystyle - \\beta^{5} n^{5} {\\left|n\\right\\rangle }$"
      ],
      "text/plain": [
       "-beta**5*n**5*|n>"
      ]
     },
     "execution_count": 11,
     "metadata": {},
     "output_type": "execute_result"
    }
   ],
   "source": [
    "x = -beta * qapply(ad*a)\n",
    "n = 5\n",
    "x_n = qapply(x**n); x_n\n",
    "\n",
    "qapply(x_n * kn)"
   ]
  },
  {
   "cell_type": "markdown",
   "metadata": {},
   "source": [
    "# Linbladian\n"
   ]
  },
  {
   "cell_type": "markdown",
   "metadata": {},
   "source": [
    "$ \\mathcal{L} \\hat \\rho = - i\\mkern1mu \\left[\\hat H, \\hat \\rho \\right] + \\gamma (\\bar n + 1) \\left( \\hat a \\hat \\rho \\hat a^\\dag - \\frac{1}{2} \\left\\{ \\hat a^\\dag \\hat a, \\hat \\rho \\right\\} \\right) + \\gamma \\bar n \\left( \\hat a^\\dag \\hat \\rho \\hat a - \\frac{1}{2} \\left\\{ \\hat a \\hat a^\\dag, \\hat \\rho \\right\\} \\right)$\n"
   ]
  },
  {
   "cell_type": "code",
   "execution_count": 12,
   "metadata": {},
   "outputs": [
    {
     "data": {
      "text/latex": [
       "$\\displaystyle N \\left(- 0.5 \\left\\{a a^{\\dagger},\\rho\\right\\} + a^{\\dagger} \\rho a\\right) + \\left(N + 1\\right) \\left(- 0.5 \\left\\{a^{\\dagger} a,\\rho\\right\\} + a \\rho a^{\\dagger}\\right) - i \\left[\\epsilon a + \\epsilon a^{\\dagger} + a^{\\dagger} a,\\rho\\right]$"
      ],
      "text/plain": [
       "N*(-0.5*{a*RaisingOp(a),rho} + RaisingOp(a)*rho*a) + (N + 1)*(-0.5*{RaisingOp(a)*a,rho} + a*rho*RaisingOp(a)) - I*[epsilon*a + epsilon*RaisingOp(a) + RaisingOp(a)*a,rho]"
      ]
     },
     "execution_count": 12,
     "metadata": {},
     "output_type": "execute_result"
    }
   ],
   "source": [
    "gamma = 1; gamma\n",
    "omega = 1; omega  \n",
    "N = smp.symbols('N', integer=True, positive=True); N \n",
    "n_bar = N; n_bar\n",
    "# n_bar = 1 / (smp.exp(beta * omega) - 1); n_bar\n",
    "rho = Operator('rho'); rho\n",
    "\n",
    "Dissipator_1 = gamma * (1 + n_bar) * (qapply(a * rho * Dagger(a) - 1/2 * AntiCommutator(qapply(Dagger(a) * a), rho))); Dissipator_1\n",
    "Dissipator_2 = gamma * (n_bar) * (qapply(Dagger(a) * rho * a - 1/2 * AntiCommutator(qapply(a * Dagger(a)), rho))); Dissipator_2\n",
    "Dissipator = Dissipator_1 + Dissipator_2; Dissipator\n",
    "\n",
    "eps = Symbol('epsilon', real=True, positive=True); eps\n",
    "H = qapply(Dagger(a) * a + eps * (a + Dagger(a))); H\n",
    "liouvillian = -smp.I * Commutator(H, rho); liouvillian\n",
    "\n",
    "lindblad = liouvillian + Dissipator; lindblad\n"
   ]
  },
  {
   "cell_type": "code",
   "execution_count": 13,
   "metadata": {},
   "outputs": [
    {
     "data": {
      "text/latex": [
       "$\\displaystyle - N \\left(0.5 \\left(a a^{\\dagger} \\rho + \\rho a a^{\\dagger}\\right) - a^{\\dagger} \\rho a\\right) - \\left(N + 1\\right) \\left(0.5 \\left(\\rho a^{\\dagger} a + a^{\\dagger} a \\rho\\right) - a \\rho a^{\\dagger}\\right) - i \\left(\\left(\\epsilon a + \\epsilon a^{\\dagger} + a^{\\dagger} a\\right) \\rho - \\rho \\left(\\epsilon a + \\epsilon a^{\\dagger} + a^{\\dagger} a\\right)\\right)$"
      ],
      "text/plain": [
       "-N*(0.5*(a*RaisingOp(a)*rho + rho*a*RaisingOp(a)) - RaisingOp(a)*rho*a) - (N + 1)*(0.5*(rho*RaisingOp(a)*a + RaisingOp(a)*a*rho) - a*rho*RaisingOp(a)) - I*((epsilon*a + epsilon*RaisingOp(a) + RaisingOp(a)*a)*rho - rho*(epsilon*a + epsilon*RaisingOp(a) + RaisingOp(a)*a))"
      ]
     },
     "execution_count": 13,
     "metadata": {},
     "output_type": "execute_result"
    }
   ],
   "source": [
    "expr = lindblad.doit().simplify(); expr"
   ]
  },
  {
   "cell_type": "code",
   "execution_count": 14,
   "metadata": {},
   "outputs": [
    {
     "data": {
      "text/latex": [
       "$\\displaystyle \\rho^{-1}$"
      ],
      "text/plain": [
       "rho**(-1)"
      ]
     },
     "execution_count": 14,
     "metadata": {},
     "output_type": "execute_result"
    }
   ],
   "source": [
    "rho.inv()"
   ]
  },
  {
   "cell_type": "code",
   "execution_count": 15,
   "metadata": {},
   "outputs": [
    {
     "data": {
      "text/latex": [
       "$\\displaystyle - 0.5 N a a^{\\dagger} + N \\rho^{-1} a \\rho a^{\\dagger} - 0.5 N \\rho^{-1} a a^{\\dagger} \\rho - 0.5 N \\rho^{-1} a^{\\dagger} a \\rho + N \\rho^{-1} a^{\\dagger} \\rho a - 0.5 N a^{\\dagger} a + i \\epsilon a - i \\epsilon \\rho^{-1} a \\rho - i \\epsilon \\rho^{-1} a^{\\dagger} \\rho + i \\epsilon a^{\\dagger} + \\rho^{-1} a \\rho a^{\\dagger} - 0.5 \\rho^{-1} a^{\\dagger} a \\rho - i \\rho^{-1} a^{\\dagger} a \\rho - 0.5 a^{\\dagger} a + i a^{\\dagger} a$"
      ],
      "text/plain": [
       "-0.5*N*a*RaisingOp(a) + N*rho**(-1)*a*rho*RaisingOp(a) - 0.5*N*rho**(-1)*a*RaisingOp(a)*rho - 0.5*N*rho**(-1)*RaisingOp(a)*a*rho + N*rho**(-1)*RaisingOp(a)*rho*a - 0.5*N*RaisingOp(a)*a + I*epsilon*a - I*epsilon*rho**(-1)*a*rho - I*epsilon*rho**(-1)*RaisingOp(a)*rho + I*epsilon*RaisingOp(a) + rho**(-1)*a*rho*RaisingOp(a) - 0.5*rho**(-1)*RaisingOp(a)*a*rho - I*rho**(-1)*RaisingOp(a)*a*rho - 0.5*RaisingOp(a)*a + I*RaisingOp(a)*a"
      ]
     },
     "execution_count": 15,
     "metadata": {},
     "output_type": "execute_result"
    }
   ],
   "source": [
    "expr_bis = rho.inv() * expr; expr_bis.expand().simplify()"
   ]
  },
  {
   "cell_type": "code",
   "execution_count": 16,
   "metadata": {},
   "outputs": [
    {
     "data": {
      "text/latex": [
       "$\\displaystyle \\sqrt{n + 1} {\\left|n + 1\\right\\rangle }$"
      ],
      "text/plain": [
       "sqrt(n + 1)*|n + 1>"
      ]
     },
     "execution_count": 16,
     "metadata": {},
     "output_type": "execute_result"
    }
   ],
   "source": [
    "\n",
    "n = Symbol('n', integer=True, positive=True); n\n",
    "qapply(ad * SHOKet(n))"
   ]
  },
  {
   "cell_type": "code",
   "execution_count": 17,
   "metadata": {},
   "outputs": [
    {
     "data": {
      "text/latex": [
       "$\\displaystyle - N n - 0.5 n - i n$"
      ],
      "text/plain": [
       "-N*n - 0.5*n - I*n"
      ]
     },
     "execution_count": 17,
     "metadata": {},
     "output_type": "execute_result"
    }
   ],
   "source": [
    "kn = SHOKet(n); kn\n",
    "bn = SHOBra(n); bn\n",
    "\n",
    "test = -smp.I * eps * (a + ad) + (N+1) * a * kn * bn * ad + N * ad * kn * bn * a - (N + 1/2 + smp.I) * ad * a; test\n",
    "test_bis = qapply(bn * test * kn); test_bis"
   ]
  },
  {
   "cell_type": "code",
   "execution_count": 18,
   "metadata": {},
   "outputs": [
    {
     "data": {
      "text/latex": [
       "$\\displaystyle N a^{\\dagger} {\\left|n\\right\\rangle } {\\left\\langle n\\right|} a - i \\epsilon \\left(a + a^{\\dagger}\\right) + \\left(N + 1\\right) a {\\left|n\\right\\rangle } {\\left\\langle n\\right|} a^{\\dagger} - \\left(N + 0.5 + i\\right) a^{\\dagger} a$"
      ],
      "text/plain": [
       "N*RaisingOp(a)*|n>*<n|*a - I*epsilon*(a + RaisingOp(a)) + (N + 1)*a*|n>*<n|*RaisingOp(a) - (N + 0.5 + I)*RaisingOp(a)*a"
      ]
     },
     "execution_count": 18,
     "metadata": {},
     "output_type": "execute_result"
    }
   ],
   "source": [
    "test"
   ]
  },
  {
   "cell_type": "code",
   "execution_count": 19,
   "metadata": {},
   "outputs": [
    {
     "data": {
      "text/latex": [
       "$\\displaystyle - i \\epsilon \\sqrt{n + 1}$"
      ],
      "text/plain": [
       "-I*epsilon*sqrt(n + 1)"
      ]
     },
     "execution_count": 19,
     "metadata": {},
     "output_type": "execute_result"
    }
   ],
   "source": [
    "kn = SHOKet(n); kn\n",
    "bn = SHOBra(n+1); bn\n",
    "\n",
    "test_bis = qapply(bn * test * kn); test_bis\n",
    "\n"
   ]
  },
  {
   "cell_type": "code",
   "execution_count": null,
   "metadata": {},
   "outputs": [],
   "source": []
  },
  {
   "cell_type": "code",
   "execution_count": null,
   "metadata": {},
   "outputs": [],
   "source": []
  },
  {
   "cell_type": "code",
   "execution_count": null,
   "metadata": {},
   "outputs": [],
   "source": []
  },
  {
   "cell_type": "code",
   "execution_count": 20,
   "metadata": {},
   "outputs": [
    {
     "data": {
      "text/latex": [
       "$\\displaystyle N a^{\\dagger} {\\left|n\\right\\rangle } {\\left\\langle n + 1\\right|} a - i \\epsilon \\left(a + a^{\\dagger}\\right) + \\left(N + 1\\right) a {\\left|n\\right\\rangle } {\\left\\langle n + 1\\right|} a^{\\dagger} - \\left(N + 0.5 + i\\right) a^{\\dagger} a$"
      ],
      "text/plain": [
       "N*RaisingOp(a)*|n>*<n + 1|*a - I*epsilon*(a + RaisingOp(a)) + (N + 1)*a*|n>*<n + 1|*RaisingOp(a) - (N + 0.5 + I)*RaisingOp(a)*a"
      ]
     },
     "execution_count": 20,
     "metadata": {},
     "output_type": "execute_result"
    }
   ],
   "source": [
    "test_2 = -smp.I * eps * (a + ad) + (N+1) * a * kn * bn * ad + N * ad * kn * bn * a - (N + 1/2 + smp.I) * ad * a; test_2"
   ]
  },
  {
   "cell_type": "code",
   "execution_count": 21,
   "metadata": {},
   "outputs": [
    {
     "data": {
      "text/latex": [
       "$\\displaystyle \\sqrt{n} \\delta_{m, n - 1}$"
      ],
      "text/plain": [
       "sqrt(n)*KroneckerDelta(m, n - 1)"
      ]
     },
     "execution_count": 21,
     "metadata": {},
     "output_type": "execute_result"
    }
   ],
   "source": [
    "kn = SHOKet(n); kn\n",
    "bn = SHOBra(n); bn\n",
    "\n",
    "m = Symbol('m', integer=True, positive=True); m\n",
    "km = SHOKet(m); km\n",
    "bm = SHOBra(m); bm\n",
    "\n",
    "k = Symbol('k', integer=True, positive=True); k\n",
    "kk = SHOKet(k); kk\n",
    "bk = SHOBra(k); bk\n",
    "\n",
    "\n",
    "first = km * bm * (a + ad) * kn * bn; first\n",
    "first = qapply(first); first\n",
    "\n",
    "qapply(bm * a * kn)"
   ]
  },
  {
   "cell_type": "code",
   "execution_count": 22,
   "metadata": {},
   "outputs": [
    {
     "data": {
      "text/latex": [
       "$\\displaystyle a {\\left|n\\right\\rangle }{\\left\\langle n\\right|} + a^{\\dagger} {\\left|n\\right\\rangle }{\\left\\langle n\\right|}$"
      ],
      "text/plain": [
       "a*|n><n| + RaisingOp(a)*|n><n|"
      ]
     },
     "execution_count": 22,
     "metadata": {},
     "output_type": "execute_result"
    }
   ],
   "source": [
    "qapply(Dagger(kn * bn * (a + ad))).doit().doit()"
   ]
  },
  {
   "cell_type": "code",
   "execution_count": 23,
   "metadata": {},
   "outputs": [
    {
     "data": {
      "text/latex": [
       "$\\displaystyle {\\left\\langle n\\right|} a$"
      ],
      "text/plain": [
       "<n|*a"
      ]
     },
     "execution_count": 23,
     "metadata": {},
     "output_type": "execute_result"
    }
   ],
   "source": [
    "qapply(bn * a).doit()"
   ]
  },
  {
   "cell_type": "code",
   "execution_count": null,
   "metadata": {},
   "outputs": [],
   "source": []
  },
  {
   "cell_type": "code",
   "execution_count": 24,
   "metadata": {},
   "outputs": [
    {
     "data": {
      "text/latex": [
       "$\\displaystyle N \\left(- 0.5 \\left\\{a a^{\\dagger},\\rho\\right\\} + a^{\\dagger} \\rho a\\right) + \\left(N + 1\\right) \\left(- 0.5 \\left\\{a^{\\dagger} a,\\rho\\right\\} + a \\rho a^{\\dagger}\\right) - i \\left[\\epsilon a + \\epsilon a^{\\dagger} + a^{\\dagger} a,\\rho\\right]$"
      ],
      "text/plain": [
       "N*(-0.5*{a*RaisingOp(a),rho} + RaisingOp(a)*rho*a) + (N + 1)*(-0.5*{RaisingOp(a)*a,rho} + a*rho*RaisingOp(a)) - I*[epsilon*a + epsilon*RaisingOp(a) + RaisingOp(a)*a,rho]"
      ]
     },
     "execution_count": 24,
     "metadata": {},
     "output_type": "execute_result"
    }
   ],
   "source": [
    "gamma = 1; gamma\n",
    "omega = 1; omega  \n",
    "N = smp.symbols('N', integer=True, positive=True); N \n",
    "n_bar = N; n_bar\n",
    "# n_bar = 1 / (smp.exp(beta * omega) - 1); n_bar\n",
    "rho = Operator('rho'); rho\n",
    "\n",
    "Dissipator_1 = gamma * (1 + n_bar) * (qapply(a * rho * Dagger(a) - 1/2 * AntiCommutator(qapply(Dagger(a) * a), rho))); Dissipator_1\n",
    "Dissipator_2 = gamma * (n_bar) * (qapply(Dagger(a) * rho * a - 1/2 * AntiCommutator(qapply(a * Dagger(a)), rho))); Dissipator_2\n",
    "Dissipator = Dissipator_1 + Dissipator_2; Dissipator\n",
    "\n",
    "eps = Symbol('epsilon', real=True, positive=True); eps\n",
    "H = qapply(Dagger(a) * a + eps * (a + Dagger(a))); H\n",
    "liouvillian = -smp.I * Commutator(H, rho); liouvillian\n",
    "\n",
    "lindblad = liouvillian + Dissipator; lindblad\n"
   ]
  },
  {
   "cell_type": "code",
   "execution_count": 25,
   "metadata": {},
   "outputs": [
    {
     "data": {
      "text/latex": [
       "$\\displaystyle - \\lambda_{0} {\\left\\langle n\\right|} a^{\\dagger} a \\left(N \\left(- 0.5 \\left(a a^{\\dagger} \\rho + \\rho a a^{\\dagger}\\right) + a^{\\dagger} \\rho a\\right) + \\left(N + 1\\right) \\left(- 0.5 \\left(\\rho a^{\\dagger} a + a^{\\dagger} a \\rho\\right) + a \\rho a^{\\dagger}\\right) - i \\left(\\left(\\epsilon a + \\epsilon a^{\\dagger} + a^{\\dagger} a\\right) \\rho - \\rho \\left(\\epsilon a + \\epsilon a^{\\dagger} + a^{\\dagger} a\\right)\\right)\\right) {\\left|n\\right\\rangle } - \\lambda_{1} {\\left\\langle n\\right|} a \\left(N \\left(- 0.5 \\left(a a^{\\dagger} \\rho + \\rho a a^{\\dagger}\\right) + a^{\\dagger} \\rho a\\right) + \\left(N + 1\\right) \\left(- 0.5 \\left(\\rho a^{\\dagger} a + a^{\\dagger} a \\rho\\right) + a \\rho a^{\\dagger}\\right) - i \\left(\\left(\\epsilon a + \\epsilon a^{\\dagger} + a^{\\dagger} a\\right) \\rho - \\rho \\left(\\epsilon a + \\epsilon a^{\\dagger} + a^{\\dagger} a\\right)\\right)\\right) {\\left|n\\right\\rangle } - \\lambda_{1} {\\left\\langle n\\right|} a^{\\dagger} \\left(N \\left(- 0.5 \\left(a a^{\\dagger} \\rho + \\rho a a^{\\dagger}\\right) + a^{\\dagger} \\rho a\\right) + \\left(N + 1\\right) \\left(- 0.5 \\left(\\rho a^{\\dagger} a + a^{\\dagger} a \\rho\\right) + a \\rho a^{\\dagger}\\right) - i \\left(\\left(\\epsilon a + \\epsilon a^{\\dagger} + a^{\\dagger} a\\right) \\rho - \\rho \\left(\\epsilon a + \\epsilon a^{\\dagger} + a^{\\dagger} a\\right)\\right)\\right) {\\left|n\\right\\rangle } - \\log{\\left(Z \\right)} {\\left\\langle n\\right|} \\left(N \\left(- 0.5 \\left(a a^{\\dagger} \\rho + \\rho a a^{\\dagger}\\right) + a^{\\dagger} \\rho a\\right) + \\left(N + 1\\right) \\left(- 0.5 \\left(\\rho a^{\\dagger} a + a^{\\dagger} a \\rho\\right) + a \\rho a^{\\dagger}\\right) - i \\left(\\left(\\epsilon a + \\epsilon a^{\\dagger} + a^{\\dagger} a\\right) \\rho - \\rho \\left(\\epsilon a + \\epsilon a^{\\dagger} + a^{\\dagger} a\\right)\\right)\\right) {\\left|n\\right\\rangle } + {\\left\\langle n\\right|} \\left(N \\left(- 0.5 \\left(a a^{\\dagger} \\rho + \\rho a a^{\\dagger}\\right) + a^{\\dagger} \\rho a\\right) + \\left(N + 1\\right) \\left(- 0.5 \\left(\\rho a^{\\dagger} a + a^{\\dagger} a \\rho\\right) + a \\rho a^{\\dagger}\\right) - i \\left(\\left(\\epsilon a + \\epsilon a^{\\dagger} + a^{\\dagger} a\\right) \\rho - \\rho \\left(\\epsilon a + \\epsilon a^{\\dagger} + a^{\\dagger} a\\right)\\right)\\right) {\\left|n\\right\\rangle }$"
      ],
      "text/plain": [
       "-lambda_0*<n|*RaisingOp(a)*a*(N*(-0.5*(a*RaisingOp(a)*rho + rho*a*RaisingOp(a)) + RaisingOp(a)*rho*a) + (N + 1)*(-0.5*(rho*RaisingOp(a)*a + RaisingOp(a)*a*rho) + a*rho*RaisingOp(a)) - I*((epsilon*a + epsilon*RaisingOp(a) + RaisingOp(a)*a)*rho - rho*(epsilon*a + epsilon*RaisingOp(a) + RaisingOp(a)*a)))*|n> - lambda_1*<n|*a*(N*(-0.5*(a*RaisingOp(a)*rho + rho*a*RaisingOp(a)) + RaisingOp(a)*rho*a) + (N + 1)*(-0.5*(rho*RaisingOp(a)*a + RaisingOp(a)*a*rho) + a*rho*RaisingOp(a)) - I*((epsilon*a + epsilon*RaisingOp(a) + RaisingOp(a)*a)*rho - rho*(epsilon*a + epsilon*RaisingOp(a) + RaisingOp(a)*a)))*|n> - lambda_1*<n|*RaisingOp(a)*(N*(-0.5*(a*RaisingOp(a)*rho + rho*a*RaisingOp(a)) + RaisingOp(a)*rho*a) + (N + 1)*(-0.5*(rho*RaisingOp(a)*a + RaisingOp(a)*a*rho) + a*rho*RaisingOp(a)) - I*((epsilon*a + epsilon*RaisingOp(a) + RaisingOp(a)*a)*rho - rho*(epsilon*a + epsilon*RaisingOp(a) + RaisingOp(a)*a)))*|n> - log(Z)*<n|*(N*(-0.5*(a*RaisingOp(a)*rho + rho*a*RaisingOp(a)) + RaisingOp(a)*rho*a) + (N + 1)*(-0.5*(rho*RaisingOp(a)*a + RaisingOp(a)*a*rho) + a*rho*RaisingOp(a)) - I*((epsilon*a + epsilon*RaisingOp(a) + RaisingOp(a)*a)*rho - rho*(epsilon*a + epsilon*RaisingOp(a) + RaisingOp(a)*a)))*|n> + <n|*(N*(-0.5*(a*RaisingOp(a)*rho + rho*a*RaisingOp(a)) + RaisingOp(a)*rho*a) + (N + 1)*(-0.5*(rho*RaisingOp(a)*a + RaisingOp(a)*a*rho) + a*rho*RaisingOp(a)) - I*((epsilon*a + epsilon*RaisingOp(a) + RaisingOp(a)*a)*rho - rho*(epsilon*a + epsilon*RaisingOp(a) + RaisingOp(a)*a)))*|n>"
      ]
     },
     "execution_count": 25,
     "metadata": {},
     "output_type": "execute_result"
    }
   ],
   "source": [
    "Z = Symbol('Z', real=True, positive=True); Z\n",
    "lambda_0 = Symbol('lambda_0', real=True, positive=True); lambda_0\n",
    "lambda_1 = Symbol('lambda_1', real=True, positive=True); lambda_1\n",
    "L = Operator('L'); L\n",
    "dim = 4\n",
    "\n",
    "integrand_trace = (1 - smp.log(Z)) * bn * L * kn - bn * (lambda_0 * ad * a + lambda_1 * (a + ad)) * L * kn; integrand_trace\n",
    "qapply(integrand_trace).subs({L: lindblad}).doit().doit()"
   ]
  },
  {
   "cell_type": "code",
   "execution_count": 26,
   "metadata": {},
   "outputs": [
    {
     "data": {
      "text/latex": [
       "$\\displaystyle N \\left(- 0.5 \\left(a a^{\\dagger} \\rho + \\rho a a^{\\dagger}\\right) + a^{\\dagger} \\rho a\\right) + \\left(N + 1\\right) \\left(- 0.5 \\left(\\rho a^{\\dagger} a + a^{\\dagger} a \\rho\\right) + a \\rho a^{\\dagger}\\right) - i \\left(\\left(\\epsilon a + \\epsilon a^{\\dagger} + a^{\\dagger} a\\right) \\rho - \\rho \\left(\\epsilon a + \\epsilon a^{\\dagger} + a^{\\dagger} a\\right)\\right)$"
      ],
      "text/plain": [
       "N*(-0.5*(a*RaisingOp(a)*rho + rho*a*RaisingOp(a)) + RaisingOp(a)*rho*a) + (N + 1)*(-0.5*(rho*RaisingOp(a)*a + RaisingOp(a)*a*rho) + a*rho*RaisingOp(a)) - I*((epsilon*a + epsilon*RaisingOp(a) + RaisingOp(a)*a)*rho - rho*(epsilon*a + epsilon*RaisingOp(a) + RaisingOp(a)*a))"
      ]
     },
     "execution_count": 26,
     "metadata": {},
     "output_type": "execute_result"
    }
   ],
   "source": [
    "lindblad.doit()"
   ]
  },
  {
   "cell_type": "code",
   "execution_count": 27,
   "metadata": {},
   "outputs": [
    {
     "data": {
      "text/latex": [
       "$\\displaystyle N \\sqrt{n} {\\left\\langle n\\right|} a^{\\dagger} \\rho {\\left|n - 1\\right\\rangle } - 1.0 N n {\\left\\langle n\\right|} \\rho {\\left|n\\right\\rangle } + N \\sqrt{n + 1} {\\left\\langle n\\right|} a \\rho {\\left|n + 1\\right\\rangle } - 0.5 N {\\left\\langle n\\right|} a a^{\\dagger} \\rho {\\left|n\\right\\rangle } - 0.5 N {\\left\\langle n\\right|} \\rho {\\left|n\\right\\rangle } - 0.5 N {\\left\\langle n\\right|} a^{\\dagger} a \\rho {\\left|n\\right\\rangle } + i \\epsilon \\sqrt{n} {\\left\\langle n\\right|} \\rho {\\left|n - 1\\right\\rangle } + i \\epsilon \\sqrt{n + 1} {\\left\\langle n\\right|} \\rho {\\left|n + 1\\right\\rangle } - i \\epsilon {\\left\\langle n\\right|} a \\rho {\\left|n\\right\\rangle } - i \\epsilon {\\left\\langle n\\right|} a^{\\dagger} \\rho {\\left|n\\right\\rangle } - 0.5 n {\\left\\langle n\\right|} \\rho {\\left|n\\right\\rangle } + i n {\\left\\langle n\\right|} \\rho {\\left|n\\right\\rangle } + \\sqrt{n + 1} {\\left\\langle n\\right|} a \\rho {\\left|n + 1\\right\\rangle } - 0.5 {\\left\\langle n\\right|} a^{\\dagger} a \\rho {\\left|n\\right\\rangle } - i {\\left\\langle n\\right|} a^{\\dagger} a \\rho {\\left|n\\right\\rangle }$"
      ],
      "text/plain": [
       "N*sqrt(n)*<n|*RaisingOp(a)*rho*|n - 1> - 1.0*N*n*<n|*rho*|n> + N*sqrt(n + 1)*<n|*a*rho*|n + 1> - 0.5*N*<n|*a*RaisingOp(a)*rho*|n> - 0.5*N*<n|*rho*|n> - 0.5*N*<n|*RaisingOp(a)*a*rho*|n> + I*epsilon*sqrt(n)*<n|*rho*|n - 1> + I*epsilon*sqrt(n + 1)*<n|*rho*|n + 1> - I*epsilon*<n|*a*rho*|n> - I*epsilon*<n|*RaisingOp(a)*rho*|n> - 0.5*n*<n|*rho*|n> + I*n*<n|*rho*|n> + sqrt(n + 1)*<n|*a*rho*|n + 1> - 0.5*<n|*RaisingOp(a)*a*rho*|n> - I*<n|*RaisingOp(a)*a*rho*|n>"
      ]
     },
     "execution_count": 27,
     "metadata": {},
     "output_type": "execute_result"
    }
   ],
   "source": [
    "qapply(bn * lindblad * kn)"
   ]
  },
  {
   "cell_type": "code",
   "execution_count": 28,
   "metadata": {},
   "outputs": [
    {
     "data": {
      "text/latex": [
       "$\\displaystyle N \\left(- 0.5 \\left\\{a a^{\\dagger},\\rho\\right\\} + a^{\\dagger} \\rho a\\right) + \\left(N + 1\\right) \\left(- 0.5 \\left\\{a^{\\dagger} a,\\rho\\right\\} + a \\rho a^{\\dagger}\\right) - i \\left[\\epsilon a + \\epsilon a^{\\dagger} + a^{\\dagger} a,\\rho\\right]$"
      ],
      "text/plain": [
       "N*(-0.5*{a*RaisingOp(a),rho} + RaisingOp(a)*rho*a) + (N + 1)*(-0.5*{RaisingOp(a)*a,rho} + a*rho*RaisingOp(a)) - I*[epsilon*a + epsilon*RaisingOp(a) + RaisingOp(a)*a,rho]"
      ]
     },
     "execution_count": 28,
     "metadata": {},
     "output_type": "execute_result"
    }
   ],
   "source": [
    "lindblad"
   ]
  },
  {
   "cell_type": "code",
   "execution_count": 29,
   "metadata": {},
   "outputs": [
    {
     "data": {
      "text/latex": [
       "$\\displaystyle \\left[a^{\\dagger} a,a + a^{\\dagger}\\right]$"
      ],
      "text/plain": [
       "[RaisingOp(a)*a,a + RaisingOp(a)]"
      ]
     },
     "execution_count": 29,
     "metadata": {},
     "output_type": "execute_result"
    }
   ],
   "source": [
    "comm = Commutator(ad * a, a + ad)\n",
    "# comm = Commutator(comm, )\n",
    "comm.expand(Commutator=True)"
   ]
  },
  {
   "cell_type": "code",
   "execution_count": 30,
   "metadata": {},
   "outputs": [
    {
     "data": {
      "text/latex": [
       "$\\displaystyle 2 a a^{\\dagger} - 2 a^{\\dagger} a$"
      ],
      "text/plain": [
       "2*a*RaisingOp(a) - 2*RaisingOp(a)*a"
      ]
     },
     "execution_count": 30,
     "metadata": {},
     "output_type": "execute_result"
    }
   ],
   "source": [
    "Commutator(ad + a, -a + ad).doit().expand()"
   ]
  },
  {
   "cell_type": "code",
   "execution_count": 31,
   "metadata": {},
   "outputs": [
    {
     "data": {
      "text/latex": [
       "$\\displaystyle - \\left(- a + a^{\\dagger}\\right) a^{\\dagger} a + a^{\\dagger} a \\left(- a + a^{\\dagger}\\right)$"
      ],
      "text/plain": [
       "-(-a + RaisingOp(a))*RaisingOp(a)*a + RaisingOp(a)*a*(-a + RaisingOp(a))"
      ]
     },
     "execution_count": 31,
     "metadata": {},
     "output_type": "execute_result"
    }
   ],
   "source": [
    "Commutator(qapply(ad * a), qapply(-a + ad)).doit()"
   ]
  },
  {
   "cell_type": "code",
   "execution_count": 32,
   "metadata": {},
   "outputs": [
    {
     "data": {
      "text/latex": [
       "$\\displaystyle a a^{\\dagger} a - a^{\\dagger} a^{2}$"
      ],
      "text/plain": [
       "a*RaisingOp(a)*a - RaisingOp(a)*a**2"
      ]
     },
     "execution_count": 32,
     "metadata": {},
     "output_type": "execute_result"
    }
   ],
   "source": [
    "Commutator(qapply(ad * a), -a).doit().simplify()"
   ]
  },
  {
   "cell_type": "code",
   "execution_count": 33,
   "metadata": {},
   "outputs": [
    {
     "data": {
      "text/latex": [
       "$\\displaystyle 2 a a^{\\dagger} - 2 a^{\\dagger} a$"
      ],
      "text/plain": [
       "2*a*RaisingOp(a) - 2*RaisingOp(a)*a"
      ]
     },
     "execution_count": 33,
     "metadata": {},
     "output_type": "execute_result"
    }
   ],
   "source": [
    "qapply(Commutator(a + ad, -a + ad).doit())"
   ]
  },
  {
   "cell_type": "code",
   "execution_count": 34,
   "metadata": {},
   "outputs": [
    {
     "data": {
      "text/latex": [
       "$\\displaystyle \\alpha$"
      ],
      "text/plain": [
       "alpha"
      ]
     },
     "execution_count": 34,
     "metadata": {},
     "output_type": "execute_result"
    }
   ],
   "source": [
    "alpha = Symbol('alpha', complex=True, positive=True); alpha"
   ]
  },
  {
   "cell_type": "code",
   "execution_count": 35,
   "metadata": {},
   "outputs": [
    {
     "data": {
      "text/latex": [
       "$\\displaystyle - \\alpha \\lambda_{0} a - \\alpha \\lambda_{0} a^{\\dagger} \\left[a,a^{\\dagger}\\right] - 2 \\alpha \\lambda_{1} \\left[a,a^{\\dagger}\\right]$"
      ],
      "text/plain": [
       "-alpha*lambda_0*a - alpha*lambda_0*RaisingOp(a)*[a,RaisingOp(a)] - 2*alpha*lambda_1*[a,RaisingOp(a)]"
      ]
     },
     "execution_count": 35,
     "metadata": {},
     "output_type": "execute_result"
    }
   ],
   "source": [
    "qapply(Commutator(-lambda_0 * ad * a - lambda_1 * (a + ad), alpha * ad - alpha.conjugate() * a))"
   ]
  },
  {
   "cell_type": "code",
   "execution_count": 36,
   "metadata": {},
   "outputs": [],
   "source": [
    "from sympy.physics.quantum import IdentityOperator\n"
   ]
  },
  {
   "cell_type": "code",
   "execution_count": 37,
   "metadata": {},
   "outputs": [
    {
     "data": {
      "text/latex": [
       "$\\displaystyle {\\left|0\\right\\rangle }$"
      ],
      "text/plain": [
       "|0>"
      ]
     },
     "execution_count": 37,
     "metadata": {},
     "output_type": "execute_result"
    }
   ],
   "source": [
    "I = IdentityOperator(); I\n",
    "qapply(I * SHOKet(0))"
   ]
  },
  {
   "cell_type": "code",
   "execution_count": 38,
   "metadata": {},
   "outputs": [
    {
     "data": {
      "text/latex": [
       "$\\displaystyle - (- a a^{\\dagger}^{n} + a^{\\dagger}^{n} a)$"
      ],
      "text/plain": [
       "-(-a*RaisingOp(a)**n + RaisingOp(a)**n*a)"
      ]
     },
     "execution_count": 38,
     "metadata": {},
     "output_type": "execute_result"
    }
   ],
   "source": [
    "n = smp.symbols('n', integer=True, positive=True)\n",
    "Commutator(a, qapply(ad**n)).expand(commutator=True).doit()"
   ]
  },
  {
   "cell_type": "code",
   "execution_count": null,
   "metadata": {},
   "outputs": [],
   "source": []
  },
  {
   "cell_type": "code",
   "execution_count": null,
   "metadata": {},
   "outputs": [],
   "source": []
  },
  {
   "cell_type": "markdown",
   "metadata": {},
   "source": [
    "$\\rho = \\sum_{n=0}^\\infty \\frac{(- \\beta a^\\dagger a)^n}{n!}$\n"
   ]
  },
  {
   "cell_type": "code",
   "execution_count": 39,
   "metadata": {},
   "outputs": [
    {
     "data": {
      "text/latex": [
       "$\\displaystyle \\beta \\left(- N {\\left|n\\right\\rangle } + i \\epsilon \\sqrt{n} {\\left|n - 1\\right\\rangle } - i \\epsilon \\sqrt{n + 1} {\\left|n + 1\\right\\rangle } - 2 n {\\left|n\\right\\rangle } - {\\left|n\\right\\rangle }\\right)$"
      ],
      "text/plain": [
       "beta*(-N*|n> + I*epsilon*sqrt(n)*|n - 1> - I*epsilon*sqrt(n + 1)*|n + 1> - 2*n*|n> - |n>)"
      ]
     },
     "execution_count": 39,
     "metadata": {},
     "output_type": "execute_result"
    }
   ],
   "source": [
    "x = -beta * qapply(ad*a)\n",
    "n = 1\n",
    "x_n = qapply(x**n); x_n\n",
    "\n",
    "\n",
    "lindblad_n = lindblad.subs({rho: x_n}).doit(); lindblad_n, 0\n",
    "\n",
    "N = smp.symbols('N', integer=True, positive=True)\n",
    "qapply(lindblad_n * kn).factor().simplify(). subs({smp.exp(beta): N})"
   ]
  },
  {
   "cell_type": "code",
   "execution_count": 40,
   "metadata": {},
   "outputs": [
    {
     "data": {
      "text/latex": [
       "$\\displaystyle \\beta \\left(- N {\\left|n\\right\\rangle } + i \\epsilon \\sqrt{n} {\\left|n - 1\\right\\rangle } - i \\epsilon \\sqrt{n + 1} {\\left|n + 1\\right\\rangle } - 2 n {\\left|n\\right\\rangle } - {\\left|n\\right\\rangle }\\right)$"
      ],
      "text/plain": [
       "beta*(-N*|n> + I*epsilon*sqrt(n)*|n - 1> - I*epsilon*sqrt(n + 1)*|n + 1> - 2*n*|n> - |n>)"
      ]
     },
     "execution_count": 40,
     "metadata": {},
     "output_type": "execute_result"
    }
   ],
   "source": [
    "qapply(lindblad_n * kn).factor().simplify()"
   ]
  },
  {
   "cell_type": "code",
   "execution_count": null,
   "metadata": {},
   "outputs": [],
   "source": []
  },
  {
   "cell_type": "code",
   "execution_count": 41,
   "metadata": {},
   "outputs": [
    {
     "data": {
      "text/latex": [
       "$\\displaystyle M$"
      ],
      "text/plain": [
       "M"
      ]
     },
     "execution_count": 41,
     "metadata": {},
     "output_type": "execute_result"
    }
   ],
   "source": [
    "M = smp.MatrixSymbol('M', 2, 2); M"
   ]
  },
  {
   "cell_type": "code",
   "execution_count": 42,
   "metadata": {},
   "outputs": [
    {
     "ename": "AttributeError",
     "evalue": "'MatrixSymbol' object has no attribute 'jordan_form'",
     "output_type": "error",
     "traceback": [
      "\u001b[1;31m---------------------------------------------------------------------------\u001b[0m",
      "\u001b[1;31mAttributeError\u001b[0m                            Traceback (most recent call last)",
      "Cell \u001b[1;32mIn[42], line 1\u001b[0m\n\u001b[1;32m----> 1\u001b[0m S \u001b[38;5;241m=\u001b[39m \u001b[38;5;241m-\u001b[39m smp\u001b[38;5;241m.\u001b[39mtrace(M \u001b[38;5;241m@\u001b[39m smp\u001b[38;5;241m.\u001b[39mMatrixBase\u001b[38;5;241m.\u001b[39mlog(M)); S\n",
      "File \u001b[1;32mc:\\Users\\antho\\miniconda3\\envs\\perso\\Lib\\site-packages\\sympy\\matrices\\matrices.py:1754\u001b[0m, in \u001b[0;36mMatrixBase.log\u001b[1;34m(self, simplify)\u001b[0m\n\u001b[0;32m   1752\u001b[0m \u001b[38;5;28;01mtry\u001b[39;00m:\n\u001b[0;32m   1753\u001b[0m     \u001b[38;5;28;01mif\u001b[39;00m simplify:\n\u001b[1;32m-> 1754\u001b[0m         P, J \u001b[38;5;241m=\u001b[39m simplify(\u001b[38;5;28mself\u001b[39m)\u001b[38;5;241m.\u001b[39mjordan_form()\n\u001b[0;32m   1755\u001b[0m     \u001b[38;5;28;01melse\u001b[39;00m:\n\u001b[0;32m   1756\u001b[0m         P, J \u001b[38;5;241m=\u001b[39m \u001b[38;5;28mself\u001b[39m\u001b[38;5;241m.\u001b[39mjordan_form()\n",
      "\u001b[1;31mAttributeError\u001b[0m: 'MatrixSymbol' object has no attribute 'jordan_form'"
     ]
    }
   ],
   "source": [
    "S = - smp.trace(M @ smp.MatrixBase.log(M)); S"
   ]
  },
  {
   "cell_type": "code",
   "execution_count": null,
   "metadata": {},
   "outputs": [],
   "source": []
  },
  {
   "cell_type": "code",
   "execution_count": null,
   "metadata": {},
   "outputs": [],
   "source": []
  },
  {
   "cell_type": "code",
   "execution_count": null,
   "metadata": {},
   "outputs": [
    {
     "data": {
      "text/latex": [
       "$\\displaystyle - i \\left(\\left(\\epsilon a + \\epsilon a^{\\dagger} + a^{\\dagger} a\\right) \\rho - \\rho \\left(\\epsilon a + \\epsilon a^{\\dagger} + a^{\\dagger} a\\right)\\right)$"
      ],
      "text/plain": [
       "-I*((epsilon*a + epsilon*RaisingOp(a) + RaisingOp(a)*a)*rho - rho*(epsilon*a + epsilon*RaisingOp(a) + RaisingOp(a)*a))"
      ]
     },
     "execution_count": 18,
     "metadata": {},
     "output_type": "execute_result"
    }
   ],
   "source": [
    "rho = Operator('rho'); rho\n",
    "eps = Symbol('epsilon', real=True, positive=True); eps\n",
    "\n",
    "# Dissipator_1 = gamma * (1 + n_bar) * (qapply(a * rho * Dagger(a) - 1/2 * AntiCommutator(qapply(Dagger(a) * a), rho))); Dissipator_1\n",
    "# Dissipator_2 = gamma * (n_bar) * (qapply(Dagger(a) * rho * a - 1/2 * AntiCommutator(qapply(a * Dagger(a)), rho))); Dissipator_2\n",
    "# Dissipator = Dissipator_1 + Dissipator_2; Dissipator\n",
    "\n",
    "H = qapply(Dagger(a) * a + eps * (a + Dagger(a))); H\n",
    "liouvillian = -smp.I * Commutator(H, rho); liouvillian.doit()"
   ]
  },
  {
   "cell_type": "code",
   "execution_count": null,
   "metadata": {},
   "outputs": [
    {
     "ename": "ValueError",
     "evalue": "\nCan't calculate derivative wrt rho.",
     "output_type": "error",
     "traceback": [
      "\u001b[1;31m---------------------------------------------------------------------------\u001b[0m",
      "\u001b[1;31mValueError\u001b[0m                                Traceback (most recent call last)",
      "Cell \u001b[1;32mIn[43], line 1\u001b[0m\n\u001b[1;32m----> 1\u001b[0m smp\u001b[38;5;241m.\u001b[39mdiff(liouvillian, rho)\n",
      "File \u001b[1;32mc:\\Users\\antho\\miniconda3\\envs\\perso\\Lib\\site-packages\\sympy\\core\\function.py:2490\u001b[0m, in \u001b[0;36mdiff\u001b[1;34m(f, *symbols, **kwargs)\u001b[0m\n\u001b[0;32m   2426\u001b[0m \u001b[38;5;250m\u001b[39m\u001b[38;5;124;03m\"\"\"\u001b[39;00m\n\u001b[0;32m   2427\u001b[0m \u001b[38;5;124;03mDifferentiate f with respect to symbols.\u001b[39;00m\n\u001b[0;32m   2428\u001b[0m \n\u001b[1;32m   (...)\u001b[0m\n\u001b[0;32m   2487\u001b[0m \n\u001b[0;32m   2488\u001b[0m \u001b[38;5;124;03m\"\"\"\u001b[39;00m\n\u001b[0;32m   2489\u001b[0m \u001b[38;5;28;01mif\u001b[39;00m \u001b[38;5;28mhasattr\u001b[39m(f, \u001b[38;5;124m'\u001b[39m\u001b[38;5;124mdiff\u001b[39m\u001b[38;5;124m'\u001b[39m):\n\u001b[1;32m-> 2490\u001b[0m     \u001b[38;5;28;01mreturn\u001b[39;00m f\u001b[38;5;241m.\u001b[39mdiff(\u001b[38;5;241m*\u001b[39msymbols, \u001b[38;5;241m*\u001b[39m\u001b[38;5;241m*\u001b[39mkwargs)\n\u001b[0;32m   2491\u001b[0m kwargs\u001b[38;5;241m.\u001b[39msetdefault(\u001b[38;5;124m'\u001b[39m\u001b[38;5;124mevaluate\u001b[39m\u001b[38;5;124m'\u001b[39m, \u001b[38;5;28;01mTrue\u001b[39;00m)\n\u001b[0;32m   2492\u001b[0m \u001b[38;5;28;01mreturn\u001b[39;00m _derivative_dispatch(f, \u001b[38;5;241m*\u001b[39msymbols, \u001b[38;5;241m*\u001b[39m\u001b[38;5;241m*\u001b[39mkwargs)\n",
      "File \u001b[1;32mc:\\Users\\antho\\miniconda3\\envs\\perso\\Lib\\site-packages\\sympy\\core\\expr.py:3555\u001b[0m, in \u001b[0;36mExpr.diff\u001b[1;34m(self, *symbols, **assumptions)\u001b[0m\n\u001b[0;32m   3553\u001b[0m \u001b[38;5;28;01mdef\u001b[39;00m \u001b[38;5;21mdiff\u001b[39m(\u001b[38;5;28mself\u001b[39m, \u001b[38;5;241m*\u001b[39msymbols, \u001b[38;5;241m*\u001b[39m\u001b[38;5;241m*\u001b[39massumptions):\n\u001b[0;32m   3554\u001b[0m     assumptions\u001b[38;5;241m.\u001b[39msetdefault(\u001b[38;5;124m\"\u001b[39m\u001b[38;5;124mevaluate\u001b[39m\u001b[38;5;124m\"\u001b[39m, \u001b[38;5;28;01mTrue\u001b[39;00m)\n\u001b[1;32m-> 3555\u001b[0m     \u001b[38;5;28;01mreturn\u001b[39;00m _derivative_dispatch(\u001b[38;5;28mself\u001b[39m, \u001b[38;5;241m*\u001b[39msymbols, \u001b[38;5;241m*\u001b[39m\u001b[38;5;241m*\u001b[39massumptions)\n",
      "File \u001b[1;32mc:\\Users\\antho\\miniconda3\\envs\\perso\\Lib\\site-packages\\sympy\\core\\function.py:1914\u001b[0m, in \u001b[0;36m_derivative_dispatch\u001b[1;34m(expr, *variables, **kwargs)\u001b[0m\n\u001b[0;32m   1912\u001b[0m     \u001b[38;5;28;01mfrom\u001b[39;00m \u001b[38;5;21;01msympy\u001b[39;00m\u001b[38;5;21;01m.\u001b[39;00m\u001b[38;5;21;01mtensor\u001b[39;00m\u001b[38;5;21;01m.\u001b[39;00m\u001b[38;5;21;01marray\u001b[39;00m\u001b[38;5;21;01m.\u001b[39;00m\u001b[38;5;21;01marray_derivatives\u001b[39;00m \u001b[38;5;28;01mimport\u001b[39;00m ArrayDerivative\n\u001b[0;32m   1913\u001b[0m     \u001b[38;5;28;01mreturn\u001b[39;00m ArrayDerivative(expr, \u001b[38;5;241m*\u001b[39mvariables, \u001b[38;5;241m*\u001b[39m\u001b[38;5;241m*\u001b[39mkwargs)\n\u001b[1;32m-> 1914\u001b[0m \u001b[38;5;28;01mreturn\u001b[39;00m Derivative(expr, \u001b[38;5;241m*\u001b[39mvariables, \u001b[38;5;241m*\u001b[39m\u001b[38;5;241m*\u001b[39mkwargs)\n",
      "File \u001b[1;32mc:\\Users\\antho\\miniconda3\\envs\\perso\\Lib\\site-packages\\sympy\\core\\function.py:1339\u001b[0m, in \u001b[0;36mDerivative.__new__\u001b[1;34m(cls, expr, *variables, **kwargs)\u001b[0m\n\u001b[0;32m   1337\u001b[0m     \u001b[38;5;28;01mif\u001b[39;00m \u001b[38;5;129;01mnot\u001b[39;00m v\u001b[38;5;241m.\u001b[39m_diff_wrt:\n\u001b[0;32m   1338\u001b[0m         __ \u001b[38;5;241m=\u001b[39m \u001b[38;5;124m'\u001b[39m\u001b[38;5;124m'\u001b[39m  \u001b[38;5;66;03m# filler to make error message neater\u001b[39;00m\n\u001b[1;32m-> 1339\u001b[0m         \u001b[38;5;28;01mraise\u001b[39;00m \u001b[38;5;167;01mValueError\u001b[39;00m(filldedent(\u001b[38;5;124m'''\u001b[39m\n\u001b[0;32m   1340\u001b[0m \u001b[38;5;124m            Can\u001b[39m\u001b[38;5;124m'\u001b[39m\u001b[38;5;124mt calculate derivative wrt \u001b[39m\u001b[38;5;132;01m%s\u001b[39;00m\u001b[38;5;124m.\u001b[39m\u001b[38;5;132;01m%s\u001b[39;00m\u001b[38;5;124m'''\u001b[39m \u001b[38;5;241m%\u001b[39m (v,\n\u001b[0;32m   1341\u001b[0m             __)))\n\u001b[0;32m   1343\u001b[0m \u001b[38;5;66;03m# We make a special case for 0th derivative, because there is no\u001b[39;00m\n\u001b[0;32m   1344\u001b[0m \u001b[38;5;66;03m# good way to unambiguously print this.\u001b[39;00m\n\u001b[0;32m   1345\u001b[0m \u001b[38;5;28;01mif\u001b[39;00m \u001b[38;5;28mlen\u001b[39m(variable_count) \u001b[38;5;241m==\u001b[39m \u001b[38;5;241m0\u001b[39m:\n",
      "\u001b[1;31mValueError\u001b[0m: \nCan't calculate derivative wrt rho."
     ]
    }
   ],
   "source": [
    "smp.diff(liouvillian, rho)"
   ]
  },
  {
   "cell_type": "code",
   "execution_count": null,
   "metadata": {},
   "outputs": [],
   "source": []
  },
  {
   "cell_type": "code",
   "execution_count": null,
   "metadata": {},
   "outputs": [],
   "source": []
  },
  {
   "cell_type": "markdown",
   "metadata": {},
   "source": [
    "# 11/03/2024\n"
   ]
  },
  {
   "cell_type": "code",
   "execution_count": 43,
   "metadata": {},
   "outputs": [
    {
     "data": {
      "text/latex": [
       "$\\displaystyle a^{\\dagger}^{n} {\\left|0\\right\\rangle }$"
      ],
      "text/plain": [
       "RaisingOp(a)**n*|0>"
      ]
     },
     "execution_count": 43,
     "metadata": {},
     "output_type": "execute_result"
    }
   ],
   "source": [
    "n = smp.symbols('n', integer=True, positive=True); n\n",
    "qapply(ad**n * SHOKet(0))"
   ]
  },
  {
   "cell_type": "code",
   "execution_count": 44,
   "metadata": {},
   "outputs": [
    {
     "data": {
      "text/latex": [
       "$\\displaystyle {\\left|0\\right\\rangle }$"
      ],
      "text/plain": [
       "|0>"
      ]
     },
     "execution_count": 44,
     "metadata": {},
     "output_type": "execute_result"
    }
   ],
   "source": [
    "zero = SHOKet(0); zero"
   ]
  },
  {
   "cell_type": "code",
   "execution_count": 45,
   "metadata": {},
   "outputs": [
    {
     "data": {
      "text/latex": [
       "$\\displaystyle \\sqrt{6} {\\left|3\\right\\rangle }$"
      ],
      "text/plain": [
       "sqrt(6)*|3>"
      ]
     },
     "execution_count": 45,
     "metadata": {},
     "output_type": "execute_result"
    }
   ],
   "source": [
    "qapply(ad * ad * ad * zero)"
   ]
  },
  {
   "cell_type": "code",
   "execution_count": 46,
   "metadata": {},
   "outputs": [
    {
     "data": {
      "text/latex": [
       "$\\displaystyle a^{\\dagger}$"
      ],
      "text/plain": [
       "RaisingOp(a)"
      ]
     },
     "execution_count": 46,
     "metadata": {},
     "output_type": "execute_result"
    }
   ],
   "source": [
    "lambda_0 = Symbol('lambda_0', real=True, positive=True); lambda_0\n",
    "lambda_1 = Symbol('lambda_1', real=True, positive=True); lambda_1\n",
    "kn = SHOKet(n); kn\n",
    "k0 = SHOKet(0); k0\n",
    "a = LoweringOp('a'); a\n",
    "ad = RaisingOp('a'); ad"
   ]
  },
  {
   "cell_type": "code",
   "execution_count": 47,
   "metadata": {},
   "outputs": [
    {
     "data": {
      "text/latex": [
       "$\\displaystyle a^{\\dagger} + \\frac{\\lambda_{1} {\\mathcal{I}}}{\\lambda_{0}}$"
      ],
      "text/plain": [
       "RaisingOp(a) + lambda_1*I/lambda_0"
      ]
     },
     "execution_count": 47,
     "metadata": {},
     "output_type": "execute_result"
    }
   ],
   "source": [
    "b = a + lambda_1 / lambda_0 * IdentityOperator(); b\n",
    "bd = Dagger(b); bd"
   ]
  },
  {
   "cell_type": "code",
   "execution_count": 48,
   "metadata": {},
   "outputs": [
    {
     "data": {
      "text/latex": [
       "$\\displaystyle \\frac{\\lambda_{1} {\\left|1\\right\\rangle }}{\\lambda_{0}} + \\frac{\\lambda_{1}^{2} {\\left|0\\right\\rangle }}{\\lambda_{0}^{2}}$"
      ],
      "text/plain": [
       "lambda_1*|1>/lambda_0 + lambda_1**2*|0>/lambda_0**2"
      ]
     },
     "execution_count": 48,
     "metadata": {},
     "output_type": "execute_result"
    }
   ],
   "source": [
    "qapply(Dagger(b) * b * k0)"
   ]
  },
  {
   "cell_type": "code",
   "execution_count": 49,
   "metadata": {},
   "outputs": [
    {
     "data": {
      "text/latex": [
       "$\\displaystyle {\\left|1\\right\\rangle }$"
      ],
      "text/plain": [
       "|1>"
      ]
     },
     "execution_count": 49,
     "metadata": {},
     "output_type": "execute_result"
    }
   ],
   "source": [
    "qapply(ad * k0)"
   ]
  },
  {
   "cell_type": "code",
   "execution_count": 50,
   "metadata": {},
   "outputs": [
    {
     "data": {
      "text/latex": [
       "$\\displaystyle {\\left|1\\right\\rangle } + \\frac{\\lambda_{1} {\\left|0\\right\\rangle }}{\\lambda_{0}} + \\frac{\\sqrt{2} \\lambda_{1} {\\left|2\\right\\rangle }}{\\lambda_{0}} + \\frac{\\lambda_{1}^{2} {\\left|1\\right\\rangle }}{\\lambda_{0}^{2}}$"
      ],
      "text/plain": [
       "|1> + lambda_1*|0>/lambda_0 + sqrt(2)*lambda_1*|2>/lambda_0 + lambda_1**2*|1>/lambda_0**2"
      ]
     },
     "execution_count": 50,
     "metadata": {},
     "output_type": "execute_result"
    }
   ],
   "source": [
    "qapply((ad * Dagger(b) * b + Dagger(b)) * k0)"
   ]
  },
  {
   "cell_type": "code",
   "execution_count": 51,
   "metadata": {},
   "outputs": [
    {
     "data": {
      "text/latex": [
       "$\\displaystyle {\\left|1\\right\\rangle } + \\frac{\\lambda_{1} {\\left|0\\right\\rangle }}{\\lambda_{0}}$"
      ],
      "text/plain": [
       "|1> + lambda_1*|0>/lambda_0"
      ]
     },
     "execution_count": 51,
     "metadata": {},
     "output_type": "execute_result"
    }
   ],
   "source": [
    "qapply(Dagger(b) * k0)"
   ]
  },
  {
   "cell_type": "code",
   "execution_count": 52,
   "metadata": {},
   "outputs": [
    {
     "data": {
      "text/latex": [
       "$\\displaystyle \\frac{\\sqrt{2} \\lambda_{1} {\\left|2\\right\\rangle }}{\\lambda_{0}} + \\frac{\\lambda_{1}^{2} {\\left|1\\right\\rangle }}{\\lambda_{0}^{2}}$"
      ],
      "text/plain": [
       "sqrt(2)*lambda_1*|2>/lambda_0 + lambda_1**2*|1>/lambda_0**2"
      ]
     },
     "execution_count": 52,
     "metadata": {},
     "output_type": "execute_result"
    }
   ],
   "source": [
    "qapply(ad * Dagger(b) * b * k0)"
   ]
  },
  {
   "cell_type": "code",
   "execution_count": null,
   "metadata": {},
   "outputs": [],
   "source": []
  },
  {
   "cell_type": "code",
   "execution_count": 53,
   "metadata": {},
   "outputs": [
    {
     "data": {
      "text/latex": [
       "$\\displaystyle \\frac{\\lambda_{1} {\\left|1\\right\\rangle }}{\\lambda_{0}} + \\frac{\\lambda_{1}^{2} {\\left|0\\right\\rangle }}{\\lambda_{0}^{2}}$"
      ],
      "text/plain": [
       "lambda_1*|1>/lambda_0 + lambda_1**2*|0>/lambda_0**2"
      ]
     },
     "execution_count": 53,
     "metadata": {},
     "output_type": "execute_result"
    }
   ],
   "source": [
    "step1 = bd * b * k0; step1\n",
    "step1_do = qapply(step1); step1_do"
   ]
  },
  {
   "cell_type": "code",
   "execution_count": 54,
   "metadata": {},
   "outputs": [
    {
     "data": {
      "text/latex": [
       "$\\displaystyle \\frac{\\lambda_{1} {\\left|1\\right\\rangle }}{\\lambda_{0}} + \\frac{\\lambda_{1}^{2} {\\left|0\\right\\rangle }}{\\lambda_{0}^{2}} + \\frac{\\sqrt{2} \\lambda_{1}^{2} {\\left|2\\right\\rangle }}{\\lambda_{0}^{2}} + \\frac{2 \\lambda_{1}^{3} {\\left|1\\right\\rangle }}{\\lambda_{0}^{3}} + \\frac{\\lambda_{1}^{4} {\\left|0\\right\\rangle }}{\\lambda_{0}^{4}}$"
      ],
      "text/plain": [
       "lambda_1*|1>/lambda_0 + lambda_1**2*|0>/lambda_0**2 + sqrt(2)*lambda_1**2*|2>/lambda_0**2 + 2*lambda_1**3*|1>/lambda_0**3 + lambda_1**4*|0>/lambda_0**4"
      ]
     },
     "execution_count": 54,
     "metadata": {},
     "output_type": "execute_result"
    }
   ],
   "source": [
    "step2 = bd * b * step1_do; step2\n",
    "step2_do = qapply(step2); step2_do"
   ]
  },
  {
   "cell_type": "code",
   "execution_count": 55,
   "metadata": {},
   "outputs": [
    {
     "data": {
      "text/latex": [
       "$\\displaystyle \\frac{\\lambda_{1} {\\left|1\\right\\rangle }}{\\lambda_{0}} + \\frac{\\lambda_{1}^{2} {\\left|0\\right\\rangle }}{\\lambda_{0}^{2}} + \\frac{3 \\sqrt{2} \\lambda_{1}^{2} {\\left|2\\right\\rangle }}{\\lambda_{0}^{2}} + \\frac{6 \\lambda_{1}^{3} {\\left|1\\right\\rangle }}{\\lambda_{0}^{3}} + \\frac{\\sqrt{6} \\lambda_{1}^{3} {\\left|3\\right\\rangle }}{\\lambda_{0}^{3}} + \\frac{3 \\lambda_{1}^{4} {\\left|0\\right\\rangle }}{\\lambda_{0}^{4}} + \\frac{3 \\sqrt{2} \\lambda_{1}^{4} {\\left|2\\right\\rangle }}{\\lambda_{0}^{4}} + \\frac{3 \\lambda_{1}^{5} {\\left|1\\right\\rangle }}{\\lambda_{0}^{5}} + \\frac{\\lambda_{1}^{6} {\\left|0\\right\\rangle }}{\\lambda_{0}^{6}}$"
      ],
      "text/plain": [
       "lambda_1*|1>/lambda_0 + lambda_1**2*|0>/lambda_0**2 + 3*sqrt(2)*lambda_1**2*|2>/lambda_0**2 + 6*lambda_1**3*|1>/lambda_0**3 + sqrt(6)*lambda_1**3*|3>/lambda_0**3 + 3*lambda_1**4*|0>/lambda_0**4 + 3*sqrt(2)*lambda_1**4*|2>/lambda_0**4 + 3*lambda_1**5*|1>/lambda_0**5 + lambda_1**6*|0>/lambda_0**6"
      ]
     },
     "execution_count": 55,
     "metadata": {},
     "output_type": "execute_result"
    }
   ],
   "source": [
    "step3 = bd * b * step2_do; step3\n",
    "step3_do = qapply(step3); step3_do"
   ]
  },
  {
   "cell_type": "code",
   "execution_count": 56,
   "metadata": {},
   "outputs": [
    {
     "data": {
      "text/latex": [
       "$\\displaystyle \\frac{\\lambda_{1} {\\left|1\\right\\rangle }}{\\lambda_{0}} + \\frac{\\lambda_{1}^{2} {\\left|0\\right\\rangle }}{\\lambda_{0}^{2}} + \\frac{7 \\sqrt{2} \\lambda_{1}^{2} {\\left|2\\right\\rangle }}{\\lambda_{0}^{2}} + \\frac{14 \\lambda_{1}^{3} {\\left|1\\right\\rangle }}{\\lambda_{0}^{3}} + \\frac{6 \\sqrt{6} \\lambda_{1}^{3} {\\left|3\\right\\rangle }}{\\lambda_{0}^{3}} + \\frac{7 \\lambda_{1}^{4} {\\left|0\\right\\rangle }}{\\lambda_{0}^{4}} + \\frac{18 \\sqrt{2} \\lambda_{1}^{4} {\\left|2\\right\\rangle }}{\\lambda_{0}^{4}} + \\frac{2 \\sqrt{6} \\lambda_{1}^{4} {\\left|4\\right\\rangle }}{\\lambda_{0}^{4}} + \\frac{18 \\lambda_{1}^{5} {\\left|1\\right\\rangle }}{\\lambda_{0}^{5}} + \\frac{4 \\sqrt{6} \\lambda_{1}^{5} {\\left|3\\right\\rangle }}{\\lambda_{0}^{5}} + \\frac{6 \\lambda_{1}^{6} {\\left|0\\right\\rangle }}{\\lambda_{0}^{6}} + \\frac{6 \\sqrt{2} \\lambda_{1}^{6} {\\left|2\\right\\rangle }}{\\lambda_{0}^{6}} + \\frac{4 \\lambda_{1}^{7} {\\left|1\\right\\rangle }}{\\lambda_{0}^{7}} + \\frac{\\lambda_{1}^{8} {\\left|0\\right\\rangle }}{\\lambda_{0}^{8}}$"
      ],
      "text/plain": [
       "lambda_1*|1>/lambda_0 + lambda_1**2*|0>/lambda_0**2 + 7*sqrt(2)*lambda_1**2*|2>/lambda_0**2 + 14*lambda_1**3*|1>/lambda_0**3 + 6*sqrt(6)*lambda_1**3*|3>/lambda_0**3 + 7*lambda_1**4*|0>/lambda_0**4 + 18*sqrt(2)*lambda_1**4*|2>/lambda_0**4 + 2*sqrt(6)*lambda_1**4*|4>/lambda_0**4 + 18*lambda_1**5*|1>/lambda_0**5 + 4*sqrt(6)*lambda_1**5*|3>/lambda_0**5 + 6*lambda_1**6*|0>/lambda_0**6 + 6*sqrt(2)*lambda_1**6*|2>/lambda_0**6 + 4*lambda_1**7*|1>/lambda_0**7 + lambda_1**8*|0>/lambda_0**8"
      ]
     },
     "execution_count": 56,
     "metadata": {},
     "output_type": "execute_result"
    }
   ],
   "source": [
    "step4 = bd * b * step3_do; step4\n",
    "step4_do = qapply(step4); step4_do"
   ]
  },
  {
   "cell_type": "code",
   "execution_count": 57,
   "metadata": {},
   "outputs": [
    {
     "data": {
      "text/latex": [
       "$\\displaystyle 2 \\sqrt{6}$"
      ],
      "text/plain": [
       "2*sqrt(6)"
      ]
     },
     "execution_count": 57,
     "metadata": {},
     "output_type": "execute_result"
    }
   ],
   "source": [
    "smp.sqrt(smp.factorial(4))"
   ]
  },
  {
   "cell_type": "code",
   "execution_count": 58,
   "metadata": {},
   "outputs": [
    {
     "data": {
      "text/latex": [
       "$\\displaystyle 2 \\sqrt{6}$"
      ],
      "text/plain": [
       "2*sqrt(6)"
      ]
     },
     "execution_count": 58,
     "metadata": {},
     "output_type": "execute_result"
    }
   ],
   "source": [
    "smp.sqrt(smp.factorial(4))"
   ]
  },
  {
   "cell_type": "code",
   "execution_count": null,
   "metadata": {},
   "outputs": [],
   "source": []
  },
  {
   "cell_type": "code",
   "execution_count": 59,
   "metadata": {},
   "outputs": [
    {
     "data": {
      "text/latex": [
       "$\\displaystyle {\\left|n\\right\\rangle }$"
      ],
      "text/plain": [
       "|n>"
      ]
     },
     "execution_count": 59,
     "metadata": {},
     "output_type": "execute_result"
    }
   ],
   "source": [
    "kn"
   ]
  },
  {
   "cell_type": "code",
   "execution_count": 60,
   "metadata": {},
   "outputs": [
    {
     "data": {
      "text/latex": [
       "$\\displaystyle n {\\left|n\\right\\rangle } + \\frac{\\lambda_{1} \\sqrt{n} {\\left|n - 1\\right\\rangle }}{\\lambda_{0}} + \\frac{\\lambda_{1} \\sqrt{n + 1} {\\left|n + 1\\right\\rangle }}{\\lambda_{0}} + \\frac{\\lambda_{1}^{2} {\\left|n\\right\\rangle }}{\\lambda_{0}^{2}}$"
      ],
      "text/plain": [
       "n*|n> + lambda_1*sqrt(n)*|n - 1>/lambda_0 + lambda_1*sqrt(n + 1)*|n + 1>/lambda_0 + lambda_1**2*|n>/lambda_0**2"
      ]
     },
     "execution_count": 60,
     "metadata": {},
     "output_type": "execute_result"
    }
   ],
   "source": [
    "qapply(bd * b * kn)"
   ]
  },
  {
   "cell_type": "code",
   "execution_count": null,
   "metadata": {},
   "outputs": [],
   "source": []
  },
  {
   "cell_type": "code",
   "execution_count": null,
   "metadata": {},
   "outputs": [],
   "source": []
  },
  {
   "cell_type": "code",
   "execution_count": 61,
   "metadata": {},
   "outputs": [
    {
     "data": {
      "text/latex": [
       "$\\displaystyle {\\left|i + k\\right\\rangle }$"
      ],
      "text/plain": [
       "|i + k>"
      ]
     },
     "execution_count": 61,
     "metadata": {},
     "output_type": "execute_result"
    }
   ],
   "source": [
    "j = Symbol('j', integer=True, positive=True); j\n",
    "i = Symbol('i', integer=True, positive=True); i\n",
    "k = Symbol('k', integer=True, positive=True); k\n",
    "\n",
    "kik = SHOKet(i+k); kik"
   ]
  },
  {
   "cell_type": "code",
   "execution_count": 62,
   "metadata": {},
   "outputs": [
    {
     "data": {
      "text/latex": [
       "$\\displaystyle \\sqrt{i + k} {\\left|i + k - 1\\right\\rangle }$"
      ],
      "text/plain": [
       "sqrt(i + k)*|i + k - 1>"
      ]
     },
     "execution_count": 62,
     "metadata": {},
     "output_type": "execute_result"
    }
   ],
   "source": [
    "qapply(a * kik)"
   ]
  },
  {
   "cell_type": "code",
   "execution_count": null,
   "metadata": {},
   "outputs": [],
   "source": []
  },
  {
   "cell_type": "code",
   "execution_count": 63,
   "metadata": {},
   "outputs": [
    {
     "data": {
      "text/latex": [
       "$\\displaystyle - N \\left(0.5 \\left(a a^{\\dagger} \\rho + \\rho a a^{\\dagger}\\right) - a^{\\dagger} \\rho a\\right) - \\left(N + 1\\right) \\left(0.5 \\left(\\rho a^{\\dagger} a + a^{\\dagger} a \\rho\\right) - a \\rho a^{\\dagger}\\right) - i \\left(\\left(\\epsilon a + \\epsilon a^{\\dagger} + a^{\\dagger} a\\right) \\rho - \\rho \\left(\\epsilon a + \\epsilon a^{\\dagger} + a^{\\dagger} a\\right)\\right)$"
      ],
      "text/plain": [
       "-N*(0.5*(a*RaisingOp(a)*rho + rho*a*RaisingOp(a)) - RaisingOp(a)*rho*a) - (N + 1)*(0.5*(rho*RaisingOp(a)*a + RaisingOp(a)*a*rho) - a*rho*RaisingOp(a)) - I*((epsilon*a + epsilon*RaisingOp(a) + RaisingOp(a)*a)*rho - rho*(epsilon*a + epsilon*RaisingOp(a) + RaisingOp(a)*a))"
      ]
     },
     "execution_count": 63,
     "metadata": {},
     "output_type": "execute_result"
    }
   ],
   "source": [
    "gamma = 1; gamma\n",
    "omega = 1; omega  \n",
    "N = smp.symbols('N', integer=True, positive=True); N \n",
    "n_bar = N; n_bar\n",
    "# n_bar = 1 / (smp.exp(beta * omega) - 1); n_bar\n",
    "rho = Operator('rho'); rho\n",
    "\n",
    "Dissipator_1 = gamma * (1 + n_bar) * (qapply(a * rho * Dagger(a) - 1/2 * AntiCommutator(qapply(Dagger(a) * a), rho))); Dissipator_1\n",
    "Dissipator_2 = gamma * (n_bar) * (qapply(Dagger(a) * rho * a - 1/2 * AntiCommutator(qapply(a * Dagger(a)), rho))); Dissipator_2\n",
    "Dissipator = Dissipator_1 + Dissipator_2; Dissipator\n",
    "\n",
    "eps = Symbol('epsilon', real=True, positive=True); eps\n",
    "H = qapply(Dagger(a) * a + eps * (a + Dagger(a))); H\n",
    "liouvillian = -smp.I * Commutator(H, rho); liouvillian\n",
    "\n",
    "lindblad = liouvillian + Dissipator; lindblad\n",
    "lindblad = lindblad.doit().simplify(); lindblad\n"
   ]
  },
  {
   "cell_type": "markdown",
   "metadata": {},
   "source": [
    "## $\\bra{l} L[\\rho] \\ket{l}$\n"
   ]
  },
  {
   "cell_type": "code",
   "execution_count": 64,
   "metadata": {},
   "outputs": [
    {
     "data": {
      "text/latex": [
       "$\\displaystyle {\\left\\langle l\\right|}$"
      ],
      "text/plain": [
       "<l|"
      ]
     },
     "execution_count": 64,
     "metadata": {},
     "output_type": "execute_result"
    }
   ],
   "source": [
    "l = Symbol('l', integer=True, positive=True); l\n",
    "kl = SHOKet(l); kl\n",
    "bl = SHOBra(l); bl"
   ]
  },
  {
   "cell_type": "code",
   "execution_count": 68,
   "metadata": {},
   "outputs": [
    {
     "data": {
      "text/latex": [
       "$\\displaystyle N \\sqrt{l} {\\left\\langle l\\right|} a^{\\dagger} \\rho {\\left|l - 1\\right\\rangle } - 1.0 N l {\\left\\langle l\\right|} \\rho {\\left|l\\right\\rangle } + N \\sqrt{l + 1} {\\left\\langle l\\right|} a \\rho {\\left|l + 1\\right\\rangle } - 0.5 N {\\left\\langle l\\right|} a a^{\\dagger} \\rho {\\left|l\\right\\rangle } - 0.5 N {\\left\\langle l\\right|} \\rho {\\left|l\\right\\rangle } - 0.5 N {\\left\\langle l\\right|} a^{\\dagger} a \\rho {\\left|l\\right\\rangle } + i \\epsilon \\sqrt{l} {\\left\\langle l\\right|} \\rho {\\left|l - 1\\right\\rangle } + i \\epsilon \\sqrt{l + 1} {\\left\\langle l\\right|} \\rho {\\left|l + 1\\right\\rangle } - i \\epsilon {\\left\\langle l\\right|} a \\rho {\\left|l\\right\\rangle } - i \\epsilon {\\left\\langle l\\right|} a^{\\dagger} \\rho {\\left|l\\right\\rangle } - 0.5 l {\\left\\langle l\\right|} \\rho {\\left|l\\right\\rangle } + i l {\\left\\langle l\\right|} \\rho {\\left|l\\right\\rangle } + \\sqrt{l + 1} {\\left\\langle l\\right|} a \\rho {\\left|l + 1\\right\\rangle } - 0.5 {\\left\\langle l\\right|} a^{\\dagger} a \\rho {\\left|l\\right\\rangle } - i {\\left\\langle l\\right|} a^{\\dagger} a \\rho {\\left|l\\right\\rangle }$"
      ],
      "text/plain": [
       "N*sqrt(l)*<l|*RaisingOp(a)*rho*|l - 1> - 1.0*N*l*<l|*rho*|l> + N*sqrt(l + 1)*<l|*a*rho*|l + 1> - 0.5*N*<l|*a*RaisingOp(a)*rho*|l> - 0.5*N*<l|*rho*|l> - 0.5*N*<l|*RaisingOp(a)*a*rho*|l> + I*epsilon*sqrt(l)*<l|*rho*|l - 1> + I*epsilon*sqrt(l + 1)*<l|*rho*|l + 1> - I*epsilon*<l|*a*rho*|l> - I*epsilon*<l|*RaisingOp(a)*rho*|l> - 0.5*l*<l|*rho*|l> + I*l*<l|*rho*|l> + sqrt(l + 1)*<l|*a*rho*|l + 1> - 0.5*<l|*RaisingOp(a)*a*rho*|l> - I*<l|*RaisingOp(a)*a*rho*|l>"
      ]
     },
     "execution_count": 68,
     "metadata": {},
     "output_type": "execute_result"
    }
   ],
   "source": [
    "qapply(bl * lindblad * kl).doit()"
   ]
  },
  {
   "cell_type": "code",
   "execution_count": 114,
   "metadata": {},
   "outputs": [
    {
     "data": {
      "text/latex": [
       "$\\displaystyle {\\left\\langle l\\right|} a$"
      ],
      "text/plain": [
       "<l|*a"
      ]
     },
     "execution_count": 114,
     "metadata": {},
     "output_type": "execute_result"
    }
   ],
   "source": [
    "qapply(bl * a)"
   ]
  },
  {
   "cell_type": "code",
   "execution_count": null,
   "metadata": {},
   "outputs": [],
   "source": []
  },
  {
   "cell_type": "code",
   "execution_count": null,
   "metadata": {},
   "outputs": [],
   "source": []
  },
  {
   "cell_type": "code",
   "execution_count": 121,
   "metadata": {},
   "outputs": [
    {
     "data": {
      "text/latex": [
       "$\\displaystyle {\\left\\langle l\\right|} a$"
      ],
      "text/plain": [
       "<l|*a"
      ]
     },
     "execution_count": 121,
     "metadata": {},
     "output_type": "execute_result"
    }
   ],
   "source": [
    "from sympy import symbols\n",
    "# from sympy.physics.qho_1d import SHOBra, RaisingOp, LoweringOp\n",
    "\n",
    "# Define symbols\n",
    "l = symbols('l')\n",
    "\n",
    "# Create bra\n",
    "bl = SHOBra(l)\n",
    "\n",
    "# Define raising and lowering operators\n",
    "ad = RaisingOp('a')\n",
    "a = LoweringOp('a')\n",
    "\n",
    "# Apply lowering operator to the bra\n",
    "result = qapply(bl *a); result\n"
   ]
  },
  {
   "cell_type": "code",
   "execution_count": 122,
   "metadata": {},
   "outputs": [],
   "source": [
    "a.dagger = Dagger(a)"
   ]
  },
  {
   "cell_type": "code",
   "execution_count": 126,
   "metadata": {},
   "outputs": [
    {
     "data": {
      "text/latex": [
       "$\\displaystyle {\\left\\langle l\\right|} a$"
      ],
      "text/plain": [
       "<l|*a"
      ]
     },
     "execution_count": 126,
     "metadata": {},
     "output_type": "execute_result"
    }
   ],
   "source": [
    "qapply(bl * a)"
   ]
  },
  {
   "cell_type": "code",
   "execution_count": 131,
   "metadata": {},
   "outputs": [
    {
     "data": {
      "text/latex": [
       "$\\displaystyle a^{\\dagger}$"
      ],
      "text/plain": [
       "RaisingOp(a)"
      ]
     },
     "execution_count": 131,
     "metadata": {},
     "output_type": "execute_result"
    }
   ],
   "source": [
    "a._eval_adjoint()\n"
   ]
  }
 ],
 "metadata": {
  "kernelspec": {
   "display_name": "perso",
   "language": "python",
   "name": "python3"
  },
  "language_info": {
   "codemirror_mode": {
    "name": "ipython",
    "version": 3
   },
   "file_extension": ".py",
   "mimetype": "text/x-python",
   "name": "python",
   "nbconvert_exporter": "python",
   "pygments_lexer": "ipython3",
   "version": "3.11.5"
  }
 },
 "nbformat": 4,
 "nbformat_minor": 2
}
