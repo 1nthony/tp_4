{
 "cells": [
  {
   "cell_type": "code",
   "execution_count": 1,
   "metadata": {},
   "outputs": [],
   "source": [
    "import sympy as smp\n",
    "\n",
    "from sympy.physics.mechanics import *\n",
    "from sympy.physics.quantum.trace import Tr\n",
    "from sympy.physics.quantum import *\n",
    "from sympy.physics.quantum.density import *\n",
    "from sympy.physics.quantum import IdentityOperator\n",
    "\n",
    "from sympy import Symbol, Integer\n",
    "from sympy.physics.quantum import Dagger, qapply, represent, InnerProduct, Commutator\n",
    "from sympy.physics.quantum.sho1d import RaisingOp, LoweringOp, NumberOp, Hamiltonian, SHOKet, SHOBra\n",
    "\n",
    "from sympy.physics.quantum import Commutator, Dagger, Operator\n",
    "\n",
    "import numpy as np\n",
    "import matplotlib.pyplot as plt\n",
    "import scienceplots\n",
    "\n",
    "plt.style.use(['science', 'notebook', 'nature'])\n",
    "\n",
    "from sympy.physics.paulialgebra import Pauli, evaluate_pauli_product\n",
    "import scipy as scp"
   ]
  },
  {
   "cell_type": "markdown",
   "metadata": {},
   "source": [
    "# Define quantities\n"
   ]
  },
  {
   "cell_type": "code",
   "execution_count": 2,
   "metadata": {},
   "outputs": [],
   "source": [
    "J_smp = smp.symbols('J', real=True, positive=True)"
   ]
  },
  {
   "cell_type": "code",
   "execution_count": 3,
   "metadata": {},
   "outputs": [],
   "source": [
    "X = 1/2 * smp.Matrix([[0, 1], [1, 0]])\n",
    "Y = 1/2 * smp.Matrix([[0, -smp.I], [smp.I, 0]])\n",
    "Z = 1/2 * smp.Matrix([[1, 0], [0, -1]])\n",
    "I = smp.Matrix([[1, 0], [0, 1]])"
   ]
  },
  {
   "cell_type": "code",
   "execution_count": 4,
   "metadata": {},
   "outputs": [
    {
     "data": {
      "text/latex": [
       "$\\displaystyle \\left[\\begin{array}{cccccccccccccccc}0 & - 0.5 i & 0 & 0 & 0 & 0 & 0 & 0 & 0 & 0 & 0 & 0 & 0 & 0 & 0 & 0\\\\0.5 i & 0 & 0 & 0 & 0 & 0 & 0 & 0 & 0 & 0 & 0 & 0 & 0 & 0 & 0 & 0\\\\0 & 0 & 0 & - 0.5 i & 0 & 0 & 0 & 0 & 0 & 0 & 0 & 0 & 0 & 0 & 0 & 0\\\\0 & 0 & 0.5 i & 0 & 0 & 0 & 0 & 0 & 0 & 0 & 0 & 0 & 0 & 0 & 0 & 0\\\\0 & 0 & 0 & 0 & 0 & - 0.5 i & 0 & 0 & 0 & 0 & 0 & 0 & 0 & 0 & 0 & 0\\\\0 & 0 & 0 & 0 & 0.5 i & 0 & 0 & 0 & 0 & 0 & 0 & 0 & 0 & 0 & 0 & 0\\\\0 & 0 & 0 & 0 & 0 & 0 & 0 & - 0.5 i & 0 & 0 & 0 & 0 & 0 & 0 & 0 & 0\\\\0 & 0 & 0 & 0 & 0 & 0 & 0.5 i & 0 & 0 & 0 & 0 & 0 & 0 & 0 & 0 & 0\\\\0 & 0 & 0 & 0 & 0 & 0 & 0 & 0 & 0 & - 0.5 i & 0 & 0 & 0 & 0 & 0 & 0\\\\0 & 0 & 0 & 0 & 0 & 0 & 0 & 0 & 0.5 i & 0 & 0 & 0 & 0 & 0 & 0 & 0\\\\0 & 0 & 0 & 0 & 0 & 0 & 0 & 0 & 0 & 0 & 0 & - 0.5 i & 0 & 0 & 0 & 0\\\\0 & 0 & 0 & 0 & 0 & 0 & 0 & 0 & 0 & 0 & 0.5 i & 0 & 0 & 0 & 0 & 0\\\\0 & 0 & 0 & 0 & 0 & 0 & 0 & 0 & 0 & 0 & 0 & 0 & 0 & - 0.5 i & 0 & 0\\\\0 & 0 & 0 & 0 & 0 & 0 & 0 & 0 & 0 & 0 & 0 & 0 & 0.5 i & 0 & 0 & 0\\\\0 & 0 & 0 & 0 & 0 & 0 & 0 & 0 & 0 & 0 & 0 & 0 & 0 & 0 & 0 & - 0.5 i\\\\0 & 0 & 0 & 0 & 0 & 0 & 0 & 0 & 0 & 0 & 0 & 0 & 0 & 0 & 0.5 i & 0\\end{array}\\right]$"
      ],
      "text/plain": [
       "Matrix([\n",
       "[    0, -0.5*I,     0,      0,     0,      0,     0,      0,     0,      0,     0,      0,     0,      0,     0,      0],\n",
       "[0.5*I,      0,     0,      0,     0,      0,     0,      0,     0,      0,     0,      0,     0,      0,     0,      0],\n",
       "[    0,      0,     0, -0.5*I,     0,      0,     0,      0,     0,      0,     0,      0,     0,      0,     0,      0],\n",
       "[    0,      0, 0.5*I,      0,     0,      0,     0,      0,     0,      0,     0,      0,     0,      0,     0,      0],\n",
       "[    0,      0,     0,      0,     0, -0.5*I,     0,      0,     0,      0,     0,      0,     0,      0,     0,      0],\n",
       "[    0,      0,     0,      0, 0.5*I,      0,     0,      0,     0,      0,     0,      0,     0,      0,     0,      0],\n",
       "[    0,      0,     0,      0,     0,      0,     0, -0.5*I,     0,      0,     0,      0,     0,      0,     0,      0],\n",
       "[    0,      0,     0,      0,     0,      0, 0.5*I,      0,     0,      0,     0,      0,     0,      0,     0,      0],\n",
       "[    0,      0,     0,      0,     0,      0,     0,      0,     0, -0.5*I,     0,      0,     0,      0,     0,      0],\n",
       "[    0,      0,     0,      0,     0,      0,     0,      0, 0.5*I,      0,     0,      0,     0,      0,     0,      0],\n",
       "[    0,      0,     0,      0,     0,      0,     0,      0,     0,      0,     0, -0.5*I,     0,      0,     0,      0],\n",
       "[    0,      0,     0,      0,     0,      0,     0,      0,     0,      0, 0.5*I,      0,     0,      0,     0,      0],\n",
       "[    0,      0,     0,      0,     0,      0,     0,      0,     0,      0,     0,      0,     0, -0.5*I,     0,      0],\n",
       "[    0,      0,     0,      0,     0,      0,     0,      0,     0,      0,     0,      0, 0.5*I,      0,     0,      0],\n",
       "[    0,      0,     0,      0,     0,      0,     0,      0,     0,      0,     0,      0,     0,      0,     0, -0.5*I],\n",
       "[    0,      0,     0,      0,     0,      0,     0,      0,     0,      0,     0,      0,     0,      0, 0.5*I,      0]])"
      ]
     },
     "execution_count": 4,
     "metadata": {},
     "output_type": "execute_result"
    }
   ],
   "source": [
    "def spin_j(j, N):\n",
    "\n",
    "    Sx = smp.KroneckerProduct()\n",
    "    Sy = smp.KroneckerProduct()\n",
    "    Sz = smp.KroneckerProduct()\n",
    "\n",
    "    true_j = j % N\n",
    "\n",
    "    if true_j == 0:\n",
    "        true_j = N\n",
    "\n",
    "    for i in range(1, N+1):\n",
    "        if i == true_j:\n",
    "            Sx = smp.KroneckerProduct(Sx, X)\n",
    "            Sy = smp.KroneckerProduct(Sy, Y)\n",
    "            Sz = smp.KroneckerProduct(Sz, Z)\n",
    "        else:\n",
    "            Sx = smp.KroneckerProduct(Sx, I)\n",
    "            Sy = smp.KroneckerProduct(Sy, I)\n",
    "            Sz = smp.KroneckerProduct(Sz, I)\n",
    "\n",
    "    return Sx.doit(), Sy.doit(), Sz.doit()\n",
    "\n",
    "Sx, Sy, Sz = spin_j(4, 4)\n",
    "Sy"
   ]
  },
  {
   "cell_type": "code",
   "execution_count": 5,
   "metadata": {},
   "outputs": [],
   "source": [
    "def Jh_fun(N) :\n",
    "    Jh = smp.zeros(2**N)\n",
    "    isfirst = True\n",
    "    for j in range(1, N+1):\n",
    "        if isfirst:\n",
    "            Sxj, Syj, Szj = spin_j(j, N)\n",
    "            Sxjp1, Syjp1, Szjp1 = spin_j(j+1, N)\n",
    "            Sxjp2, Syjp2, Szjp2 = spin_j(j+2, N)\n",
    "            isfirst = False\n",
    "        else :\n",
    "            Sxj, Syj, Szj = Sxjp1, Syjp1, Szjp1\n",
    "            Sxjp1, Syjp1, Szjp1 = Sxjp2, Syjp2, Szjp2\n",
    "            Sxjp2, Syjp2, Szjp2 = spin_j(j+2, N)\n",
    "\n",
    "        cross_product = [Syj * Szjp1 - Szj * Syjp1, Szj * Sxjp1 - Sxj * Szjp1, Sxj * Syjp1 - Syj * Sxjp1]\n",
    "        Jh += cross_product[0] * Sxjp2 + cross_product[1] * Syjp2 + cross_product[2] * Szjp2\n",
    "\n",
    "    return J_smp**2 * Jh\n",
    "\n",
    "Jh = Jh_fun(5)\n",
    "# Jh\n"
   ]
  },
  {
   "cell_type": "code",
   "execution_count": 6,
   "metadata": {},
   "outputs": [],
   "source": [
    "def H0_fun(N) :\n",
    "    H0 = smp.zeros(2**N)\n",
    "    isfirst = True\n",
    "    for j in range(1, N+1):\n",
    "        if isfirst:\n",
    "            Sxj, Syj, Szj = spin_j(j, N)\n",
    "            Sxjp1, Syjp1, Szjp1 = spin_j(j+1, N)\n",
    "            isfirst = False\n",
    "        else :\n",
    "            Sxj, Syj, Szj = Sxjp1, Syjp1, Szjp1\n",
    "            Sxjp1, Syjp1, Szjp1 = spin_j(j+1, N)\n",
    "\n",
    "        H0 += Sxj * Sxjp1 + Syj * Syjp1 + Szj * Szjp1\n",
    "    return J_smp * H0\n",
    "\n",
    "H0 = H0_fun(5)\n",
    "# H0"
   ]
  },
  {
   "cell_type": "code",
   "execution_count": 7,
   "metadata": {},
   "outputs": [],
   "source": [
    "def Ob_fun(N) :\n",
    "    Ob = smp.zeros(2**N)\n",
    "    isfirst = True\n",
    "    for j in range(1, N+1):\n",
    "        if isfirst:\n",
    "            Sxj, Syj, Szj = spin_j(j, N)\n",
    "            Sxjp1, Syjp1, Szjp1 = spin_j(j+1, N)\n",
    "            isfirst = False\n",
    "        else :\n",
    "            Sxj, Syj, Szj = Sxjp1, Syjp1, Szjp1\n",
    "            Sxjp1, Syjp1, Szjp1 = spin_j(j+1, N)\n",
    "        Ob += j * (Sxj * Sxjp1 + Syj * Syjp1 + Szj * Szjp1)\n",
    "    return - smp.I * Ob\n",
    "\n",
    "Ob = Ob_fun(5)\n",
    "# Ob"
   ]
  },
  {
   "cell_type": "code",
   "execution_count": 11,
   "metadata": {},
   "outputs": [
    {
     "ename": "KeyboardInterrupt",
     "evalue": "",
     "output_type": "error",
     "traceback": [
      "\u001b[1;31m---------------------------------------------------------------------------\u001b[0m",
      "\u001b[1;31mKeyboardInterrupt\u001b[0m                         Traceback (most recent call last)",
      "Cell \u001b[1;32mIn[11], line 3\u001b[0m\n\u001b[0;32m      1\u001b[0m N \u001b[38;5;241m=\u001b[39m \u001b[38;5;241m8\u001b[39m\n\u001b[1;32m----> 3\u001b[0m C2 \u001b[38;5;241m=\u001b[39m H0_fun(N)\n\u001b[0;32m      4\u001b[0m C3 \u001b[38;5;241m=\u001b[39m Jh_fun(N)\n\u001b[0;32m      5\u001b[0m Ob \u001b[38;5;241m=\u001b[39m Ob_fun(N)\n",
      "Cell \u001b[1;32mIn[9], line 7\u001b[0m, in \u001b[0;36mH0_fun\u001b[1;34m(N)\u001b[0m\n\u001b[0;32m      5\u001b[0m \u001b[38;5;28;01mif\u001b[39;00m isfirst:\n\u001b[0;32m      6\u001b[0m     Sxj, Syj, Szj \u001b[38;5;241m=\u001b[39m spin_j(j, N)\n\u001b[1;32m----> 7\u001b[0m     Sxjp1, Syjp1, Szjp1 \u001b[38;5;241m=\u001b[39m spin_j(j\u001b[38;5;241m+\u001b[39m\u001b[38;5;241m1\u001b[39m, N)\n\u001b[0;32m      8\u001b[0m     isfirst \u001b[38;5;241m=\u001b[39m \u001b[38;5;28;01mFalse\u001b[39;00m\n\u001b[0;32m      9\u001b[0m \u001b[38;5;28;01melse\u001b[39;00m :\n",
      "Cell \u001b[1;32mIn[4], line 22\u001b[0m, in \u001b[0;36mspin_j\u001b[1;34m(j, N)\u001b[0m\n\u001b[0;32m     19\u001b[0m         Sy \u001b[38;5;241m=\u001b[39m smp\u001b[38;5;241m.\u001b[39mKroneckerProduct(Sy, I)\n\u001b[0;32m     20\u001b[0m         Sz \u001b[38;5;241m=\u001b[39m smp\u001b[38;5;241m.\u001b[39mKroneckerProduct(Sz, I)\n\u001b[1;32m---> 22\u001b[0m \u001b[38;5;28;01mreturn\u001b[39;00m Sx\u001b[38;5;241m.\u001b[39mdoit(), Sy\u001b[38;5;241m.\u001b[39mdoit(), Sz\u001b[38;5;241m.\u001b[39mdoit()\n",
      "File \u001b[1;32mc:\\Users\\antho\\miniconda3\\envs\\perso\\Lib\\site-packages\\sympy\\matrices\\expressions\\kronecker.py:233\u001b[0m, in \u001b[0;36mKroneckerProduct.doit\u001b[1;34m(self, **hints)\u001b[0m\n\u001b[0;32m    231\u001b[0m \u001b[38;5;28;01melse\u001b[39;00m:\n\u001b[0;32m    232\u001b[0m     args \u001b[38;5;241m=\u001b[39m \u001b[38;5;28mself\u001b[39m\u001b[38;5;241m.\u001b[39margs\n\u001b[1;32m--> 233\u001b[0m \u001b[38;5;28;01mreturn\u001b[39;00m canonicalize(KroneckerProduct(\u001b[38;5;241m*\u001b[39margs))\n",
      "File \u001b[1;32mc:\\Users\\antho\\miniconda3\\envs\\perso\\Lib\\site-packages\\sympy\\strategies\\core.py:8\u001b[0m, in \u001b[0;36mexhaust.<locals>.exhaustive_rl\u001b[1;34m(expr)\u001b[0m\n\u001b[0;32m      7\u001b[0m \u001b[38;5;28;01mdef\u001b[39;00m \u001b[38;5;21mexhaustive_rl\u001b[39m(expr):\n\u001b[1;32m----> 8\u001b[0m     new, old \u001b[38;5;241m=\u001b[39m rule(expr), expr\n\u001b[0;32m      9\u001b[0m     \u001b[38;5;28;01mwhile\u001b[39;00m new \u001b[38;5;241m!=\u001b[39m old:\n\u001b[0;32m     10\u001b[0m         new, old \u001b[38;5;241m=\u001b[39m rule(new), new\n",
      "File \u001b[1;32mc:\\Users\\antho\\miniconda3\\envs\\perso\\Lib\\site-packages\\sympy\\strategies\\core.py:30\u001b[0m, in \u001b[0;36mcondition.<locals>.conditioned_rl\u001b[1;34m(expr)\u001b[0m\n\u001b[0;32m     28\u001b[0m \u001b[38;5;28;01mdef\u001b[39;00m \u001b[38;5;21mconditioned_rl\u001b[39m(expr):\n\u001b[0;32m     29\u001b[0m     \u001b[38;5;28;01mif\u001b[39;00m cond(expr):\n\u001b[1;32m---> 30\u001b[0m         \u001b[38;5;28;01mreturn\u001b[39;00m rule(expr)\n\u001b[0;32m     31\u001b[0m     \u001b[38;5;28;01melse\u001b[39;00m:\n\u001b[0;32m     32\u001b[0m         \u001b[38;5;28;01mreturn\u001b[39;00m expr\n",
      "File \u001b[1;32mc:\\Users\\antho\\miniconda3\\envs\\perso\\Lib\\site-packages\\sympy\\strategies\\core.py:82\u001b[0m, in \u001b[0;36mdo_one.<locals>.do_one_rl\u001b[1;34m(expr)\u001b[0m\n\u001b[0;32m     80\u001b[0m \u001b[38;5;28;01mdef\u001b[39;00m \u001b[38;5;21mdo_one_rl\u001b[39m(expr):\n\u001b[0;32m     81\u001b[0m     \u001b[38;5;28;01mfor\u001b[39;00m rl \u001b[38;5;129;01min\u001b[39;00m rules:\n\u001b[1;32m---> 82\u001b[0m         result \u001b[38;5;241m=\u001b[39m rl(expr)\n\u001b[0;32m     83\u001b[0m         \u001b[38;5;28;01mif\u001b[39;00m result \u001b[38;5;241m!=\u001b[39m expr:\n\u001b[0;32m     84\u001b[0m             \u001b[38;5;28;01mreturn\u001b[39;00m result\n",
      "File \u001b[1;32mc:\\Users\\antho\\miniconda3\\envs\\perso\\Lib\\site-packages\\sympy\\matrices\\expressions\\kronecker.py:342\u001b[0m, in \u001b[0;36mexplicit_kronecker_product\u001b[1;34m(kron)\u001b[0m\n\u001b[0;32m    339\u001b[0m \u001b[38;5;28;01mif\u001b[39;00m \u001b[38;5;129;01mnot\u001b[39;00m \u001b[38;5;28mall\u001b[39m(\u001b[38;5;28misinstance\u001b[39m(m, MatrixBase) \u001b[38;5;28;01mfor\u001b[39;00m m \u001b[38;5;129;01min\u001b[39;00m kron\u001b[38;5;241m.\u001b[39margs):\n\u001b[0;32m    340\u001b[0m     \u001b[38;5;28;01mreturn\u001b[39;00m kron\n\u001b[1;32m--> 342\u001b[0m \u001b[38;5;28;01mreturn\u001b[39;00m matrix_kronecker_product(\u001b[38;5;241m*\u001b[39mkron\u001b[38;5;241m.\u001b[39margs)\n",
      "File \u001b[1;32mc:\\Users\\antho\\miniconda3\\envs\\perso\\Lib\\site-packages\\sympy\\matrices\\expressions\\kronecker.py:319\u001b[0m, in \u001b[0;36mmatrix_kronecker_product\u001b[1;34m(*matrices)\u001b[0m\n\u001b[0;32m    317\u001b[0m \u001b[38;5;66;03m# Go through each column joining each item\u001b[39;00m\n\u001b[0;32m    318\u001b[0m \u001b[38;5;28;01mfor\u001b[39;00m j \u001b[38;5;129;01min\u001b[39;00m \u001b[38;5;28mrange\u001b[39m(cols \u001b[38;5;241m-\u001b[39m \u001b[38;5;241m1\u001b[39m):\n\u001b[1;32m--> 319\u001b[0m     start \u001b[38;5;241m=\u001b[39m start\u001b[38;5;241m.\u001b[39mrow_join(\n\u001b[0;32m    320\u001b[0m         matrix_expansion\u001b[38;5;241m*\u001b[39mmat[i\u001b[38;5;241m*\u001b[39mcols \u001b[38;5;241m+\u001b[39m j \u001b[38;5;241m+\u001b[39m \u001b[38;5;241m1\u001b[39m]\n\u001b[0;32m    321\u001b[0m     )\n\u001b[0;32m    322\u001b[0m \u001b[38;5;66;03m# If this is the first element, make it the start of the\u001b[39;00m\n\u001b[0;32m    323\u001b[0m \u001b[38;5;66;03m# new row.\u001b[39;00m\n\u001b[0;32m    324\u001b[0m \u001b[38;5;28;01mif\u001b[39;00m i \u001b[38;5;241m==\u001b[39m \u001b[38;5;241m0\u001b[39m:\n",
      "File \u001b[1;32mc:\\Users\\antho\\miniconda3\\envs\\perso\\Lib\\site-packages\\sympy\\matrices\\common.py:523\u001b[0m, in \u001b[0;36mMatrixShaping.row_join\u001b[1;34m(self, other)\u001b[0m\n\u001b[0;32m    520\u001b[0m \u001b[38;5;28;01mif\u001b[39;00m \u001b[38;5;28mself\u001b[39m\u001b[38;5;241m.\u001b[39mrows \u001b[38;5;241m!=\u001b[39m other\u001b[38;5;241m.\u001b[39mrows:\n\u001b[0;32m    521\u001b[0m     \u001b[38;5;28;01mraise\u001b[39;00m ShapeError(\n\u001b[0;32m    522\u001b[0m         \u001b[38;5;124m\"\u001b[39m\u001b[38;5;124m`self` and `rhs` must have the same number of rows.\u001b[39m\u001b[38;5;124m\"\u001b[39m)\n\u001b[1;32m--> 523\u001b[0m \u001b[38;5;28;01mreturn\u001b[39;00m \u001b[38;5;28mself\u001b[39m\u001b[38;5;241m.\u001b[39m_eval_row_join(other)\n",
      "File \u001b[1;32mc:\\Users\\antho\\miniconda3\\envs\\perso\\Lib\\site-packages\\sympy\\matrices\\repmatrix.py:227\u001b[0m, in \u001b[0;36mRepMatrix._eval_row_join\u001b[1;34m(self, other)\u001b[0m\n\u001b[0;32m    226\u001b[0m \u001b[38;5;28;01mdef\u001b[39;00m \u001b[38;5;21m_eval_row_join\u001b[39m(\u001b[38;5;28mself\u001b[39m, other):\n\u001b[1;32m--> 227\u001b[0m     \u001b[38;5;28;01mreturn\u001b[39;00m \u001b[38;5;28mself\u001b[39m\u001b[38;5;241m.\u001b[39m_fromrep(\u001b[38;5;28mself\u001b[39m\u001b[38;5;241m.\u001b[39m_rep\u001b[38;5;241m.\u001b[39mhstack(other\u001b[38;5;241m.\u001b[39m_rep))\n",
      "File \u001b[1;32mc:\\Users\\antho\\miniconda3\\envs\\perso\\Lib\\site-packages\\sympy\\polys\\matrices\\domainmatrix.py:749\u001b[0m, in \u001b[0;36mDomainMatrix.hstack\u001b[1;34m(A, *B)\u001b[0m\n\u001b[0;32m    714\u001b[0m \u001b[38;5;28;01mdef\u001b[39;00m \u001b[38;5;21mhstack\u001b[39m(A, \u001b[38;5;241m*\u001b[39mB):\n\u001b[0;32m    715\u001b[0m \u001b[38;5;250m    \u001b[39m\u001b[38;5;124mr\u001b[39m\u001b[38;5;124;03m\"\"\"Horizontally stack the given matrices.\u001b[39;00m\n\u001b[0;32m    716\u001b[0m \n\u001b[0;32m    717\u001b[0m \u001b[38;5;124;03m    Parameters\u001b[39;00m\n\u001b[1;32m   (...)\u001b[0m\n\u001b[0;32m    747\u001b[0m \u001b[38;5;124;03m    unify\u001b[39;00m\n\u001b[0;32m    748\u001b[0m \u001b[38;5;124;03m    \"\"\"\u001b[39;00m\n\u001b[1;32m--> 749\u001b[0m     A, \u001b[38;5;241m*\u001b[39mB \u001b[38;5;241m=\u001b[39m A\u001b[38;5;241m.\u001b[39munify(\u001b[38;5;241m*\u001b[39mB, fmt\u001b[38;5;241m=\u001b[39m\u001b[38;5;124m'\u001b[39m\u001b[38;5;124mdense\u001b[39m\u001b[38;5;124m'\u001b[39m)\n\u001b[0;32m    750\u001b[0m     \u001b[38;5;28;01mreturn\u001b[39;00m DomainMatrix\u001b[38;5;241m.\u001b[39mfrom_rep(A\u001b[38;5;241m.\u001b[39mrep\u001b[38;5;241m.\u001b[39mhstack(\u001b[38;5;241m*\u001b[39m(Bk\u001b[38;5;241m.\u001b[39mrep \u001b[38;5;28;01mfor\u001b[39;00m Bk \u001b[38;5;129;01min\u001b[39;00m B)))\n",
      "File \u001b[1;32mc:\\Users\\antho\\miniconda3\\envs\\perso\\Lib\\site-packages\\sympy\\polys\\matrices\\domainmatrix.py:626\u001b[0m, in \u001b[0;36mDomainMatrix.unify\u001b[1;34m(self, fmt, *others)\u001b[0m\n\u001b[0;32m    573\u001b[0m \u001b[38;5;250m\u001b[39m\u001b[38;5;124;03m\"\"\"\u001b[39;00m\n\u001b[0;32m    574\u001b[0m \u001b[38;5;124;03mUnifies the domains and the format of self and other\u001b[39;00m\n\u001b[0;32m    575\u001b[0m \u001b[38;5;124;03mmatrices.\u001b[39;00m\n\u001b[1;32m   (...)\u001b[0m\n\u001b[0;32m    623\u001b[0m \n\u001b[0;32m    624\u001b[0m \u001b[38;5;124;03m\"\"\"\u001b[39;00m\n\u001b[0;32m    625\u001b[0m matrices \u001b[38;5;241m=\u001b[39m (\u001b[38;5;28mself\u001b[39m,) \u001b[38;5;241m+\u001b[39m others\n\u001b[1;32m--> 626\u001b[0m matrices \u001b[38;5;241m=\u001b[39m DomainMatrix\u001b[38;5;241m.\u001b[39m_unify_domain(\u001b[38;5;241m*\u001b[39mmatrices)\n\u001b[0;32m    627\u001b[0m \u001b[38;5;28;01mif\u001b[39;00m fmt \u001b[38;5;129;01mis\u001b[39;00m \u001b[38;5;129;01mnot\u001b[39;00m \u001b[38;5;28;01mNone\u001b[39;00m:\n\u001b[0;32m    628\u001b[0m     matrices \u001b[38;5;241m=\u001b[39m DomainMatrix\u001b[38;5;241m.\u001b[39m_unify_fmt(\u001b[38;5;241m*\u001b[39mmatrices, fmt\u001b[38;5;241m=\u001b[39mfmt)\n",
      "File \u001b[1;32mc:\\Users\\antho\\miniconda3\\envs\\perso\\Lib\\site-packages\\sympy\\polys\\matrices\\domainmatrix.py:552\u001b[0m, in \u001b[0;36mDomainMatrix._unify_domain\u001b[1;34m(cls, *matrices)\u001b[0m\n\u001b[0;32m    550\u001b[0m     \u001b[38;5;28;01mreturn\u001b[39;00m matrices\n\u001b[0;32m    551\u001b[0m domain \u001b[38;5;241m=\u001b[39m reduce(\u001b[38;5;28;01mlambda\u001b[39;00m x, y: x\u001b[38;5;241m.\u001b[39munify(y), domains)\n\u001b[1;32m--> 552\u001b[0m \u001b[38;5;28;01mreturn\u001b[39;00m \u001b[38;5;28mtuple\u001b[39m(matrix\u001b[38;5;241m.\u001b[39mconvert_to(domain) \u001b[38;5;28;01mfor\u001b[39;00m matrix \u001b[38;5;129;01min\u001b[39;00m matrices)\n",
      "File \u001b[1;32mc:\\Users\\antho\\miniconda3\\envs\\perso\\Lib\\site-packages\\sympy\\polys\\matrices\\domainmatrix.py:552\u001b[0m, in \u001b[0;36m<genexpr>\u001b[1;34m(.0)\u001b[0m\n\u001b[0;32m    550\u001b[0m     \u001b[38;5;28;01mreturn\u001b[39;00m matrices\n\u001b[0;32m    551\u001b[0m domain \u001b[38;5;241m=\u001b[39m reduce(\u001b[38;5;28;01mlambda\u001b[39;00m x, y: x\u001b[38;5;241m.\u001b[39munify(y), domains)\n\u001b[1;32m--> 552\u001b[0m \u001b[38;5;28;01mreturn\u001b[39;00m \u001b[38;5;28mtuple\u001b[39m(matrix\u001b[38;5;241m.\u001b[39mconvert_to(domain) \u001b[38;5;28;01mfor\u001b[39;00m matrix \u001b[38;5;129;01min\u001b[39;00m matrices)\n",
      "File \u001b[1;32mc:\\Users\\antho\\miniconda3\\envs\\perso\\Lib\\site-packages\\sympy\\polys\\matrices\\domainmatrix.py:471\u001b[0m, in \u001b[0;36mDomainMatrix.convert_to\u001b[1;34m(self, K)\u001b[0m\n\u001b[0;32m    469\u001b[0m \u001b[38;5;28;01mif\u001b[39;00m K \u001b[38;5;129;01mis\u001b[39;00m \u001b[38;5;28;01mNone\u001b[39;00m:\n\u001b[0;32m    470\u001b[0m     \u001b[38;5;28;01mreturn\u001b[39;00m \u001b[38;5;28mself\u001b[39m\u001b[38;5;241m.\u001b[39mcopy()\n\u001b[1;32m--> 471\u001b[0m \u001b[38;5;28;01mreturn\u001b[39;00m \u001b[38;5;28mself\u001b[39m\u001b[38;5;241m.\u001b[39mfrom_rep(\u001b[38;5;28mself\u001b[39m\u001b[38;5;241m.\u001b[39mrep\u001b[38;5;241m.\u001b[39mconvert_to(K))\n",
      "File \u001b[1;32mc:\\Users\\antho\\miniconda3\\envs\\perso\\Lib\\site-packages\\sympy\\polys\\matrices\\sdm.py:591\u001b[0m, in \u001b[0;36mSDM.convert_to\u001b[1;34m(A, K)\u001b[0m\n\u001b[0;32m    589\u001b[0m     \u001b[38;5;28;01mreturn\u001b[39;00m A\u001b[38;5;241m.\u001b[39mcopy()\n\u001b[0;32m    590\u001b[0m Ak \u001b[38;5;241m=\u001b[39m unop_dict(A, \u001b[38;5;28;01mlambda\u001b[39;00m e: K\u001b[38;5;241m.\u001b[39mconvert_from(e, Kold))\n\u001b[1;32m--> 591\u001b[0m \u001b[38;5;28;01mreturn\u001b[39;00m A\u001b[38;5;241m.\u001b[39mnew(Ak, A\u001b[38;5;241m.\u001b[39mshape, K)\n",
      "File \u001b[1;32mc:\\Users\\antho\\miniconda3\\envs\\perso\\Lib\\site-packages\\sympy\\polys\\matrices\\sdm.py:203\u001b[0m, in \u001b[0;36mSDM.new\u001b[1;34m(cls, sdm, shape, domain)\u001b[0m\n\u001b[0;32m    176\u001b[0m \u001b[38;5;129m@classmethod\u001b[39m\n\u001b[0;32m    177\u001b[0m \u001b[38;5;28;01mdef\u001b[39;00m \u001b[38;5;21mnew\u001b[39m(\u001b[38;5;28mcls\u001b[39m, sdm, shape, domain):\n\u001b[0;32m    178\u001b[0m \u001b[38;5;250m    \u001b[39m\u001b[38;5;124;03m\"\"\"\u001b[39;00m\n\u001b[0;32m    179\u001b[0m \n\u001b[0;32m    180\u001b[0m \u001b[38;5;124;03m    Parameters\u001b[39;00m\n\u001b[1;32m   (...)\u001b[0m\n\u001b[0;32m    201\u001b[0m \n\u001b[0;32m    202\u001b[0m \u001b[38;5;124;03m    \"\"\"\u001b[39;00m\n\u001b[1;32m--> 203\u001b[0m     \u001b[38;5;28;01mreturn\u001b[39;00m \u001b[38;5;28mcls\u001b[39m(sdm, shape, domain)\n",
      "File \u001b[1;32mc:\\Users\\antho\\miniconda3\\envs\\perso\\Lib\\site-packages\\sympy\\polys\\matrices\\sdm.py:73\u001b[0m, in \u001b[0;36mSDM.__init__\u001b[1;34m(self, elemsdict, shape, domain)\u001b[0m\n\u001b[0;32m     70\u001b[0m \u001b[38;5;28mself\u001b[39m\u001b[38;5;241m.\u001b[39mshape \u001b[38;5;241m=\u001b[39m \u001b[38;5;28mself\u001b[39m\u001b[38;5;241m.\u001b[39mrows, \u001b[38;5;28mself\u001b[39m\u001b[38;5;241m.\u001b[39mcols \u001b[38;5;241m=\u001b[39m m, n \u001b[38;5;241m=\u001b[39m shape\n\u001b[0;32m     71\u001b[0m \u001b[38;5;28mself\u001b[39m\u001b[38;5;241m.\u001b[39mdomain \u001b[38;5;241m=\u001b[39m domain\n\u001b[1;32m---> 73\u001b[0m \u001b[38;5;28;01mif\u001b[39;00m \u001b[38;5;129;01mnot\u001b[39;00m \u001b[38;5;28mall\u001b[39m(\u001b[38;5;241m0\u001b[39m \u001b[38;5;241m<\u001b[39m\u001b[38;5;241m=\u001b[39m r \u001b[38;5;241m<\u001b[39m m \u001b[38;5;28;01mfor\u001b[39;00m r \u001b[38;5;129;01min\u001b[39;00m \u001b[38;5;28mself\u001b[39m):\n\u001b[0;32m     74\u001b[0m     \u001b[38;5;28;01mraise\u001b[39;00m DMBadInputError(\u001b[38;5;124m\"\u001b[39m\u001b[38;5;124mRow out of range\u001b[39m\u001b[38;5;124m\"\u001b[39m)\n\u001b[0;32m     75\u001b[0m \u001b[38;5;28;01mif\u001b[39;00m \u001b[38;5;129;01mnot\u001b[39;00m \u001b[38;5;28mall\u001b[39m(\u001b[38;5;241m0\u001b[39m \u001b[38;5;241m<\u001b[39m\u001b[38;5;241m=\u001b[39m c \u001b[38;5;241m<\u001b[39m n \u001b[38;5;28;01mfor\u001b[39;00m row \u001b[38;5;129;01min\u001b[39;00m \u001b[38;5;28mself\u001b[39m\u001b[38;5;241m.\u001b[39mvalues() \u001b[38;5;28;01mfor\u001b[39;00m c \u001b[38;5;129;01min\u001b[39;00m row):\n",
      "File \u001b[1;32mc:\\Users\\antho\\miniconda3\\envs\\perso\\Lib\\site-packages\\sympy\\polys\\matrices\\sdm.py:73\u001b[0m, in \u001b[0;36m<genexpr>\u001b[1;34m(.0)\u001b[0m\n\u001b[0;32m     70\u001b[0m \u001b[38;5;28mself\u001b[39m\u001b[38;5;241m.\u001b[39mshape \u001b[38;5;241m=\u001b[39m \u001b[38;5;28mself\u001b[39m\u001b[38;5;241m.\u001b[39mrows, \u001b[38;5;28mself\u001b[39m\u001b[38;5;241m.\u001b[39mcols \u001b[38;5;241m=\u001b[39m m, n \u001b[38;5;241m=\u001b[39m shape\n\u001b[0;32m     71\u001b[0m \u001b[38;5;28mself\u001b[39m\u001b[38;5;241m.\u001b[39mdomain \u001b[38;5;241m=\u001b[39m domain\n\u001b[1;32m---> 73\u001b[0m \u001b[38;5;28;01mif\u001b[39;00m \u001b[38;5;129;01mnot\u001b[39;00m \u001b[38;5;28mall\u001b[39m(\u001b[38;5;241m0\u001b[39m \u001b[38;5;241m<\u001b[39m\u001b[38;5;241m=\u001b[39m r \u001b[38;5;241m<\u001b[39m m \u001b[38;5;28;01mfor\u001b[39;00m r \u001b[38;5;129;01min\u001b[39;00m \u001b[38;5;28mself\u001b[39m):\n\u001b[0;32m     74\u001b[0m     \u001b[38;5;28;01mraise\u001b[39;00m DMBadInputError(\u001b[38;5;124m\"\u001b[39m\u001b[38;5;124mRow out of range\u001b[39m\u001b[38;5;124m\"\u001b[39m)\n\u001b[0;32m     75\u001b[0m \u001b[38;5;28;01mif\u001b[39;00m \u001b[38;5;129;01mnot\u001b[39;00m \u001b[38;5;28mall\u001b[39m(\u001b[38;5;241m0\u001b[39m \u001b[38;5;241m<\u001b[39m\u001b[38;5;241m=\u001b[39m c \u001b[38;5;241m<\u001b[39m n \u001b[38;5;28;01mfor\u001b[39;00m row \u001b[38;5;129;01min\u001b[39;00m \u001b[38;5;28mself\u001b[39m\u001b[38;5;241m.\u001b[39mvalues() \u001b[38;5;28;01mfor\u001b[39;00m c \u001b[38;5;129;01min\u001b[39;00m row):\n",
      "\u001b[1;31mKeyboardInterrupt\u001b[0m: "
     ]
    }
   ],
   "source": [
    "N = 8\n",
    "\n",
    "C2 = H0_fun(N)\n",
    "C3 = Jh_fun(N)\n",
    "Ob = Ob_fun(N)\n",
    "\n",
    "# # print True if [Jh, H0] == 0 \n",
    "# display(Jh * H0 - H0 * Jh == smp.zeros(2**N))       \n",
    "\n",
    "# [Ob, Jh]\n",
    "C4 = Ob * C3 - C3 * Ob; C4\n",
    "A = C4 * C2 - C2 * C4; A            \n",
    "\n",
    "C5 = Ob * C4 - C4 * Ob; C5\n",
    "B = C5 * C2 - C2 * C5; B            \n",
    "\n",
    "print('done')       # 3min for N=8\n",
    "\n",
    "# B_fun = smp.lambdify((J), A, 'numpy'); B_fun(1); scp.sparse.csr_array(B_fun(1))"
   ]
  },
  {
   "cell_type": "code",
   "execution_count": 204,
   "metadata": {},
   "outputs": [],
   "source": [
    "k = 4\n",
    "Lk1 = spin_j(k, N)[2]"
   ]
  },
  {
   "cell_type": "code",
   "execution_count": 206,
   "metadata": {},
   "outputs": [],
   "source": [
    "# Lk1 * C2 * Lk1"
   ]
  },
  {
   "cell_type": "code",
   "execution_count": 12,
   "metadata": {},
   "outputs": [
    {
     "data": {
      "text/latex": [
       "$\\displaystyle \\left[\\begin{matrix}0 & -0.125\\\\-0.125 & 0\\end{matrix}\\right]$"
      ],
      "text/plain": [
       "Matrix([\n",
       "[     0, -0.125],\n",
       "[-0.125,      0]])"
      ]
     },
     "execution_count": 12,
     "metadata": {},
     "output_type": "execute_result"
    }
   ],
   "source": [
    "Z * X * Z"
   ]
  },
  {
   "cell_type": "code",
   "execution_count": 13,
   "metadata": {},
   "outputs": [
    {
     "data": {
      "text/latex": [
       "$\\displaystyle \\left[\\begin{matrix}0 & 0.125 i\\\\- 0.125 i & 0\\end{matrix}\\right]$"
      ],
      "text/plain": [
       "Matrix([\n",
       "[       0, 0.125*I],\n",
       "[-0.125*I,       0]])"
      ]
     },
     "execution_count": 13,
     "metadata": {},
     "output_type": "execute_result"
    }
   ],
   "source": [
    "Z * Y * Z"
   ]
  },
  {
   "cell_type": "code",
   "execution_count": 14,
   "metadata": {},
   "outputs": [
    {
     "data": {
      "text/latex": [
       "$\\displaystyle \\left[\\begin{matrix}0.125 & 0\\\\0 & -0.125\\end{matrix}\\right]$"
      ],
      "text/plain": [
       "Matrix([\n",
       "[0.125,      0],\n",
       "[    0, -0.125]])"
      ]
     },
     "execution_count": 14,
     "metadata": {},
     "output_type": "execute_result"
    }
   ],
   "source": [
    "Z * Z * Z"
   ]
  },
  {
   "cell_type": "code",
   "execution_count": null,
   "metadata": {},
   "outputs": [],
   "source": []
  },
  {
   "cell_type": "code",
   "execution_count": 17,
   "metadata": {},
   "outputs": [],
   "source": [
    "_, _, Sz = spin_j(4, 4)"
   ]
  },
  {
   "cell_type": "code",
   "execution_count": 19,
   "metadata": {},
   "outputs": [
    {
     "data": {
      "text/latex": [
       "$\\displaystyle \\left[\\begin{array}{cccccccccccccccc}1.0 & 0 & 0 & 0 & 0 & 0 & 0 & 0 & 0 & 0 & 0 & 0 & 0 & 0 & 0 & 0\\\\0 & -1.0 & 0 & 0 & 0 & 0 & 0 & 0 & 0 & 0 & 0 & 0 & 0 & 0 & 0 & 0\\\\0 & 0 & 1.0 & 0 & 0 & 0 & 0 & 0 & 0 & 0 & 0 & 0 & 0 & 0 & 0 & 0\\\\0 & 0 & 0 & -1.0 & 0 & 0 & 0 & 0 & 0 & 0 & 0 & 0 & 0 & 0 & 0 & 0\\\\0 & 0 & 0 & 0 & 1.0 & 0 & 0 & 0 & 0 & 0 & 0 & 0 & 0 & 0 & 0 & 0\\\\0 & 0 & 0 & 0 & 0 & -1.0 & 0 & 0 & 0 & 0 & 0 & 0 & 0 & 0 & 0 & 0\\\\0 & 0 & 0 & 0 & 0 & 0 & 1.0 & 0 & 0 & 0 & 0 & 0 & 0 & 0 & 0 & 0\\\\0 & 0 & 0 & 0 & 0 & 0 & 0 & -1.0 & 0 & 0 & 0 & 0 & 0 & 0 & 0 & 0\\\\0 & 0 & 0 & 0 & 0 & 0 & 0 & 0 & 1.0 & 0 & 0 & 0 & 0 & 0 & 0 & 0\\\\0 & 0 & 0 & 0 & 0 & 0 & 0 & 0 & 0 & -1.0 & 0 & 0 & 0 & 0 & 0 & 0\\\\0 & 0 & 0 & 0 & 0 & 0 & 0 & 0 & 0 & 0 & 1.0 & 0 & 0 & 0 & 0 & 0\\\\0 & 0 & 0 & 0 & 0 & 0 & 0 & 0 & 0 & 0 & 0 & -1.0 & 0 & 0 & 0 & 0\\\\0 & 0 & 0 & 0 & 0 & 0 & 0 & 0 & 0 & 0 & 0 & 0 & 1.0 & 0 & 0 & 0\\\\0 & 0 & 0 & 0 & 0 & 0 & 0 & 0 & 0 & 0 & 0 & 0 & 0 & -1.0 & 0 & 0\\\\0 & 0 & 0 & 0 & 0 & 0 & 0 & 0 & 0 & 0 & 0 & 0 & 0 & 0 & 1.0 & 0\\\\0 & 0 & 0 & 0 & 0 & 0 & 0 & 0 & 0 & 0 & 0 & 0 & 0 & 0 & 0 & -1.0\\end{array}\\right]$"
      ],
      "text/plain": [
       "Matrix([\n",
       "[1.0,    0,   0,    0,   0,    0,   0,    0,   0,    0,   0,    0,   0,    0,   0,    0],\n",
       "[  0, -1.0,   0,    0,   0,    0,   0,    0,   0,    0,   0,    0,   0,    0,   0,    0],\n",
       "[  0,    0, 1.0,    0,   0,    0,   0,    0,   0,    0,   0,    0,   0,    0,   0,    0],\n",
       "[  0,    0,   0, -1.0,   0,    0,   0,    0,   0,    0,   0,    0,   0,    0,   0,    0],\n",
       "[  0,    0,   0,    0, 1.0,    0,   0,    0,   0,    0,   0,    0,   0,    0,   0,    0],\n",
       "[  0,    0,   0,    0,   0, -1.0,   0,    0,   0,    0,   0,    0,   0,    0,   0,    0],\n",
       "[  0,    0,   0,    0,   0,    0, 1.0,    0,   0,    0,   0,    0,   0,    0,   0,    0],\n",
       "[  0,    0,   0,    0,   0,    0,   0, -1.0,   0,    0,   0,    0,   0,    0,   0,    0],\n",
       "[  0,    0,   0,    0,   0,    0,   0,    0, 1.0,    0,   0,    0,   0,    0,   0,    0],\n",
       "[  0,    0,   0,    0,   0,    0,   0,    0,   0, -1.0,   0,    0,   0,    0,   0,    0],\n",
       "[  0,    0,   0,    0,   0,    0,   0,    0,   0,    0, 1.0,    0,   0,    0,   0,    0],\n",
       "[  0,    0,   0,    0,   0,    0,   0,    0,   0,    0,   0, -1.0,   0,    0,   0,    0],\n",
       "[  0,    0,   0,    0,   0,    0,   0,    0,   0,    0,   0,    0, 1.0,    0,   0,    0],\n",
       "[  0,    0,   0,    0,   0,    0,   0,    0,   0,    0,   0,    0,   0, -1.0,   0,    0],\n",
       "[  0,    0,   0,    0,   0,    0,   0,    0,   0,    0,   0,    0,   0,    0, 1.0,    0],\n",
       "[  0,    0,   0,    0,   0,    0,   0,    0,   0,    0,   0,    0,   0,    0,   0, -1.0]])"
      ]
     },
     "execution_count": 19,
     "metadata": {},
     "output_type": "execute_result"
    }
   ],
   "source": [
    "Sz *2"
   ]
  },
  {
   "cell_type": "code",
   "execution_count": null,
   "metadata": {},
   "outputs": [],
   "source": []
  },
  {
   "cell_type": "code",
   "execution_count": null,
   "metadata": {},
   "outputs": [],
   "source": []
  },
  {
   "cell_type": "code",
   "execution_count": 41,
   "metadata": {},
   "outputs": [
    {
     "data": {
      "text/latex": [
       "$\\displaystyle L_{k}$"
      ],
      "text/plain": [
       "L_k"
      ]
     },
     "metadata": {},
     "output_type": "display_data"
    },
    {
     "data": {
      "text/latex": [
       "$\\displaystyle L^{\\dagger}_{k}$"
      ],
      "text/plain": [
       "L_k^\\dagger"
      ]
     },
     "metadata": {},
     "output_type": "display_data"
    },
    {
     "data": {
      "text/latex": [
       "$\\displaystyle S_{z}$"
      ],
      "text/plain": [
       "S_z"
      ]
     },
     "metadata": {},
     "output_type": "display_data"
    },
    {
     "data": {
      "text/latex": [
       "$\\displaystyle C_{j}$"
      ],
      "text/plain": [
       "C_j"
      ]
     },
     "metadata": {},
     "output_type": "display_data"
    }
   ],
   "source": [
    "Lk = Operator('L_k'); display(Lk)\n",
    "Lk_dagger = Operator('L_k^\\dagger'); display(Lk_dagger)\n",
    "Sz = Operator('S_z'); display(Sz)\n",
    "Cj = Operator('C_j'); display(Cj)"
   ]
  },
  {
   "cell_type": "code",
   "execution_count": 42,
   "metadata": {},
   "outputs": [
    {
     "data": {
      "text/latex": [
       "$\\displaystyle - \\left[C_{j},L^{\\dagger}_{k}\\right] L_{k} + L^{\\dagger}_{k} \\left[C_{j},L_{k}\\right]$"
      ],
      "text/plain": [
       "-[C_j,L_k^\\dagger]*L_k + L_k^\\dagger*[C_j,L_k]"
      ]
     },
     "execution_count": 42,
     "metadata": {},
     "output_type": "execute_result"
    }
   ],
   "source": [
    "comm1 = Commutator(Lk_dagger, Cj); comm1\n",
    "comm2 = Commutator(Cj, Lk); comm2\n",
    "expr = comm1 * Lk + Lk_dagger * comm2; expr"
   ]
  },
  {
   "cell_type": "code",
   "execution_count": 43,
   "metadata": {},
   "outputs": [
    {
     "data": {
      "text/latex": [
       "$\\displaystyle - C_{j} L^{\\dagger}_{k} L_{k} + 2 L^{\\dagger}_{k} C_{j} L_{k} - L^{\\dagger}_{k} L_{k} C_{j}$"
      ],
      "text/plain": [
       "-C_j*L_k^\\dagger*L_k + 2*L_k^\\dagger*C_j*L_k - L_k^\\dagger*L_k*C_j"
      ]
     },
     "execution_count": 43,
     "metadata": {},
     "output_type": "execute_result"
    }
   ],
   "source": [
    "expr = expr.expand(commutator=True).doit().expand(); expr"
   ]
  },
  {
   "cell_type": "code",
   "execution_count": 46,
   "metadata": {},
   "outputs": [
    {
     "data": {
      "text/latex": [
       "$\\displaystyle - 0.5 C_{j} + 2 S_{z} C_{j} S_{z}$"
      ],
      "text/plain": [
       "-0.5*C_j + 2*S_z*C_j*S_z"
      ]
     },
     "execution_count": 46,
     "metadata": {},
     "output_type": "execute_result"
    }
   ],
   "source": [
    "expr.subs({Lk: Sz, Lk_dagger: Sz}).subs({Sz**2 : 1/4})"
   ]
  },
  {
   "cell_type": "code",
   "execution_count": null,
   "metadata": {},
   "outputs": [],
   "source": []
  },
  {
   "cell_type": "code",
   "execution_count": null,
   "metadata": {},
   "outputs": [],
   "source": []
  },
  {
   "cell_type": "code",
   "execution_count": 71,
   "metadata": {},
   "outputs": [],
   "source": [
    "sigma_x = Pauli(1)\n",
    "sigma_y = Pauli(2)\n",
    "sigma_z = Pauli(3)\n",
    "sigma_p = (sigma_x + smp.I * sigma_y) / 2\n",
    "sigma_m = (sigma_x - smp.I * sigma_y) / 2"
   ]
  },
  {
   "cell_type": "code",
   "execution_count": 50,
   "metadata": {},
   "outputs": [
    {
     "data": {
      "text/latex": [
       "$\\displaystyle \\frac{\\sigma_{1} - i \\sigma_{2}}{2}$"
      ],
      "text/plain": [
       "(sigma1 - I*sigma2)/2"
      ]
     },
     "execution_count": 50,
     "metadata": {},
     "output_type": "execute_result"
    }
   ],
   "source": [
    "sigma_m"
   ]
  },
  {
   "cell_type": "code",
   "execution_count": 54,
   "metadata": {},
   "outputs": [
    {
     "data": {
      "text/latex": [
       "$\\displaystyle \\frac{1}{2} + \\frac{\\sigma_{3}}{2}$"
      ],
      "text/plain": [
       "1/2 + sigma3/2"
      ]
     },
     "execution_count": 54,
     "metadata": {},
     "output_type": "execute_result"
    }
   ],
   "source": [
    "evaluate_pauli_product((sigma_p * sigma_m).expand())"
   ]
  },
  {
   "cell_type": "code",
   "execution_count": 55,
   "metadata": {},
   "outputs": [
    {
     "data": {
      "text/latex": [
       "$\\displaystyle \\frac{1}{2} - \\frac{\\sigma_{3}}{2}$"
      ],
      "text/plain": [
       "1/2 - sigma3/2"
      ]
     },
     "execution_count": 55,
     "metadata": {},
     "output_type": "execute_result"
    }
   ],
   "source": [
    "evaluate_pauli_product((sigma_m * sigma_p).expand())"
   ]
  },
  {
   "cell_type": "code",
   "execution_count": null,
   "metadata": {},
   "outputs": [],
   "source": []
  },
  {
   "cell_type": "code",
   "execution_count": 68,
   "metadata": {},
   "outputs": [
    {
     "data": {
      "text/plain": [
       "True"
      ]
     },
     "execution_count": 68,
     "metadata": {},
     "output_type": "execute_result"
    }
   ],
   "source": [
    "(smp.KroneckerProduct(I, I, X, I, I) - smp.I * smp.KroneckerProduct(I, I, Y, I, I)) / 2 == smp.KroneckerProduct(I, I, (X - smp.I * Y)/2, I, I).doit()"
   ]
  },
  {
   "cell_type": "code",
   "execution_count": 72,
   "metadata": {},
   "outputs": [],
   "source": [
    "Sx = Pauli(1) / 2\n",
    "Sy = Pauli(2) / 2\n",
    "Sm = (Sx - smp.I * Sy) / 2\n",
    "Sp = (Sx + smp.I * Sy) / 2"
   ]
  },
  {
   "cell_type": "code",
   "execution_count": 74,
   "metadata": {},
   "outputs": [
    {
     "data": {
      "text/latex": [
       "$\\displaystyle - \\frac{i \\sigma_{2}}{2}$"
      ],
      "text/plain": [
       "-I*sigma2/2"
      ]
     },
     "execution_count": 74,
     "metadata": {},
     "output_type": "execute_result"
    }
   ],
   "source": [
    "(Sm - Sp).expand()"
   ]
  },
  {
   "cell_type": "code",
   "execution_count": 76,
   "metadata": {},
   "outputs": [
    {
     "data": {
      "text/latex": [
       "$\\displaystyle \\frac{\\sigma_{1}}{2}$"
      ],
      "text/plain": [
       "sigma1/2"
      ]
     },
     "execution_count": 76,
     "metadata": {},
     "output_type": "execute_result"
    }
   ],
   "source": [
    "(Sm + Sp).expand()"
   ]
  },
  {
   "cell_type": "code",
   "execution_count": null,
   "metadata": {},
   "outputs": [],
   "source": []
  },
  {
   "cell_type": "markdown",
   "metadata": {},
   "source": [
    "# N = 2\n"
   ]
  },
  {
   "cell_type": "code",
   "execution_count": 14,
   "metadata": {},
   "outputs": [
    {
     "data": {
      "text/latex": [
       "$\\displaystyle \\left[\\begin{matrix}0 & 0.5\\\\0.5 & 0\\end{matrix}\\right] \\otimes \\left[\\begin{matrix}1 & 0\\\\0 & 1\\end{matrix}\\right]$"
      ],
      "text/plain": [
       "KroneckerProduct(Matrix([\n",
       "[  0, 0.5],\n",
       "[0.5,   0]]), Matrix([\n",
       "[1, 0],\n",
       "[0, 1]]))"
      ]
     },
     "metadata": {},
     "output_type": "display_data"
    },
    {
     "data": {
      "text/latex": [
       "$\\displaystyle \\left[\\begin{matrix}1 & 0\\\\0 & 1\\end{matrix}\\right] \\otimes \\left[\\begin{matrix}0 & 0.5\\\\0.5 & 0\\end{matrix}\\right]$"
      ],
      "text/plain": [
       "KroneckerProduct(Matrix([\n",
       "[1, 0],\n",
       "[0, 1]]), Matrix([\n",
       "[  0, 0.5],\n",
       "[0.5,   0]]))"
      ]
     },
     "metadata": {},
     "output_type": "display_data"
    },
    {
     "data": {
      "text/latex": [
       "$\\displaystyle \\left[\\begin{matrix}0 & - 0.5 i\\\\0.5 i & 0\\end{matrix}\\right] \\otimes \\left[\\begin{matrix}1 & 0\\\\0 & 1\\end{matrix}\\right]$"
      ],
      "text/plain": [
       "KroneckerProduct(Matrix([\n",
       "[    0, -0.5*I],\n",
       "[0.5*I,      0]]), Matrix([\n",
       "[1, 0],\n",
       "[0, 1]]))"
      ]
     },
     "metadata": {},
     "output_type": "display_data"
    },
    {
     "data": {
      "text/latex": [
       "$\\displaystyle \\left[\\begin{matrix}1 & 0\\\\0 & 1\\end{matrix}\\right] \\otimes \\left[\\begin{matrix}0 & - 0.5 i\\\\0.5 i & 0\\end{matrix}\\right]$"
      ],
      "text/plain": [
       "KroneckerProduct(Matrix([\n",
       "[1, 0],\n",
       "[0, 1]]), Matrix([\n",
       "[    0, -0.5*I],\n",
       "[0.5*I,      0]]))"
      ]
     },
     "metadata": {},
     "output_type": "display_data"
    },
    {
     "data": {
      "text/latex": [
       "$\\displaystyle \\left[\\begin{matrix}0.5 & 0\\\\0 & -0.5\\end{matrix}\\right] \\otimes \\left[\\begin{matrix}1 & 0\\\\0 & 1\\end{matrix}\\right]$"
      ],
      "text/plain": [
       "KroneckerProduct(Matrix([\n",
       "[0.5,    0],\n",
       "[  0, -0.5]]), Matrix([\n",
       "[1, 0],\n",
       "[0, 1]]))"
      ]
     },
     "metadata": {},
     "output_type": "display_data"
    },
    {
     "data": {
      "text/latex": [
       "$\\displaystyle \\left[\\begin{matrix}1 & 0\\\\0 & 1\\end{matrix}\\right] \\otimes \\left[\\begin{matrix}0.5 & 0\\\\0 & -0.5\\end{matrix}\\right]$"
      ],
      "text/plain": [
       "KroneckerProduct(Matrix([\n",
       "[1, 0],\n",
       "[0, 1]]), Matrix([\n",
       "[0.5,    0],\n",
       "[  0, -0.5]]))"
      ]
     },
     "metadata": {},
     "output_type": "display_data"
    }
   ],
   "source": [
    "X1 = smp.KroneckerProduct(X, I); display(X1)\n",
    "X2 = smp.KroneckerProduct(I, X); display(X2)\n",
    "\n",
    "Y1 = smp.KroneckerProduct(Y, I); display(Y1)\n",
    "Y2 = smp.KroneckerProduct(I, Y); display(Y2)\n",
    "\n",
    "Z1 = smp.KroneckerProduct(Z, I); display(Z1)\n",
    "Z2 = smp.KroneckerProduct(I, Z); display(Z2)\n"
   ]
  },
  {
   "cell_type": "code",
   "execution_count": 15,
   "metadata": {},
   "outputs": [
    {
     "data": {
      "text/latex": [
       "$\\displaystyle \\left[\\begin{matrix}0.5 J & 0 & 0 & 0\\\\0 & - 0.5 J & 1.0 J & 0\\\\0 & 1.0 J & - 0.5 J & 0\\\\0 & 0 & 0 & 0.5 J\\end{matrix}\\right]$"
      ],
      "text/plain": [
       "Matrix([\n",
       "[0.5*J,      0,      0,     0],\n",
       "[    0, -0.5*J,  1.0*J,     0],\n",
       "[    0,  1.0*J, -0.5*J,     0],\n",
       "[    0,      0,      0, 0.5*J]])"
      ]
     },
     "execution_count": 15,
     "metadata": {},
     "output_type": "execute_result"
    }
   ],
   "source": [
    "H = J_smp * (X1 * X2 + Y1 * Y2 + Z1 * Z2 + X2 * X1 + Y2 * Y1 + Z2 * Z1) \n",
    "H"
   ]
  },
  {
   "cell_type": "code",
   "execution_count": 16,
   "metadata": {},
   "outputs": [
    {
     "data": {
      "text/latex": [
       "$\\displaystyle \\left[\\begin{matrix}- 0.5 i & 0 & 0 & 0\\\\0 & 0.5 i & - 1.0 i & 0\\\\0 & - 1.0 i & 0.5 i & 0\\\\0 & 0 & 0 & - 0.5 i\\end{matrix}\\right]$"
      ],
      "text/plain": [
       "Matrix([\n",
       "[-0.5*I,      0,      0,      0],\n",
       "[     0,  0.5*I, -1.0*I,      0],\n",
       "[     0, -1.0*I,  0.5*I,      0],\n",
       "[     0,      0,      0, -0.5*I]])"
      ]
     },
     "execution_count": 16,
     "metadata": {},
     "output_type": "execute_result"
    }
   ],
   "source": [
    "JH = (Y1 * Z2 - Z1 * Y2) * X1 \\\n",
    "        + (- X1 * Z2 + Z1 * X2) * Y1 \\\n",
    "        + (X1 * Y2 - Y1 * X2) * Z1 \\\n",
    "        + (Y2 * Z1 - Z2 * Y1) * X2 \\\n",
    "        + (- X2 * Z1 + Z2 * X1) * Y2 \\\n",
    "        + (X2 * Y1 - Y2 * X1) * Z2\n",
    "\n",
    "JH"
   ]
  },
  {
   "cell_type": "code",
   "execution_count": 17,
   "metadata": {},
   "outputs": [
    {
     "data": {
      "text/latex": [
       "$\\displaystyle \\left[\\begin{matrix}- 0.75 i & 0 & 0 & 0\\\\0 & 0.75 i & - 1.5 i & 0\\\\0 & - 1.5 i & 0.75 i & 0\\\\0 & 0 & 0 & - 0.75 i\\end{matrix}\\right]$"
      ],
      "text/plain": [
       "Matrix([\n",
       "[-0.75*I,      0,      0,       0],\n",
       "[      0, 0.75*I, -1.5*I,       0],\n",
       "[      0, -1.5*I, 0.75*I,       0],\n",
       "[      0,      0,      0, -0.75*I]])"
      ]
     },
     "execution_count": 17,
     "metadata": {},
     "output_type": "execute_result"
    }
   ],
   "source": [
    "OB = - smp.I * (1 * (X1 * X2 + Y1 * Y2 + Z1 * Z2) \\\n",
    "                + 2 * (X2 * X1 + Y2 * Y1 + Z2 * Z1) )\n",
    "OB"
   ]
  },
  {
   "cell_type": "markdown",
   "metadata": {},
   "source": [
    "# N = 3\n"
   ]
  },
  {
   "cell_type": "code",
   "execution_count": 18,
   "metadata": {},
   "outputs": [
    {
     "data": {
      "text/latex": [
       "$\\displaystyle \\left[\\begin{matrix}0 & 0.5\\\\0.5 & 0\\end{matrix}\\right] \\otimes \\left[\\begin{matrix}1 & 0\\\\0 & 1\\end{matrix}\\right] \\otimes \\left[\\begin{matrix}1 & 0\\\\0 & 1\\end{matrix}\\right]$"
      ],
      "text/plain": [
       "KroneckerProduct(Matrix([\n",
       "[  0, 0.5],\n",
       "[0.5,   0]]), Matrix([\n",
       "[1, 0],\n",
       "[0, 1]]), Matrix([\n",
       "[1, 0],\n",
       "[0, 1]]))"
      ]
     },
     "metadata": {},
     "output_type": "display_data"
    },
    {
     "data": {
      "text/latex": [
       "$\\displaystyle \\left[\\begin{matrix}1 & 0\\\\0 & 1\\end{matrix}\\right] \\otimes \\left[\\begin{matrix}0 & 0.5\\\\0.5 & 0\\end{matrix}\\right] \\otimes \\left[\\begin{matrix}1 & 0\\\\0 & 1\\end{matrix}\\right]$"
      ],
      "text/plain": [
       "KroneckerProduct(Matrix([\n",
       "[1, 0],\n",
       "[0, 1]]), Matrix([\n",
       "[  0, 0.5],\n",
       "[0.5,   0]]), Matrix([\n",
       "[1, 0],\n",
       "[0, 1]]))"
      ]
     },
     "metadata": {},
     "output_type": "display_data"
    },
    {
     "data": {
      "text/latex": [
       "$\\displaystyle \\left[\\begin{matrix}1 & 0\\\\0 & 1\\end{matrix}\\right] \\otimes \\left[\\begin{matrix}1 & 0\\\\0 & 1\\end{matrix}\\right] \\otimes \\left[\\begin{matrix}0 & 0.5\\\\0.5 & 0\\end{matrix}\\right]$"
      ],
      "text/plain": [
       "KroneckerProduct(Matrix([\n",
       "[1, 0],\n",
       "[0, 1]]), Matrix([\n",
       "[1, 0],\n",
       "[0, 1]]), Matrix([\n",
       "[  0, 0.5],\n",
       "[0.5,   0]]))"
      ]
     },
     "metadata": {},
     "output_type": "display_data"
    },
    {
     "data": {
      "text/latex": [
       "$\\displaystyle \\left[\\begin{matrix}0 & - 0.5 i\\\\0.5 i & 0\\end{matrix}\\right] \\otimes \\left[\\begin{matrix}1 & 0\\\\0 & 1\\end{matrix}\\right] \\otimes \\left[\\begin{matrix}1 & 0\\\\0 & 1\\end{matrix}\\right]$"
      ],
      "text/plain": [
       "KroneckerProduct(Matrix([\n",
       "[    0, -0.5*I],\n",
       "[0.5*I,      0]]), Matrix([\n",
       "[1, 0],\n",
       "[0, 1]]), Matrix([\n",
       "[1, 0],\n",
       "[0, 1]]))"
      ]
     },
     "metadata": {},
     "output_type": "display_data"
    },
    {
     "data": {
      "text/latex": [
       "$\\displaystyle \\left[\\begin{matrix}1 & 0\\\\0 & 1\\end{matrix}\\right] \\otimes \\left[\\begin{matrix}0 & - 0.5 i\\\\0.5 i & 0\\end{matrix}\\right] \\otimes \\left[\\begin{matrix}1 & 0\\\\0 & 1\\end{matrix}\\right]$"
      ],
      "text/plain": [
       "KroneckerProduct(Matrix([\n",
       "[1, 0],\n",
       "[0, 1]]), Matrix([\n",
       "[    0, -0.5*I],\n",
       "[0.5*I,      0]]), Matrix([\n",
       "[1, 0],\n",
       "[0, 1]]))"
      ]
     },
     "metadata": {},
     "output_type": "display_data"
    },
    {
     "data": {
      "text/latex": [
       "$\\displaystyle \\left[\\begin{matrix}1 & 0\\\\0 & 1\\end{matrix}\\right] \\otimes \\left[\\begin{matrix}1 & 0\\\\0 & 1\\end{matrix}\\right] \\otimes \\left[\\begin{matrix}0 & - 0.5 i\\\\0.5 i & 0\\end{matrix}\\right]$"
      ],
      "text/plain": [
       "KroneckerProduct(Matrix([\n",
       "[1, 0],\n",
       "[0, 1]]), Matrix([\n",
       "[1, 0],\n",
       "[0, 1]]), Matrix([\n",
       "[    0, -0.5*I],\n",
       "[0.5*I,      0]]))"
      ]
     },
     "metadata": {},
     "output_type": "display_data"
    },
    {
     "data": {
      "text/latex": [
       "$\\displaystyle \\left[\\begin{matrix}0.5 & 0\\\\0 & -0.5\\end{matrix}\\right] \\otimes \\left[\\begin{matrix}1 & 0\\\\0 & 1\\end{matrix}\\right] \\otimes \\left[\\begin{matrix}1 & 0\\\\0 & 1\\end{matrix}\\right]$"
      ],
      "text/plain": [
       "KroneckerProduct(Matrix([\n",
       "[0.5,    0],\n",
       "[  0, -0.5]]), Matrix([\n",
       "[1, 0],\n",
       "[0, 1]]), Matrix([\n",
       "[1, 0],\n",
       "[0, 1]]))"
      ]
     },
     "metadata": {},
     "output_type": "display_data"
    },
    {
     "data": {
      "text/latex": [
       "$\\displaystyle \\left[\\begin{matrix}1 & 0\\\\0 & 1\\end{matrix}\\right] \\otimes \\left[\\begin{matrix}0.5 & 0\\\\0 & -0.5\\end{matrix}\\right] \\otimes \\left[\\begin{matrix}1 & 0\\\\0 & 1\\end{matrix}\\right]$"
      ],
      "text/plain": [
       "KroneckerProduct(Matrix([\n",
       "[1, 0],\n",
       "[0, 1]]), Matrix([\n",
       "[0.5,    0],\n",
       "[  0, -0.5]]), Matrix([\n",
       "[1, 0],\n",
       "[0, 1]]))"
      ]
     },
     "metadata": {},
     "output_type": "display_data"
    },
    {
     "data": {
      "text/latex": [
       "$\\displaystyle \\left[\\begin{matrix}1 & 0\\\\0 & 1\\end{matrix}\\right] \\otimes \\left[\\begin{matrix}1 & 0\\\\0 & 1\\end{matrix}\\right] \\otimes \\left[\\begin{matrix}0.5 & 0\\\\0 & -0.5\\end{matrix}\\right]$"
      ],
      "text/plain": [
       "KroneckerProduct(Matrix([\n",
       "[1, 0],\n",
       "[0, 1]]), Matrix([\n",
       "[1, 0],\n",
       "[0, 1]]), Matrix([\n",
       "[0.5,    0],\n",
       "[  0, -0.5]]))"
      ]
     },
     "metadata": {},
     "output_type": "display_data"
    }
   ],
   "source": [
    "X1 = smp.KroneckerProduct(X, I, I); display(X1)\n",
    "X2 = smp.KroneckerProduct(I, X, I); display(X2)\n",
    "X3 = smp.KroneckerProduct(I, I, X); display(X3)\n",
    "\n",
    "Y1 = smp.KroneckerProduct(Y, I, I); display(Y1)\n",
    "Y2 = smp.KroneckerProduct(I, Y, I); display(Y2)\n",
    "Y3 = smp.KroneckerProduct(I, I, Y); display(Y3)\n",
    "\n",
    "Z1 = smp.KroneckerProduct(Z, I, I); display(Z1)\n",
    "Z2 = smp.KroneckerProduct(I, Z, I); display(Z2)\n",
    "Z3 = smp.KroneckerProduct(I, I, Z); display(Z3)\n"
   ]
  },
  {
   "cell_type": "code",
   "execution_count": 19,
   "metadata": {},
   "outputs": [
    {
     "data": {
      "text/latex": [
       "$\\displaystyle \\left[\\begin{matrix}0.75 J & 0 & 0 & 0 & 0 & 0 & 0 & 0\\\\0 & - 0.25 J & 0.5 J & 0 & 0.5 J & 0 & 0 & 0\\\\0 & 0.5 J & - 0.25 J & 0 & 0.5 J & 0 & 0 & 0\\\\0 & 0 & 0 & - 0.25 J & 0 & 0.5 J & 0.5 J & 0\\\\0 & 0.5 J & 0.5 J & 0 & - 0.25 J & 0 & 0 & 0\\\\0 & 0 & 0 & 0.5 J & 0 & - 0.25 J & 0.5 J & 0\\\\0 & 0 & 0 & 0.5 J & 0 & 0.5 J & - 0.25 J & 0\\\\0 & 0 & 0 & 0 & 0 & 0 & 0 & 0.75 J\\end{matrix}\\right]$"
      ],
      "text/plain": [
       "Matrix([\n",
       "[0.75*J,       0,       0,       0,       0,       0,       0,      0],\n",
       "[     0, -0.25*J,   0.5*J,       0,   0.5*J,       0,       0,      0],\n",
       "[     0,   0.5*J, -0.25*J,       0,   0.5*J,       0,       0,      0],\n",
       "[     0,       0,       0, -0.25*J,       0,   0.5*J,   0.5*J,      0],\n",
       "[     0,   0.5*J,   0.5*J,       0, -0.25*J,       0,       0,      0],\n",
       "[     0,       0,       0,   0.5*J,       0, -0.25*J,   0.5*J,      0],\n",
       "[     0,       0,       0,   0.5*J,       0,   0.5*J, -0.25*J,      0],\n",
       "[     0,       0,       0,       0,       0,       0,       0, 0.75*J]])"
      ]
     },
     "execution_count": 19,
     "metadata": {},
     "output_type": "execute_result"
    }
   ],
   "source": [
    "H = J_smp * (X1 * X2 + Y1 * Y2 + Z1 * Z2 \\\n",
    "            + X2 * X3 + Y2 * Y3 + Z2 * Z3 \\\n",
    "            + X3 * X1 + Y3 * Y1 + Z3 * Z1 ) \n",
    "H"
   ]
  },
  {
   "cell_type": "code",
   "execution_count": 20,
   "metadata": {},
   "outputs": [
    {
     "data": {
      "text/latex": [
       "$\\displaystyle \\left[\\begin{matrix}0 & 0 & 0 & 0 & 0 & 0 & 0 & 0\\\\0 & 0 & 0.75 i & 0 & - 0.75 i & 0 & 0 & 0\\\\0 & - 0.75 i & 0 & 0 & 0.75 i & 0 & 0 & 0\\\\0 & 0 & 0 & 0 & 0 & - 0.75 i & 0.75 i & 0\\\\0 & 0.75 i & - 0.75 i & 0 & 0 & 0 & 0 & 0\\\\0 & 0 & 0 & 0.75 i & 0 & 0 & - 0.75 i & 0\\\\0 & 0 & 0 & - 0.75 i & 0 & 0.75 i & 0 & 0\\\\0 & 0 & 0 & 0 & 0 & 0 & 0 & 0\\end{matrix}\\right]$"
      ],
      "text/plain": [
       "Matrix([\n",
       "[0,       0,       0,       0,       0,       0,       0, 0],\n",
       "[0,       0,  0.75*I,       0, -0.75*I,       0,       0, 0],\n",
       "[0, -0.75*I,       0,       0,  0.75*I,       0,       0, 0],\n",
       "[0,       0,       0,       0,       0, -0.75*I,  0.75*I, 0],\n",
       "[0,  0.75*I, -0.75*I,       0,       0,       0,       0, 0],\n",
       "[0,       0,       0,  0.75*I,       0,       0, -0.75*I, 0],\n",
       "[0,       0,       0, -0.75*I,       0,  0.75*I,       0, 0],\n",
       "[0,       0,       0,       0,       0,       0,       0, 0]])"
      ]
     },
     "execution_count": 20,
     "metadata": {},
     "output_type": "execute_result"
    }
   ],
   "source": [
    "JH = (Y1 * Z2 - Z1 * Y2) * X3 \\\n",
    "        + (- X1 * Z2 + Z1 * X2) * Y3 \\\n",
    "        + (X1 * Y2 - Y1 * X2) * Z3 \\\n",
    "        + (Y2 * Z3 - Z2 * Y3) * X1 \\\n",
    "        + (- X2 * Z3 + Z2 * X3) * Y1 \\\n",
    "        + (X2 * Y3 - Y2 * X3) * Z1 \\\n",
    "        + (Y3 * Z1 - Z3 * Y1) * X2 \\\n",
    "        + (- X3 * Z1 + Z3 * X1) * Y2 \\\n",
    "        + (X3 * Y1 - Y3 * X1) * Z2\n",
    "\n",
    "JH"
   ]
  },
  {
   "cell_type": "code",
   "execution_count": 22,
   "metadata": {},
   "outputs": [
    {
     "data": {
      "text/latex": [
       "$\\displaystyle \\left[\\begin{matrix}- 1.5 i & 0 & 0 & 0 & 0 & 0 & 0 & 0\\\\0 & 1.0 i & - 1.0 i & 0 & - 1.5 i & 0 & 0 & 0\\\\0 & - 1.0 i & 0 & 0 & - 0.5 i & 0 & 0 & 0\\\\0 & 0 & 0 & 0.5 i & 0 & - 0.5 i & - 1.5 i & 0\\\\0 & - 1.5 i & - 0.5 i & 0 & 0.5 i & 0 & 0 & 0\\\\0 & 0 & 0 & - 0.5 i & 0 & 0 & - 1.0 i & 0\\\\0 & 0 & 0 & - 1.5 i & 0 & - 1.0 i & 1.0 i & 0\\\\0 & 0 & 0 & 0 & 0 & 0 & 0 & - 1.5 i\\end{matrix}\\right]$"
      ],
      "text/plain": [
       "Matrix([\n",
       "[-1.5*I,      0,      0,      0,      0,      0,      0,      0],\n",
       "[     0,  1.0*I, -1.0*I,      0, -1.5*I,      0,      0,      0],\n",
       "[     0, -1.0*I,      0,      0, -0.5*I,      0,      0,      0],\n",
       "[     0,      0,      0,  0.5*I,      0, -0.5*I, -1.5*I,      0],\n",
       "[     0, -1.5*I, -0.5*I,      0,  0.5*I,      0,      0,      0],\n",
       "[     0,      0,      0, -0.5*I,      0,      0, -1.0*I,      0],\n",
       "[     0,      0,      0, -1.5*I,      0, -1.0*I,  1.0*I,      0],\n",
       "[     0,      0,      0,      0,      0,      0,      0, -1.5*I]])"
      ]
     },
     "execution_count": 22,
     "metadata": {},
     "output_type": "execute_result"
    }
   ],
   "source": [
    "OB = - smp.I * (1 * (X1 * X2 + Y1 * Y2 + Z1 * Z2) \\\n",
    "            + 2 * (X2 * X3 + Y2 * Y3 + Z2 * Z3) \\\n",
    "            + 3 * (X3 * X1 + Y3 * Y1 + Z3 * Z1) ) \n",
    "OB"
   ]
  },
  {
   "cell_type": "code",
   "execution_count": 26,
   "metadata": {},
   "outputs": [
    {
     "data": {
      "text/latex": [
       "$\\displaystyle \\left[\\begin{matrix}0 & 0 & 0 & 0 & 0 & 0 & 0 & 0\\\\0 & 0 & 0 & 0 & 0 & 0 & 0 & 0\\\\0 & 0 & 0 & 0 & 0 & 0 & 0 & 0\\\\0 & 0 & 0 & 0 & 0 & 0 & 0 & 0\\\\0 & 0 & 0 & 0 & 0 & 0 & 0 & 0\\\\0 & 0 & 0 & 0 & 0 & 0 & 0 & 0\\\\0 & 0 & 0 & 0 & 0 & 0 & 0 & 0\\\\0 & 0 & 0 & 0 & 0 & 0 & 0 & 0\\end{matrix}\\right]$"
      ],
      "text/plain": [
       "Matrix([\n",
       "[0, 0, 0, 0, 0, 0, 0, 0],\n",
       "[0, 0, 0, 0, 0, 0, 0, 0],\n",
       "[0, 0, 0, 0, 0, 0, 0, 0],\n",
       "[0, 0, 0, 0, 0, 0, 0, 0],\n",
       "[0, 0, 0, 0, 0, 0, 0, 0],\n",
       "[0, 0, 0, 0, 0, 0, 0, 0],\n",
       "[0, 0, 0, 0, 0, 0, 0, 0],\n",
       "[0, 0, 0, 0, 0, 0, 0, 0]])"
      ]
     },
     "execution_count": 26,
     "metadata": {},
     "output_type": "execute_result"
    }
   ],
   "source": [
    "C4 = OB * JH - JH * OB\n",
    "C4 @ H - H @ C4"
   ]
  },
  {
   "cell_type": "code",
   "execution_count": null,
   "metadata": {},
   "outputs": [],
   "source": []
  },
  {
   "cell_type": "code",
   "execution_count": null,
   "metadata": {},
   "outputs": [],
   "source": []
  },
  {
   "cell_type": "code",
   "execution_count": null,
   "metadata": {},
   "outputs": [],
   "source": []
  }
 ],
 "metadata": {
  "kernelspec": {
   "display_name": "perso",
   "language": "python",
   "name": "python3"
  },
  "language_info": {
   "codemirror_mode": {
    "name": "ipython",
    "version": 3
   },
   "file_extension": ".py",
   "mimetype": "text/x-python",
   "name": "python",
   "nbconvert_exporter": "python",
   "pygments_lexer": "ipython3",
   "version": "3.11.5"
  }
 },
 "nbformat": 4,
 "nbformat_minor": 2
}
