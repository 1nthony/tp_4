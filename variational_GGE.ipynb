{
 "cells": [
  {
   "cell_type": "code",
   "execution_count": 31,
   "metadata": {},
   "outputs": [],
   "source": [
    "import numpy as np\n",
    "import matplotlib.pyplot as plt\n",
    "from scipy.optimize import fmin\n",
    "import os\n",
    "import scipy as scp\n",
    "\n",
    "import scienceplots\n",
    "\n",
    "plt.style.use(['science', 'notebook', 'nature'])"
   ]
  },
  {
   "cell_type": "code",
   "execution_count": 2,
   "metadata": {},
   "outputs": [],
   "source": [
    "# number of vectors taken from the computational basis\n",
    "N = 20\n",
    "dir_res = 'results'"
   ]
  },
  {
   "cell_type": "markdown",
   "metadata": {},
   "source": [
    "# Tools\n"
   ]
  },
  {
   "cell_type": "code",
   "execution_count": 3,
   "metadata": {},
   "outputs": [
    {
     "data": {
      "text/plain": [
       "1.5414940825367982"
      ]
     },
     "execution_count": 3,
     "metadata": {},
     "output_type": "execute_result"
    }
   ],
   "source": [
    "def n_avg(beta) :\n",
    "    '''\n",
    "    Returns the average number of particles at a given inverse temperature\n",
    "\n",
    "    Parameters\n",
    "    ----------\n",
    "    beta : array\n",
    "        inverse temperature\n",
    "\n",
    "    Return\n",
    "    ------\n",
    "    n_avg : array\n",
    "        average number of particles at T=1/beta\n",
    "\n",
    "    '''\n",
    "    return 1/(np.exp(beta) - 1)\n",
    "\n",
    "n_avg(0.5)"
   ]
  },
  {
   "cell_type": "code",
   "execution_count": 4,
   "metadata": {},
   "outputs": [],
   "source": [
    "def exp_mat(M) :\n",
    "    '''\n",
    "    Computes the matrix exponential exp(M)\n",
    "    \n",
    "    Parameters\n",
    "    ----------\n",
    "    M : array\n",
    "        matrix\n",
    "\n",
    "    Return\n",
    "    ------\n",
    "    exp(M) : array\n",
    "    '''\n",
    "    e_val, P = np.linalg.eig(M)\n",
    "    D_exp = np.diag(np.exp(e_val))\n",
    "    return P @ D_exp @ np.linalg.inv(P)"
   ]
  },
  {
   "cell_type": "code",
   "execution_count": 5,
   "metadata": {},
   "outputs": [],
   "source": [
    "def optimize(l, lagr_0, a, at, beta, ansatz, folder, i, **args) :\n",
    "    '''\n",
    "    Minimize the loss l with respect to the lagrange multipliers, \n",
    "    and write all results in folder/output.data\n",
    "\n",
    "    Parameters\n",
    "    ----------\n",
    "    l : function\n",
    "        loss\n",
    "    lagr_0 : array\n",
    "        initial guess for the lagrange multipliers\n",
    "    a : array\n",
    "        annihilation operator\n",
    "    at : array\n",
    "        creation operator\n",
    "    beta : array\n",
    "        inverse temperature\n",
    "    ansatz : function\n",
    "        compute the ansatz for the density matrix given lagrand multipliers\n",
    "    folder : str\n",
    "        location where output is written\n",
    "    i : int\n",
    "        index of optimization\n",
    "    **args : dic\n",
    "        (optional) extra parameters used in the Hamiltonian (like\n",
    "        frequencies, ratio parameters, ...)\n",
    "\n",
    "    Note\n",
    "    ----\n",
    "    fmin[0]     # xopt \n",
    "    fmin[1]     # fopt\n",
    "    fmin[2]     # nb iteration\n",
    "    fmin[3]     # funcalls\n",
    "    fmin[4]     # warnflag\n",
    "    fmin[5]     # solution at each iterations\n",
    "    '''\n",
    "    sols = {}\n",
    "\n",
    "    solution = fmin(lambda x: l(x, ansatz, a, at, beta, **args), lagr_0, retall=True, full_output=True)\n",
    "    sols['inv_temp'] = np.array([beta])\n",
    "    sols['history'] = np.array(solution[5])\n",
    "    sols['lagr_best'] = solution[0]\n",
    "    sols['rho_best'] = ansatz(sols['lagr_best'], a, at, **args)\n",
    "    sols['fopt'] = np.array([solution[1]])\n",
    "\n",
    "    subfolder = f'{folder}/output_{i}'\n",
    "    os.makedirs(subfolder, exist_ok=True)\n",
    "\n",
    "    np.savetxt(f'{subfolder}/history.txt', sols['history'])\n",
    "    np.savetxt(f'{subfolder}/loss_rho_best.txt', sols['fopt'])\n",
    "    np.savetxt(f'{subfolder}/lagr_best.txt', sols['lagr_best'])\n",
    "    np.savetxt(f'{subfolder}/inverse_temperature.txt', sols['inv_temp'])\n",
    "    np.savetxt(f'{subfolder}/rho_best.txt', sols['rho_best'])\n",
    "\n",
    "    return sols\n",
    "\n"
   ]
  },
  {
   "cell_type": "markdown",
   "metadata": {},
   "source": [
    "### $a$, $a^\\dag$\n"
   ]
  },
  {
   "cell_type": "code",
   "execution_count": 6,
   "metadata": {},
   "outputs": [],
   "source": [
    "def creation_annihilation(N) :\n",
    "    '''\n",
    "    Create $a$ and $a^\\dag$ the single particle creation and annihilation operators\n",
    "    in the matrix form, in the computational basis {|n>}.\n",
    "\n",
    "    Parameters\n",
    "    ----------\n",
    "    N : int\n",
    "        number of excited states to use in the basis\n",
    "    \n",
    "    Return\n",
    "    ------\n",
    "    a : array\n",
    "        annihilation operator\n",
    "    at : array\n",
    "        creation operator\n",
    "    '''\n",
    "    ev_a = np.sqrt(np.arange(1, N))\n",
    "\n",
    "    a = np.zeros((N,N))\n",
    "    for i in range(0, N-1) :\n",
    "        a[i,i+1] = ev_a[i]\n",
    "\n",
    "    at = np.zeros((N,N))\n",
    "    for i in range(0, N) :\n",
    "        at[i,i-1] = ev_a[i-1]\n",
    "\n",
    "    return a, at"
   ]
  },
  {
   "cell_type": "markdown",
   "metadata": {},
   "source": [
    "### tests $a$ and $a^\\dag$\n"
   ]
  },
  {
   "cell_type": "code",
   "execution_count": 7,
   "metadata": {},
   "outputs": [],
   "source": [
    "a, at = creation_annihilation(N)"
   ]
  },
  {
   "cell_type": "code",
   "execution_count": 8,
   "metadata": {},
   "outputs": [
    {
     "data": {
      "text/plain": [
       "array([1., 0., 0., 0., 0., 0., 0., 0., 0., 0., 0., 0., 0., 0., 0., 0., 0.,\n",
       "       0., 0., 0.])"
      ]
     },
     "execution_count": 8,
     "metadata": {},
     "output_type": "execute_result"
    }
   ],
   "source": [
    "ground_state = np.zeros(N)\n",
    "ground_state[0] += 1\n",
    "\n",
    "ground_state"
   ]
  },
  {
   "cell_type": "code",
   "execution_count": 9,
   "metadata": {},
   "outputs": [
    {
     "data": {
      "text/plain": [
       "array([0., 0., 0., 0., 0., 0., 0., 0., 0., 0., 0., 0., 0., 0., 0., 0., 0.,\n",
       "       0., 0., 0.])"
      ]
     },
     "execution_count": 9,
     "metadata": {},
     "output_type": "execute_result"
    }
   ],
   "source": [
    "a @ ground_state"
   ]
  },
  {
   "cell_type": "code",
   "execution_count": 10,
   "metadata": {},
   "outputs": [
    {
     "data": {
      "text/plain": [
       "array([0., 0., 0., 0., 0., 0., 0., 1., 0., 0., 0., 0., 0., 0., 0., 0., 0.,\n",
       "       0., 0., 0.])"
      ]
     },
     "execution_count": 10,
     "metadata": {},
     "output_type": "execute_result"
    }
   ],
   "source": [
    "seven = np.zeros(N)\n",
    "seven[7] += 1\n",
    "seven"
   ]
  },
  {
   "cell_type": "code",
   "execution_count": 11,
   "metadata": {},
   "outputs": [
    {
     "data": {
      "text/plain": [
       "(array([0.        , 0.        , 0.        , 0.        , 0.        ,\n",
       "        0.        , 2.64575131, 0.        , 0.        , 0.        ,\n",
       "        0.        , 0.        , 0.        , 0.        , 0.        ,\n",
       "        0.        , 0.        , 0.        , 0.        , 0.        ]),\n",
       " 2.6457513110645907)"
      ]
     },
     "execution_count": 11,
     "metadata": {},
     "output_type": "execute_result"
    }
   ],
   "source": [
    "a @ seven, np.sqrt(7)"
   ]
  },
  {
   "cell_type": "code",
   "execution_count": 12,
   "metadata": {},
   "outputs": [
    {
     "data": {
      "text/plain": [
       "array([0., 0., 0., 0., 0., 0., 0., 7., 0., 0., 0., 0., 0., 0., 0., 0., 0.,\n",
       "       0., 0., 0.])"
      ]
     },
     "execution_count": 12,
     "metadata": {},
     "output_type": "execute_result"
    }
   ],
   "source": [
    "at @ a @ seven"
   ]
  },
  {
   "cell_type": "code",
   "execution_count": 13,
   "metadata": {},
   "outputs": [
    {
     "data": {
      "text/plain": [
       "array([0., 0., 0., 0., 0., 0., 0., 8., 0., 0., 0., 0., 0., 0., 0., 0., 0.,\n",
       "       0., 0., 0.])"
      ]
     },
     "execution_count": 13,
     "metadata": {},
     "output_type": "execute_result"
    }
   ],
   "source": [
    "a @ at @ seven"
   ]
  },
  {
   "cell_type": "code",
   "execution_count": 14,
   "metadata": {},
   "outputs": [
    {
     "data": {
      "text/plain": [
       "array([0., 0., 0., 0., 0., 0., 0., 1., 0., 0., 0., 0., 0., 0., 0., 0., 0.,\n",
       "       0., 0., 0.])"
      ]
     },
     "execution_count": 14,
     "metadata": {},
     "output_type": "execute_result"
    }
   ],
   "source": [
    "seven"
   ]
  },
  {
   "cell_type": "markdown",
   "metadata": {},
   "source": [
    "# Case 1\n"
   ]
  },
  {
   "cell_type": "markdown",
   "metadata": {},
   "source": [
    "#### $\\hat H = \\hat a^\\dag \\hat a$\n"
   ]
  },
  {
   "cell_type": "markdown",
   "metadata": {},
   "source": [
    "#### $ \\mathcal{L} \\hat \\rho = - i\\mkern1mu \\left[\\hat H, \\hat \\rho \\right] + \\gamma (\\bar n + 1) \\left( \\hat a \\hat \\rho \\hat a^\\dag - \\frac{1}{2} \\left\\{ \\hat a^\\dag \\hat a, \\hat \\rho \\right\\} \\right) + \\gamma \\bar n \\left( \\hat a^\\dag \\hat \\rho \\hat a - \\frac{1}{2} \\left\\{ \\hat a \\hat a^\\dag, \\hat \\rho \\right\\} \\right)$\n"
   ]
  },
  {
   "cell_type": "markdown",
   "metadata": {},
   "source": [
    "#### Ansatz : $ \\hat \\rho = \\frac{e^{- \\lambda \\hat H}}{\\text{Tr}(e^{- \\lambda \\hat H})}$\n"
   ]
  },
  {
   "cell_type": "markdown",
   "metadata": {},
   "source": [
    "Description of the physical system\n"
   ]
  },
  {
   "cell_type": "markdown",
   "metadata": {},
   "source": [
    "$ \\hat H = \\hat a^\\dag \\hat a$\n"
   ]
  },
  {
   "cell_type": "code",
   "execution_count": 15,
   "metadata": {},
   "outputs": [],
   "source": [
    "def H(a, at, **args) :\n",
    "    '''\n",
    "    Computes the matrix form of a Hamiltonian in the computational basis\n",
    "\n",
    "    Parameters\n",
    "    ----------\n",
    "    a : array\n",
    "        annihilation operator\n",
    "    at : array\n",
    "        creation operator\n",
    "    **args : dic\n",
    "        (optional) extra parameters used in the Hamiltonian (like\n",
    "        frequencies, ratio parameters, ...)  \n",
    "\n",
    "    Return\n",
    "    ------\n",
    "    H : array\n",
    "        matrix form of Hamiltonian \n",
    "    '''\n",
    "    extra_params = args \n",
    "    a, at = creation_annihilation(N)\n",
    "    H = at @ a\n",
    "    return H\n"
   ]
  },
  {
   "cell_type": "code",
   "execution_count": 16,
   "metadata": {},
   "outputs": [
    {
     "data": {
      "text/plain": [
       "array([[ 0.,  0.,  0.,  0.,  0.,  0.,  0.,  0.,  0.,  0.,  0.,  0.,  0.,\n",
       "         0.,  0.,  0.,  0.,  0.,  0.,  0.],\n",
       "       [ 0.,  1.,  0.,  0.,  0.,  0.,  0.,  0.,  0.,  0.,  0.,  0.,  0.,\n",
       "         0.,  0.,  0.,  0.,  0.,  0.,  0.],\n",
       "       [ 0.,  0.,  2.,  0.,  0.,  0.,  0.,  0.,  0.,  0.,  0.,  0.,  0.,\n",
       "         0.,  0.,  0.,  0.,  0.,  0.,  0.],\n",
       "       [ 0.,  0.,  0.,  3.,  0.,  0.,  0.,  0.,  0.,  0.,  0.,  0.,  0.,\n",
       "         0.,  0.,  0.,  0.,  0.,  0.,  0.],\n",
       "       [ 0.,  0.,  0.,  0.,  4.,  0.,  0.,  0.,  0.,  0.,  0.,  0.,  0.,\n",
       "         0.,  0.,  0.,  0.,  0.,  0.,  0.],\n",
       "       [ 0.,  0.,  0.,  0.,  0.,  5.,  0.,  0.,  0.,  0.,  0.,  0.,  0.,\n",
       "         0.,  0.,  0.,  0.,  0.,  0.,  0.],\n",
       "       [ 0.,  0.,  0.,  0.,  0.,  0.,  6.,  0.,  0.,  0.,  0.,  0.,  0.,\n",
       "         0.,  0.,  0.,  0.,  0.,  0.,  0.],\n",
       "       [ 0.,  0.,  0.,  0.,  0.,  0.,  0.,  7.,  0.,  0.,  0.,  0.,  0.,\n",
       "         0.,  0.,  0.,  0.,  0.,  0.,  0.],\n",
       "       [ 0.,  0.,  0.,  0.,  0.,  0.,  0.,  0.,  8.,  0.,  0.,  0.,  0.,\n",
       "         0.,  0.,  0.,  0.,  0.,  0.,  0.],\n",
       "       [ 0.,  0.,  0.,  0.,  0.,  0.,  0.,  0.,  0.,  9.,  0.,  0.,  0.,\n",
       "         0.,  0.,  0.,  0.,  0.,  0.,  0.],\n",
       "       [ 0.,  0.,  0.,  0.,  0.,  0.,  0.,  0.,  0.,  0., 10.,  0.,  0.,\n",
       "         0.,  0.,  0.,  0.,  0.,  0.,  0.],\n",
       "       [ 0.,  0.,  0.,  0.,  0.,  0.,  0.,  0.,  0.,  0.,  0., 11.,  0.,\n",
       "         0.,  0.,  0.,  0.,  0.,  0.,  0.],\n",
       "       [ 0.,  0.,  0.,  0.,  0.,  0.,  0.,  0.,  0.,  0.,  0.,  0., 12.,\n",
       "         0.,  0.,  0.,  0.,  0.,  0.,  0.],\n",
       "       [ 0.,  0.,  0.,  0.,  0.,  0.,  0.,  0.,  0.,  0.,  0.,  0.,  0.,\n",
       "        13.,  0.,  0.,  0.,  0.,  0.,  0.],\n",
       "       [ 0.,  0.,  0.,  0.,  0.,  0.,  0.,  0.,  0.,  0.,  0.,  0.,  0.,\n",
       "         0., 14.,  0.,  0.,  0.,  0.,  0.],\n",
       "       [ 0.,  0.,  0.,  0.,  0.,  0.,  0.,  0.,  0.,  0.,  0.,  0.,  0.,\n",
       "         0.,  0., 15.,  0.,  0.,  0.,  0.],\n",
       "       [ 0.,  0.,  0.,  0.,  0.,  0.,  0.,  0.,  0.,  0.,  0.,  0.,  0.,\n",
       "         0.,  0.,  0., 16.,  0.,  0.,  0.],\n",
       "       [ 0.,  0.,  0.,  0.,  0.,  0.,  0.,  0.,  0.,  0.,  0.,  0.,  0.,\n",
       "         0.,  0.,  0.,  0., 17.,  0.,  0.],\n",
       "       [ 0.,  0.,  0.,  0.,  0.,  0.,  0.,  0.,  0.,  0.,  0.,  0.,  0.,\n",
       "         0.,  0.,  0.,  0.,  0., 18.,  0.],\n",
       "       [ 0.,  0.,  0.,  0.,  0.,  0.,  0.,  0.,  0.,  0.,  0.,  0.,  0.,\n",
       "         0.,  0.,  0.,  0.,  0.,  0., 19.]])"
      ]
     },
     "execution_count": 16,
     "metadata": {},
     "output_type": "execute_result"
    }
   ],
   "source": [
    "H(a, at)"
   ]
  },
  {
   "cell_type": "markdown",
   "metadata": {},
   "source": [
    "Ansatz : $ \\hat \\rho = \\frac{e^{- \\lambda \\hat H}}{\\text{Tr}(e^{- \\lambda \\hat H})}$\n"
   ]
  },
  {
   "cell_type": "code",
   "execution_count": 17,
   "metadata": {},
   "outputs": [],
   "source": [
    "def ansatz_1(lagr, a, at, **args) :\n",
    "    '''\n",
    "    Creates an ansatz for the density matrix given some parameters\n",
    "\n",
    "    Parameters\n",
    "    ----------\n",
    "    lagr : array\n",
    "        Lagrange multipliers of (pseudo-)conserved quantities.\n",
    "        They are the variational parameters\n",
    "    a : array\n",
    "        annihilation operator\n",
    "    at : array\n",
    "        creation operator\n",
    "    **args : dic\n",
    "        (optional) extra parameters used in the Hamiltonian (like\n",
    "        frequencies, ratio parameters, ...)\n",
    "        \n",
    "    Return\n",
    "    ------\n",
    "    rho : array\n",
    "        density matrix (ansatz)\n",
    "    '''\n",
    "    U = exp_mat(- lagr * H(a, at, **args))\n",
    "    rho = U / np.trace(U)\n",
    "    return rho"
   ]
  },
  {
   "cell_type": "code",
   "execution_count": 18,
   "metadata": {},
   "outputs": [
    {
     "data": {
      "text/plain": [
       "array([[5.03415115e-01, 0.00000000e+00, 0.00000000e+00, 0.00000000e+00,\n",
       "        0.00000000e+00, 0.00000000e+00, 0.00000000e+00, 0.00000000e+00,\n",
       "        0.00000000e+00, 0.00000000e+00, 0.00000000e+00, 0.00000000e+00,\n",
       "        0.00000000e+00, 0.00000000e+00, 0.00000000e+00, 0.00000000e+00,\n",
       "        0.00000000e+00, 0.00000000e+00, 0.00000000e+00, 0.00000000e+00],\n",
       "       [0.00000000e+00, 2.49988548e-01, 0.00000000e+00, 0.00000000e+00,\n",
       "        0.00000000e+00, 0.00000000e+00, 0.00000000e+00, 0.00000000e+00,\n",
       "        0.00000000e+00, 0.00000000e+00, 0.00000000e+00, 0.00000000e+00,\n",
       "        0.00000000e+00, 0.00000000e+00, 0.00000000e+00, 0.00000000e+00,\n",
       "        0.00000000e+00, 0.00000000e+00, 0.00000000e+00, 0.00000000e+00],\n",
       "       [0.00000000e+00, 0.00000000e+00, 1.24140639e-01, 0.00000000e+00,\n",
       "        0.00000000e+00, 0.00000000e+00, 0.00000000e+00, 0.00000000e+00,\n",
       "        0.00000000e+00, 0.00000000e+00, 0.00000000e+00, 0.00000000e+00,\n",
       "        0.00000000e+00, 0.00000000e+00, 0.00000000e+00, 0.00000000e+00,\n",
       "        0.00000000e+00, 0.00000000e+00, 0.00000000e+00, 0.00000000e+00],\n",
       "       [0.00000000e+00, 0.00000000e+00, 0.00000000e+00, 6.16464169e-02,\n",
       "        0.00000000e+00, 0.00000000e+00, 0.00000000e+00, 0.00000000e+00,\n",
       "        0.00000000e+00, 0.00000000e+00, 0.00000000e+00, 0.00000000e+00,\n",
       "        0.00000000e+00, 0.00000000e+00, 0.00000000e+00, 0.00000000e+00,\n",
       "        0.00000000e+00, 0.00000000e+00, 0.00000000e+00, 0.00000000e+00],\n",
       "       [0.00000000e+00, 0.00000000e+00, 0.00000000e+00, 0.00000000e+00,\n",
       "        3.06127047e-02, 0.00000000e+00, 0.00000000e+00, 0.00000000e+00,\n",
       "        0.00000000e+00, 0.00000000e+00, 0.00000000e+00, 0.00000000e+00,\n",
       "        0.00000000e+00, 0.00000000e+00, 0.00000000e+00, 0.00000000e+00,\n",
       "        0.00000000e+00, 0.00000000e+00, 0.00000000e+00, 0.00000000e+00],\n",
       "       [0.00000000e+00, 0.00000000e+00, 0.00000000e+00, 0.00000000e+00,\n",
       "        0.00000000e+00, 1.52018192e-02, 0.00000000e+00, 0.00000000e+00,\n",
       "        0.00000000e+00, 0.00000000e+00, 0.00000000e+00, 0.00000000e+00,\n",
       "        0.00000000e+00, 0.00000000e+00, 0.00000000e+00, 0.00000000e+00,\n",
       "        0.00000000e+00, 0.00000000e+00, 0.00000000e+00, 0.00000000e+00],\n",
       "       [0.00000000e+00, 0.00000000e+00, 0.00000000e+00, 0.00000000e+00,\n",
       "        0.00000000e+00, 0.00000000e+00, 7.54900003e-03, 0.00000000e+00,\n",
       "        0.00000000e+00, 0.00000000e+00, 0.00000000e+00, 0.00000000e+00,\n",
       "        0.00000000e+00, 0.00000000e+00, 0.00000000e+00, 0.00000000e+00,\n",
       "        0.00000000e+00, 0.00000000e+00, 0.00000000e+00, 0.00000000e+00],\n",
       "       [0.00000000e+00, 0.00000000e+00, 0.00000000e+00, 0.00000000e+00,\n",
       "        0.00000000e+00, 0.00000000e+00, 0.00000000e+00, 3.74872247e-03,\n",
       "        0.00000000e+00, 0.00000000e+00, 0.00000000e+00, 0.00000000e+00,\n",
       "        0.00000000e+00, 0.00000000e+00, 0.00000000e+00, 0.00000000e+00,\n",
       "        0.00000000e+00, 0.00000000e+00, 0.00000000e+00, 0.00000000e+00],\n",
       "       [0.00000000e+00, 0.00000000e+00, 0.00000000e+00, 0.00000000e+00,\n",
       "        0.00000000e+00, 0.00000000e+00, 0.00000000e+00, 0.00000000e+00,\n",
       "        1.86156049e-03, 0.00000000e+00, 0.00000000e+00, 0.00000000e+00,\n",
       "        0.00000000e+00, 0.00000000e+00, 0.00000000e+00, 0.00000000e+00,\n",
       "        0.00000000e+00, 0.00000000e+00, 0.00000000e+00, 0.00000000e+00],\n",
       "       [0.00000000e+00, 0.00000000e+00, 0.00000000e+00, 0.00000000e+00,\n",
       "        0.00000000e+00, 0.00000000e+00, 0.00000000e+00, 0.00000000e+00,\n",
       "        0.00000000e+00, 9.24423580e-04, 0.00000000e+00, 0.00000000e+00,\n",
       "        0.00000000e+00, 0.00000000e+00, 0.00000000e+00, 0.00000000e+00,\n",
       "        0.00000000e+00, 0.00000000e+00, 0.00000000e+00, 0.00000000e+00],\n",
       "       [0.00000000e+00, 0.00000000e+00, 0.00000000e+00, 0.00000000e+00,\n",
       "        0.00000000e+00, 0.00000000e+00, 0.00000000e+00, 0.00000000e+00,\n",
       "        0.00000000e+00, 0.00000000e+00, 4.59055164e-04, 0.00000000e+00,\n",
       "        0.00000000e+00, 0.00000000e+00, 0.00000000e+00, 0.00000000e+00,\n",
       "        0.00000000e+00, 0.00000000e+00, 0.00000000e+00, 0.00000000e+00],\n",
       "       [0.00000000e+00, 0.00000000e+00, 0.00000000e+00, 0.00000000e+00,\n",
       "        0.00000000e+00, 0.00000000e+00, 0.00000000e+00, 0.00000000e+00,\n",
       "        0.00000000e+00, 0.00000000e+00, 0.00000000e+00, 2.27960048e-04,\n",
       "        0.00000000e+00, 0.00000000e+00, 0.00000000e+00, 0.00000000e+00,\n",
       "        0.00000000e+00, 0.00000000e+00, 0.00000000e+00, 0.00000000e+00],\n",
       "       [0.00000000e+00, 0.00000000e+00, 0.00000000e+00, 0.00000000e+00,\n",
       "        0.00000000e+00, 0.00000000e+00, 0.00000000e+00, 0.00000000e+00,\n",
       "        0.00000000e+00, 0.00000000e+00, 0.00000000e+00, 0.00000000e+00,\n",
       "        1.13201610e-04, 0.00000000e+00, 0.00000000e+00, 0.00000000e+00,\n",
       "        0.00000000e+00, 0.00000000e+00, 0.00000000e+00, 0.00000000e+00],\n",
       "       [0.00000000e+00, 0.00000000e+00, 0.00000000e+00, 0.00000000e+00,\n",
       "        0.00000000e+00, 0.00000000e+00, 0.00000000e+00, 0.00000000e+00,\n",
       "        0.00000000e+00, 0.00000000e+00, 0.00000000e+00, 0.00000000e+00,\n",
       "        0.00000000e+00, 5.62142558e-05, 0.00000000e+00, 0.00000000e+00,\n",
       "        0.00000000e+00, 0.00000000e+00, 0.00000000e+00, 0.00000000e+00],\n",
       "       [0.00000000e+00, 0.00000000e+00, 0.00000000e+00, 0.00000000e+00,\n",
       "        0.00000000e+00, 0.00000000e+00, 0.00000000e+00, 0.00000000e+00,\n",
       "        0.00000000e+00, 0.00000000e+00, 0.00000000e+00, 0.00000000e+00,\n",
       "        0.00000000e+00, 0.00000000e+00, 2.79151733e-05, 0.00000000e+00,\n",
       "        0.00000000e+00, 0.00000000e+00, 0.00000000e+00, 0.00000000e+00],\n",
       "       [0.00000000e+00, 0.00000000e+00, 0.00000000e+00, 0.00000000e+00,\n",
       "        0.00000000e+00, 0.00000000e+00, 0.00000000e+00, 0.00000000e+00,\n",
       "        0.00000000e+00, 0.00000000e+00, 0.00000000e+00, 0.00000000e+00,\n",
       "        0.00000000e+00, 0.00000000e+00, 0.00000000e+00, 1.38622648e-05,\n",
       "        0.00000000e+00, 0.00000000e+00, 0.00000000e+00, 0.00000000e+00],\n",
       "       [0.00000000e+00, 0.00000000e+00, 0.00000000e+00, 0.00000000e+00,\n",
       "        0.00000000e+00, 0.00000000e+00, 0.00000000e+00, 0.00000000e+00,\n",
       "        0.00000000e+00, 0.00000000e+00, 0.00000000e+00, 0.00000000e+00,\n",
       "        0.00000000e+00, 0.00000000e+00, 0.00000000e+00, 0.00000000e+00,\n",
       "        6.88379698e-06, 0.00000000e+00, 0.00000000e+00, 0.00000000e+00],\n",
       "       [0.00000000e+00, 0.00000000e+00, 0.00000000e+00, 0.00000000e+00,\n",
       "        0.00000000e+00, 0.00000000e+00, 0.00000000e+00, 0.00000000e+00,\n",
       "        0.00000000e+00, 0.00000000e+00, 0.00000000e+00, 0.00000000e+00,\n",
       "        0.00000000e+00, 0.00000000e+00, 0.00000000e+00, 0.00000000e+00,\n",
       "        0.00000000e+00, 3.41839242e-06, 0.00000000e+00, 0.00000000e+00],\n",
       "       [0.00000000e+00, 0.00000000e+00, 0.00000000e+00, 0.00000000e+00,\n",
       "        0.00000000e+00, 0.00000000e+00, 0.00000000e+00, 0.00000000e+00,\n",
       "        0.00000000e+00, 0.00000000e+00, 0.00000000e+00, 0.00000000e+00,\n",
       "        0.00000000e+00, 0.00000000e+00, 0.00000000e+00, 0.00000000e+00,\n",
       "        0.00000000e+00, 0.00000000e+00, 1.69752344e-06, 0.00000000e+00],\n",
       "       [0.00000000e+00, 0.00000000e+00, 0.00000000e+00, 0.00000000e+00,\n",
       "        0.00000000e+00, 0.00000000e+00, 0.00000000e+00, 0.00000000e+00,\n",
       "        0.00000000e+00, 0.00000000e+00, 0.00000000e+00, 0.00000000e+00,\n",
       "        0.00000000e+00, 0.00000000e+00, 0.00000000e+00, 0.00000000e+00,\n",
       "        0.00000000e+00, 0.00000000e+00, 0.00000000e+00, 8.42965191e-07]])"
      ]
     },
     "execution_count": 18,
     "metadata": {},
     "output_type": "execute_result"
    }
   ],
   "source": [
    "ansatz_1(0.7, a, at)"
   ]
  },
  {
   "cell_type": "markdown",
   "metadata": {},
   "source": [
    "$ \\mathcal{L} \\hat \\rho = - i\\mkern1mu \\left[\\hat H, \\hat \\rho \\right] + \\gamma (\\bar n + 1) \\left( \\hat a \\hat \\rho \\hat a^\\dag - \\frac{1}{2} \\left\\{ \\hat a^\\dag \\hat a, \\hat \\rho \\right\\} \\right) + \\gamma \\bar n \\left( \\hat a^\\dag \\hat \\rho \\hat a - \\frac{1}{2} \\left\\{ \\hat a \\hat a^\\dag, \\hat \\rho \\right\\} \\right)$\n"
   ]
  },
  {
   "cell_type": "code",
   "execution_count": 19,
   "metadata": {},
   "outputs": [],
   "source": [
    "def lindblad(M, a, at, beta, **args) :\n",
    "    '''\n",
    "    Computes the lindbladian of a density matrix M\n",
    "\n",
    "    Parameters\n",
    "    ----------\n",
    "    M : array \n",
    "        density matrix\n",
    "    a : array\n",
    "        annihilation operator\n",
    "    at : array\n",
    "        creation operator\n",
    "    beta : float\n",
    "        inversee temperature\n",
    "    **args : dic\n",
    "        (optional) extra parameters used in the Hamiltonian (like\n",
    "        frequencies, ratio parameters, ...)\n",
    "\n",
    "    Return\n",
    "    ------\n",
    "    L : float\n",
    "        the lindbladian\n",
    "    '''\n",
    "    L0 = - 1j * (H(a, at, **args) @ M - (H(a, at, **args).T @ M.T).T)\n",
    "    L1 = (n_avg(beta) + 1) * (a @ (a @ M.T).T - 0.5 * (at @ a @ M + (at @ a @ M.T).T))\n",
    "    L2 = n_avg(beta) * (at @ (at @ M.T).T - 0.5 * (a @ at @ M + (a @ at @ M.T).T))\n",
    "    return L0 + L1 + L2"
   ]
  },
  {
   "cell_type": "code",
   "execution_count": 20,
   "metadata": {},
   "outputs": [
    {
     "data": {
      "text/plain": [
       "array([[ 8.62637829e-04+0.j,  0.00000000e+00+0.j,  0.00000000e+00+0.j,\n",
       "         0.00000000e+00+0.j,  0.00000000e+00+0.j,  0.00000000e+00+0.j,\n",
       "         0.00000000e+00+0.j,  0.00000000e+00+0.j,  0.00000000e+00+0.j,\n",
       "         0.00000000e+00+0.j,  0.00000000e+00+0.j,  0.00000000e+00+0.j,\n",
       "         0.00000000e+00+0.j,  0.00000000e+00+0.j,  0.00000000e+00+0.j,\n",
       "         0.00000000e+00+0.j,  0.00000000e+00+0.j,  0.00000000e+00+0.j,\n",
       "         0.00000000e+00+0.j,  0.00000000e+00+0.j],\n",
       "       [ 0.00000000e+00+0.j, -1.94289029e-16+0.j,  0.00000000e+00+0.j,\n",
       "         0.00000000e+00+0.j,  0.00000000e+00+0.j,  0.00000000e+00+0.j,\n",
       "         0.00000000e+00+0.j,  0.00000000e+00+0.j,  0.00000000e+00+0.j,\n",
       "         0.00000000e+00+0.j,  0.00000000e+00+0.j,  0.00000000e+00+0.j,\n",
       "         0.00000000e+00+0.j,  0.00000000e+00+0.j,  0.00000000e+00+0.j,\n",
       "         0.00000000e+00+0.j,  0.00000000e+00+0.j,  0.00000000e+00+0.j,\n",
       "         0.00000000e+00+0.j,  0.00000000e+00+0.j],\n",
       "       [ 0.00000000e+00+0.j,  0.00000000e+00+0.j,  7.07767178e-16+0.j,\n",
       "         0.00000000e+00+0.j,  0.00000000e+00+0.j,  0.00000000e+00+0.j,\n",
       "         0.00000000e+00+0.j,  0.00000000e+00+0.j,  0.00000000e+00+0.j,\n",
       "         0.00000000e+00+0.j,  0.00000000e+00+0.j,  0.00000000e+00+0.j,\n",
       "         0.00000000e+00+0.j,  0.00000000e+00+0.j,  0.00000000e+00+0.j,\n",
       "         0.00000000e+00+0.j,  0.00000000e+00+0.j,  0.00000000e+00+0.j,\n",
       "         0.00000000e+00+0.j,  0.00000000e+00+0.j],\n",
       "       [ 0.00000000e+00+0.j,  0.00000000e+00+0.j,  0.00000000e+00+0.j,\n",
       "        -4.44089210e-16+0.j,  0.00000000e+00+0.j,  0.00000000e+00+0.j,\n",
       "         0.00000000e+00+0.j,  0.00000000e+00+0.j,  0.00000000e+00+0.j,\n",
       "         0.00000000e+00+0.j,  0.00000000e+00+0.j,  0.00000000e+00+0.j,\n",
       "         0.00000000e+00+0.j,  0.00000000e+00+0.j,  0.00000000e+00+0.j,\n",
       "         0.00000000e+00+0.j,  0.00000000e+00+0.j,  0.00000000e+00+0.j,\n",
       "         0.00000000e+00+0.j,  0.00000000e+00+0.j],\n",
       "       [ 0.00000000e+00+0.j,  0.00000000e+00+0.j,  0.00000000e+00+0.j,\n",
       "         0.00000000e+00+0.j, -2.22044605e-16+0.j,  0.00000000e+00+0.j,\n",
       "         0.00000000e+00+0.j,  0.00000000e+00+0.j,  0.00000000e+00+0.j,\n",
       "         0.00000000e+00+0.j,  0.00000000e+00+0.j,  0.00000000e+00+0.j,\n",
       "         0.00000000e+00+0.j,  0.00000000e+00+0.j,  0.00000000e+00+0.j,\n",
       "         0.00000000e+00+0.j,  0.00000000e+00+0.j,  0.00000000e+00+0.j,\n",
       "         0.00000000e+00+0.j,  0.00000000e+00+0.j],\n",
       "       [ 0.00000000e+00+0.j,  0.00000000e+00+0.j,  0.00000000e+00+0.j,\n",
       "         0.00000000e+00+0.j,  0.00000000e+00+0.j,  4.85722573e-16+0.j,\n",
       "         0.00000000e+00+0.j,  0.00000000e+00+0.j,  0.00000000e+00+0.j,\n",
       "         0.00000000e+00+0.j,  0.00000000e+00+0.j,  0.00000000e+00+0.j,\n",
       "         0.00000000e+00+0.j,  0.00000000e+00+0.j,  0.00000000e+00+0.j,\n",
       "         0.00000000e+00+0.j,  0.00000000e+00+0.j,  0.00000000e+00+0.j,\n",
       "         0.00000000e+00+0.j,  0.00000000e+00+0.j],\n",
       "       [ 0.00000000e+00+0.j,  0.00000000e+00+0.j,  0.00000000e+00+0.j,\n",
       "         0.00000000e+00+0.j,  0.00000000e+00+0.j,  0.00000000e+00+0.j,\n",
       "        -4.99600361e-16+0.j,  0.00000000e+00+0.j,  0.00000000e+00+0.j,\n",
       "         0.00000000e+00+0.j,  0.00000000e+00+0.j,  0.00000000e+00+0.j,\n",
       "         0.00000000e+00+0.j,  0.00000000e+00+0.j,  0.00000000e+00+0.j,\n",
       "         0.00000000e+00+0.j,  0.00000000e+00+0.j,  0.00000000e+00+0.j,\n",
       "         0.00000000e+00+0.j,  0.00000000e+00+0.j],\n",
       "       [ 0.00000000e+00+0.j,  0.00000000e+00+0.j,  0.00000000e+00+0.j,\n",
       "         0.00000000e+00+0.j,  0.00000000e+00+0.j,  0.00000000e+00+0.j,\n",
       "         0.00000000e+00+0.j,  9.71445147e-17+0.j,  0.00000000e+00+0.j,\n",
       "         0.00000000e+00+0.j,  0.00000000e+00+0.j,  0.00000000e+00+0.j,\n",
       "         0.00000000e+00+0.j,  0.00000000e+00+0.j,  0.00000000e+00+0.j,\n",
       "         0.00000000e+00+0.j,  0.00000000e+00+0.j,  0.00000000e+00+0.j,\n",
       "         0.00000000e+00+0.j,  0.00000000e+00+0.j],\n",
       "       [ 0.00000000e+00+0.j,  0.00000000e+00+0.j,  0.00000000e+00+0.j,\n",
       "         0.00000000e+00+0.j,  0.00000000e+00+0.j,  0.00000000e+00+0.j,\n",
       "         0.00000000e+00+0.j,  0.00000000e+00+0.j,  1.45716772e-16+0.j,\n",
       "         0.00000000e+00+0.j,  0.00000000e+00+0.j,  0.00000000e+00+0.j,\n",
       "         0.00000000e+00+0.j,  0.00000000e+00+0.j,  0.00000000e+00+0.j,\n",
       "         0.00000000e+00+0.j,  0.00000000e+00+0.j,  0.00000000e+00+0.j,\n",
       "         0.00000000e+00+0.j,  0.00000000e+00+0.j],\n",
       "       [ 0.00000000e+00+0.j,  0.00000000e+00+0.j,  0.00000000e+00+0.j,\n",
       "         0.00000000e+00+0.j,  0.00000000e+00+0.j,  0.00000000e+00+0.j,\n",
       "         0.00000000e+00+0.j,  0.00000000e+00+0.j,  0.00000000e+00+0.j,\n",
       "        -1.59594560e-16+0.j,  0.00000000e+00+0.j,  0.00000000e+00+0.j,\n",
       "         0.00000000e+00+0.j,  0.00000000e+00+0.j,  0.00000000e+00+0.j,\n",
       "         0.00000000e+00+0.j,  0.00000000e+00+0.j,  0.00000000e+00+0.j,\n",
       "         0.00000000e+00+0.j,  0.00000000e+00+0.j],\n",
       "       [ 0.00000000e+00+0.j,  0.00000000e+00+0.j,  0.00000000e+00+0.j,\n",
       "         0.00000000e+00+0.j,  0.00000000e+00+0.j,  0.00000000e+00+0.j,\n",
       "         0.00000000e+00+0.j,  0.00000000e+00+0.j,  0.00000000e+00+0.j,\n",
       "         0.00000000e+00+0.j,  1.07552856e-16+0.j,  0.00000000e+00+0.j,\n",
       "         0.00000000e+00+0.j,  0.00000000e+00+0.j,  0.00000000e+00+0.j,\n",
       "         0.00000000e+00+0.j,  0.00000000e+00+0.j,  0.00000000e+00+0.j,\n",
       "         0.00000000e+00+0.j,  0.00000000e+00+0.j],\n",
       "       [ 0.00000000e+00+0.j,  0.00000000e+00+0.j,  0.00000000e+00+0.j,\n",
       "         0.00000000e+00+0.j,  0.00000000e+00+0.j,  0.00000000e+00+0.j,\n",
       "         0.00000000e+00+0.j,  0.00000000e+00+0.j,  0.00000000e+00+0.j,\n",
       "         0.00000000e+00+0.j,  0.00000000e+00+0.j, -5.20417043e-18+0.j,\n",
       "         0.00000000e+00+0.j,  0.00000000e+00+0.j,  0.00000000e+00+0.j,\n",
       "         0.00000000e+00+0.j,  0.00000000e+00+0.j,  0.00000000e+00+0.j,\n",
       "         0.00000000e+00+0.j,  0.00000000e+00+0.j],\n",
       "       [ 0.00000000e+00+0.j,  0.00000000e+00+0.j,  0.00000000e+00+0.j,\n",
       "         0.00000000e+00+0.j,  0.00000000e+00+0.j,  0.00000000e+00+0.j,\n",
       "         0.00000000e+00+0.j,  0.00000000e+00+0.j,  0.00000000e+00+0.j,\n",
       "         0.00000000e+00+0.j,  0.00000000e+00+0.j,  0.00000000e+00+0.j,\n",
       "        -2.42861287e-17+0.j,  0.00000000e+00+0.j,  0.00000000e+00+0.j,\n",
       "         0.00000000e+00+0.j,  0.00000000e+00+0.j,  0.00000000e+00+0.j,\n",
       "         0.00000000e+00+0.j,  0.00000000e+00+0.j],\n",
       "       [ 0.00000000e+00+0.j,  0.00000000e+00+0.j,  0.00000000e+00+0.j,\n",
       "         0.00000000e+00+0.j,  0.00000000e+00+0.j,  0.00000000e+00+0.j,\n",
       "         0.00000000e+00+0.j,  0.00000000e+00+0.j,  0.00000000e+00+0.j,\n",
       "         0.00000000e+00+0.j,  0.00000000e+00+0.j,  0.00000000e+00+0.j,\n",
       "         0.00000000e+00+0.j, -1.64798730e-17+0.j,  0.00000000e+00+0.j,\n",
       "         0.00000000e+00+0.j,  0.00000000e+00+0.j,  0.00000000e+00+0.j,\n",
       "         0.00000000e+00+0.j,  0.00000000e+00+0.j],\n",
       "       [ 0.00000000e+00+0.j,  0.00000000e+00+0.j,  0.00000000e+00+0.j,\n",
       "         0.00000000e+00+0.j,  0.00000000e+00+0.j,  0.00000000e+00+0.j,\n",
       "         0.00000000e+00+0.j,  0.00000000e+00+0.j,  0.00000000e+00+0.j,\n",
       "         0.00000000e+00+0.j,  0.00000000e+00+0.j,  0.00000000e+00+0.j,\n",
       "         0.00000000e+00+0.j,  0.00000000e+00+0.j,  6.93889390e-18+0.j,\n",
       "         0.00000000e+00+0.j,  0.00000000e+00+0.j,  0.00000000e+00+0.j,\n",
       "         0.00000000e+00+0.j,  0.00000000e+00+0.j],\n",
       "       [ 0.00000000e+00+0.j,  0.00000000e+00+0.j,  0.00000000e+00+0.j,\n",
       "         0.00000000e+00+0.j,  0.00000000e+00+0.j,  0.00000000e+00+0.j,\n",
       "         0.00000000e+00+0.j,  0.00000000e+00+0.j,  0.00000000e+00+0.j,\n",
       "         0.00000000e+00+0.j,  0.00000000e+00+0.j,  0.00000000e+00+0.j,\n",
       "         0.00000000e+00+0.j,  0.00000000e+00+0.j,  0.00000000e+00+0.j,\n",
       "         1.21430643e-17+0.j,  0.00000000e+00+0.j,  0.00000000e+00+0.j,\n",
       "         0.00000000e+00+0.j,  0.00000000e+00+0.j],\n",
       "       [ 0.00000000e+00+0.j,  0.00000000e+00+0.j,  0.00000000e+00+0.j,\n",
       "         0.00000000e+00+0.j,  0.00000000e+00+0.j,  0.00000000e+00+0.j,\n",
       "         0.00000000e+00+0.j,  0.00000000e+00+0.j,  0.00000000e+00+0.j,\n",
       "         0.00000000e+00+0.j,  0.00000000e+00+0.j,  0.00000000e+00+0.j,\n",
       "         0.00000000e+00+0.j,  0.00000000e+00+0.j,  0.00000000e+00+0.j,\n",
       "         0.00000000e+00+0.j, -5.20417043e-18+0.j,  0.00000000e+00+0.j,\n",
       "         0.00000000e+00+0.j,  0.00000000e+00+0.j],\n",
       "       [ 0.00000000e+00+0.j,  0.00000000e+00+0.j,  0.00000000e+00+0.j,\n",
       "         0.00000000e+00+0.j,  0.00000000e+00+0.j,  0.00000000e+00+0.j,\n",
       "         0.00000000e+00+0.j,  0.00000000e+00+0.j,  0.00000000e+00+0.j,\n",
       "         0.00000000e+00+0.j,  0.00000000e+00+0.j,  0.00000000e+00+0.j,\n",
       "         0.00000000e+00+0.j,  0.00000000e+00+0.j,  0.00000000e+00+0.j,\n",
       "         0.00000000e+00+0.j,  0.00000000e+00+0.j,  4.98732999e-18+0.j,\n",
       "         0.00000000e+00+0.j,  0.00000000e+00+0.j],\n",
       "       [ 0.00000000e+00+0.j,  0.00000000e+00+0.j,  0.00000000e+00+0.j,\n",
       "         0.00000000e+00+0.j,  0.00000000e+00+0.j,  0.00000000e+00+0.j,\n",
       "         0.00000000e+00+0.j,  0.00000000e+00+0.j,  0.00000000e+00+0.j,\n",
       "         0.00000000e+00+0.j,  0.00000000e+00+0.j,  0.00000000e+00+0.j,\n",
       "         0.00000000e+00+0.j,  0.00000000e+00+0.j,  0.00000000e+00+0.j,\n",
       "         0.00000000e+00+0.j,  0.00000000e+00+0.j,  0.00000000e+00+0.j,\n",
       "        -8.67361738e-18+0.j,  0.00000000e+00+0.j],\n",
       "       [ 0.00000000e+00+0.j,  0.00000000e+00+0.j,  0.00000000e+00+0.j,\n",
       "         0.00000000e+00+0.j,  0.00000000e+00+0.j,  0.00000000e+00+0.j,\n",
       "         0.00000000e+00+0.j,  0.00000000e+00+0.j,  0.00000000e+00+0.j,\n",
       "         0.00000000e+00+0.j,  0.00000000e+00+0.j,  0.00000000e+00+0.j,\n",
       "         0.00000000e+00+0.j,  0.00000000e+00+0.j,  0.00000000e+00+0.j,\n",
       "         0.00000000e+00+0.j,  0.00000000e+00+0.j,  0.00000000e+00+0.j,\n",
       "         0.00000000e+00+0.j,  5.20417043e-18+0.j]])"
      ]
     },
     "execution_count": 20,
     "metadata": {},
     "output_type": "execute_result"
    }
   ],
   "source": [
    "lindblad(ansatz_1(0.5, a, at), a, at, 0.5)"
   ]
  },
  {
   "cell_type": "markdown",
   "metadata": {},
   "source": [
    "Loss\n"
   ]
  },
  {
   "cell_type": "code",
   "execution_count": 21,
   "metadata": {},
   "outputs": [],
   "source": [
    "def loss(lagr, ansatz, a, at, beta, **args) :\n",
    "    '''\n",
    "    Computes the (Nuclear) norm of the Lindbladian of an ansatz density matrix\n",
    "    given the Lagrange multipliers\n",
    "\n",
    "    Parameters\n",
    "    ----------\n",
    "    lagr : array\n",
    "        Lagrange multipliers of (pseudo-)conserved quantities.\n",
    "        They are the variational parameters\n",
    "    ansatz : function\n",
    "        ansatz used in the variational procedure\n",
    "    a : array\n",
    "        annihilation operator\n",
    "    at : array\n",
    "        creation operator\n",
    "    beta : float\n",
    "        inverse temperature\n",
    "    **args : dic\n",
    "        (optional) extra parameters used in the Hamiltonian (like\n",
    "        frequencies, ratio parameters, ...)\n",
    "\n",
    "    Return\n",
    "    ------\n",
    "    ||L rho || : float\n",
    "        the Nuclear norm of the linbladian of the density matrix\n",
    "\n",
    "    Note\n",
    "    ----\n",
    "    We use the Nuclear norm because it is not biased (see [1])\n",
    "\n",
    "    References\n",
    "    ----------\n",
    "    [1] - Weimer, Variational principle for steady states of dissipative quantum many-body systems, 2015\n",
    "    '''\n",
    "    return np.linalg.norm(lindblad(ansatz(lagr, a, at, **args), a, at, beta, **args), 'nuc')"
   ]
  },
  {
   "cell_type": "code",
   "execution_count": 22,
   "metadata": {},
   "outputs": [
    {
     "data": {
      "text/plain": [
       "0.0008626378291870958"
      ]
     },
     "execution_count": 22,
     "metadata": {},
     "output_type": "execute_result"
    }
   ],
   "source": [
    "loss(np.array([0.5]), ansatz_1, a, at, 0.5)"
   ]
  },
  {
   "cell_type": "markdown",
   "metadata": {},
   "source": [
    "##### Parameters\n"
   ]
  },
  {
   "cell_type": "code",
   "execution_count": 23,
   "metadata": {},
   "outputs": [],
   "source": [
    "case = 1\n",
    "folder = f'{dir_res}/case_{case}'\n",
    "os.makedirs(folder, exist_ok=True)"
   ]
  },
  {
   "cell_type": "code",
   "execution_count": 24,
   "metadata": {},
   "outputs": [],
   "source": [
    "N = 20\n",
    "a, at = creation_annihilation(N)\n",
    "betas = np.linspace(0.3, 5, 10)        # true inverse temperature\n",
    "lambda_0 = 1"
   ]
  },
  {
   "cell_type": "markdown",
   "metadata": {},
   "source": [
    "##### compute\n"
   ]
  },
  {
   "cell_type": "code",
   "execution_count": 25,
   "metadata": {},
   "outputs": [
    {
     "name": "stdout",
     "output_type": "stream",
     "text": [
      "Optimization terminated successfully.\n",
      "         Current function value: 0.047213\n",
      "         Iterations: 16\n",
      "         Function evaluations: 32\n",
      "[0.3]\n",
      "Optimization terminated successfully.\n",
      "         Current function value: 0.000037\n",
      "         Iterations: 13\n",
      "         Function evaluations: 26\n",
      "[0.82226562]\n",
      "Optimization terminated successfully.\n",
      "         Current function value: 0.000006\n",
      "         Iterations: 14\n",
      "         Function evaluations: 28\n",
      "[1.34443359]\n",
      "Optimization terminated successfully.\n",
      "         Current function value: 0.000010\n",
      "         Iterations: 16\n",
      "         Function evaluations: 32\n",
      "[1.86669922]\n",
      "Optimization terminated successfully.\n",
      "         Current function value: 0.000004\n",
      "         Iterations: 18\n",
      "         Function evaluations: 36\n",
      "[2.38886719]\n",
      "Optimization terminated successfully.\n",
      "         Current function value: 0.000002\n",
      "         Iterations: 19\n",
      "         Function evaluations: 38\n",
      "[2.91113281]\n",
      "Optimization terminated successfully.\n",
      "         Current function value: 0.000002\n",
      "         Iterations: 19\n",
      "         Function evaluations: 38\n",
      "[3.43330078]\n",
      "Optimization terminated successfully.\n",
      "         Current function value: 0.000000\n",
      "         Iterations: 20\n",
      "         Function evaluations: 40\n",
      "[3.95556641]\n",
      "Optimization terminated successfully.\n",
      "         Current function value: 0.000001\n",
      "         Iterations: 20\n",
      "         Function evaluations: 40\n",
      "[4.47773438]\n",
      "Optimization terminated successfully.\n",
      "         Current function value: 0.000000\n",
      "         Iterations: 22\n",
      "         Function evaluations: 44\n",
      "[5.]\n"
     ]
    }
   ],
   "source": [
    "for i,beta in enumerate(betas) :\n",
    "    opt = optimize(loss, lambda_0, a, at, beta, ansatz_1, folder, i)\n",
    "    print(opt['lagr_best'])"
   ]
  },
  {
   "cell_type": "markdown",
   "metadata": {},
   "source": [
    "##### plot\n"
   ]
  },
  {
   "cell_type": "code",
   "execution_count": 26,
   "metadata": {},
   "outputs": [
    {
     "data": {
      "image/png": "[encoded data removed]",
      "text/plain": [
       "<Figure size 330x250 with 1 Axes>"
      ]
     },
     "metadata": {},
     "output_type": "display_data"
    }
   ],
   "source": [
    "lagr_to_plot = [0]\n",
    "\n",
    "for i,beta in enumerate(betas) :\n",
    "\n",
    "    subfolder = f'{folder}/output_{i}'\n",
    "    explored_solutions = np.loadtxt(f'{subfolder}/history.txt', unpack=True)\n",
    "\n",
    "    for lagr in lagr_to_plot :\n",
    "        plt.figure(lagr)\n",
    "        if lagr == 0 :\n",
    "            plt.hlines(beta, 0, len(explored_solutions), color='r', ls='--', lw=1.5, label='ground truth' if i==0 else \"\")\n",
    "        plt.plot(explored_solutions, lw=2, label=rf'$\\beta = {round(beta,2)}$')\n",
    "\n",
    "for lagr in lagr_to_plot :\n",
    "    plt.figure(lagr)   \n",
    "    plt.xlabel(\"iteration\")\n",
    "    plt.ylabel(rf\"Lagrange multiplier $\\lambda_{lagr}$\")\n",
    "    plt.legend(loc='upper center', ncols=4, bbox_to_anchor=(0.5, 1.33))\n",
    "    plt.savefig(f'figs/opti_case_{case}_lagr_{lagr}.pdf', bbox_inches='tight')\n"
   ]
  },
  {
   "cell_type": "code",
   "execution_count": 27,
   "metadata": {},
   "outputs": [
    {
     "data": {
      "image/png": "[encoded data removed]",
      "text/plain": [
       "<Figure size 400x400 with 2 Axes>"
      ]
     },
     "metadata": {},
     "output_type": "display_data"
    },
    {
     "data": {
      "image/png": "[encoded data removed]",
      "text/plain": [
       "<Figure size 400x400 with 2 Axes>"
      ]
     },
     "metadata": {},
     "output_type": "display_data"
    }
   ],
   "source": [
    "for i,beta in enumerate(betas) :\n",
    "    subfolder = f'{folder}/output_{i}'\n",
    "    estimated_rho = np.loadtxt(f'{subfolder}/rho_best.txt')\n",
    "\n",
    "    plt.matshow(estimated_rho)\n",
    "    plt.colorbar()\n",
    "    plt.savefig(f'{subfolder}/rho_best.pdf', bbox_inches='tight')\n",
    "\n",
    "    if i == 0 or i == len(betas) - 1 :\n",
    "        plt.show()\n",
    "    else :\n",
    "        plt.close()"
   ]
  },
  {
   "cell_type": "markdown",
   "metadata": {},
   "source": [
    "# Case 2\n"
   ]
  },
  {
   "cell_type": "markdown",
   "metadata": {},
   "source": [
    "#### $\\hat H = \\hat a^\\dag \\hat a$\n"
   ]
  },
  {
   "cell_type": "markdown",
   "metadata": {},
   "source": [
    "#### $ \\mathcal{L} \\hat \\rho = - i\\mkern1mu \\left[\\hat H, \\hat \\rho \\right] + \\gamma (\\bar n + 1) \\left( \\hat a \\hat \\rho \\hat a^\\dag - \\frac{1}{2} \\left\\{ \\hat a^\\dag \\hat a, \\hat \\rho \\right\\} \\right) + \\gamma \\bar n \\left( \\hat a^\\dag \\hat \\rho \\hat a - \\frac{1}{2} \\left\\{ \\hat a \\hat a^\\dag, \\hat \\rho \\right\\} \\right)$\n"
   ]
  },
  {
   "cell_type": "markdown",
   "metadata": {},
   "source": [
    "#### Ansatz : $ \\hat \\rho = \\frac{e^{- \\lambda_0 \\hat H - \\lambda_1 \\hat a^\\dag \\hat a^\\dag \\hat a \\hat a }}{\\text{Tr}(e^{- \\lambda_0 \\hat H - \\lambda_1 \\hat a^\\dag \\hat a^\\dag \\hat a \\hat a })}$\n"
   ]
  },
  {
   "cell_type": "markdown",
   "metadata": {},
   "source": [
    "Description of the physical system\n"
   ]
  },
  {
   "cell_type": "markdown",
   "metadata": {},
   "source": [
    "$ \\hat H = \\hat a^\\dag \\hat a$\n"
   ]
  },
  {
   "cell_type": "code",
   "execution_count": 28,
   "metadata": {},
   "outputs": [],
   "source": [
    "def H(a, at, **args) :\n",
    "    '''\n",
    "    Computes the matrix form of a Hamiltonian in the computational basis\n",
    "\n",
    "    Parameters\n",
    "    ----------\n",
    "    a : array\n",
    "        annihilation operator\n",
    "    at : array\n",
    "        creation operator\n",
    "    **args : dic\n",
    "        (optional) extra parameters used in the Hamiltonian (like\n",
    "        frequencies, ratio parameters, ...)  \n",
    "\n",
    "    Return\n",
    "    ------\n",
    "    H : array\n",
    "        matrix form of Hamiltonian \n",
    "    '''\n",
    "    extra_params = args \n",
    "    a, at = creation_annihilation(N)\n",
    "    H = at @ a\n",
    "    return H\n"
   ]
  },
  {
   "cell_type": "code",
   "execution_count": 29,
   "metadata": {},
   "outputs": [
    {
     "data": {
      "text/plain": [
       "array([[ 0.,  0.,  0.,  0.,  0.,  0.,  0.,  0.,  0.,  0.,  0.,  0.,  0.,\n",
       "         0.,  0.,  0.,  0.,  0.,  0.,  0.],\n",
       "       [ 0.,  1.,  0.,  0.,  0.,  0.,  0.,  0.,  0.,  0.,  0.,  0.,  0.,\n",
       "         0.,  0.,  0.,  0.,  0.,  0.,  0.],\n",
       "       [ 0.,  0.,  2.,  0.,  0.,  0.,  0.,  0.,  0.,  0.,  0.,  0.,  0.,\n",
       "         0.,  0.,  0.,  0.,  0.,  0.,  0.],\n",
       "       [ 0.,  0.,  0.,  3.,  0.,  0.,  0.,  0.,  0.,  0.,  0.,  0.,  0.,\n",
       "         0.,  0.,  0.,  0.,  0.,  0.,  0.],\n",
       "       [ 0.,  0.,  0.,  0.,  4.,  0.,  0.,  0.,  0.,  0.,  0.,  0.,  0.,\n",
       "         0.,  0.,  0.,  0.,  0.,  0.,  0.],\n",
       "       [ 0.,  0.,  0.,  0.,  0.,  5.,  0.,  0.,  0.,  0.,  0.,  0.,  0.,\n",
       "         0.,  0.,  0.,  0.,  0.,  0.,  0.],\n",
       "       [ 0.,  0.,  0.,  0.,  0.,  0.,  6.,  0.,  0.,  0.,  0.,  0.,  0.,\n",
       "         0.,  0.,  0.,  0.,  0.,  0.,  0.],\n",
       "       [ 0.,  0.,  0.,  0.,  0.,  0.,  0.,  7.,  0.,  0.,  0.,  0.,  0.,\n",
       "         0.,  0.,  0.,  0.,  0.,  0.,  0.],\n",
       "       [ 0.,  0.,  0.,  0.,  0.,  0.,  0.,  0.,  8.,  0.,  0.,  0.,  0.,\n",
       "         0.,  0.,  0.,  0.,  0.,  0.,  0.],\n",
       "       [ 0.,  0.,  0.,  0.,  0.,  0.,  0.,  0.,  0.,  9.,  0.,  0.,  0.,\n",
       "         0.,  0.,  0.,  0.,  0.,  0.,  0.],\n",
       "       [ 0.,  0.,  0.,  0.,  0.,  0.,  0.,  0.,  0.,  0., 10.,  0.,  0.,\n",
       "         0.,  0.,  0.,  0.,  0.,  0.,  0.],\n",
       "       [ 0.,  0.,  0.,  0.,  0.,  0.,  0.,  0.,  0.,  0.,  0., 11.,  0.,\n",
       "         0.,  0.,  0.,  0.,  0.,  0.,  0.],\n",
       "       [ 0.,  0.,  0.,  0.,  0.,  0.,  0.,  0.,  0.,  0.,  0.,  0., 12.,\n",
       "         0.,  0.,  0.,  0.,  0.,  0.,  0.],\n",
       "       [ 0.,  0.,  0.,  0.,  0.,  0.,  0.,  0.,  0.,  0.,  0.,  0.,  0.,\n",
       "        13.,  0.,  0.,  0.,  0.,  0.,  0.],\n",
       "       [ 0.,  0.,  0.,  0.,  0.,  0.,  0.,  0.,  0.,  0.,  0.,  0.,  0.,\n",
       "         0., 14.,  0.,  0.,  0.,  0.,  0.],\n",
       "       [ 0.,  0.,  0.,  0.,  0.,  0.,  0.,  0.,  0.,  0.,  0.,  0.,  0.,\n",
       "         0.,  0., 15.,  0.,  0.,  0.,  0.],\n",
       "       [ 0.,  0.,  0.,  0.,  0.,  0.,  0.,  0.,  0.,  0.,  0.,  0.,  0.,\n",
       "         0.,  0.,  0., 16.,  0.,  0.,  0.],\n",
       "       [ 0.,  0.,  0.,  0.,  0.,  0.,  0.,  0.,  0.,  0.,  0.,  0.,  0.,\n",
       "         0.,  0.,  0.,  0., 17.,  0.,  0.],\n",
       "       [ 0.,  0.,  0.,  0.,  0.,  0.,  0.,  0.,  0.,  0.,  0.,  0.,  0.,\n",
       "         0.,  0.,  0.,  0.,  0., 18.,  0.],\n",
       "       [ 0.,  0.,  0.,  0.,  0.,  0.,  0.,  0.,  0.,  0.,  0.,  0.,  0.,\n",
       "         0.,  0.,  0.,  0.,  0.,  0., 19.]])"
      ]
     },
     "execution_count": 29,
     "metadata": {},
     "output_type": "execute_result"
    }
   ],
   "source": [
    "H(a, at)"
   ]
  },
  {
   "cell_type": "markdown",
   "metadata": {},
   "source": [
    "Ansatz : $ \\hat \\rho = \\frac{e^{- \\lambda_0 \\hat H - \\lambda_1 \\hat a^\\dag \\hat a^\\dag \\hat a \\hat a }}{\\text{Tr}(e^{- \\lambda_0 \\hat H - \\lambda_1 \\hat a^\\dag \\hat a^\\dag \\hat a \\hat a })}$\n"
   ]
  },
  {
   "cell_type": "code",
   "execution_count": 30,
   "metadata": {},
   "outputs": [],
   "source": [
    "def ansatz_2(lagr, a, at, **args) :\n",
    "    '''\n",
    "    Creates an ansatz for the density matrix given some parameters\n",
    "\n",
    "    Parameters\n",
    "    ----------\n",
    "    lagr : array\n",
    "        Lagrange multipliers of (pseudo-)conserved quantities.\n",
    "        They are the variational parameters\n",
    "    a : array\n",
    "        annihilation operator\n",
    "    at : array\n",
    "        creation operator\n",
    "    **args : dic\n",
    "        (optional) extra parameters used in the Hamiltonian (like\n",
    "        frequencies, ratio parameters, ...)\n",
    "        \n",
    "    Return\n",
    "    ------\n",
    "    rho : array\n",
    "        density matrix (ansatz)\n",
    "    '''\n",
    "    U = exp_mat(- lagr[0] * H(a, at, **args) - lagr[1] * at @ at @ a @ a)\n",
    "    rho = U / np.trace(U)\n",
    "    return rho"
   ]
  },
  {
   "cell_type": "code",
   "execution_count": 31,
   "metadata": {},
   "outputs": [
    {
     "data": {
      "text/plain": [
       "array([[6.53482660e-001, 0.00000000e+000, 0.00000000e+000,\n",
       "        0.00000000e+000, 0.00000000e+000, 0.00000000e+000,\n",
       "        0.00000000e+000, 0.00000000e+000, 0.00000000e+000,\n",
       "        0.00000000e+000, 0.00000000e+000, 0.00000000e+000,\n",
       "        0.00000000e+000, 0.00000000e+000, 0.00000000e+000,\n",
       "        0.00000000e+000, 0.00000000e+000, 0.00000000e+000,\n",
       "        0.00000000e+000, 0.00000000e+000],\n",
       "       [0.00000000e+000, 3.24509885e-001, 0.00000000e+000,\n",
       "        0.00000000e+000, 0.00000000e+000, 0.00000000e+000,\n",
       "        0.00000000e+000, 0.00000000e+000, 0.00000000e+000,\n",
       "        0.00000000e+000, 0.00000000e+000, 0.00000000e+000,\n",
       "        0.00000000e+000, 0.00000000e+000, 0.00000000e+000,\n",
       "        0.00000000e+000, 0.00000000e+000, 0.00000000e+000,\n",
       "        0.00000000e+000, 0.00000000e+000],\n",
       "       [0.00000000e+000, 0.00000000e+000, 2.18088532e-002,\n",
       "        0.00000000e+000, 0.00000000e+000, 0.00000000e+000,\n",
       "        0.00000000e+000, 0.00000000e+000, 0.00000000e+000,\n",
       "        0.00000000e+000, 0.00000000e+000, 0.00000000e+000,\n",
       "        0.00000000e+000, 0.00000000e+000, 0.00000000e+000,\n",
       "        0.00000000e+000, 0.00000000e+000, 0.00000000e+000,\n",
       "        0.00000000e+000, 0.00000000e+000],\n",
       "       [0.00000000e+000, 0.00000000e+000, 0.00000000e+000,\n",
       "        1.98357563e-004, 0.00000000e+000, 0.00000000e+000,\n",
       "        0.00000000e+000, 0.00000000e+000, 0.00000000e+000,\n",
       "        0.00000000e+000, 0.00000000e+000, 0.00000000e+000,\n",
       "        0.00000000e+000, 0.00000000e+000, 0.00000000e+000,\n",
       "        0.00000000e+000, 0.00000000e+000, 0.00000000e+000,\n",
       "        0.00000000e+000, 0.00000000e+000],\n",
       "       [0.00000000e+000, 0.00000000e+000, 0.00000000e+000,\n",
       "        0.00000000e+000, 2.44160686e-007, 0.00000000e+000,\n",
       "        0.00000000e+000, 0.00000000e+000, 0.00000000e+000,\n",
       "        0.00000000e+000, 0.00000000e+000, 0.00000000e+000,\n",
       "        0.00000000e+000, 0.00000000e+000, 0.00000000e+000,\n",
       "        0.00000000e+000, 0.00000000e+000, 0.00000000e+000,\n",
       "        0.00000000e+000, 0.00000000e+000],\n",
       "       [0.00000000e+000, 0.00000000e+000, 0.00000000e+000,\n",
       "        0.00000000e+000, 0.00000000e+000, 4.06737058e-011,\n",
       "        0.00000000e+000, 0.00000000e+000, 0.00000000e+000,\n",
       "        0.00000000e+000, 0.00000000e+000, 0.00000000e+000,\n",
       "        0.00000000e+000, 0.00000000e+000, 0.00000000e+000,\n",
       "        0.00000000e+000, 0.00000000e+000, 0.00000000e+000,\n",
       "        0.00000000e+000, 0.00000000e+000],\n",
       "       [0.00000000e+000, 0.00000000e+000, 0.00000000e+000,\n",
       "        0.00000000e+000, 0.00000000e+000, 0.00000000e+000,\n",
       "        9.16986173e-016, 0.00000000e+000, 0.00000000e+000,\n",
       "        0.00000000e+000, 0.00000000e+000, 0.00000000e+000,\n",
       "        0.00000000e+000, 0.00000000e+000, 0.00000000e+000,\n",
       "        0.00000000e+000, 0.00000000e+000, 0.00000000e+000,\n",
       "        0.00000000e+000, 0.00000000e+000],\n",
       "       [0.00000000e+000, 0.00000000e+000, 0.00000000e+000,\n",
       "        0.00000000e+000, 0.00000000e+000, 0.00000000e+000,\n",
       "        0.00000000e+000, 2.79783995e-021, 0.00000000e+000,\n",
       "        0.00000000e+000, 0.00000000e+000, 0.00000000e+000,\n",
       "        0.00000000e+000, 0.00000000e+000, 0.00000000e+000,\n",
       "        0.00000000e+000, 0.00000000e+000, 0.00000000e+000,\n",
       "        0.00000000e+000, 0.00000000e+000],\n",
       "       [0.00000000e+000, 0.00000000e+000, 0.00000000e+000,\n",
       "        0.00000000e+000, 0.00000000e+000, 0.00000000e+000,\n",
       "        0.00000000e+000, 0.00000000e+000, 1.15529790e-027,\n",
       "        0.00000000e+000, 0.00000000e+000, 0.00000000e+000,\n",
       "        0.00000000e+000, 0.00000000e+000, 0.00000000e+000,\n",
       "        0.00000000e+000, 0.00000000e+000, 0.00000000e+000,\n",
       "        0.00000000e+000, 0.00000000e+000],\n",
       "       [0.00000000e+000, 0.00000000e+000, 0.00000000e+000,\n",
       "        0.00000000e+000, 0.00000000e+000, 0.00000000e+000,\n",
       "        0.00000000e+000, 0.00000000e+000, 0.00000000e+000,\n",
       "        6.45618751e-035, 0.00000000e+000, 0.00000000e+000,\n",
       "        0.00000000e+000, 0.00000000e+000, 0.00000000e+000,\n",
       "        0.00000000e+000, 0.00000000e+000, 0.00000000e+000,\n",
       "        0.00000000e+000, 0.00000000e+000],\n",
       "       [0.00000000e+000, 0.00000000e+000, 0.00000000e+000,\n",
       "        0.00000000e+000, 0.00000000e+000, 0.00000000e+000,\n",
       "        0.00000000e+000, 0.00000000e+000, 0.00000000e+000,\n",
       "        0.00000000e+000, 4.88280436e-043, 0.00000000e+000,\n",
       "        0.00000000e+000, 0.00000000e+000, 0.00000000e+000,\n",
       "        0.00000000e+000, 0.00000000e+000, 0.00000000e+000,\n",
       "        0.00000000e+000, 0.00000000e+000],\n",
       "       [0.00000000e+000, 0.00000000e+000, 0.00000000e+000,\n",
       "        0.00000000e+000, 0.00000000e+000, 0.00000000e+000,\n",
       "        0.00000000e+000, 0.00000000e+000, 0.00000000e+000,\n",
       "        0.00000000e+000, 0.00000000e+000, 4.99773873e-052,\n",
       "        0.00000000e+000, 0.00000000e+000, 0.00000000e+000,\n",
       "        0.00000000e+000, 0.00000000e+000, 0.00000000e+000,\n",
       "        0.00000000e+000, 0.00000000e+000],\n",
       "       [0.00000000e+000, 0.00000000e+000, 0.00000000e+000,\n",
       "        0.00000000e+000, 0.00000000e+000, 0.00000000e+000,\n",
       "        0.00000000e+000, 0.00000000e+000, 0.00000000e+000,\n",
       "        0.00000000e+000, 0.00000000e+000, 0.00000000e+000,\n",
       "        6.92291196e-062, 0.00000000e+000, 0.00000000e+000,\n",
       "        0.00000000e+000, 0.00000000e+000, 0.00000000e+000,\n",
       "        0.00000000e+000, 0.00000000e+000],\n",
       "       [0.00000000e+000, 0.00000000e+000, 0.00000000e+000,\n",
       "        0.00000000e+000, 0.00000000e+000, 0.00000000e+000,\n",
       "        0.00000000e+000, 0.00000000e+000, 0.00000000e+000,\n",
       "        0.00000000e+000, 0.00000000e+000, 0.00000000e+000,\n",
       "        0.00000000e+000, 1.29782192e-072, 0.00000000e+000,\n",
       "        0.00000000e+000, 0.00000000e+000, 0.00000000e+000,\n",
       "        0.00000000e+000, 0.00000000e+000],\n",
       "       [0.00000000e+000, 0.00000000e+000, 0.00000000e+000,\n",
       "        0.00000000e+000, 0.00000000e+000, 0.00000000e+000,\n",
       "        0.00000000e+000, 0.00000000e+000, 0.00000000e+000,\n",
       "        0.00000000e+000, 0.00000000e+000, 0.00000000e+000,\n",
       "        0.00000000e+000, 0.00000000e+000, 3.29270209e-084,\n",
       "        0.00000000e+000, 0.00000000e+000, 0.00000000e+000,\n",
       "        0.00000000e+000, 0.00000000e+000],\n",
       "       [0.00000000e+000, 0.00000000e+000, 0.00000000e+000,\n",
       "        0.00000000e+000, 0.00000000e+000, 0.00000000e+000,\n",
       "        0.00000000e+000, 0.00000000e+000, 0.00000000e+000,\n",
       "        0.00000000e+000, 0.00000000e+000, 0.00000000e+000,\n",
       "        0.00000000e+000, 0.00000000e+000, 0.00000000e+000,\n",
       "        1.13057872e-096, 0.00000000e+000, 0.00000000e+000,\n",
       "        0.00000000e+000, 0.00000000e+000],\n",
       "       [0.00000000e+000, 0.00000000e+000, 0.00000000e+000,\n",
       "        0.00000000e+000, 0.00000000e+000, 0.00000000e+000,\n",
       "        0.00000000e+000, 0.00000000e+000, 0.00000000e+000,\n",
       "        0.00000000e+000, 0.00000000e+000, 0.00000000e+000,\n",
       "        0.00000000e+000, 0.00000000e+000, 0.00000000e+000,\n",
       "        0.00000000e+000, 5.25363884e-110, 0.00000000e+000,\n",
       "        0.00000000e+000, 0.00000000e+000],\n",
       "       [0.00000000e+000, 0.00000000e+000, 0.00000000e+000,\n",
       "        0.00000000e+000, 0.00000000e+000, 0.00000000e+000,\n",
       "        0.00000000e+000, 0.00000000e+000, 0.00000000e+000,\n",
       "        0.00000000e+000, 0.00000000e+000, 0.00000000e+000,\n",
       "        0.00000000e+000, 0.00000000e+000, 0.00000000e+000,\n",
       "        0.00000000e+000, 0.00000000e+000, 3.30392862e-124,\n",
       "        0.00000000e+000, 0.00000000e+000],\n",
       "       [0.00000000e+000, 0.00000000e+000, 0.00000000e+000,\n",
       "        0.00000000e+000, 0.00000000e+000, 0.00000000e+000,\n",
       "        0.00000000e+000, 0.00000000e+000, 0.00000000e+000,\n",
       "        0.00000000e+000, 0.00000000e+000, 0.00000000e+000,\n",
       "        0.00000000e+000, 0.00000000e+000, 0.00000000e+000,\n",
       "        0.00000000e+000, 0.00000000e+000, 0.00000000e+000,\n",
       "        2.81197939e-139, 0.00000000e+000],\n",
       "       [0.00000000e+000, 0.00000000e+000, 0.00000000e+000,\n",
       "        0.00000000e+000, 0.00000000e+000, 0.00000000e+000,\n",
       "        0.00000000e+000, 0.00000000e+000, 0.00000000e+000,\n",
       "        0.00000000e+000, 0.00000000e+000, 0.00000000e+000,\n",
       "        0.00000000e+000, 0.00000000e+000, 0.00000000e+000,\n",
       "        0.00000000e+000, 0.00000000e+000, 0.00000000e+000,\n",
       "        0.00000000e+000, 3.23895301e-155]])"
      ]
     },
     "execution_count": 31,
     "metadata": {},
     "output_type": "execute_result"
    }
   ],
   "source": [
    "ansatz_2(np.array([0.7, 1]), a, at)"
   ]
  },
  {
   "cell_type": "markdown",
   "metadata": {},
   "source": [
    "$ \\mathcal{L} \\hat \\rho = - i\\mkern1mu \\left[\\hat H, \\hat \\rho \\right] + \\gamma (\\bar n + 1) \\left( \\hat a \\hat \\rho \\hat a^\\dag - \\frac{1}{2} \\left\\{ \\hat a^\\dag \\hat a, \\hat \\rho \\right\\} \\right) + \\gamma \\bar n \\left( \\hat a^\\dag \\hat \\rho \\hat a - \\frac{1}{2} \\left\\{ \\hat a \\hat a^\\dag, \\hat \\rho \\right\\} \\right)$\n"
   ]
  },
  {
   "cell_type": "code",
   "execution_count": 32,
   "metadata": {},
   "outputs": [],
   "source": [
    "def lindblad(M, a, at, beta, **args) :\n",
    "    '''\n",
    "    Computes the lindbladian of a density matrix M\n",
    "\n",
    "    Parameters\n",
    "    ----------\n",
    "    M : array \n",
    "        density matrix\n",
    "    a : array\n",
    "        annihilation operator\n",
    "    at : array\n",
    "        creation operator\n",
    "    beta : float\n",
    "        inversee temperature\n",
    "    **args : dic\n",
    "        (optional) extra parameters used in the Hamiltonian (like\n",
    "        frequencies, ratio parameters, ...)\n",
    "\n",
    "    Return\n",
    "    ------\n",
    "    L : float\n",
    "        the lindbladian\n",
    "    '''\n",
    "    L0 = - 1j * (H(a, at, **args) @ M - (H(a, at, **args).T @ M.T).T)\n",
    "    L1 = (n_avg(beta) + 1) * (a @ (a @ M.T).T - 0.5 * (at @ a @ M + (at @ a @ M.T).T))\n",
    "    L2 = n_avg(beta) * (at @ (at @ M.T).T - 0.5 * (a @ at @ M + (a @ at @ M.T).T))\n",
    "    return L0 + L1 + L2"
   ]
  },
  {
   "cell_type": "code",
   "execution_count": 33,
   "metadata": {},
   "outputs": [
    {
     "data": {
      "text/plain": [
       "array([[ 0.00000000e+000+0.j,  0.00000000e+000+0.j,  0.00000000e+000+0.j,\n",
       "         0.00000000e+000+0.j,  0.00000000e+000+0.j,  0.00000000e+000+0.j,\n",
       "         0.00000000e+000+0.j,  0.00000000e+000+0.j,  0.00000000e+000+0.j,\n",
       "         0.00000000e+000+0.j,  0.00000000e+000+0.j,  0.00000000e+000+0.j,\n",
       "         0.00000000e+000+0.j,  0.00000000e+000+0.j,  0.00000000e+000+0.j,\n",
       "         0.00000000e+000+0.j,  0.00000000e+000+0.j,  0.00000000e+000+0.j,\n",
       "         0.00000000e+000+0.j,  0.00000000e+000+0.j],\n",
       "       [ 0.00000000e+000+0.j, -9.75850949e-001+0.j,  0.00000000e+000+0.j,\n",
       "         0.00000000e+000+0.j,  0.00000000e+000+0.j,  0.00000000e+000+0.j,\n",
       "         0.00000000e+000+0.j,  0.00000000e+000+0.j,  0.00000000e+000+0.j,\n",
       "         0.00000000e+000+0.j,  0.00000000e+000+0.j,  0.00000000e+000+0.j,\n",
       "         0.00000000e+000+0.j,  0.00000000e+000+0.j,  0.00000000e+000+0.j,\n",
       "         0.00000000e+000+0.j,  0.00000000e+000+0.j,  0.00000000e+000+0.j,\n",
       "         0.00000000e+000+0.j,  0.00000000e+000+0.j],\n",
       "       [ 0.00000000e+000+0.j,  0.00000000e+000+0.j,  8.39435776e-001+0.j,\n",
       "         0.00000000e+000+0.j,  0.00000000e+000+0.j,  0.00000000e+000+0.j,\n",
       "         0.00000000e+000+0.j,  0.00000000e+000+0.j,  0.00000000e+000+0.j,\n",
       "         0.00000000e+000+0.j,  0.00000000e+000+0.j,  0.00000000e+000+0.j,\n",
       "         0.00000000e+000+0.j,  0.00000000e+000+0.j,  0.00000000e+000+0.j,\n",
       "         0.00000000e+000+0.j,  0.00000000e+000+0.j,  0.00000000e+000+0.j,\n",
       "         0.00000000e+000+0.j,  0.00000000e+000+0.j],\n",
       "       [ 0.00000000e+000+0.j,  0.00000000e+000+0.j,  0.00000000e+000+0.j,\n",
       "         1.34361995e-001+0.j,  0.00000000e+000+0.j,  0.00000000e+000+0.j,\n",
       "         0.00000000e+000+0.j,  0.00000000e+000+0.j,  0.00000000e+000+0.j,\n",
       "         0.00000000e+000+0.j,  0.00000000e+000+0.j,  0.00000000e+000+0.j,\n",
       "         0.00000000e+000+0.j,  0.00000000e+000+0.j,  0.00000000e+000+0.j,\n",
       "         0.00000000e+000+0.j,  0.00000000e+000+0.j,  0.00000000e+000+0.j,\n",
       "         0.00000000e+000+0.j,  0.00000000e+000+0.j],\n",
       "       [ 0.00000000e+000+0.j,  0.00000000e+000+0.j,  0.00000000e+000+0.j,\n",
       "         0.00000000e+000+0.j,  2.04931083e-003+0.j,  0.00000000e+000+0.j,\n",
       "         0.00000000e+000+0.j,  0.00000000e+000+0.j,  0.00000000e+000+0.j,\n",
       "         0.00000000e+000+0.j,  0.00000000e+000+0.j,  0.00000000e+000+0.j,\n",
       "         0.00000000e+000+0.j,  0.00000000e+000+0.j,  0.00000000e+000+0.j,\n",
       "         0.00000000e+000+0.j,  0.00000000e+000+0.j,  0.00000000e+000+0.j,\n",
       "         0.00000000e+000+0.j,  0.00000000e+000+0.j],\n",
       "       [ 0.00000000e+000+0.j,  0.00000000e+000+0.j,  0.00000000e+000+0.j,\n",
       "         0.00000000e+000+0.j,  0.00000000e+000+0.j,  3.86588079e-006+0.j,\n",
       "         0.00000000e+000+0.j,  0.00000000e+000+0.j,  0.00000000e+000+0.j,\n",
       "         0.00000000e+000+0.j,  0.00000000e+000+0.j,  0.00000000e+000+0.j,\n",
       "         0.00000000e+000+0.j,  0.00000000e+000+0.j,  0.00000000e+000+0.j,\n",
       "         0.00000000e+000+0.j,  0.00000000e+000+0.j,  0.00000000e+000+0.j,\n",
       "         0.00000000e+000+0.j,  0.00000000e+000+0.j],\n",
       "       [ 0.00000000e+000+0.j,  0.00000000e+000+0.j,  0.00000000e+000+0.j,\n",
       "         0.00000000e+000+0.j,  0.00000000e+000+0.j,  0.00000000e+000+0.j,\n",
       "         9.44375548e-010+0.j,  0.00000000e+000+0.j,  0.00000000e+000+0.j,\n",
       "         0.00000000e+000+0.j,  0.00000000e+000+0.j,  0.00000000e+000+0.j,\n",
       "         0.00000000e+000+0.j,  0.00000000e+000+0.j,  0.00000000e+000+0.j,\n",
       "         0.00000000e+000+0.j,  0.00000000e+000+0.j,  0.00000000e+000+0.j,\n",
       "         0.00000000e+000+0.j,  0.00000000e+000+0.j],\n",
       "       [ 0.00000000e+000+0.j,  0.00000000e+000+0.j,  0.00000000e+000+0.j,\n",
       "         0.00000000e+000+0.j,  0.00000000e+000+0.j,  0.00000000e+000+0.j,\n",
       "         0.00000000e+000+0.j,  3.03409109e-014+0.j,  0.00000000e+000+0.j,\n",
       "         0.00000000e+000+0.j,  0.00000000e+000+0.j,  0.00000000e+000+0.j,\n",
       "         0.00000000e+000+0.j,  0.00000000e+000+0.j,  0.00000000e+000+0.j,\n",
       "         0.00000000e+000+0.j,  0.00000000e+000+0.j,  0.00000000e+000+0.j,\n",
       "         0.00000000e+000+0.j,  0.00000000e+000+0.j],\n",
       "       [ 0.00000000e+000+0.j,  0.00000000e+000+0.j,  0.00000000e+000+0.j,\n",
       "         0.00000000e+000+0.j,  0.00000000e+000+0.j,  0.00000000e+000+0.j,\n",
       "         0.00000000e+000+0.j,  0.00000000e+000+0.j,  1.29224080e-019+0.j,\n",
       "         0.00000000e+000+0.j,  0.00000000e+000+0.j,  0.00000000e+000+0.j,\n",
       "         0.00000000e+000+0.j,  0.00000000e+000+0.j,  0.00000000e+000+0.j,\n",
       "         0.00000000e+000+0.j,  0.00000000e+000+0.j,  0.00000000e+000+0.j,\n",
       "         0.00000000e+000+0.j,  0.00000000e+000+0.j],\n",
       "       [ 0.00000000e+000+0.j,  0.00000000e+000+0.j,  0.00000000e+000+0.j,\n",
       "         0.00000000e+000+0.j,  0.00000000e+000+0.j,  0.00000000e+000+0.j,\n",
       "         0.00000000e+000+0.j,  0.00000000e+000+0.j,  0.00000000e+000+0.j,\n",
       "         7.33206844e-026+0.j,  0.00000000e+000+0.j,  0.00000000e+000+0.j,\n",
       "         0.00000000e+000+0.j,  0.00000000e+000+0.j,  0.00000000e+000+0.j,\n",
       "         0.00000000e+000+0.j,  0.00000000e+000+0.j,  0.00000000e+000+0.j,\n",
       "         0.00000000e+000+0.j,  0.00000000e+000+0.j],\n",
       "       [ 0.00000000e+000+0.j,  0.00000000e+000+0.j,  0.00000000e+000+0.j,\n",
       "         0.00000000e+000+0.j,  0.00000000e+000+0.j,  0.00000000e+000+0.j,\n",
       "         0.00000000e+000+0.j,  0.00000000e+000+0.j,  0.00000000e+000+0.j,\n",
       "         0.00000000e+000+0.j,  5.56064436e-033+0.j,  0.00000000e+000+0.j,\n",
       "         0.00000000e+000+0.j,  0.00000000e+000+0.j,  0.00000000e+000+0.j,\n",
       "         0.00000000e+000+0.j,  0.00000000e+000+0.j,  0.00000000e+000+0.j,\n",
       "         0.00000000e+000+0.j,  0.00000000e+000+0.j],\n",
       "       [ 0.00000000e+000+0.j,  0.00000000e+000+0.j,  0.00000000e+000+0.j,\n",
       "         0.00000000e+000+0.j,  0.00000000e+000+0.j,  0.00000000e+000+0.j,\n",
       "         0.00000000e+000+0.j,  0.00000000e+000+0.j,  0.00000000e+000+0.j,\n",
       "         0.00000000e+000+0.j,  0.00000000e+000+0.j,  5.65027908e-041+0.j,\n",
       "         0.00000000e+000+0.j,  0.00000000e+000+0.j,  0.00000000e+000+0.j,\n",
       "         0.00000000e+000+0.j,  0.00000000e+000+0.j,  0.00000000e+000+0.j,\n",
       "         0.00000000e+000+0.j,  0.00000000e+000+0.j],\n",
       "       [ 0.00000000e+000+0.j,  0.00000000e+000+0.j,  0.00000000e+000+0.j,\n",
       "         0.00000000e+000+0.j,  0.00000000e+000+0.j,  0.00000000e+000+0.j,\n",
       "         0.00000000e+000+0.j,  0.00000000e+000+0.j,  0.00000000e+000+0.j,\n",
       "         0.00000000e+000+0.j,  0.00000000e+000+0.j,  0.00000000e+000+0.j,\n",
       "         7.70586830e-050+0.j,  0.00000000e+000+0.j,  0.00000000e+000+0.j,\n",
       "         0.00000000e+000+0.j,  0.00000000e+000+0.j,  0.00000000e+000+0.j,\n",
       "         0.00000000e+000+0.j,  0.00000000e+000+0.j],\n",
       "       [ 0.00000000e+000+0.j,  0.00000000e+000+0.j,  0.00000000e+000+0.j,\n",
       "         0.00000000e+000+0.j,  0.00000000e+000+0.j,  0.00000000e+000+0.j,\n",
       "         0.00000000e+000+0.j,  0.00000000e+000+0.j,  0.00000000e+000+0.j,\n",
       "         0.00000000e+000+0.j,  0.00000000e+000+0.j,  0.00000000e+000+0.j,\n",
       "         0.00000000e+000+0.j,  1.41240045e-059+0.j,  0.00000000e+000+0.j,\n",
       "         0.00000000e+000+0.j,  0.00000000e+000+0.j,  0.00000000e+000+0.j,\n",
       "         0.00000000e+000+0.j,  0.00000000e+000+0.j],\n",
       "       [ 0.00000000e+000+0.j,  0.00000000e+000+0.j,  0.00000000e+000+0.j,\n",
       "         0.00000000e+000+0.j,  0.00000000e+000+0.j,  0.00000000e+000+0.j,\n",
       "         0.00000000e+000+0.j,  0.00000000e+000+0.j,  0.00000000e+000+0.j,\n",
       "         0.00000000e+000+0.j,  0.00000000e+000+0.j,  0.00000000e+000+0.j,\n",
       "         0.00000000e+000+0.j,  0.00000000e+000+0.j,  3.48279348e-070+0.j,\n",
       "         0.00000000e+000+0.j,  0.00000000e+000+0.j,  0.00000000e+000+0.j,\n",
       "         0.00000000e+000+0.j,  0.00000000e+000+0.j],\n",
       "       [ 0.00000000e+000+0.j,  0.00000000e+000+0.j,  0.00000000e+000+0.j,\n",
       "         0.00000000e+000+0.j,  0.00000000e+000+0.j,  0.00000000e+000+0.j,\n",
       "         0.00000000e+000+0.j,  0.00000000e+000+0.j,  0.00000000e+000+0.j,\n",
       "         0.00000000e+000+0.j,  0.00000000e+000+0.j,  0.00000000e+000+0.j,\n",
       "         0.00000000e+000+0.j,  0.00000000e+000+0.j,  0.00000000e+000+0.j,\n",
       "         1.15634433e-081+0.j,  0.00000000e+000+0.j,  0.00000000e+000+0.j,\n",
       "         0.00000000e+000+0.j,  0.00000000e+000+0.j],\n",
       "       [ 0.00000000e+000+0.j,  0.00000000e+000+0.j,  0.00000000e+000+0.j,\n",
       "         0.00000000e+000+0.j,  0.00000000e+000+0.j,  0.00000000e+000+0.j,\n",
       "         0.00000000e+000+0.j,  0.00000000e+000+0.j,  0.00000000e+000+0.j,\n",
       "         0.00000000e+000+0.j,  0.00000000e+000+0.j,  0.00000000e+000+0.j,\n",
       "         0.00000000e+000+0.j,  0.00000000e+000+0.j,  0.00000000e+000+0.j,\n",
       "         0.00000000e+000+0.j,  5.17276996e-094+0.j,  0.00000000e+000+0.j,\n",
       "         0.00000000e+000+0.j,  0.00000000e+000+0.j],\n",
       "       [ 0.00000000e+000+0.j,  0.00000000e+000+0.j,  0.00000000e+000+0.j,\n",
       "         0.00000000e+000+0.j,  0.00000000e+000+0.j,  0.00000000e+000+0.j,\n",
       "         0.00000000e+000+0.j,  0.00000000e+000+0.j,  0.00000000e+000+0.j,\n",
       "         0.00000000e+000+0.j,  0.00000000e+000+0.j,  0.00000000e+000+0.j,\n",
       "         0.00000000e+000+0.j,  0.00000000e+000+0.j,  0.00000000e+000+0.j,\n",
       "         0.00000000e+000+0.j,  0.00000000e+000+0.j,  3.11939525e-107+0.j,\n",
       "         0.00000000e+000+0.j,  0.00000000e+000+0.j],\n",
       "       [ 0.00000000e+000+0.j,  0.00000000e+000+0.j,  0.00000000e+000+0.j,\n",
       "         0.00000000e+000+0.j,  0.00000000e+000+0.j,  0.00000000e+000+0.j,\n",
       "         0.00000000e+000+0.j,  0.00000000e+000+0.j,  0.00000000e+000+0.j,\n",
       "         0.00000000e+000+0.j,  0.00000000e+000+0.j,  0.00000000e+000+0.j,\n",
       "         0.00000000e+000+0.j,  0.00000000e+000+0.j,  0.00000000e+000+0.j,\n",
       "         0.00000000e+000+0.j,  0.00000000e+000+0.j,  0.00000000e+000+0.j,\n",
       "         2.53701671e-121+0.j,  0.00000000e+000+0.j],\n",
       "       [ 0.00000000e+000+0.j,  0.00000000e+000+0.j,  0.00000000e+000+0.j,\n",
       "         0.00000000e+000+0.j,  0.00000000e+000+0.j,  0.00000000e+000+0.j,\n",
       "         0.00000000e+000+0.j,  0.00000000e+000+0.j,  0.00000000e+000+0.j,\n",
       "         0.00000000e+000+0.j,  0.00000000e+000+0.j,  0.00000000e+000+0.j,\n",
       "         0.00000000e+000+0.j,  0.00000000e+000+0.j,  0.00000000e+000+0.j,\n",
       "         0.00000000e+000+0.j,  0.00000000e+000+0.j,  0.00000000e+000+0.j,\n",
       "         0.00000000e+000+0.j,  2.78384338e-136+0.j]])"
      ]
     },
     "execution_count": 33,
     "metadata": {},
     "output_type": "execute_result"
    }
   ],
   "source": [
    "lindblad(ansatz_2([0.5, 1], a, at), a, at, 0.5)"
   ]
  },
  {
   "cell_type": "markdown",
   "metadata": {},
   "source": [
    "Loss\n"
   ]
  },
  {
   "cell_type": "code",
   "execution_count": 34,
   "metadata": {},
   "outputs": [],
   "source": [
    "def loss(lagr, ansatz, a, at, beta, **args) :\n",
    "    '''\n",
    "    Computes the (Nuclear) norm of the Lindbladian of an ansatz density matrix\n",
    "    given the Lagrange multipliers\n",
    "\n",
    "    Parameters\n",
    "    ----------\n",
    "    lagr : array\n",
    "        Lagrange multipliers of (pseudo-)conserved quantities.\n",
    "        They are the variational parameters\n",
    "    ansatz : function\n",
    "        ansatz used in the variational procedure\n",
    "    a : array\n",
    "        annihilation operator\n",
    "    at : array\n",
    "        creation operator\n",
    "    beta : float\n",
    "        inverse temperature\n",
    "    **args : dic\n",
    "        (optional) extra parameters used in the Hamiltonian (like\n",
    "        frequencies, ratio parameters, ...)\n",
    "\n",
    "    Return\n",
    "    ------\n",
    "    ||L rho || : float\n",
    "        the Nuclear norm of the linbladian of the density matrix\n",
    "\n",
    "    Note\n",
    "    ----\n",
    "    We use the Nuclear norm because it is not biased (see [1])\n",
    "\n",
    "    References\n",
    "    ----------\n",
    "    [1] - Weimer, Variational principle for steady states of dissipative quantum many-body systems, 2015\n",
    "    '''\n",
    "    return np.linalg.norm(lindblad(ansatz(lagr, a, at, **args), a, at, beta, **args), 'nuc')"
   ]
  },
  {
   "cell_type": "code",
   "execution_count": 35,
   "metadata": {},
   "outputs": [
    {
     "data": {
      "text/plain": [
       "0.728931731894231"
      ]
     },
     "execution_count": 35,
     "metadata": {},
     "output_type": "execute_result"
    }
   ],
   "source": [
    "loss([0.5, 1], ansatz_2, a, at, beta)"
   ]
  },
  {
   "cell_type": "markdown",
   "metadata": {},
   "source": [
    "##### Parameters\n"
   ]
  },
  {
   "cell_type": "code",
   "execution_count": 36,
   "metadata": {},
   "outputs": [],
   "source": [
    "case = 2\n",
    "folder = f'{dir_res}/case_{case}'\n",
    "os.makedirs(folder, exist_ok=True)"
   ]
  },
  {
   "cell_type": "code",
   "execution_count": 37,
   "metadata": {},
   "outputs": [],
   "source": [
    "N = 20\n",
    "a, at = creation_annihilation(N)\n",
    "betas = np.linspace(0.3, 5, 10)        # true inverse temperature\n",
    "lambda_0 = np.array([1, 1])"
   ]
  },
  {
   "cell_type": "code",
   "execution_count": 38,
   "metadata": {},
   "outputs": [
    {
     "name": "stdout",
     "output_type": "stream",
     "text": [
      "Optimization terminated successfully.\n",
      "         Current function value: 0.047238\n",
      "         Iterations: 70\n",
      "         Function evaluations: 132\n",
      "[3.00161183e-01 1.07100093e-05]\n",
      "Optimization terminated successfully.\n",
      "         Current function value: 0.000035\n",
      "         Iterations: 53\n",
      "         Function evaluations: 102\n",
      "[ 8.22258150e-01 -8.37378085e-06]\n",
      "Optimization terminated successfully.\n",
      "         Current function value: 0.000018\n",
      "         Iterations: 46\n",
      "         Function evaluations: 87\n",
      "[ 1.34440958e+00 -1.31928690e-06]\n",
      "Optimization terminated successfully.\n",
      "         Current function value: 0.000007\n",
      "         Iterations: 37\n",
      "         Function evaluations: 73\n",
      "[ 1.86666956e+00 -3.41103197e-05]\n",
      "Optimization terminated successfully.\n",
      "         Current function value: 0.000003\n",
      "         Iterations: 41\n",
      "         Function evaluations: 81\n",
      "[2.38888572e+00 3.16680668e-05]\n",
      "Optimization terminated successfully.\n",
      "         Current function value: 0.000001\n",
      "         Iterations: 49\n",
      "         Function evaluations: 97\n",
      "[ 2.91111045e+00 -3.94534519e-05]\n",
      "Optimization terminated successfully.\n",
      "         Current function value: 0.000001\n",
      "         Iterations: 54\n",
      "         Function evaluations: 103\n",
      "[3.43332904e+00 3.18738695e-05]\n",
      "Optimization terminated successfully.\n",
      "         Current function value: 0.000000\n",
      "         Iterations: 58\n",
      "         Function evaluations: 112\n",
      "[3.95555676e+00 2.71452130e-05]\n",
      "Optimization terminated successfully.\n",
      "         Current function value: 0.000000\n",
      "         Iterations: 62\n",
      "         Function evaluations: 119\n",
      "[ 4.47777784e+00 -2.80719039e-05]\n",
      "Optimization terminated successfully.\n",
      "         Current function value: 0.000000\n",
      "         Iterations: 68\n",
      "         Function evaluations: 131\n",
      "[5.00000074e+00 3.59124886e-05]\n"
     ]
    }
   ],
   "source": [
    "for i,beta in enumerate(betas) :\n",
    "    opt = optimize(loss, lambda_0, a, at, beta, ansatz_2, folder, i)\n",
    "    print(opt['lagr_best'])"
   ]
  },
  {
   "cell_type": "code",
   "execution_count": 39,
   "metadata": {},
   "outputs": [
    {
     "data": {
      "image/png": "[encoded data removed]",
      "text/plain": [
       "<Figure size 330x250 with 1 Axes>"
      ]
     },
     "metadata": {},
     "output_type": "display_data"
    },
    {
     "data": {
      "image/png": "[encoded data removed]",
      "text/plain": [
       "<Figure size 330x250 with 1 Axes>"
      ]
     },
     "metadata": {},
     "output_type": "display_data"
    }
   ],
   "source": [
    "lagr_to_plot = [0, 1]\n",
    "\n",
    "for i,beta in enumerate(betas) :\n",
    "\n",
    "    subfolder = f'{folder}/output_{i}'\n",
    "    explored_solutions = np.loadtxt(f'{subfolder}/history.txt', unpack=True)\n",
    "\n",
    "    for lagr in lagr_to_plot :\n",
    "        plt.figure(lagr)\n",
    "        if lagr == 0 :\n",
    "            plt.hlines(beta, 0, len(explored_solutions[lagr]), color='r', ls='--', lw=1.5, label='ground truth' if i==0 else \"\")\n",
    "        plt.plot(explored_solutions[lagr], lw=2, label=rf'$\\beta = {round(beta,2)}$')\n",
    "\n",
    "for lagr in lagr_to_plot :\n",
    "    plt.figure(lagr)   \n",
    "    plt.xlabel(\"iteration\")\n",
    "    plt.ylabel(rf\"Lagrange multiplier $\\lambda_{lagr}$\")\n",
    "    plt.legend(loc='upper center', ncols=4, bbox_to_anchor=(0.5, 1.33))\n",
    "    plt.savefig(f'figs/opti_case_{case}_lagr_{lagr}.pdf', bbox_inches='tight')\n"
   ]
  },
  {
   "cell_type": "code",
   "execution_count": 40,
   "metadata": {},
   "outputs": [
    {
     "data": {
      "image/png": "[encoded data removed]",
      "text/plain": [
       "<Figure size 400x400 with 2 Axes>"
      ]
     },
     "metadata": {},
     "output_type": "display_data"
    },
    {
     "data": {
      "image/png": "[encoded data removed]",
      "text/plain": [
       "<Figure size 400x400 with 2 Axes>"
      ]
     },
     "metadata": {},
     "output_type": "display_data"
    }
   ],
   "source": [
    "for i,beta in enumerate(betas) :\n",
    "    subfolder = f'{folder}/output_{i}'\n",
    "    estimated_rho = np.loadtxt(f'{subfolder}/rho_best.txt')\n",
    "\n",
    "    plt.matshow(estimated_rho)\n",
    "    plt.colorbar()\n",
    "    plt.savefig(f'{subfolder}/rho_best.pdf', bbox_inches='tight')\n",
    "\n",
    "    if i == 0 or i == len(betas) - 1 :\n",
    "        plt.show()\n",
    "    else :\n",
    "        plt.close()"
   ]
  },
  {
   "cell_type": "markdown",
   "metadata": {},
   "source": [
    "# Case 3 : add drive\n"
   ]
  },
  {
   "cell_type": "markdown",
   "metadata": {},
   "source": [
    "#### $\\hat H = \\hat a^\\dag \\hat a + \\epsilon \\left( \\hat a + \\hat a^\\dag \\right)$\n"
   ]
  },
  {
   "cell_type": "markdown",
   "metadata": {},
   "source": [
    "#### $ \\mathcal{L} \\hat \\rho = - i\\mkern1mu \\left[\\hat H, \\hat \\rho \\right] + \\gamma (\\bar n + 1) \\left( \\hat a \\hat \\rho \\hat a^\\dag - \\frac{1}{2} \\left\\{ \\hat a^\\dag \\hat a, \\hat \\rho \\right\\} \\right) + \\gamma \\bar n \\left( \\hat a^\\dag \\hat \\rho \\hat a - \\frac{1}{2} \\left\\{ \\hat a \\hat a^\\dag, \\hat \\rho \\right\\} \\right)$\n"
   ]
  },
  {
   "cell_type": "markdown",
   "metadata": {},
   "source": [
    "#### Ansatz : $ \\hat \\rho = \\frac{e^{- \\lambda_0 \\hat H - \\lambda_1 \\hat a^\\dag \\hat a^\\dag \\hat a \\hat a }}{\\text{Tr}(e^{- \\lambda_0 \\hat H - \\lambda_1 \\hat a^\\dag \\hat a^\\dag \\hat a \\hat a })}$\n"
   ]
  },
  {
   "cell_type": "markdown",
   "metadata": {},
   "source": [
    "Description of the physical system\n"
   ]
  },
  {
   "cell_type": "markdown",
   "metadata": {},
   "source": [
    "$ \\hat H = \\hat a^\\dag \\hat a + \\epsilon \\left( \\hat a + \\hat a^\\dag \\right) $\n"
   ]
  },
  {
   "cell_type": "code",
   "execution_count": 41,
   "metadata": {},
   "outputs": [],
   "source": [
    "def H(a, at, **args) :\n",
    "    '''\n",
    "    Computes the matrix form of a Hamiltonian in the computational basis\n",
    "\n",
    "    Parameters\n",
    "    ----------\n",
    "    a : array\n",
    "        annihilation operator\n",
    "    at : array\n",
    "        creation operator\n",
    "    **args : dic\n",
    "        (optional) extra parameters used in the Hamiltonian (like\n",
    "        frequencies, ratio parameters, ...)  \n",
    "\n",
    "    Return\n",
    "    ------\n",
    "    H : array\n",
    "        matrix form of Hamiltonian \n",
    "    '''\n",
    "    epsilon = args['epsilon']\n",
    "    a, at = creation_annihilation(N)\n",
    "    H = at @ a + epsilon * (a + at)\n",
    "    return H\n"
   ]
  },
  {
   "cell_type": "code",
   "execution_count": 42,
   "metadata": {},
   "outputs": [
    {
     "data": {
      "text/plain": [
       "array([[ 0.        ,  0.2       ,  0.        ,  0.        ,  0.        ,\n",
       "         0.        ,  0.        ,  0.        ,  0.        ,  0.        ,\n",
       "         0.        ,  0.        ,  0.        ,  0.        ,  0.        ,\n",
       "         0.        ,  0.        ,  0.        ,  0.        ,  0.87177979],\n",
       "       [ 0.2       ,  1.        ,  0.28284271,  0.        ,  0.        ,\n",
       "         0.        ,  0.        ,  0.        ,  0.        ,  0.        ,\n",
       "         0.        ,  0.        ,  0.        ,  0.        ,  0.        ,\n",
       "         0.        ,  0.        ,  0.        ,  0.        ,  0.        ],\n",
       "       [ 0.        ,  0.28284271,  2.        ,  0.34641016,  0.        ,\n",
       "         0.        ,  0.        ,  0.        ,  0.        ,  0.        ,\n",
       "         0.        ,  0.        ,  0.        ,  0.        ,  0.        ,\n",
       "         0.        ,  0.        ,  0.        ,  0.        ,  0.        ],\n",
       "       [ 0.        ,  0.        ,  0.34641016,  3.        ,  0.4       ,\n",
       "         0.        ,  0.        ,  0.        ,  0.        ,  0.        ,\n",
       "         0.        ,  0.        ,  0.        ,  0.        ,  0.        ,\n",
       "         0.        ,  0.        ,  0.        ,  0.        ,  0.        ],\n",
       "       [ 0.        ,  0.        ,  0.        ,  0.4       ,  4.        ,\n",
       "         0.4472136 ,  0.        ,  0.        ,  0.        ,  0.        ,\n",
       "         0.        ,  0.        ,  0.        ,  0.        ,  0.        ,\n",
       "         0.        ,  0.        ,  0.        ,  0.        ,  0.        ],\n",
       "       [ 0.        ,  0.        ,  0.        ,  0.        ,  0.4472136 ,\n",
       "         5.        ,  0.48989795,  0.        ,  0.        ,  0.        ,\n",
       "         0.        ,  0.        ,  0.        ,  0.        ,  0.        ,\n",
       "         0.        ,  0.        ,  0.        ,  0.        ,  0.        ],\n",
       "       [ 0.        ,  0.        ,  0.        ,  0.        ,  0.        ,\n",
       "         0.48989795,  6.        ,  0.52915026,  0.        ,  0.        ,\n",
       "         0.        ,  0.        ,  0.        ,  0.        ,  0.        ,\n",
       "         0.        ,  0.        ,  0.        ,  0.        ,  0.        ],\n",
       "       [ 0.        ,  0.        ,  0.        ,  0.        ,  0.        ,\n",
       "         0.        ,  0.52915026,  7.        ,  0.56568542,  0.        ,\n",
       "         0.        ,  0.        ,  0.        ,  0.        ,  0.        ,\n",
       "         0.        ,  0.        ,  0.        ,  0.        ,  0.        ],\n",
       "       [ 0.        ,  0.        ,  0.        ,  0.        ,  0.        ,\n",
       "         0.        ,  0.        ,  0.56568542,  8.        ,  0.6       ,\n",
       "         0.        ,  0.        ,  0.        ,  0.        ,  0.        ,\n",
       "         0.        ,  0.        ,  0.        ,  0.        ,  0.        ],\n",
       "       [ 0.        ,  0.        ,  0.        ,  0.        ,  0.        ,\n",
       "         0.        ,  0.        ,  0.        ,  0.6       ,  9.        ,\n",
       "         0.63245553,  0.        ,  0.        ,  0.        ,  0.        ,\n",
       "         0.        ,  0.        ,  0.        ,  0.        ,  0.        ],\n",
       "       [ 0.        ,  0.        ,  0.        ,  0.        ,  0.        ,\n",
       "         0.        ,  0.        ,  0.        ,  0.        ,  0.63245553,\n",
       "        10.        ,  0.66332496,  0.        ,  0.        ,  0.        ,\n",
       "         0.        ,  0.        ,  0.        ,  0.        ,  0.        ],\n",
       "       [ 0.        ,  0.        ,  0.        ,  0.        ,  0.        ,\n",
       "         0.        ,  0.        ,  0.        ,  0.        ,  0.        ,\n",
       "         0.66332496, 11.        ,  0.69282032,  0.        ,  0.        ,\n",
       "         0.        ,  0.        ,  0.        ,  0.        ,  0.        ],\n",
       "       [ 0.        ,  0.        ,  0.        ,  0.        ,  0.        ,\n",
       "         0.        ,  0.        ,  0.        ,  0.        ,  0.        ,\n",
       "         0.        ,  0.69282032, 12.        ,  0.72111026,  0.        ,\n",
       "         0.        ,  0.        ,  0.        ,  0.        ,  0.        ],\n",
       "       [ 0.        ,  0.        ,  0.        ,  0.        ,  0.        ,\n",
       "         0.        ,  0.        ,  0.        ,  0.        ,  0.        ,\n",
       "         0.        ,  0.        ,  0.72111026, 13.        ,  0.74833148,\n",
       "         0.        ,  0.        ,  0.        ,  0.        ,  0.        ],\n",
       "       [ 0.        ,  0.        ,  0.        ,  0.        ,  0.        ,\n",
       "         0.        ,  0.        ,  0.        ,  0.        ,  0.        ,\n",
       "         0.        ,  0.        ,  0.        ,  0.74833148, 14.        ,\n",
       "         0.77459667,  0.        ,  0.        ,  0.        ,  0.        ],\n",
       "       [ 0.        ,  0.        ,  0.        ,  0.        ,  0.        ,\n",
       "         0.        ,  0.        ,  0.        ,  0.        ,  0.        ,\n",
       "         0.        ,  0.        ,  0.        ,  0.        ,  0.77459667,\n",
       "        15.        ,  0.8       ,  0.        ,  0.        ,  0.        ],\n",
       "       [ 0.        ,  0.        ,  0.        ,  0.        ,  0.        ,\n",
       "         0.        ,  0.        ,  0.        ,  0.        ,  0.        ,\n",
       "         0.        ,  0.        ,  0.        ,  0.        ,  0.        ,\n",
       "         0.8       , 16.        ,  0.82462113,  0.        ,  0.        ],\n",
       "       [ 0.        ,  0.        ,  0.        ,  0.        ,  0.        ,\n",
       "         0.        ,  0.        ,  0.        ,  0.        ,  0.        ,\n",
       "         0.        ,  0.        ,  0.        ,  0.        ,  0.        ,\n",
       "         0.        ,  0.82462113, 17.        ,  0.84852814,  0.        ],\n",
       "       [ 0.        ,  0.        ,  0.        ,  0.        ,  0.        ,\n",
       "         0.        ,  0.        ,  0.        ,  0.        ,  0.        ,\n",
       "         0.        ,  0.        ,  0.        ,  0.        ,  0.        ,\n",
       "         0.        ,  0.        ,  0.84852814, 18.        ,  0.87177979],\n",
       "       [ 0.        ,  0.        ,  0.        ,  0.        ,  0.        ,\n",
       "         0.        ,  0.        ,  0.        ,  0.        ,  0.        ,\n",
       "         0.        ,  0.        ,  0.        ,  0.        ,  0.        ,\n",
       "         0.        ,  0.        ,  0.        ,  0.87177979, 19.        ]])"
      ]
     },
     "execution_count": 42,
     "metadata": {},
     "output_type": "execute_result"
    }
   ],
   "source": [
    "H(a, at, **{'epsilon' : 0.2})"
   ]
  },
  {
   "cell_type": "markdown",
   "metadata": {},
   "source": [
    "Ansatz : $ \\hat \\rho = \\frac{e^{- \\lambda_0 \\hat H - \\lambda_1 \\hat a^\\dag \\hat a^\\dag \\hat a \\hat a }}{\\text{Tr}(e^{- \\lambda_0 \\hat H - \\lambda_1 \\hat a^\\dag \\hat a^\\dag \\hat a \\hat a })}$\n"
   ]
  },
  {
   "cell_type": "code",
   "execution_count": 43,
   "metadata": {},
   "outputs": [],
   "source": [
    "def ansatz_3(lagr, a, at, **args) :\n",
    "    '''\n",
    "    Creates an ansatz for the density matrix given some parameters\n",
    "\n",
    "    Parameters\n",
    "    ----------\n",
    "    lagr : array\n",
    "        Lagrange multipliers of (pseudo-)conserved quantities.\n",
    "        They are the variational parameters\n",
    "    a : array\n",
    "        annihilation operator\n",
    "    at : array\n",
    "        creation operator\n",
    "    **args : dic\n",
    "        (optional) extra parameters used in the Hamiltonian (like\n",
    "        frequencies, ratio parameters, ...)\n",
    "        \n",
    "    Return\n",
    "    ------\n",
    "    rho : array\n",
    "        density matrix (ansatz)\n",
    "    '''\n",
    "    U = exp_mat(- lagr[0] * H(a, at, **args) - lagr[1] * at @ at @ a @ a)\n",
    "    rho = U / np.trace(U)\n",
    "    return rho"
   ]
  },
  {
   "cell_type": "code",
   "execution_count": 44,
   "metadata": {},
   "outputs": [
    {
     "data": {
      "text/plain": [
       "array([[ 6.49578903e-01, -6.53065687e-02,  2.89363510e-03,\n",
       "        -7.46358709e-05,  1.28534552e-06, -1.60488469e-08,\n",
       "         1.53486282e-10, -1.16922313e-12,  7.30529907e-15,\n",
       "        -3.82950310e-17,  1.71499446e-19, -6.69351337e-22,\n",
       "         8.43316792e-22, -2.33950640e-19,  7.37412918e-17,\n",
       "        -2.60863473e-14,  1.02720753e-11, -4.47040617e-09,\n",
       "         2.13681758e-06, -1.11564442e-03],\n",
       "       [-6.53065687e-02,  3.27138277e-01, -2.22127131e-02,\n",
       "         6.96275451e-04, -1.34282446e-05,  1.80582334e-07,\n",
       "        -1.82007318e-09,  1.44174482e-11, -9.28456996e-14,\n",
       "         4.98575756e-16, -2.27712467e-18,  8.98741980e-21,\n",
       "        -1.13461718e-22,  2.30420158e-20, -7.29432892e-18,\n",
       "         2.58995875e-15, -1.02311363e-12,  4.46500349e-10,\n",
       "        -2.13947056e-07,  1.11945916e-04],\n",
       "       [ 2.89363510e-03, -2.22127131e-02,  2.30288407e-02,\n",
       "        -1.14737786e-03,  2.77562640e-05, -4.28332980e-07,\n",
       "         4.73883221e-09, -4.01611774e-11,  2.72245114e-13,\n",
       "        -1.52210780e-15,  7.18195449e-18, -2.91163160e-20,\n",
       "         1.06492323e-22, -1.00985997e-21,  3.20348903e-19,\n",
       "        -1.13975261e-16,  4.51024125e-14, -1.97132287e-11,\n",
       "         9.45849633e-09, -4.95492883e-06],\n",
       "       [-7.46358709e-05,  6.96275451e-04, -1.14737786e-03,\n",
       "         2.53363506e-04, -9.56679841e-06,  1.87489225e-07,\n",
       "        -2.41704222e-09,  2.28057075e-11, -1.67456583e-13,\n",
       "         9.96095693e-16, -4.93873470e-18,  2.08508927e-20,\n",
       "        -7.63116845e-23,  2.61022946e-23, -8.21743076e-21,\n",
       "         2.92732681e-18, -1.15966315e-15,  5.07340883e-13,\n",
       "        -2.43626222e-10,  1.27719635e-07],\n",
       "       [ 1.28534552e-06, -1.34282446e-05,  2.77562640e-05,\n",
       "        -9.56679841e-06,  6.15677089e-07, -1.61114279e-08,\n",
       "         2.49822575e-10, -2.68307014e-12,  2.16951967e-14,\n",
       "        -1.39079155e-16,  7.32132848e-19, -3.24654722e-21,\n",
       "         1.23661027e-23, -4.84272624e-25,  1.40989953e-22,\n",
       "        -5.02683697e-20,  1.99285264e-17, -8.72410856e-15,\n",
       "         4.19168795e-12, -2.19855871e-09],\n",
       "       [-1.60488469e-08,  1.80582334e-07, -4.28332980e-07,\n",
       "         1.87489225e-07, -1.61114279e-08,  5.00497888e-10,\n",
       "        -8.72986839e-12,  1.02277987e-13, -8.84633578e-16,\n",
       "         5.98499615e-18, -3.29292127e-20,  1.51515067e-22,\n",
       "        -5.95455872e-25,  7.54674319e-27, -1.75568113e-24,\n",
       "         6.26353187e-22, -2.48444939e-19,  1.08811861e-16,\n",
       "        -5.23021626e-14,  2.74425149e-11],\n",
       "       [ 1.53486282e-10, -1.82007318e-09,  4.73883221e-09,\n",
       "        -2.41704222e-09,  2.49822575e-10, -8.72986839e-12,\n",
       "         1.64693672e-13, -2.04148744e-15,  1.84301134e-17,\n",
       "        -1.28977199e-19,  7.29396839e-22, -3.43363961e-24,\n",
       "         1.37571170e-26, -1.00333700e-28,  1.67568976e-26,\n",
       "        -5.98090970e-24,  2.37329580e-21, -1.03979768e-18,\n",
       "         4.99947625e-16, -2.62389006e-13],\n",
       "       [-1.16922313e-12,  1.44174482e-11, -4.01611774e-11,\n",
       "         2.28057075e-11, -2.68307014e-12,  1.02277987e-13,\n",
       "        -2.04148744e-15,  2.63328039e-17, -2.44929483e-19,\n",
       "         1.75459596e-21, -1.01118471e-23,  4.83513508e-26,\n",
       "        -1.96291145e-28,  1.08864300e-30, -1.27449591e-28,\n",
       "         4.55057693e-26, -1.80628659e-23,  7.91591885e-21,\n",
       "        -3.80697598e-18,  1.99844583e-15],\n",
       "       [ 7.30529907e-15, -9.28456996e-14,  2.72245114e-13,\n",
       "        -1.67456583e-13,  2.16951967e-14, -8.84633578e-16,\n",
       "         1.84301134e-17, -2.44929483e-19,  2.32934820e-21,\n",
       "        -1.69780202e-23,  9.92179228e-26, -4.79908815e-28,\n",
       "         1.96719010e-30, -9.45401193e-33,  7.95304577e-31,\n",
       "        -2.84042600e-28,  1.12774872e-25, -4.94334979e-23,\n",
       "         2.37784088e-20, -1.24844103e-17],\n",
       "       [-3.82950310e-17,  4.98575756e-16, -1.52210780e-15,\n",
       "         9.96095693e-16, -1.39079155e-16,  5.98499615e-18,\n",
       "        -1.28977199e-19,  1.75459596e-21, -1.69780202e-23,\n",
       "         1.25421620e-25, -7.40893850e-28,  3.61556602e-30,\n",
       "        -1.49312401e-32,  6.62182555e-35, -4.16478723e-33,\n",
       "         1.48778781e-30, -5.90825014e-28,  2.59027058e-25,\n",
       "        -1.24616129e-22,  6.54363821e-20],\n",
       "       [ 1.71499430e-19, -2.27712466e-18,  7.18195449e-18,\n",
       "        -4.93873470e-18,  7.32132848e-19, -3.29292127e-20,\n",
       "         7.29396839e-22, -1.01118471e-23,  9.92179228e-26,\n",
       "        -7.40893850e-28,  4.41455161e-30, -2.16962409e-32,\n",
       "         9.01327242e-35, -3.80939027e-37,  1.86356093e-35,\n",
       "        -6.65843240e-33,  2.64462506e-30, -1.15961758e-27,\n",
       "         5.57956505e-25, -2.93018609e-22],\n",
       "       [-6.65886197e-22,  8.98708237e-21, -2.91163013e-20,\n",
       "         2.08508923e-20, -3.24654722e-21,  1.51515067e-22,\n",
       "        -3.43363961e-24,  4.83513508e-26, -4.79908815e-28,\n",
       "         3.61556602e-30, -2.16962409e-32,  1.07252192e-34,\n",
       "        -4.47729737e-37,  1.83534681e-39, -7.23052303e-38,\n",
       "         2.58383334e-35, -1.02640665e-32,  4.50116224e-30,\n",
       "        -2.16599766e-27,  1.13761424e-24],\n",
       "       [ 2.26918752e-24, -3.10512670e-23,  1.02891879e-22,\n",
       "        -7.62196277e-23,  1.23645267e-23, -5.95436279e-25,\n",
       "         1.37569302e-26, -1.96289726e-28,  1.96718125e-30,\n",
       "        -1.49311938e-32,  9.01325171e-35, -4.47728934e-37,\n",
       "         1.87668016e-39, -7.53801881e-42,  2.46249111e-40,\n",
       "        -8.80085748e-38,  3.49650237e-35, -1.53350708e-32,\n",
       "         7.38006260e-30, -3.87644149e-27],\n",
       "       [-6.85736460e-27,  9.49491981e-26, -3.20716476e-25,\n",
       "         2.44490604e-25, -4.10665375e-26,  2.03173456e-27,\n",
       "        -4.77254824e-29,  6.88690031e-31, -6.95912876e-33,\n",
       "         5.31570939e-35, -3.22510580e-37,  1.60869600e-39,\n",
       "        -6.76626942e-42,  2.67976644e-44, -7.43759856e-43,\n",
       "         2.65845884e-40, -1.05629563e-37,  4.63316706e-35,\n",
       "        -2.22991189e-32,  1.17136494e-29],\n",
       "       [ 1.85392330e-29, -2.59334687e-28,  8.90566318e-28,\n",
       "        -6.95826359e-28,  1.20425977e-28, -6.09950885e-30,\n",
       "         1.45354501e-31, -2.11809825e-33,  2.15564747e-35,\n",
       "        -1.65563614e-37,  1.00888614e-39, -5.05034033e-42,\n",
       "         2.13053263e-44, -8.35326919e-47,  2.00987097e-45,\n",
       "        -7.18464482e-43,  2.85497107e-40, -1.25236131e-37,\n",
       "         6.02796100e-35, -3.16666677e-32],\n",
       "       [-4.51840142e-32,  6.37718148e-31, -2.22168272e-30,\n",
       "         1.77337429e-30, -3.15001769e-31,  1.62869918e-32,\n",
       "        -3.93059031e-34,  5.77686442e-36, -5.91609152e-38,\n",
       "         4.56563478e-40, -2.79274478e-42,  1.40236027e-44,\n",
       "        -5.93134154e-47,  2.30834192e-49, -4.89650917e-48,\n",
       "         1.75048313e-45, -6.95649373e-43,  3.05175461e-40,\n",
       "        -1.46898645e-37,  7.71745145e-35],\n",
       "       [ 9.99368513e-35, -1.42162392e-33,  5.01564826e-33,\n",
       "        -4.07927079e-33,  7.41317630e-34, -3.90354345e-35,\n",
       "         9.52639034e-37, -1.41074012e-38,  1.45272044e-40,\n",
       "        -1.12585121e-42,  6.90981995e-45, -3.47922972e-47,\n",
       "         1.47491407e-49, -5.70807372e-52,  1.08261258e-50,\n",
       "        -3.87056156e-48,  1.53829099e-45, -6.74878372e-43,\n",
       "         3.24876304e-40, -1.70685113e-37],\n",
       "       [-2.01770348e-37,  2.89033905e-36, -1.03122219e-35,\n",
       "         8.52706079e-36, -1.58120432e-36,  8.46274939e-38,\n",
       "        -2.08596778e-39,  3.10993208e-41, -3.21820549e-43,\n",
       "         2.50346321e-45, -1.54105963e-47,  7.77839625e-50,\n",
       "        -3.30409129e-52,  1.27325139e-54, -2.18508052e-53,\n",
       "         7.81257159e-51, -3.10518301e-48,  1.36238260e-45,\n",
       "        -6.55863393e-43,  3.44595995e-40],\n",
       "       [ 3.73796375e-40, -5.38811831e-39,  1.94167194e-38,\n",
       "        -1.62939243e-38,  3.07628769e-39, -1.67068438e-40,\n",
       "         4.15503040e-42, -6.23217614e-44,  6.47751358e-46,\n",
       "        -5.05583684e-48,  3.12052111e-50, -1.57848346e-52,\n",
       "         6.71717674e-55, -2.57986288e-57,  4.04689861e-56,\n",
       "        -1.44700918e-53,  5.75162127e-51, -2.52362342e-48,\n",
       "         1.21495012e-45, -6.38370169e-43],\n",
       "       [-6.38368094e-43,  9.25359789e-42, -3.36464980e-41,\n",
       "         2.86106101e-41, -5.48953381e-42,  3.02084773e-43,\n",
       "        -7.57382205e-45,  1.14220952e-46, -1.19187767e-48,\n",
       "         9.33100824e-51, -5.77301639e-53,  2.92592560e-55,\n",
       "        -1.24714129e-57,  4.77722337e-60, -6.90952007e-59,\n",
       "         2.47067993e-56, -9.82107047e-54,  4.30936562e-51,\n",
       "        -2.07474617e-48,  1.09017133e-45]])"
      ]
     },
     "execution_count": 44,
     "metadata": {},
     "output_type": "execute_result"
    }
   ],
   "source": [
    "ansatz_3(np.array([0.7, 1]), a, at, **{'epsilon' : 0.2})"
   ]
  },
  {
   "cell_type": "markdown",
   "metadata": {},
   "source": [
    "$ \\mathcal{L} \\hat \\rho = - i\\mkern1mu \\left[\\hat H, \\hat \\rho \\right] + \\gamma (\\bar n + 1) \\left( \\hat a \\hat \\rho \\hat a^\\dag - \\frac{1}{2} \\left\\{ \\hat a^\\dag \\hat a, \\hat \\rho \\right\\} \\right) + \\gamma \\bar n \\left( \\hat a^\\dag \\hat \\rho \\hat a - \\frac{1}{2} \\left\\{ \\hat a \\hat a^\\dag, \\hat \\rho \\right\\} \\right)$\n"
   ]
  },
  {
   "cell_type": "code",
   "execution_count": 45,
   "metadata": {},
   "outputs": [],
   "source": [
    "def lindblad(M, a, at, beta, **args) :\n",
    "    '''\n",
    "    Computes the lindbladian of a density matrix M\n",
    "\n",
    "    Parameters\n",
    "    ----------\n",
    "    M : array \n",
    "        density matrix\n",
    "    a : array\n",
    "        annihilation operator\n",
    "    at : array\n",
    "        creation operator\n",
    "    beta : float\n",
    "        inversee temperature\n",
    "    **args : dic\n",
    "        (optional) extra parameters used in the Hamiltonian (like\n",
    "        frequencies, ratio parameters, ...)\n",
    "\n",
    "    Return\n",
    "    ------\n",
    "    L : float\n",
    "        the lindbladian\n",
    "    '''\n",
    "    L0 = - 1j * (H(a, at, **args) @ M - (H(a, at, **args).T @ M.T).T)\n",
    "    L1 = (n_avg(beta) + 1) * (a @ (a @ M.T).T - 0.5 * (at @ a @ M + (at @ a @ M.T).T))\n",
    "    L2 = n_avg(beta) * (at @ (at @ M.T).T - 0.5 * (a @ at @ M + (a @ at @ M.T).T))\n",
    "    return L0 + L1 + L2"
   ]
  },
  {
   "cell_type": "code",
   "execution_count": 46,
   "metadata": {},
   "outputs": [
    {
     "data": {
      "text/plain": [
       "array([[ 6.25115057e-03-2.77555756e-17j,  1.01163789e-01-8.32667268e-17j,\n",
       "        -7.02204462e-03-6.39175726e-03j,  2.04832000e-04+3.71519227e-04j,\n",
       "        -3.48993119e-06-9.51993814e-06j,  4.00792207e-08+1.46411563e-07j,\n",
       "        -3.36730089e-10-1.54478305e-09j,  2.18335062e-12+1.20729664e-11j,\n",
       "        -1.13460921e-14-7.34928881e-14j,  4.86040816e-17+3.61120832e-16j,\n",
       "        -1.75415907e-19-1.47104873e-18j,  5.07409182e-22+5.11082548e-21j,\n",
       "         1.43183140e-20-1.55468905e-20j, -6.54734880e-18+7.02589702e-18j,\n",
       "         3.34736600e-15-3.56004860e-15j, -1.89921831e-12+2.00463712e-12j,\n",
       "         1.18797071e-09-1.24577863e-09j, -8.14432289e-07+8.49254969e-07j,\n",
       "         6.08783650e-04-6.31681640e-04j,  1.85844773e-02+5.10207211e-01j],\n",
       "       [ 9.61518113e-02-5.55111512e-17j, -9.82026005e-01+5.55111512e-17j,\n",
       "         3.53512010e-02+7.60069121e-02j,  8.15165633e-05-5.35812290e-03j,\n",
       "        -2.22163620e-05+1.53482000e-04j,  5.08955393e-07-2.53863571e-06j,\n",
       "        -6.49443644e-09+2.81948402e-08j,  5.68954469e-11-2.28912701e-10j,\n",
       "        -3.74049833e-13+1.43511719e-12j,  1.94317376e-15-7.21885328e-15j,\n",
       "        -8.25731244e-18+2.99730029e-17j,  2.94338313e-20-1.04996964e-19j,\n",
       "        -7.12424732e-22+1.50193749e-21j,  2.87889713e-19-5.39723766e-19j,\n",
       "        -1.48538052e-16+2.74823946e-16j,  8.49275276e-14-1.55400130e-13j,\n",
       "        -5.34715385e-11+9.69225885e-11j,  3.68655985e-08-6.62811438e-08j,\n",
       "        -2.76923947e-05+4.94371476e-05j, -1.57058455e-03-4.00284230e-02j],\n",
       "       [-6.46595340e-03+6.39175726e-03j,  3.53512010e-02-7.60069121e-02j,\n",
       "         8.36159167e-01+0.00000000e+00j, -5.82359380e-02+9.26633271e-03j,\n",
       "         1.66138966e-03-4.16195782e-04j, -2.74417046e-05+8.52351696e-06j,\n",
       "         3.04666971e-07-1.07645755e-07j, -2.47376670e-09+9.53183795e-10j,\n",
       "         1.55127871e-11-6.36337997e-12j, -7.80578598e-14+3.35745637e-14j,\n",
       "         3.24215936e-16-1.44742653e-16j, -1.13611752e-18+5.22669671e-19j,\n",
       "         3.43079592e-21-1.65050750e-21j, -6.19909271e-21+1.77808367e-20j,\n",
       "         3.22884434e-18-9.09269125e-18j, -1.86284087e-15+5.16079358e-15j,\n",
       "         1.18179339e-12-3.22893623e-12j, -8.20052605e-10+2.21406938e-09j,\n",
       "         6.19430131e-07-1.65523483e-06j,  5.64996917e-05+1.34291518e-03j],\n",
       "       [ 1.81848352e-04-3.71519227e-04j,  8.15165633e-05+5.35812290e-03j,\n",
       "        -5.82359380e-02-9.26633271e-03j,  1.37311666e-01+1.08420217e-19j,\n",
       "        -6.01175981e-03+1.31578951e-04j,  1.21372060e-04-4.49420723e-06j,\n",
       "        -1.51804994e-06+7.33044881e-08j,  1.33468403e-08-7.61036124e-10j,\n",
       "        -8.86173115e-11+5.67126548e-12j,  4.65542778e-13-3.24503508e-14j,\n",
       "        -1.99993185e-15+1.48916331e-16j,  7.20072104e-18-5.65159183e-19j,\n",
       "        -2.21489459e-20+1.81555821e-21j,  1.40618188e-22-3.37906342e-22j,\n",
       "        -4.30972526e-20+1.71208901e-19j,  2.51387482e-17-9.76076855e-17j,\n",
       "        -1.60939281e-14+6.12944422e-14j,  1.12535015e-11-4.21585394e-11j,\n",
       "        -8.55601009e-09+3.15996109e-08j, -1.15512218e-06-2.56942123e-05j],\n",
       "       [-2.97610683e-06+9.51993814e-06j, -2.22163620e-05-1.53482000e-04j,\n",
       "         1.66138966e-03+4.16195782e-04j, -6.01175981e-03-1.31578951e-04j,\n",
       "         2.29766982e-03-7.62329653e-21j, -7.52328989e-05+2.86661564e-07j,\n",
       "         1.20739537e-06-7.73420492e-09j, -1.24152302e-08+1.04218189e-10j,\n",
       "         9.18984127e-11-9.17990561e-13j, -5.23149731e-13+5.91337102e-15j,\n",
       "         2.39099233e-15-2.96666993e-17j, -9.04380017e-18+1.20732969e-19j,\n",
       "         2.89597116e-20-4.10182439e-22j, -8.06373397e-23+5.26161748e-24j,\n",
       "         3.94530373e-22-2.11011275e-21j, -2.33151389e-19+1.20995868e-18j,\n",
       "         1.50924793e-16-7.63384027e-16j, -1.06507533e-13+5.27090900e-13j,\n",
       "         8.16077462e-11-3.96354379e-10j,  1.54900468e-08+3.23163504e-07j],\n",
       "       [ 3.27225378e-08-1.46411563e-07j,  5.08955393e-07+2.53863571e-06j,\n",
       "        -2.74417046e-05-8.52351696e-06j,  1.21372060e-04+4.49420723e-06j,\n",
       "        -7.52328989e-05-2.86661564e-07j,  6.34654824e-06+1.32348898e-23j,\n",
       "        -1.51090104e-07+1.49700388e-10j,  1.95744442e-09-3.04515030e-12j,\n",
       "        -1.69212688e-11+3.31026511e-14j,  1.07799957e-13-2.44401086e-16j,\n",
       "        -5.36820863e-16+1.35283971e-18j,  2.17291353e-18-5.93617960e-21j,\n",
       "        -7.35161321e-21+2.14141004e-23j,  2.12356647e-23-1.00537559e-25j,\n",
       "        -2.69549845e-24+1.85008567e-23j,  1.58875190e-21-1.06897866e-20j,\n",
       "        -1.04246152e-18+6.78567376e-18j,  7.43884785e-16-4.70861885e-15j,\n",
       "        -5.75280947e-13+3.55528864e-12j, -1.48509334e-10-2.90874783e-09j],\n",
       "       [-2.62391469e-10+1.54478305e-09j, -6.49443644e-09-2.81948402e-08j,\n",
       "         3.04666971e-07+1.07645755e-07j, -1.51804994e-06-7.33044881e-08j,\n",
       "         1.20739537e-06+7.73420492e-09j, -1.51090104e-07-1.49700388e-10j,\n",
       "         4.77873684e-09+4.03896783e-27j, -7.47412825e-11+2.92629554e-14j,\n",
       "         7.38867013e-13-4.47274079e-16j, -5.20649434e-15+3.87118003e-18j,\n",
       "         2.80532410e-17-2.36248119e-20j, -1.20987892e-19+1.10964250e-22j,\n",
       "         4.31283685e-22-4.21257016e-25j, -1.30129625e-24+1.56442245e-27j,\n",
       "         1.69206675e-26-1.21835149e-25j, -8.31298618e-24+7.11134289e-23j,\n",
       "         5.54656042e-21-4.55032539e-20j, -4.01179239e-18+3.17779155e-17j,\n",
       "         3.13720862e-15-2.41200816e-14j,  1.07810119e-12+1.98194987e-11j],\n",
       "       [ 1.61870526e-12-1.20729664e-11j,  5.68954469e-11+2.28912701e-10j,\n",
       "        -2.47376670e-09-9.53183795e-10j,  1.33468403e-08+7.61036124e-10j,\n",
       "        -1.24152302e-08-1.04218189e-10j,  1.95744442e-09+3.04515030e-12j,\n",
       "        -7.47412825e-11-2.92629554e-14j,  1.31263588e-12+8.87468518e-31j,\n",
       "        -1.40620495e-14+2.65551426e-18j,  1.05222469e-16-3.14679585e-20j,\n",
       "        -5.94284076e-19+2.20626431e-22j,  2.66270291e-21-1.12437830e-24j,\n",
       "        -9.79715132e-24+4.50985773e-27j,  3.03627318e-26-1.60314830e-29j,\n",
       "        -1.35370468e-28+6.25384355e-28j,  3.44275593e-26-3.70027346e-25j,\n",
       "        -2.34561185e-23+2.39265946e-22j,  1.72495139e-20-1.68483764e-19j,\n",
       "        -1.36717273e-17+1.28737651e-16j, -6.17320044e-15-1.06362857e-13j],\n",
       "       [-7.97708135e-15+7.34928881e-14j, -3.74049833e-13-1.43511719e-12j,\n",
       "         1.55127871e-11+6.36337997e-12j, -8.86173115e-11-5.67126548e-12j,\n",
       "         9.18984127e-11+9.17990561e-13j, -1.69212688e-11-3.31026511e-14j,\n",
       "         7.38867013e-13+4.47274079e-16j, -1.40620495e-14-2.65551426e-18j,\n",
       "         1.59156815e-16+1.32407684e-34j, -1.24035832e-18+1.29991612e-22j,\n",
       "         7.23040262e-21-1.23285116e-24j, -3.32303265e-23+7.15066959e-27j,\n",
       "         1.24859353e-25-3.08853541e-29j, -3.93842673e-28+1.11578719e-31j,\n",
       "         1.24032273e-30-2.56631866e-30j, -1.15205009e-28+1.54696290e-27j,\n",
       "         8.06110221e-26-1.01434518e-24j, -6.05183633e-23+7.22001719e-22j,\n",
       "         4.87609985e-20-5.56397603e-19j,  2.87436162e-17+4.62868072e-16j],\n",
       "       [ 3.22923107e-17-3.61120832e-16j,  1.94317376e-15+7.21885328e-15j,\n",
       "        -7.80578598e-14-3.35745637e-14j,  4.65542778e-13+3.24503508e-14j,\n",
       "        -5.23149731e-13-5.91337102e-15j,  1.07799957e-13+2.44401086e-16j,\n",
       "        -5.20649434e-15-3.87118003e-18j,  1.05222469e-16+3.14679585e-20j,\n",
       "        -1.24035832e-18-1.29991612e-22j,  9.95883270e-21+1.35916534e-38j,\n",
       "        -5.94014777e-23+3.81160679e-27j,  2.78057948e-25-2.97230669e-29j,\n",
       "        -1.06060742e-27+1.45404989e-31j,  3.38785339e-30-5.54911719e-34j,\n",
       "        -9.71192190e-33+8.55342092e-33j,  3.15472506e-31-5.29330357e-30j,\n",
       "        -2.28576660e-28+3.53721852e-27j,  1.76165548e-25-2.55377429e-24j,\n",
       "        -1.44864731e-22+1.98976655e-21j, -1.11424732e-19-1.66978447e-18j],\n",
       "       [-1.09712988e-19+1.47104862e-18j, -8.25731243e-18-2.99730028e-17j,\n",
       "         3.24215936e-16+1.44742653e-16j, -1.99993185e-15-1.48916331e-16j,\n",
       "         2.39099233e-15+2.96666993e-17j, -5.36820863e-16-1.35283971e-18j,\n",
       "         2.80532410e-17+2.36248119e-20j, -5.94284076e-19-2.20626431e-22j,\n",
       "         7.23040262e-21+1.23285116e-24j, -5.94014777e-23-3.81160679e-27j,\n",
       "         3.60595756e-25+3.81153182e-43j, -1.71168343e-27+7.22349196e-32j,\n",
       "         6.60382097e-30-4.73516656e-34j, -2.12959325e-32+2.02462492e-36j,\n",
       "         5.95955176e-35-2.32933359e-35j, -7.10105877e-34+1.49893217e-32j,\n",
       "         5.39527601e-31-1.02867197e-29j, -4.30324078e-28+7.57053083e-27j,\n",
       "         3.63125790e-25-5.98415998e-24j,  3.66400009e-22+5.07824897e-21j],\n",
       "       [ 3.18190756e-22-5.07200810e-21j,  2.94323160e-20+1.04994020e-19j,\n",
       "        -1.13611749e-18-5.22669575e-19j,  7.20072104e-18+5.65159181e-19j,\n",
       "        -9.04380017e-18-1.20732969e-19j,  2.17291353e-18+5.93617960e-21j,\n",
       "        -1.20987892e-19-1.10964250e-22j,  2.66270291e-21+1.12437830e-24j,\n",
       "        -3.32303265e-23-7.15066959e-27j,  2.78057948e-25+2.97230669e-29j,\n",
       "        -1.71168343e-27-7.22349196e-32j,  8.21531714e-30+9.23707484e-48j,\n",
       "        -3.19817340e-32+9.36908329e-37j,  1.03909136e-34-5.33177150e-39j,\n",
       "        -2.89482388e-37+5.13900856e-38j,  1.30493913e-36-3.52160198e-35j,\n",
       "        -1.06190269e-33+2.51383151e-32j,  8.87455027e-31-1.90035952e-29j,\n",
       "        -7.74544086e-28+1.53151996e-26j, -1.03766373e-24-1.31875430e-23j],\n",
       "       [-7.98579862e-25+1.50495168e-23j, -8.97072971e-23-3.15727368e-22j,\n",
       "         3.41758476e-21+1.61165383e-21j, -2.21487748e-20-1.81483563e-21j,\n",
       "         2.89597101e-20+4.10173680e-22j, -7.35161320e-21-2.14140253e-23j,\n",
       "         4.31283685e-22+4.21256537e-25j, -9.79715132e-24-4.50985538e-27j,\n",
       "         1.24859353e-25+3.08853451e-29j, -1.06060742e-27-1.45404962e-31j,\n",
       "         6.60382097e-30+4.73516593e-34j, -3.19817340e-32-9.36908237e-37j,\n",
       "         1.25415654e-34+2.00979378e-52j, -4.09957139e-37+8.79062243e-42j,\n",
       "         1.14356317e-39-8.81925684e-41j, -1.90250251e-39+6.78845456e-38j,\n",
       "         1.72734119e-36-5.16191109e-35j, -1.54465644e-33+4.05969076e-32j,\n",
       "         1.41141547e-30-3.36127423e-29j,  2.56288410e-27+2.95135934e-26j],\n",
       "       [ 1.75381442e-27-3.89546106e-26j,  2.37404307e-25+8.26630414e-25j,\n",
       "        -8.95072954e-24-4.30948886e-24j,  5.91001323e-23+5.01945350e-24j,\n",
       "        -7.99039255e-23-1.18848518e-24j,  2.12308543e-23+6.51723892e-26j,\n",
       "        -1.30127228e-24-1.33460087e-27j,  3.03626386e-26+1.48732474e-29j,\n",
       "        -3.93842386e-28-1.06948219e-31j,  3.38785270e-30+5.40067702e-34j,\n",
       "        -2.12959312e-32-1.98666147e-36j,  1.03909134e-34+5.25720441e-39j,\n",
       "        -4.09957138e-37-8.69450836e-42j,  1.34682440e-39+3.08263285e-56j,\n",
       "        -3.76777557e-42+1.00396238e-43j,  2.00848070e-42-1.02887035e-40j,\n",
       "        -2.25255027e-39+8.79036214e-38j,  2.24561294e-36-7.36558234e-35j,\n",
       "        -2.19311150e-33+6.34553410e-32j, -5.57864824e-30-5.72494787e-29j],\n",
       "       [-3.40128329e-30+8.89636481e-29j, -5.52363966e-28-1.90658672e-27j,\n",
       "         2.06506858e-26+1.01198336e-26j, -1.38530285e-25-1.21284993e-26j,\n",
       "         1.92669837e-25+2.98629093e-27j, -5.32008807e-26-1.70630758e-28j,\n",
       "         3.38463378e-27+3.61012737e-30j, -8.08109833e-29-4.14946031e-32j,\n",
       "         1.06413955e-30+3.08972808e-34j, -9.25238720e-33-1.63288186e-36j,\n",
       "         5.86315972e-35+6.42874361e-39j, -2.87899952e-37-1.91867007e-41j,\n",
       "         1.14170718e-39+4.23894591e-44j, -3.76681080e-42-6.02490520e-47j,\n",
       "         1.05711416e-44-2.63642710e-56j, -9.57739826e-46+1.04390591e-43j,\n",
       "         2.14285274e-42-1.18777924e-40j, -2.64209328e-39+1.11843271e-37j,\n",
       "         2.87233978e-36-1.02671548e-34j,  1.07972028e-32+9.63960898e-32j],\n",
       "       [ 5.86849629e-33-1.80989375e-31j,  1.14170212e-30+3.91241322e-30j,\n",
       "        -4.23881423e-29-2.10907667e-29j,  2.88252258e-28+2.59034689e-29j,\n",
       "        -4.10745120e-28-6.59443336e-30j,  1.17209958e-28+3.90206183e-31j,\n",
       "        -7.70045531e-30-8.48339534e-33j,  1.87565717e-31+9.99414085e-35j,\n",
       "        -2.50233349e-33-7.64088235e-37j,  2.19590407e-35+4.17004389e-39j,\n",
       "        -1.40122517e-37-1.71504398e-41j,  6.91803471e-40+5.47122556e-44j,\n",
       "        -2.75554893e-42-1.36198873e-46j,  9.12452749e-45+2.58135915e-49j,\n",
       "        -2.56843087e-47-3.72899225e-49j, -1.61451043e-48+1.31087817e-56j,\n",
       "        -9.02453791e-46+1.08295380e-43j,  2.28645764e-42-1.35823047e-40j,\n",
       "        -3.06958218e-39+1.40133960e-37j, -1.87224272e-35-1.40211284e-34j],\n",
       "       [-9.06199859e-36+3.30717095e-34j, -2.11493041e-33-7.20359520e-33j,\n",
       "         7.80660135e-32+3.93608022e-32j, -5.37199573e-31-4.93795968e-32j,\n",
       "         7.81739854e-31+1.29386267e-32j, -2.29518912e-31-7.89052914e-34j,\n",
       "         1.55072095e-32+1.75552457e-35j, -3.84404870e-34-2.11040016e-37j,\n",
       "         5.18721315e-36+1.64735196e-39j, -4.58883314e-38-9.20927837e-42j,\n",
       "         2.94593334e-40+3.90522325e-44j, -1.46134849e-42-1.30000840e-46j,\n",
       "         5.84305694e-45+3.45641598e-49j, -1.94095960e-47-7.37081310e-52j,\n",
       "         5.47855083e-50+1.23468177e-51j,  5.08536396e-51-3.15097557e-49j,\n",
       "        -1.56665634e-48-4.57765004e-57j, -8.75509121e-46+1.12066024e-43j,\n",
       "         2.43015248e-42-1.54022558e-40j,  2.92750135e-38+1.73220947e-37j],\n",
       "       [ 1.25809007e-38-5.46669332e-37j,  3.53785886e-36+1.19880095e-35j,\n",
       "        -1.29946523e-34-6.62860148e-35j,  9.03552649e-34+8.47181192e-35j,\n",
       "        -1.33926962e-33-2.27639406e-35j,  4.03118905e-34+1.42525329e-36j,\n",
       "        -2.79154723e-35-3.23467810e-38j,  7.02823244e-37+3.95499653e-40j,\n",
       "        -9.57995832e-39-3.13962373e-42j,  8.53520055e-41+1.78833488e-44j,\n",
       "        -5.50862394e-43-7.75761374e-47j,  2.74397183e-45+2.66017537e-49j,\n",
       "        -1.10083808e-47-7.37545830e-52j,  3.66694912e-50+1.67792734e-54j,\n",
       "        -1.03757986e-52-2.79370783e-54j, -7.38693871e-54+9.49525350e-52j,\n",
       "         4.58845392e-51-2.69260647e-49j, -1.45960141e-48+1.11360858e-57j,\n",
       "        -8.50842372e-46+1.15715341e-43j, -4.15079608e-41-1.73376581e-40j],\n",
       "       [-1.57517193e-41+8.22569471e-40j, -5.37948066e-39-1.81473265e-38j,\n",
       "         1.96755820e-37+1.01405586e-37j, -1.38073647e-36-1.31747664e-37j,\n",
       "         2.08006155e-36+3.61945043e-38j, -6.39990910e-37-2.31925709e-39j,\n",
       "         4.52968755e-38+5.35577800e-41j, -1.15634651e-39-6.64362834e-43j,\n",
       "         1.59035995e-41+5.34803460e-45j, -1.42587621e-43-3.09238583e-47j,\n",
       "         9.24609298e-46+1.36520268e-49j, -4.62268455e-48-4.78507614e-52j,\n",
       "         1.86006552e-50+1.36583559e-54j, -6.21120534e-53-3.23723645e-57j,\n",
       "         1.76134661e-55+5.14721613e-57j,  5.30412051e-57-1.96595769e-54j,\n",
       "        -6.67168917e-54+7.42647102e-52j,  4.01587401e-51-2.32215294e-49j,\n",
       "        -1.35858406e-48-1.41884748e-58j,  5.36204136e-44+1.19254243e-43j],\n",
       "       [-7.24384875e-45-1.13291339e-42j,  8.04071598e-42+2.51298421e-41j,\n",
       "        -2.75725311e-40-1.41749764e-40j,  1.93242234e-39+1.86871648e-40j,\n",
       "        -2.94817940e-39-5.23590585e-41j,  9.24658261e-40+3.42476502e-42j,\n",
       "        -6.67292163e-41-8.03052304e-44j,  1.72478345e-42+1.00864850e-45j,\n",
       "        -2.39124625e-44-8.21560812e-48j,  2.15603772e-46+4.80955625e-50j,\n",
       "        -1.40397861e-48-2.15322759e-52j,  7.04244655e-51+7.67538588e-55j,\n",
       "        -2.84124083e-53-2.23821207e-57j,  9.50836998e-56+5.45718375e-60j,\n",
       "        -2.69923274e-58-8.18314625e-60j, -1.60503324e-58+3.33042231e-57j,\n",
       "         1.23932156e-55-1.41411949e-54j, -9.50019478e-53+5.89086329e-52j,\n",
       "         7.55704589e-50-2.01912369e-49j, -3.19014632e-47-2.17805535e-60j]])"
      ]
     },
     "execution_count": 46,
     "metadata": {},
     "output_type": "execute_result"
    }
   ],
   "source": [
    "lindblad(ansatz_3([0.5, 1], a, at, **{'epsilon' : 0.2}), a, at, 0.5, **{'epsilon' : 0.2})"
   ]
  },
  {
   "cell_type": "markdown",
   "metadata": {},
   "source": [
    "Loss\n"
   ]
  },
  {
   "cell_type": "code",
   "execution_count": 47,
   "metadata": {},
   "outputs": [],
   "source": [
    "def loss(lagr, ansatz, a, at, beta, **args) :\n",
    "    '''\n",
    "    Computes the (Nuclear) norm of the Lindbladian of an ansatz density matrix\n",
    "    given the Lagrange multipliers\n",
    "\n",
    "    Parameters\n",
    "    ----------\n",
    "    lagr : array\n",
    "        Lagrange multipliers of (pseudo-)conserved quantities.\n",
    "        They are the variational parameters\n",
    "    ansatz : function\n",
    "        ansatz used in the variational procedure\n",
    "    a : array\n",
    "        annihilation operator\n",
    "    at : array\n",
    "        creation operator\n",
    "    beta : float\n",
    "        inverse temperature\n",
    "    **args : dic\n",
    "        (optional) extra parameters used in the Hamiltonian (like\n",
    "        frequencies, ratio parameters, ...)\n",
    "\n",
    "    Return\n",
    "    ------\n",
    "    ||L rho || : float\n",
    "        the Nuclear norm of the linbladian of the density matrix\n",
    "\n",
    "    Note\n",
    "    ----\n",
    "    We use the Nuclear norm because it is not biased (see [1])\n",
    "\n",
    "    References\n",
    "    ----------\n",
    "    [1] - Weimer, Variational principle for steady states of dissipative quantum many-body systems, 2015\n",
    "    '''\n",
    "    return np.linalg.norm(lindblad(ansatz(lagr, a, at, **args), a, at, beta, **args), 'nuc')"
   ]
  },
  {
   "cell_type": "code",
   "execution_count": 48,
   "metadata": {},
   "outputs": [
    {
     "data": {
      "text/plain": [
       "0.9986472921157399"
      ]
     },
     "execution_count": 48,
     "metadata": {},
     "output_type": "execute_result"
    }
   ],
   "source": [
    "loss([0.5, 1], ansatz_3, a, at, beta, **{'epsilon' : 0.2})"
   ]
  },
  {
   "cell_type": "markdown",
   "metadata": {},
   "source": [
    "##### Parameters\n"
   ]
  },
  {
   "cell_type": "code",
   "execution_count": 49,
   "metadata": {},
   "outputs": [],
   "source": [
    "case = 3\n",
    "folder = f'{dir_res}/case_{case}'\n",
    "os.makedirs(folder, exist_ok=True)"
   ]
  },
  {
   "cell_type": "code",
   "execution_count": 50,
   "metadata": {},
   "outputs": [],
   "source": [
    "N = 20\n",
    "a, at = creation_annihilation(N)\n",
    "betas = np.linspace(0.3, 5, 10)        # true inverse temperature\n",
    "lambda_0 = np.array([1, 0.05])\n",
    "params_H = {\n",
    "    'epsilon' : 0.2\n",
    "}"
   ]
  },
  {
   "cell_type": "code",
   "execution_count": 51,
   "metadata": {},
   "outputs": [
    {
     "name": "stdout",
     "output_type": "stream",
     "text": [
      "Optimization terminated successfully.\n",
      "         Current function value: 0.459469\n",
      "         Iterations: 56\n",
      "         Function evaluations: 107\n",
      "[0.18792217 0.00817617]\n",
      "Optimization terminated successfully.\n",
      "         Current function value: 0.409335\n",
      "         Iterations: 35\n",
      "         Function evaluations: 66\n",
      "[0.67912527 0.02505494]\n",
      "Optimization terminated successfully.\n",
      "         Current function value: 0.413328\n",
      "         Iterations: 32\n",
      "         Function evaluations: 61\n",
      "[1.16700994 0.02532878]\n",
      "Optimization terminated successfully.\n",
      "         Current function value: 0.440992\n",
      "         Iterations: 35\n",
      "         Function evaluations: 69\n",
      "[1.61580168 0.02898956]\n",
      "Optimization terminated successfully.\n",
      "         Current function value: 0.458834\n",
      "         Iterations: 43\n",
      "         Function evaluations: 81\n",
      "[2.00155006 0.03231325]\n",
      "Optimization terminated successfully.\n",
      "         Current function value: 0.469682\n",
      "         Iterations: 39\n",
      "         Function evaluations: 75\n",
      "[2.31645526 0.03516306]\n",
      "Optimization terminated successfully.\n",
      "         Current function value: 0.476190\n",
      "         Iterations: 40\n",
      "         Function evaluations: 77\n",
      "[2.55903559 0.03745709]\n",
      "Optimization terminated successfully.\n",
      "         Current function value: 0.480073\n",
      "         Iterations: 42\n",
      "         Function evaluations: 80\n",
      "[2.73460307 0.03919231]\n",
      "Optimization terminated successfully.\n",
      "         Current function value: 0.482384\n",
      "         Iterations: 45\n",
      "         Function evaluations: 83\n",
      "[2.85469104 0.04040209]\n",
      "Optimization terminated successfully.\n",
      "         Current function value: 0.483757\n",
      "         Iterations: 46\n",
      "         Function evaluations: 86\n",
      "[2.93317117 0.04121333]\n"
     ]
    }
   ],
   "source": [
    "for i,beta in enumerate(betas) :\n",
    "    opt = optimize(loss, lambda_0, a, at, beta, ansatz_3, folder, i, **params_H)\n",
    "    print(opt['lagr_best'])"
   ]
  },
  {
   "cell_type": "code",
   "execution_count": 52,
   "metadata": {},
   "outputs": [
    {
     "data": {
      "image/png": "[encoded data removed]",
      "text/plain": [
       "<Figure size 330x250 with 1 Axes>"
      ]
     },
     "metadata": {},
     "output_type": "display_data"
    },
    {
     "data": {
      "image/png": "[encoded data removed]",
      "text/plain": [
       "<Figure size 330x250 with 1 Axes>"
      ]
     },
     "metadata": {},
     "output_type": "display_data"
    }
   ],
   "source": [
    "lagr_to_plot = [0, 1]\n",
    "\n",
    "for i,beta in enumerate(betas) :\n",
    "\n",
    "    subfolder = f'{folder}/output_{i}'\n",
    "    explored_solutions = np.loadtxt(f'{subfolder}/history.txt', unpack=True)\n",
    "\n",
    "    for lagr in lagr_to_plot :\n",
    "        plt.figure(lagr)\n",
    "        if lagr == 0 :\n",
    "            plt.hlines(beta, 0, len(explored_solutions[lagr]), color='r', ls='--', lw=1.5, label='ground truth' if i==0 else \"\")\n",
    "        plt.plot(explored_solutions[lagr], lw=2, label=rf'$\\beta = {round(beta,2)}$')\n",
    "\n",
    "for lagr in lagr_to_plot :\n",
    "    plt.figure(lagr)   \n",
    "    plt.xlabel(\"iteration\")\n",
    "    plt.ylabel(rf\"Lagrange multiplier $\\lambda_{lagr}$\")\n",
    "    plt.legend(loc='upper center', ncols=4, bbox_to_anchor=(0.5, 1.33))\n",
    "    plt.savefig(f'figs/opti_case_{case}_lagr_{lagr}.pdf', bbox_inches='tight')\n"
   ]
  },
  {
   "cell_type": "code",
   "execution_count": 53,
   "metadata": {},
   "outputs": [
    {
     "data": {
      "image/png": "[encoded data removed]",
      "text/plain": [
       "<Figure size 400x400 with 2 Axes>"
      ]
     },
     "metadata": {},
     "output_type": "display_data"
    },
    {
     "data": {
      "image/png": "[encoded data removed]",
      "text/plain": [
       "<Figure size 400x400 with 2 Axes>"
      ]
     },
     "metadata": {},
     "output_type": "display_data"
    }
   ],
   "source": [
    "for i,beta in enumerate(betas) :\n",
    "    subfolder = f'{folder}/output_{i}'\n",
    "    estimated_rho = np.loadtxt(f'{subfolder}/rho_best.txt')\n",
    "\n",
    "    plt.matshow(estimated_rho)\n",
    "    plt.colorbar()\n",
    "    plt.savefig(f'{subfolder}/rho_best.pdf', bbox_inches='tight')\n",
    "\n",
    "    if i == 0 or i == len(betas) - 1 :\n",
    "        plt.show()\n",
    "    else :\n",
    "        plt.close()"
   ]
  },
  {
   "cell_type": "markdown",
   "metadata": {},
   "source": [
    "# Case 4 : add Kerr term\n"
   ]
  },
  {
   "cell_type": "markdown",
   "metadata": {},
   "source": [
    "#### $\\hat H = \\hat a^\\dag \\hat a + \\epsilon \\, \\hat a^\\dag \\hat a^\\dag \\hat a \\hat a $\n"
   ]
  },
  {
   "cell_type": "markdown",
   "metadata": {},
   "source": [
    "#### $ \\mathcal{L} \\hat \\rho = - i\\mkern1mu \\left[\\hat H, \\hat \\rho \\right] + \\gamma (\\bar n + 1) \\left( \\hat a \\hat \\rho \\hat a^\\dag - \\frac{1}{2} \\left\\{ \\hat a^\\dag \\hat a, \\hat \\rho \\right\\} \\right) + \\gamma \\bar n \\left( \\hat a^\\dag \\hat \\rho \\hat a - \\frac{1}{2} \\left\\{ \\hat a \\hat a^\\dag, \\hat \\rho \\right\\} \\right)$\n"
   ]
  },
  {
   "cell_type": "markdown",
   "metadata": {},
   "source": [
    "#### Ansatz : $ \\hat \\rho = \\frac{e^{- \\lambda_0 \\hat H - \\lambda_1 \\hat a^\\dag \\hat a^\\dag \\hat a \\hat a }}{\\text{Tr}(e^{- \\lambda_0 \\hat H - \\lambda_1 \\hat a^\\dag \\hat a^\\dag \\hat a \\hat a })}$\n"
   ]
  },
  {
   "cell_type": "markdown",
   "metadata": {},
   "source": [
    "Description of the physical system\n"
   ]
  },
  {
   "cell_type": "markdown",
   "metadata": {},
   "source": [
    "$ \\hat H = \\hat a^\\dag \\hat a + \\epsilon \\, \\hat a^\\dag \\hat a^\\dag \\hat a \\hat a $\n"
   ]
  },
  {
   "cell_type": "code",
   "execution_count": 54,
   "metadata": {},
   "outputs": [],
   "source": [
    "def H(a, at, **args) :\n",
    "    '''\n",
    "    Computes the matrix form of a Hamiltonian in the computational basis\n",
    "\n",
    "    Parameters\n",
    "    ----------\n",
    "    a : array\n",
    "        annihilation operator\n",
    "    at : array\n",
    "        creation operator\n",
    "    **args : dic\n",
    "        (optional) extra parameters used in the Hamiltonian (like\n",
    "        frequencies, ratio parameters, ...)  \n",
    "\n",
    "    Return\n",
    "    ------\n",
    "    H : array\n",
    "        matrix form of Hamiltonian \n",
    "    '''\n",
    "    epsilon = args['epsilon']\n",
    "    a, at = creation_annihilation(N)\n",
    "    H = at @ a + epsilon * (at @ at @ a @ a)\n",
    "    return H\n"
   ]
  },
  {
   "cell_type": "code",
   "execution_count": 55,
   "metadata": {},
   "outputs": [
    {
     "data": {
      "text/plain": [
       "array([[ 0. ,  0. ,  0. ,  0. ,  0. ,  0. ,  0. ,  0. ,  0. ,  0. ,  0. ,\n",
       "         0. ,  0. ,  0. ,  0. ,  0. ,  0. ,  0. ,  0. ,  0. ],\n",
       "       [ 0. ,  1. ,  0. ,  0. ,  0. ,  0. ,  0. ,  0. ,  0. ,  0. ,  0. ,\n",
       "         0. ,  0. ,  0. ,  0. ,  0. ,  0. ,  0. ,  0. ,  0. ],\n",
       "       [ 0. ,  0. ,  2.4,  0. ,  0. ,  0. ,  0. ,  0. ,  0. ,  0. ,  0. ,\n",
       "         0. ,  0. ,  0. ,  0. ,  0. ,  0. ,  0. ,  0. ,  0. ],\n",
       "       [ 0. ,  0. ,  0. ,  4.2,  0. ,  0. ,  0. ,  0. ,  0. ,  0. ,  0. ,\n",
       "         0. ,  0. ,  0. ,  0. ,  0. ,  0. ,  0. ,  0. ,  0. ],\n",
       "       [ 0. ,  0. ,  0. ,  0. ,  6.4,  0. ,  0. ,  0. ,  0. ,  0. ,  0. ,\n",
       "         0. ,  0. ,  0. ,  0. ,  0. ,  0. ,  0. ,  0. ,  0. ],\n",
       "       [ 0. ,  0. ,  0. ,  0. ,  0. ,  9. ,  0. ,  0. ,  0. ,  0. ,  0. ,\n",
       "         0. ,  0. ,  0. ,  0. ,  0. ,  0. ,  0. ,  0. ,  0. ],\n",
       "       [ 0. ,  0. ,  0. ,  0. ,  0. ,  0. , 12. ,  0. ,  0. ,  0. ,  0. ,\n",
       "         0. ,  0. ,  0. ,  0. ,  0. ,  0. ,  0. ,  0. ,  0. ],\n",
       "       [ 0. ,  0. ,  0. ,  0. ,  0. ,  0. ,  0. , 15.4,  0. ,  0. ,  0. ,\n",
       "         0. ,  0. ,  0. ,  0. ,  0. ,  0. ,  0. ,  0. ,  0. ],\n",
       "       [ 0. ,  0. ,  0. ,  0. ,  0. ,  0. ,  0. ,  0. , 19.2,  0. ,  0. ,\n",
       "         0. ,  0. ,  0. ,  0. ,  0. ,  0. ,  0. ,  0. ,  0. ],\n",
       "       [ 0. ,  0. ,  0. ,  0. ,  0. ,  0. ,  0. ,  0. ,  0. , 23.4,  0. ,\n",
       "         0. ,  0. ,  0. ,  0. ,  0. ,  0. ,  0. ,  0. ,  0. ],\n",
       "       [ 0. ,  0. ,  0. ,  0. ,  0. ,  0. ,  0. ,  0. ,  0. ,  0. , 28. ,\n",
       "         0. ,  0. ,  0. ,  0. ,  0. ,  0. ,  0. ,  0. ,  0. ],\n",
       "       [ 0. ,  0. ,  0. ,  0. ,  0. ,  0. ,  0. ,  0. ,  0. ,  0. ,  0. ,\n",
       "        33. ,  0. ,  0. ,  0. ,  0. ,  0. ,  0. ,  0. ,  0. ],\n",
       "       [ 0. ,  0. ,  0. ,  0. ,  0. ,  0. ,  0. ,  0. ,  0. ,  0. ,  0. ,\n",
       "         0. , 38.4,  0. ,  0. ,  0. ,  0. ,  0. ,  0. ,  0. ],\n",
       "       [ 0. ,  0. ,  0. ,  0. ,  0. ,  0. ,  0. ,  0. ,  0. ,  0. ,  0. ,\n",
       "         0. ,  0. , 44.2,  0. ,  0. ,  0. ,  0. ,  0. ,  0. ],\n",
       "       [ 0. ,  0. ,  0. ,  0. ,  0. ,  0. ,  0. ,  0. ,  0. ,  0. ,  0. ,\n",
       "         0. ,  0. ,  0. , 50.4,  0. ,  0. ,  0. ,  0. ,  0. ],\n",
       "       [ 0. ,  0. ,  0. ,  0. ,  0. ,  0. ,  0. ,  0. ,  0. ,  0. ,  0. ,\n",
       "         0. ,  0. ,  0. ,  0. , 57. ,  0. ,  0. ,  0. ,  0. ],\n",
       "       [ 0. ,  0. ,  0. ,  0. ,  0. ,  0. ,  0. ,  0. ,  0. ,  0. ,  0. ,\n",
       "         0. ,  0. ,  0. ,  0. ,  0. , 64. ,  0. ,  0. ,  0. ],\n",
       "       [ 0. ,  0. ,  0. ,  0. ,  0. ,  0. ,  0. ,  0. ,  0. ,  0. ,  0. ,\n",
       "         0. ,  0. ,  0. ,  0. ,  0. ,  0. , 71.4,  0. ,  0. ],\n",
       "       [ 0. ,  0. ,  0. ,  0. ,  0. ,  0. ,  0. ,  0. ,  0. ,  0. ,  0. ,\n",
       "         0. ,  0. ,  0. ,  0. ,  0. ,  0. ,  0. , 79.2,  0. ],\n",
       "       [ 0. ,  0. ,  0. ,  0. ,  0. ,  0. ,  0. ,  0. ,  0. ,  0. ,  0. ,\n",
       "         0. ,  0. ,  0. ,  0. ,  0. ,  0. ,  0. ,  0. , 87.4]])"
      ]
     },
     "execution_count": 55,
     "metadata": {},
     "output_type": "execute_result"
    }
   ],
   "source": [
    "H(a, at, **{'epsilon' : 0.2})"
   ]
  },
  {
   "cell_type": "markdown",
   "metadata": {},
   "source": [
    "Ansatz : $ \\hat \\rho = \\frac{e^{- \\lambda_0 \\hat H - \\lambda_1 \\hat a^\\dag \\hat a^\\dag \\hat a \\hat a }}{\\text{Tr}(e^{- \\lambda_0 \\hat H - \\lambda_1 \\hat a^\\dag \\hat a^\\dag \\hat a \\hat a })}$\n"
   ]
  },
  {
   "cell_type": "code",
   "execution_count": 56,
   "metadata": {},
   "outputs": [],
   "source": [
    "def ansatz_4(lagr, a, at, **args) :\n",
    "    '''\n",
    "    Creates an ansatz for the density matrix given some parameters\n",
    "\n",
    "    Parameters\n",
    "    ----------\n",
    "    lagr : array\n",
    "        Lagrange multipliers of (pseudo-)conserved quantities.\n",
    "        They are the variational parameters\n",
    "    a : array\n",
    "        annihilation operator\n",
    "    at : array\n",
    "        creation operator\n",
    "    **args : dic\n",
    "        (optional) extra parameters used in the Hamiltonian (like\n",
    "        frequencies, ratio parameters, ...)\n",
    "        \n",
    "    Return\n",
    "    ------\n",
    "    rho : array\n",
    "        density matrix (ansatz)\n",
    "    '''\n",
    "    U = exp_mat(- lagr[0] * H(a, at, **args) - lagr[1] * at @ at @ a @ a)\n",
    "    rho = U / np.trace(U)\n",
    "    return rho"
   ]
  },
  {
   "cell_type": "code",
   "execution_count": 57,
   "metadata": {},
   "outputs": [
    {
     "data": {
      "text/plain": [
       "array([[6.57056389e-001, 0.00000000e+000, 0.00000000e+000,\n",
       "        0.00000000e+000, 0.00000000e+000, 0.00000000e+000,\n",
       "        0.00000000e+000, 0.00000000e+000, 0.00000000e+000,\n",
       "        0.00000000e+000, 0.00000000e+000, 0.00000000e+000,\n",
       "        0.00000000e+000, 0.00000000e+000, 0.00000000e+000,\n",
       "        0.00000000e+000, 0.00000000e+000, 0.00000000e+000,\n",
       "        0.00000000e+000, 0.00000000e+000],\n",
       "       [0.00000000e+000, 3.26284547e-001, 0.00000000e+000,\n",
       "        0.00000000e+000, 0.00000000e+000, 0.00000000e+000,\n",
       "        0.00000000e+000, 0.00000000e+000, 0.00000000e+000,\n",
       "        0.00000000e+000, 0.00000000e+000, 0.00000000e+000,\n",
       "        0.00000000e+000, 0.00000000e+000, 0.00000000e+000,\n",
       "        0.00000000e+000, 0.00000000e+000, 0.00000000e+000,\n",
       "        0.00000000e+000, 0.00000000e+000],\n",
       "       [0.00000000e+000, 0.00000000e+000, 1.65729168e-002,\n",
       "        0.00000000e+000, 0.00000000e+000, 0.00000000e+000,\n",
       "        0.00000000e+000, 0.00000000e+000, 0.00000000e+000,\n",
       "        0.00000000e+000, 0.00000000e+000, 0.00000000e+000,\n",
       "        0.00000000e+000, 0.00000000e+000, 0.00000000e+000,\n",
       "        0.00000000e+000, 0.00000000e+000, 0.00000000e+000,\n",
       "        0.00000000e+000, 0.00000000e+000],\n",
       "       [0.00000000e+000, 0.00000000e+000, 0.00000000e+000,\n",
       "        8.61013527e-005, 0.00000000e+000, 0.00000000e+000,\n",
       "        0.00000000e+000, 0.00000000e+000, 0.00000000e+000,\n",
       "        0.00000000e+000, 0.00000000e+000, 0.00000000e+000,\n",
       "        0.00000000e+000, 0.00000000e+000, 0.00000000e+000,\n",
       "        0.00000000e+000, 0.00000000e+000, 0.00000000e+000,\n",
       "        0.00000000e+000, 0.00000000e+000],\n",
       "       [0.00000000e+000, 0.00000000e+000, 0.00000000e+000,\n",
       "        0.00000000e+000, 4.57540541e-008, 0.00000000e+000,\n",
       "        0.00000000e+000, 0.00000000e+000, 0.00000000e+000,\n",
       "        0.00000000e+000, 0.00000000e+000, 0.00000000e+000,\n",
       "        0.00000000e+000, 0.00000000e+000, 0.00000000e+000,\n",
       "        0.00000000e+000, 0.00000000e+000, 0.00000000e+000,\n",
       "        0.00000000e+000, 0.00000000e+000],\n",
       "       [0.00000000e+000, 0.00000000e+000, 0.00000000e+000,\n",
       "        0.00000000e+000, 0.00000000e+000, 2.48689683e-012,\n",
       "        0.00000000e+000, 0.00000000e+000, 0.00000000e+000,\n",
       "        0.00000000e+000, 0.00000000e+000, 0.00000000e+000,\n",
       "        0.00000000e+000, 0.00000000e+000, 0.00000000e+000,\n",
       "        0.00000000e+000, 0.00000000e+000, 0.00000000e+000,\n",
       "        0.00000000e+000, 0.00000000e+000],\n",
       "       [0.00000000e+000, 0.00000000e+000, 0.00000000e+000,\n",
       "        0.00000000e+000, 0.00000000e+000, 0.00000000e+000,\n",
       "        1.38259359e-017, 0.00000000e+000, 0.00000000e+000,\n",
       "        0.00000000e+000, 0.00000000e+000, 0.00000000e+000,\n",
       "        0.00000000e+000, 0.00000000e+000, 0.00000000e+000,\n",
       "        0.00000000e+000, 0.00000000e+000, 0.00000000e+000,\n",
       "        0.00000000e+000, 0.00000000e+000],\n",
       "       [0.00000000e+000, 0.00000000e+000, 0.00000000e+000,\n",
       "        0.00000000e+000, 0.00000000e+000, 0.00000000e+000,\n",
       "        0.00000000e+000, 7.86212398e-024, 0.00000000e+000,\n",
       "        0.00000000e+000, 0.00000000e+000, 0.00000000e+000,\n",
       "        0.00000000e+000, 0.00000000e+000, 0.00000000e+000,\n",
       "        0.00000000e+000, 0.00000000e+000, 0.00000000e+000,\n",
       "        0.00000000e+000, 0.00000000e+000],\n",
       "       [0.00000000e+000, 0.00000000e+000, 0.00000000e+000,\n",
       "        0.00000000e+000, 0.00000000e+000, 0.00000000e+000,\n",
       "        0.00000000e+000, 0.00000000e+000, 4.57292227e-031,\n",
       "        0.00000000e+000, 0.00000000e+000, 0.00000000e+000,\n",
       "        0.00000000e+000, 0.00000000e+000, 0.00000000e+000,\n",
       "        0.00000000e+000, 0.00000000e+000, 0.00000000e+000,\n",
       "        0.00000000e+000, 0.00000000e+000],\n",
       "       [0.00000000e+000, 0.00000000e+000, 0.00000000e+000,\n",
       "        0.00000000e+000, 0.00000000e+000, 0.00000000e+000,\n",
       "        0.00000000e+000, 0.00000000e+000, 0.00000000e+000,\n",
       "        2.72054762e-039, 0.00000000e+000, 0.00000000e+000,\n",
       "        0.00000000e+000, 0.00000000e+000, 0.00000000e+000,\n",
       "        0.00000000e+000, 0.00000000e+000, 0.00000000e+000,\n",
       "        0.00000000e+000, 0.00000000e+000],\n",
       "       [0.00000000e+000, 0.00000000e+000, 0.00000000e+000,\n",
       "        0.00000000e+000, 0.00000000e+000, 0.00000000e+000,\n",
       "        0.00000000e+000, 0.00000000e+000, 0.00000000e+000,\n",
       "        0.00000000e+000, 1.65549330e-048, 0.00000000e+000,\n",
       "        0.00000000e+000, 0.00000000e+000, 0.00000000e+000,\n",
       "        0.00000000e+000, 0.00000000e+000, 0.00000000e+000,\n",
       "        0.00000000e+000, 0.00000000e+000],\n",
       "       [0.00000000e+000, 0.00000000e+000, 0.00000000e+000,\n",
       "        0.00000000e+000, 0.00000000e+000, 0.00000000e+000,\n",
       "        0.00000000e+000, 0.00000000e+000, 0.00000000e+000,\n",
       "        0.00000000e+000, 0.00000000e+000, 1.03040297e-058,\n",
       "        0.00000000e+000, 0.00000000e+000, 0.00000000e+000,\n",
       "        0.00000000e+000, 0.00000000e+000, 0.00000000e+000,\n",
       "        0.00000000e+000, 0.00000000e+000],\n",
       "       [0.00000000e+000, 0.00000000e+000, 0.00000000e+000,\n",
       "        0.00000000e+000, 0.00000000e+000, 0.00000000e+000,\n",
       "        0.00000000e+000, 0.00000000e+000, 0.00000000e+000,\n",
       "        0.00000000e+000, 0.00000000e+000, 0.00000000e+000,\n",
       "        6.55987189e-070, 0.00000000e+000, 0.00000000e+000,\n",
       "        0.00000000e+000, 0.00000000e+000, 0.00000000e+000,\n",
       "        0.00000000e+000, 0.00000000e+000],\n",
       "       [0.00000000e+000, 0.00000000e+000, 0.00000000e+000,\n",
       "        0.00000000e+000, 0.00000000e+000, 0.00000000e+000,\n",
       "        0.00000000e+000, 0.00000000e+000, 0.00000000e+000,\n",
       "        0.00000000e+000, 0.00000000e+000, 0.00000000e+000,\n",
       "        0.00000000e+000, 4.27161591e-082, 0.00000000e+000,\n",
       "        0.00000000e+000, 0.00000000e+000, 0.00000000e+000,\n",
       "        0.00000000e+000, 0.00000000e+000],\n",
       "       [0.00000000e+000, 0.00000000e+000, 0.00000000e+000,\n",
       "        0.00000000e+000, 0.00000000e+000, 0.00000000e+000,\n",
       "        0.00000000e+000, 0.00000000e+000, 0.00000000e+000,\n",
       "        0.00000000e+000, 0.00000000e+000, 0.00000000e+000,\n",
       "        0.00000000e+000, 0.00000000e+000, 2.84510052e-095,\n",
       "        0.00000000e+000, 0.00000000e+000, 0.00000000e+000,\n",
       "        0.00000000e+000, 0.00000000e+000],\n",
       "       [0.00000000e+000, 0.00000000e+000, 0.00000000e+000,\n",
       "        0.00000000e+000, 0.00000000e+000, 0.00000000e+000,\n",
       "        0.00000000e+000, 0.00000000e+000, 0.00000000e+000,\n",
       "        0.00000000e+000, 0.00000000e+000, 0.00000000e+000,\n",
       "        0.00000000e+000, 0.00000000e+000, 0.00000000e+000,\n",
       "        1.93825813e-109, 0.00000000e+000, 0.00000000e+000,\n",
       "        0.00000000e+000, 0.00000000e+000],\n",
       "       [0.00000000e+000, 0.00000000e+000, 0.00000000e+000,\n",
       "        0.00000000e+000, 0.00000000e+000, 0.00000000e+000,\n",
       "        0.00000000e+000, 0.00000000e+000, 0.00000000e+000,\n",
       "        0.00000000e+000, 0.00000000e+000, 0.00000000e+000,\n",
       "        0.00000000e+000, 0.00000000e+000, 0.00000000e+000,\n",
       "        0.00000000e+000, 1.35062317e-124, 0.00000000e+000,\n",
       "        0.00000000e+000, 0.00000000e+000],\n",
       "       [0.00000000e+000, 0.00000000e+000, 0.00000000e+000,\n",
       "        0.00000000e+000, 0.00000000e+000, 0.00000000e+000,\n",
       "        0.00000000e+000, 0.00000000e+000, 0.00000000e+000,\n",
       "        0.00000000e+000, 0.00000000e+000, 0.00000000e+000,\n",
       "        0.00000000e+000, 0.00000000e+000, 0.00000000e+000,\n",
       "        0.00000000e+000, 0.00000000e+000, 9.62643227e-141,\n",
       "        0.00000000e+000, 0.00000000e+000],\n",
       "       [0.00000000e+000, 0.00000000e+000, 0.00000000e+000,\n",
       "        0.00000000e+000, 0.00000000e+000, 0.00000000e+000,\n",
       "        0.00000000e+000, 0.00000000e+000, 0.00000000e+000,\n",
       "        0.00000000e+000, 0.00000000e+000, 0.00000000e+000,\n",
       "        0.00000000e+000, 0.00000000e+000, 0.00000000e+000,\n",
       "        0.00000000e+000, 0.00000000e+000, 0.00000000e+000,\n",
       "        7.01786652e-158, 0.00000000e+000],\n",
       "       [0.00000000e+000, 0.00000000e+000, 0.00000000e+000,\n",
       "        0.00000000e+000, 0.00000000e+000, 0.00000000e+000,\n",
       "        0.00000000e+000, 0.00000000e+000, 0.00000000e+000,\n",
       "        0.00000000e+000, 0.00000000e+000, 0.00000000e+000,\n",
       "        0.00000000e+000, 0.00000000e+000, 0.00000000e+000,\n",
       "        0.00000000e+000, 0.00000000e+000, 0.00000000e+000,\n",
       "        0.00000000e+000, 5.23303247e-176]])"
      ]
     },
     "execution_count": 57,
     "metadata": {},
     "output_type": "execute_result"
    }
   ],
   "source": [
    "ansatz_4(np.array([0.7, 1]), a, at, **{'epsilon' : 0.2})"
   ]
  },
  {
   "cell_type": "markdown",
   "metadata": {},
   "source": [
    "$ \\mathcal{L} \\hat \\rho = - i\\mkern1mu \\left[\\hat H, \\hat \\rho \\right] + \\gamma (\\bar n + 1) \\left( \\hat a \\hat \\rho \\hat a^\\dag - \\frac{1}{2} \\left\\{ \\hat a^\\dag \\hat a, \\hat \\rho \\right\\} \\right) + \\gamma \\bar n \\left( \\hat a^\\dag \\hat \\rho \\hat a - \\frac{1}{2} \\left\\{ \\hat a \\hat a^\\dag, \\hat \\rho \\right\\} \\right)$\n"
   ]
  },
  {
   "cell_type": "code",
   "execution_count": 58,
   "metadata": {},
   "outputs": [],
   "source": [
    "def lindblad(M, a, at, beta, **args) :\n",
    "    '''\n",
    "    Computes the lindbladian of a density matrix M\n",
    "\n",
    "    Parameters\n",
    "    ----------\n",
    "    M : array \n",
    "        density matrix\n",
    "    a : array\n",
    "        annihilation operator\n",
    "    at : array\n",
    "        creation operator\n",
    "    beta : float\n",
    "        inversee temperature\n",
    "    **args : dic\n",
    "        (optional) extra parameters used in the Hamiltonian (like\n",
    "        frequencies, ratio parameters, ...)\n",
    "\n",
    "    Return\n",
    "    ------\n",
    "    L : float\n",
    "        the lindbladian\n",
    "    '''\n",
    "    L0 = - 1j * (H(a, at, **args) @ M - (H(a, at, **args).T @ M.T).T)\n",
    "    L1 = (n_avg(beta) + 1) * (a @ (a @ M.T).T - 0.5 * (at @ a @ M + (at @ a @ M.T).T))\n",
    "    L2 = n_avg(beta) * (at @ (at @ M.T).T - 0.5 * (a @ at @ M + (a @ at @ M.T).T))\n",
    "    return L0 + L1 + L2"
   ]
  },
  {
   "cell_type": "code",
   "execution_count": 59,
   "metadata": {},
   "outputs": [
    {
     "data": {
      "text/plain": [
       "array([[ 0.00000000e+000+0.j,  0.00000000e+000+0.j,  0.00000000e+000+0.j,\n",
       "         0.00000000e+000+0.j,  0.00000000e+000+0.j,  0.00000000e+000+0.j,\n",
       "         0.00000000e+000+0.j,  0.00000000e+000+0.j,  0.00000000e+000+0.j,\n",
       "         0.00000000e+000+0.j,  0.00000000e+000+0.j,  0.00000000e+000+0.j,\n",
       "         0.00000000e+000+0.j,  0.00000000e+000+0.j,  0.00000000e+000+0.j,\n",
       "         0.00000000e+000+0.j,  0.00000000e+000+0.j,  0.00000000e+000+0.j,\n",
       "         0.00000000e+000+0.j,  0.00000000e+000+0.j],\n",
       "       [ 0.00000000e+000+0.j, -1.00918695e+000+0.j,  0.00000000e+000+0.j,\n",
       "         0.00000000e+000+0.j,  0.00000000e+000+0.j,  0.00000000e+000+0.j,\n",
       "         0.00000000e+000+0.j,  0.00000000e+000+0.j,  0.00000000e+000+0.j,\n",
       "         0.00000000e+000+0.j,  0.00000000e+000+0.j,  0.00000000e+000+0.j,\n",
       "         0.00000000e+000+0.j,  0.00000000e+000+0.j,  0.00000000e+000+0.j,\n",
       "         0.00000000e+000+0.j,  0.00000000e+000+0.j,  0.00000000e+000+0.j,\n",
       "         0.00000000e+000+0.j,  0.00000000e+000+0.j],\n",
       "       [ 0.00000000e+000+0.j,  0.00000000e+000+0.j,  8.96180071e-001+0.j,\n",
       "         0.00000000e+000+0.j,  0.00000000e+000+0.j,  0.00000000e+000+0.j,\n",
       "         0.00000000e+000+0.j,  0.00000000e+000+0.j,  0.00000000e+000+0.j,\n",
       "         0.00000000e+000+0.j,  0.00000000e+000+0.j,  0.00000000e+000+0.j,\n",
       "         0.00000000e+000+0.j,  0.00000000e+000+0.j,  0.00000000e+000+0.j,\n",
       "         0.00000000e+000+0.j,  0.00000000e+000+0.j,  0.00000000e+000+0.j,\n",
       "         0.00000000e+000+0.j,  0.00000000e+000+0.j],\n",
       "       [ 0.00000000e+000+0.j,  0.00000000e+000+0.j,  0.00000000e+000+0.j,\n",
       "         1.11872460e-001+0.j,  0.00000000e+000+0.j,  0.00000000e+000+0.j,\n",
       "         0.00000000e+000+0.j,  0.00000000e+000+0.j,  0.00000000e+000+0.j,\n",
       "         0.00000000e+000+0.j,  0.00000000e+000+0.j,  0.00000000e+000+0.j,\n",
       "         0.00000000e+000+0.j,  0.00000000e+000+0.j,  0.00000000e+000+0.j,\n",
       "         0.00000000e+000+0.j,  0.00000000e+000+0.j,  0.00000000e+000+0.j,\n",
       "         0.00000000e+000+0.j,  0.00000000e+000+0.j],\n",
       "       [ 0.00000000e+000+0.j,  0.00000000e+000+0.j,  0.00000000e+000+0.j,\n",
       "         0.00000000e+000+0.j,  1.13325005e-003+0.j,  0.00000000e+000+0.j,\n",
       "         0.00000000e+000+0.j,  0.00000000e+000+0.j,  0.00000000e+000+0.j,\n",
       "         0.00000000e+000+0.j,  0.00000000e+000+0.j,  0.00000000e+000+0.j,\n",
       "         0.00000000e+000+0.j,  0.00000000e+000+0.j,  0.00000000e+000+0.j,\n",
       "         0.00000000e+000+0.j,  0.00000000e+000+0.j,  0.00000000e+000+0.j,\n",
       "         0.00000000e+000+0.j,  0.00000000e+000+0.j],\n",
       "       [ 0.00000000e+000+0.j,  0.00000000e+000+0.j,  0.00000000e+000+0.j,\n",
       "         0.00000000e+000+0.j,  0.00000000e+000+0.j,  1.17130964e-006+0.j,\n",
       "         0.00000000e+000+0.j,  0.00000000e+000+0.j,  0.00000000e+000+0.j,\n",
       "         0.00000000e+000+0.j,  0.00000000e+000+0.j,  0.00000000e+000+0.j,\n",
       "         0.00000000e+000+0.j,  0.00000000e+000+0.j,  0.00000000e+000+0.j,\n",
       "         0.00000000e+000+0.j,  0.00000000e+000+0.j,  0.00000000e+000+0.j,\n",
       "         0.00000000e+000+0.j,  0.00000000e+000+0.j],\n",
       "       [ 0.00000000e+000+0.j,  0.00000000e+000+0.j,  0.00000000e+000+0.j,\n",
       "         0.00000000e+000+0.j,  0.00000000e+000+0.j,  0.00000000e+000+0.j,\n",
       "         1.28533111e-010+0.j,  0.00000000e+000+0.j,  0.00000000e+000+0.j,\n",
       "         0.00000000e+000+0.j,  0.00000000e+000+0.j,  0.00000000e+000+0.j,\n",
       "         0.00000000e+000+0.j,  0.00000000e+000+0.j,  0.00000000e+000+0.j,\n",
       "         0.00000000e+000+0.j,  0.00000000e+000+0.j,  0.00000000e+000+0.j,\n",
       "         0.00000000e+000+0.j,  0.00000000e+000+0.j],\n",
       "       [ 0.00000000e+000+0.j,  0.00000000e+000+0.j,  0.00000000e+000+0.j,\n",
       "         0.00000000e+000+0.j,  0.00000000e+000+0.j,  0.00000000e+000+0.j,\n",
       "         0.00000000e+000+0.j,  1.51909975e-015+0.j,  0.00000000e+000+0.j,\n",
       "         0.00000000e+000+0.j,  0.00000000e+000+0.j,  0.00000000e+000+0.j,\n",
       "         0.00000000e+000+0.j,  0.00000000e+000+0.j,  0.00000000e+000+0.j,\n",
       "         0.00000000e+000+0.j,  0.00000000e+000+0.j,  0.00000000e+000+0.j,\n",
       "         0.00000000e+000+0.j,  0.00000000e+000+0.j],\n",
       "       [ 0.00000000e+000+0.j,  0.00000000e+000+0.j,  0.00000000e+000+0.j,\n",
       "         0.00000000e+000+0.j,  0.00000000e+000+0.j,  0.00000000e+000+0.j,\n",
       "         0.00000000e+000+0.j,  0.00000000e+000+0.j,  1.94870028e-021+0.j,\n",
       "         0.00000000e+000+0.j,  0.00000000e+000+0.j,  0.00000000e+000+0.j,\n",
       "         0.00000000e+000+0.j,  0.00000000e+000+0.j,  0.00000000e+000+0.j,\n",
       "         0.00000000e+000+0.j,  0.00000000e+000+0.j,  0.00000000e+000+0.j,\n",
       "         0.00000000e+000+0.j,  0.00000000e+000+0.j],\n",
       "       [ 0.00000000e+000+0.j,  0.00000000e+000+0.j,  0.00000000e+000+0.j,\n",
       "         0.00000000e+000+0.j,  0.00000000e+000+0.j,  0.00000000e+000+0.j,\n",
       "         0.00000000e+000+0.j,  0.00000000e+000+0.j,  0.00000000e+000+0.j,\n",
       "         2.72656240e-028+0.j,  0.00000000e+000+0.j,  0.00000000e+000+0.j,\n",
       "         0.00000000e+000+0.j,  0.00000000e+000+0.j,  0.00000000e+000+0.j,\n",
       "         0.00000000e+000+0.j,  0.00000000e+000+0.j,  0.00000000e+000+0.j,\n",
       "         0.00000000e+000+0.j,  0.00000000e+000+0.j],\n",
       "       [ 0.00000000e+000+0.j,  0.00000000e+000+0.j,  0.00000000e+000+0.j,\n",
       "         0.00000000e+000+0.j,  0.00000000e+000+0.j,  0.00000000e+000+0.j,\n",
       "         0.00000000e+000+0.j,  0.00000000e+000+0.j,  0.00000000e+000+0.j,\n",
       "         0.00000000e+000+0.j,  4.17486872e-036+0.j,  0.00000000e+000+0.j,\n",
       "         0.00000000e+000+0.j,  0.00000000e+000+0.j,  0.00000000e+000+0.j,\n",
       "         0.00000000e+000+0.j,  0.00000000e+000+0.j,  0.00000000e+000+0.j,\n",
       "         0.00000000e+000+0.j,  0.00000000e+000+0.j],\n",
       "       [ 0.00000000e+000+0.j,  0.00000000e+000+0.j,  0.00000000e+000+0.j,\n",
       "         0.00000000e+000+0.j,  0.00000000e+000+0.j,  0.00000000e+000+0.j,\n",
       "         0.00000000e+000+0.j,  0.00000000e+000+0.j,  0.00000000e+000+0.j,\n",
       "         0.00000000e+000+0.j,  0.00000000e+000+0.j,  7.01225221e-045+0.j,\n",
       "         0.00000000e+000+0.j,  0.00000000e+000+0.j,  0.00000000e+000+0.j,\n",
       "         0.00000000e+000+0.j,  0.00000000e+000+0.j,  0.00000000e+000+0.j,\n",
       "         0.00000000e+000+0.j,  0.00000000e+000+0.j],\n",
       "       [ 0.00000000e+000+0.j,  0.00000000e+000+0.j,  0.00000000e+000+0.j,\n",
       "         0.00000000e+000+0.j,  0.00000000e+000+0.j,  0.00000000e+000+0.j,\n",
       "         0.00000000e+000+0.j,  0.00000000e+000+0.j,  0.00000000e+000+0.j,\n",
       "         0.00000000e+000+0.j,  0.00000000e+000+0.j,  0.00000000e+000+0.j,\n",
       "         1.29425618e-054+0.j,  0.00000000e+000+0.j,  0.00000000e+000+0.j,\n",
       "         0.00000000e+000+0.j,  0.00000000e+000+0.j,  0.00000000e+000+0.j,\n",
       "         0.00000000e+000+0.j,  0.00000000e+000+0.j],\n",
       "       [ 0.00000000e+000+0.j,  0.00000000e+000+0.j,  0.00000000e+000+0.j,\n",
       "         0.00000000e+000+0.j,  0.00000000e+000+0.j,  0.00000000e+000+0.j,\n",
       "         0.00000000e+000+0.j,  0.00000000e+000+0.j,  0.00000000e+000+0.j,\n",
       "         0.00000000e+000+0.j,  0.00000000e+000+0.j,  0.00000000e+000+0.j,\n",
       "         0.00000000e+000+0.j,  2.62850404e-065+0.j,  0.00000000e+000+0.j,\n",
       "         0.00000000e+000+0.j,  0.00000000e+000+0.j,  0.00000000e+000+0.j,\n",
       "         0.00000000e+000+0.j,  0.00000000e+000+0.j],\n",
       "       [ 0.00000000e+000+0.j,  0.00000000e+000+0.j,  0.00000000e+000+0.j,\n",
       "         0.00000000e+000+0.j,  0.00000000e+000+0.j,  0.00000000e+000+0.j,\n",
       "         0.00000000e+000+0.j,  0.00000000e+000+0.j,  0.00000000e+000+0.j,\n",
       "         0.00000000e+000+0.j,  0.00000000e+000+0.j,  0.00000000e+000+0.j,\n",
       "         0.00000000e+000+0.j,  0.00000000e+000+0.j,  5.87992477e-077+0.j,\n",
       "         0.00000000e+000+0.j,  0.00000000e+000+0.j,  0.00000000e+000+0.j,\n",
       "         0.00000000e+000+0.j,  0.00000000e+000+0.j],\n",
       "       [ 0.00000000e+000+0.j,  0.00000000e+000+0.j,  0.00000000e+000+0.j,\n",
       "         0.00000000e+000+0.j,  0.00000000e+000+0.j,  0.00000000e+000+0.j,\n",
       "         0.00000000e+000+0.j,  0.00000000e+000+0.j,  0.00000000e+000+0.j,\n",
       "         0.00000000e+000+0.j,  0.00000000e+000+0.j,  0.00000000e+000+0.j,\n",
       "         0.00000000e+000+0.j,  0.00000000e+000+0.j,  0.00000000e+000+0.j,\n",
       "         1.44999188e-089+0.j,  0.00000000e+000+0.j,  0.00000000e+000+0.j,\n",
       "         0.00000000e+000+0.j,  0.00000000e+000+0.j],\n",
       "       [ 0.00000000e+000+0.j,  0.00000000e+000+0.j,  0.00000000e+000+0.j,\n",
       "         0.00000000e+000+0.j,  0.00000000e+000+0.j,  0.00000000e+000+0.j,\n",
       "         0.00000000e+000+0.j,  0.00000000e+000+0.j,  0.00000000e+000+0.j,\n",
       "         0.00000000e+000+0.j,  0.00000000e+000+0.j,  0.00000000e+000+0.j,\n",
       "         0.00000000e+000+0.j,  0.00000000e+000+0.j,  0.00000000e+000+0.j,\n",
       "         0.00000000e+000+0.j,  3.94436421e-103+0.j,  0.00000000e+000+0.j,\n",
       "         0.00000000e+000+0.j,  0.00000000e+000+0.j],\n",
       "       [ 0.00000000e+000+0.j,  0.00000000e+000+0.j,  0.00000000e+000+0.j,\n",
       "         0.00000000e+000+0.j,  0.00000000e+000+0.j,  0.00000000e+000+0.j,\n",
       "         0.00000000e+000+0.j,  0.00000000e+000+0.j,  0.00000000e+000+0.j,\n",
       "         0.00000000e+000+0.j,  0.00000000e+000+0.j,  0.00000000e+000+0.j,\n",
       "         0.00000000e+000+0.j,  0.00000000e+000+0.j,  0.00000000e+000+0.j,\n",
       "         0.00000000e+000+0.j,  0.00000000e+000+0.j,  1.18424294e-117+0.j,\n",
       "         0.00000000e+000+0.j,  0.00000000e+000+0.j],\n",
       "       [ 0.00000000e+000+0.j,  0.00000000e+000+0.j,  0.00000000e+000+0.j,\n",
       "         0.00000000e+000+0.j,  0.00000000e+000+0.j,  0.00000000e+000+0.j,\n",
       "         0.00000000e+000+0.j,  0.00000000e+000+0.j,  0.00000000e+000+0.j,\n",
       "         0.00000000e+000+0.j,  0.00000000e+000+0.j,  0.00000000e+000+0.j,\n",
       "         0.00000000e+000+0.j,  0.00000000e+000+0.j,  0.00000000e+000+0.j,\n",
       "         0.00000000e+000+0.j,  0.00000000e+000+0.j,  0.00000000e+000+0.j,\n",
       "         3.92600984e-133+0.j,  0.00000000e+000+0.j],\n",
       "       [ 0.00000000e+000+0.j,  0.00000000e+000+0.j,  0.00000000e+000+0.j,\n",
       "         0.00000000e+000+0.j,  0.00000000e+000+0.j,  0.00000000e+000+0.j,\n",
       "         0.00000000e+000+0.j,  0.00000000e+000+0.j,  0.00000000e+000+0.j,\n",
       "         0.00000000e+000+0.j,  0.00000000e+000+0.j,  0.00000000e+000+0.j,\n",
       "         0.00000000e+000+0.j,  0.00000000e+000+0.j,  0.00000000e+000+0.j,\n",
       "         0.00000000e+000+0.j,  0.00000000e+000+0.j,  0.00000000e+000+0.j,\n",
       "         0.00000000e+000+0.j,  1.43771107e-149+0.j]])"
      ]
     },
     "execution_count": 59,
     "metadata": {},
     "output_type": "execute_result"
    }
   ],
   "source": [
    "lindblad(ansatz_4([0.5, 1], a, at, **{'epsilon' : 0.2}), a, at, 0.5, **{'epsilon' : 0.2})"
   ]
  },
  {
   "cell_type": "markdown",
   "metadata": {},
   "source": [
    "Loss\n"
   ]
  },
  {
   "cell_type": "code",
   "execution_count": 29,
   "metadata": {},
   "outputs": [],
   "source": [
    "def loss(lagr, ansatz, a, at, beta, **args) :\n",
    "    '''\n",
    "    Computes the (Nuclear) norm of the Lindbladian of an ansatz density matrix\n",
    "    given the Lagrange multipliers\n",
    "\n",
    "    Parameters\n",
    "    ----------\n",
    "    lagr : array\n",
    "        Lagrange multipliers of (pseudo-)conserved quantities.\n",
    "        They are the variational parameters\n",
    "    ansatz : function\n",
    "        ansatz used in the variational procedure\n",
    "    a : array\n",
    "        annihilation operator\n",
    "    at : array\n",
    "        creation operator\n",
    "    beta : float\n",
    "        inverse temperature\n",
    "    **args : dic\n",
    "        (optional) extra parameters used in the Hamiltonian (like\n",
    "        frequencies, ratio parameters, ...)\n",
    "\n",
    "    Return\n",
    "    ------\n",
    "    ||L rho || : float\n",
    "        the Nuclear norm of the linbladian of the density matrix\n",
    "\n",
    "    Note\n",
    "    ----\n",
    "    We use the Nuclear norm because it is not biased (see [1])\n",
    "\n",
    "    References\n",
    "    ----------\n",
    "    [1] - Weimer, Variational principle for steady states of dissipative quantum many-body systems, 2015\n",
    "    '''\n",
    "    return np.linalg.norm(lindblad(ansatz(lagr, a, at, **args), a, at, beta, **args), 'nuc')"
   ]
  },
  {
   "cell_type": "code",
   "execution_count": 61,
   "metadata": {},
   "outputs": [
    {
     "data": {
      "text/plain": [
       "0.7330298056841565"
      ]
     },
     "execution_count": 61,
     "metadata": {},
     "output_type": "execute_result"
    }
   ],
   "source": [
    "loss([0.5, 1], ansatz_4, a, at, beta, **{'epsilon' : 0.2})"
   ]
  },
  {
   "cell_type": "markdown",
   "metadata": {},
   "source": [
    "##### Parameters\n"
   ]
  },
  {
   "cell_type": "code",
   "execution_count": 62,
   "metadata": {},
   "outputs": [],
   "source": [
    "case = 4\n",
    "folder = f'{dir_res}/case_{case}'\n",
    "os.makedirs(folder, exist_ok=True)"
   ]
  },
  {
   "cell_type": "code",
   "execution_count": 63,
   "metadata": {},
   "outputs": [],
   "source": [
    "N = 20\n",
    "a, at = creation_annihilation(N)\n",
    "betas = np.linspace(0.3, 5, 10)        # true inverse temperature\n",
    "lambda_0 = np.array([1, 0.05])\n",
    "params_H = {\n",
    "    'epsilon' : 0.1\n",
    "}"
   ]
  },
  {
   "cell_type": "code",
   "execution_count": 64,
   "metadata": {},
   "outputs": [
    {
     "name": "stdout",
     "output_type": "stream",
     "text": [
      "Optimization terminated successfully.\n",
      "         Current function value: 0.047220\n",
      "         Iterations: 57\n",
      "         Function evaluations: 109\n",
      "[ 0.30005542 -0.03000316]\n",
      "Optimization terminated successfully.\n",
      "         Current function value: 0.000019\n",
      "         Iterations: 42\n",
      "         Function evaluations: 79\n",
      "[ 0.82221058 -0.08221503]\n",
      "Optimization terminated successfully.\n",
      "         Current function value: 0.000015\n",
      "         Iterations: 44\n",
      "         Function evaluations: 86\n",
      "[ 1.34443344 -0.13442096]\n",
      "Optimization terminated successfully.\n",
      "         Current function value: 0.000008\n",
      "         Iterations: 49\n",
      "         Function evaluations: 95\n",
      "[ 1.86664031 -0.18667871]\n",
      "Optimization terminated successfully.\n",
      "         Current function value: 0.000003\n",
      "         Iterations: 82\n",
      "         Function evaluations: 161\n",
      "[ 2.38888453 -0.23885032]\n",
      "Optimization terminated successfully.\n",
      "         Current function value: 0.000001\n",
      "         Iterations: 53\n",
      "         Function evaluations: 105\n",
      "[ 2.91109813 -0.29113933]\n",
      "Optimization terminated successfully.\n",
      "         Current function value: 0.000000\n",
      "         Iterations: 62\n",
      "         Function evaluations: 120\n",
      "[ 3.43333627 -0.34329857]\n",
      "Optimization terminated successfully.\n",
      "         Current function value: 0.000000\n",
      "         Iterations: 65\n",
      "         Function evaluations: 124\n",
      "[ 3.95555786 -0.39551102]\n",
      "Optimization terminated successfully.\n",
      "         Current function value: 0.000000\n",
      "         Iterations: 64\n",
      "         Function evaluations: 121\n",
      "[ 4.47777613 -0.4477728 ]\n",
      "Optimization terminated successfully.\n",
      "         Current function value: 0.000000\n",
      "         Iterations: 66\n",
      "         Function evaluations: 127\n",
      "[ 5.00000101 -0.50001083]\n"
     ]
    }
   ],
   "source": [
    "for i,beta in enumerate(betas) :\n",
    "    opt = optimize(loss, lambda_0, a, at, beta, ansatz_4, folder, i, **params_H)\n",
    "    print(opt['lagr_best'])"
   ]
  },
  {
   "cell_type": "code",
   "execution_count": 65,
   "metadata": {},
   "outputs": [
    {
     "data": {
      "image/png": "[encoded data removed]",
      "text/plain": [
       "<Figure size 330x250 with 1 Axes>"
      ]
     },
     "metadata": {},
     "output_type": "display_data"
    },
    {
     "data": {
      "image/png": "[encoded data removed]",
      "text/plain": [
       "<Figure size 330x250 with 1 Axes>"
      ]
     },
     "metadata": {},
     "output_type": "display_data"
    }
   ],
   "source": [
    "lagr_to_plot = [0, 1]\n",
    "\n",
    "for i,beta in enumerate(betas) :\n",
    "\n",
    "    subfolder = f'{folder}/output_{i}'\n",
    "    explored_solutions = np.loadtxt(f'{subfolder}/history.txt', unpack=True)\n",
    "\n",
    "    for lagr in lagr_to_plot :\n",
    "        plt.figure(lagr)\n",
    "        if lagr == 0 :\n",
    "            plt.hlines(beta, 0, len(explored_solutions[lagr]), color='r', ls='--', lw=1.5, label='ground truth' if i==0 else \"\")\n",
    "        plt.plot(explored_solutions[lagr], lw=2, label=rf'$\\beta = {round(beta,2)}$')\n",
    "\n",
    "for lagr in lagr_to_plot :\n",
    "    plt.figure(lagr)   \n",
    "    plt.xlabel(\"iteration\")\n",
    "    plt.ylabel(rf\"Lagrange multiplier $\\lambda_{lagr}$\")\n",
    "    plt.legend(loc='upper center', ncols=4, bbox_to_anchor=(0.5, 1.33))\n",
    "    plt.savefig(f'figs/opti_case_{case}_lagr_{lagr}.pdf', bbox_inches='tight')\n"
   ]
  },
  {
   "cell_type": "code",
   "execution_count": 66,
   "metadata": {},
   "outputs": [
    {
     "data": {
      "image/png": "[encoded data removed]",
      "text/plain": [
       "<Figure size 400x400 with 2 Axes>"
      ]
     },
     "metadata": {},
     "output_type": "display_data"
    },
    {
     "data": {
      "image/png": "[encoded data removed]",
      "text/plain": [
       "<Figure size 400x400 with 2 Axes>"
      ]
     },
     "metadata": {},
     "output_type": "display_data"
    }
   ],
   "source": [
    "for i,beta in enumerate(betas) :\n",
    "    subfolder = f'{folder}/output_{i}'\n",
    "    estimated_rho = np.loadtxt(f'{subfolder}/rho_best.txt')\n",
    "\n",
    "    plt.matshow(estimated_rho)\n",
    "    plt.colorbar()\n",
    "    plt.savefig(f'{subfolder}/rho_best.pdf', bbox_inches='tight')\n",
    "\n",
    "    if i == 0 or i == len(betas) - 1 :\n",
    "        plt.show()\n",
    "    else :\n",
    "        plt.close()"
   ]
  },
  {
   "cell_type": "markdown",
   "metadata": {},
   "source": [
    "# Compare cases\n"
   ]
  },
  {
   "cell_type": "markdown",
   "metadata": {},
   "source": [
    "##### compute\n"
   ]
  },
  {
   "cell_type": "code",
   "execution_count": 67,
   "metadata": {},
   "outputs": [],
   "source": [
    "cases_to_compare = np.array([1, 2, 3, 4])\n",
    "is_to_plot = np.arange(10)\n",
    "\n",
    "losses = []\n",
    "\n",
    "for c in cases_to_compare :\n",
    "    avg = 0\n",
    "    for i in is_to_plot :\n",
    "        filename = f'results/case_{c}/output_{i}/loss_rho_best.txt'\n",
    "        loss_best = np.loadtxt(filename)\n",
    "        avg += loss_best\n",
    "    avg /= len(is_to_plot)\n",
    "    losses.append(avg)\n",
    "\n",
    "np.savetxt('results/comp_cases/comp_avg_loss.txt', np.vstack((cases_to_compare, np.array(losses))).T)\n"
   ]
  },
  {
   "cell_type": "markdown",
   "metadata": {},
   "source": [
    "##### plot\n"
   ]
  },
  {
   "cell_type": "code",
   "execution_count": 68,
   "metadata": {},
   "outputs": [
    {
     "data": {
      "image/png": "[encoded data removed]",
      "text/plain": [
       "<Figure size 330x250 with 1 Axes>"
      ]
     },
     "metadata": {},
     "output_type": "display_data"
    }
   ],
   "source": [
    "cases_to_compare, losses = np.loadtxt('results/comp_cases/comp_avg_loss.txt', unpack=True)\n",
    "cases_to_compare = cases_to_compare.astype(int)\n",
    "\n",
    "X = ['HO ansatz 1', 'HO ansatz 2', 'drive ansatz 2', 'Kerr ansatz 2']\n",
    "\n",
    "plt.bar(X, losses)\n",
    "plt.ylabel(r'average loss  $||  \\mathcal{L} \\, \\rho_{\\,best\\_GGE}||$')\n",
    "plt.xticks(range(len(cases_to_compare)), X, rotation=45)\n",
    "plt.savefig('figs/comp_avg_loss.pdf')\n"
   ]
  },
  {
   "cell_type": "markdown",
   "metadata": {},
   "source": [
    "Outline :\n",
    "\n",
    "- check that observables are well reproduced\n",
    "- Use better guess that generalizes the conserved quantities\n",
    "- reproduce Wouters work (test other Hamiltonians) for 1 particle\n",
    "- extend the code to multi-body systems (define $\\hat a_j$ ? tensor products of $\\hat a_j$'s ?)\n",
    "- extend the code to open multi-body systems (Lagrange multipliers vary with time)\n"
   ]
  },
  {
   "cell_type": "code",
   "execution_count": null,
   "metadata": {},
   "outputs": [],
   "source": []
  },
  {
   "cell_type": "code",
   "execution_count": null,
   "metadata": {},
   "outputs": [],
   "source": []
  },
  {
   "cell_type": "markdown",
   "metadata": {},
   "source": [
    "# Entropy production with drive\n"
   ]
  },
  {
   "cell_type": "markdown",
   "metadata": {},
   "source": [
    "#### $\\hat H = \\hat a^\\dag \\hat a + \\epsilon \\left( \\hat a + \\hat a^\\dag \\right)$\n"
   ]
  },
  {
   "cell_type": "markdown",
   "metadata": {},
   "source": [
    "#### $ \\mathcal{L} \\hat \\rho = - i\\mkern1mu \\left[\\hat H, \\hat \\rho \\right] + \\gamma (\\bar n + 1) \\left( \\hat a \\hat \\rho \\hat a^\\dag - \\frac{1}{2} \\left\\{ \\hat a^\\dag \\hat a, \\hat \\rho \\right\\} \\right) + \\gamma \\bar n \\left( \\hat a^\\dag \\hat \\rho \\hat a - \\frac{1}{2} \\left\\{ \\hat a \\hat a^\\dag, \\hat \\rho \\right\\} \\right)$\n"
   ]
  },
  {
   "cell_type": "markdown",
   "metadata": {},
   "source": [
    "#### Ansatz : $ \\hat \\rho = \\frac{e^{- \\lambda_0 \\hat H - \\lambda_1 \\hat a^\\dag \\hat a^\\dag \\hat a \\hat a }}{\\text{Tr}(e^{- \\lambda_0 \\hat H - \\lambda_1 \\hat a^\\dag \\hat a^\\dag \\hat a \\hat a })}$\n"
   ]
  },
  {
   "cell_type": "markdown",
   "metadata": {},
   "source": [
    "Description of the physical system\n"
   ]
  },
  {
   "cell_type": "markdown",
   "metadata": {},
   "source": [
    "$ \\hat H = \\hat a^\\dag \\hat a + \\epsilon \\left( \\hat a + \\hat a^\\dag \\right) $\n"
   ]
  },
  {
   "cell_type": "code",
   "execution_count": 15,
   "metadata": {},
   "outputs": [],
   "source": [
    "def H(a, at, **args) :\n",
    "    '''\n",
    "    Computes the matrix form of a Hamiltonian in the computational basis\n",
    "\n",
    "    Parameters\n",
    "    ----------\n",
    "    a : array\n",
    "        annihilation operator\n",
    "    at : array\n",
    "        creation operator\n",
    "    **args : dic\n",
    "        (optional) extra parameters used in the Hamiltonian (like\n",
    "        frequencies, ratio parameters, ...)  \n",
    "\n",
    "    Return\n",
    "    ------\n",
    "    H : array\n",
    "        matrix form of Hamiltonian \n",
    "    '''\n",
    "    epsilon = args['epsilon']\n",
    "    a, at = creation_annihilation(N)\n",
    "    H = at @ a + epsilon * (a + at)\n",
    "    return H\n"
   ]
  },
  {
   "cell_type": "code",
   "execution_count": 16,
   "metadata": {},
   "outputs": [
    {
     "data": {
      "text/plain": [
       "array([[ 0.        ,  0.2       ,  0.        ,  0.        ,  0.        ,\n",
       "         0.        ,  0.        ,  0.        ,  0.        ,  0.        ,\n",
       "         0.        ,  0.        ,  0.        ,  0.        ,  0.        ,\n",
       "         0.        ,  0.        ,  0.        ,  0.        ,  0.87177979],\n",
       "       [ 0.2       ,  1.        ,  0.28284271,  0.        ,  0.        ,\n",
       "         0.        ,  0.        ,  0.        ,  0.        ,  0.        ,\n",
       "         0.        ,  0.        ,  0.        ,  0.        ,  0.        ,\n",
       "         0.        ,  0.        ,  0.        ,  0.        ,  0.        ],\n",
       "       [ 0.        ,  0.28284271,  2.        ,  0.34641016,  0.        ,\n",
       "         0.        ,  0.        ,  0.        ,  0.        ,  0.        ,\n",
       "         0.        ,  0.        ,  0.        ,  0.        ,  0.        ,\n",
       "         0.        ,  0.        ,  0.        ,  0.        ,  0.        ],\n",
       "       [ 0.        ,  0.        ,  0.34641016,  3.        ,  0.4       ,\n",
       "         0.        ,  0.        ,  0.        ,  0.        ,  0.        ,\n",
       "         0.        ,  0.        ,  0.        ,  0.        ,  0.        ,\n",
       "         0.        ,  0.        ,  0.        ,  0.        ,  0.        ],\n",
       "       [ 0.        ,  0.        ,  0.        ,  0.4       ,  4.        ,\n",
       "         0.4472136 ,  0.        ,  0.        ,  0.        ,  0.        ,\n",
       "         0.        ,  0.        ,  0.        ,  0.        ,  0.        ,\n",
       "         0.        ,  0.        ,  0.        ,  0.        ,  0.        ],\n",
       "       [ 0.        ,  0.        ,  0.        ,  0.        ,  0.4472136 ,\n",
       "         5.        ,  0.48989795,  0.        ,  0.        ,  0.        ,\n",
       "         0.        ,  0.        ,  0.        ,  0.        ,  0.        ,\n",
       "         0.        ,  0.        ,  0.        ,  0.        ,  0.        ],\n",
       "       [ 0.        ,  0.        ,  0.        ,  0.        ,  0.        ,\n",
       "         0.48989795,  6.        ,  0.52915026,  0.        ,  0.        ,\n",
       "         0.        ,  0.        ,  0.        ,  0.        ,  0.        ,\n",
       "         0.        ,  0.        ,  0.        ,  0.        ,  0.        ],\n",
       "       [ 0.        ,  0.        ,  0.        ,  0.        ,  0.        ,\n",
       "         0.        ,  0.52915026,  7.        ,  0.56568542,  0.        ,\n",
       "         0.        ,  0.        ,  0.        ,  0.        ,  0.        ,\n",
       "         0.        ,  0.        ,  0.        ,  0.        ,  0.        ],\n",
       "       [ 0.        ,  0.        ,  0.        ,  0.        ,  0.        ,\n",
       "         0.        ,  0.        ,  0.56568542,  8.        ,  0.6       ,\n",
       "         0.        ,  0.        ,  0.        ,  0.        ,  0.        ,\n",
       "         0.        ,  0.        ,  0.        ,  0.        ,  0.        ],\n",
       "       [ 0.        ,  0.        ,  0.        ,  0.        ,  0.        ,\n",
       "         0.        ,  0.        ,  0.        ,  0.6       ,  9.        ,\n",
       "         0.63245553,  0.        ,  0.        ,  0.        ,  0.        ,\n",
       "         0.        ,  0.        ,  0.        ,  0.        ,  0.        ],\n",
       "       [ 0.        ,  0.        ,  0.        ,  0.        ,  0.        ,\n",
       "         0.        ,  0.        ,  0.        ,  0.        ,  0.63245553,\n",
       "        10.        ,  0.66332496,  0.        ,  0.        ,  0.        ,\n",
       "         0.        ,  0.        ,  0.        ,  0.        ,  0.        ],\n",
       "       [ 0.        ,  0.        ,  0.        ,  0.        ,  0.        ,\n",
       "         0.        ,  0.        ,  0.        ,  0.        ,  0.        ,\n",
       "         0.66332496, 11.        ,  0.69282032,  0.        ,  0.        ,\n",
       "         0.        ,  0.        ,  0.        ,  0.        ,  0.        ],\n",
       "       [ 0.        ,  0.        ,  0.        ,  0.        ,  0.        ,\n",
       "         0.        ,  0.        ,  0.        ,  0.        ,  0.        ,\n",
       "         0.        ,  0.69282032, 12.        ,  0.72111026,  0.        ,\n",
       "         0.        ,  0.        ,  0.        ,  0.        ,  0.        ],\n",
       "       [ 0.        ,  0.        ,  0.        ,  0.        ,  0.        ,\n",
       "         0.        ,  0.        ,  0.        ,  0.        ,  0.        ,\n",
       "         0.        ,  0.        ,  0.72111026, 13.        ,  0.74833148,\n",
       "         0.        ,  0.        ,  0.        ,  0.        ,  0.        ],\n",
       "       [ 0.        ,  0.        ,  0.        ,  0.        ,  0.        ,\n",
       "         0.        ,  0.        ,  0.        ,  0.        ,  0.        ,\n",
       "         0.        ,  0.        ,  0.        ,  0.74833148, 14.        ,\n",
       "         0.77459667,  0.        ,  0.        ,  0.        ,  0.        ],\n",
       "       [ 0.        ,  0.        ,  0.        ,  0.        ,  0.        ,\n",
       "         0.        ,  0.        ,  0.        ,  0.        ,  0.        ,\n",
       "         0.        ,  0.        ,  0.        ,  0.        ,  0.77459667,\n",
       "        15.        ,  0.8       ,  0.        ,  0.        ,  0.        ],\n",
       "       [ 0.        ,  0.        ,  0.        ,  0.        ,  0.        ,\n",
       "         0.        ,  0.        ,  0.        ,  0.        ,  0.        ,\n",
       "         0.        ,  0.        ,  0.        ,  0.        ,  0.        ,\n",
       "         0.8       , 16.        ,  0.82462113,  0.        ,  0.        ],\n",
       "       [ 0.        ,  0.        ,  0.        ,  0.        ,  0.        ,\n",
       "         0.        ,  0.        ,  0.        ,  0.        ,  0.        ,\n",
       "         0.        ,  0.        ,  0.        ,  0.        ,  0.        ,\n",
       "         0.        ,  0.82462113, 17.        ,  0.84852814,  0.        ],\n",
       "       [ 0.        ,  0.        ,  0.        ,  0.        ,  0.        ,\n",
       "         0.        ,  0.        ,  0.        ,  0.        ,  0.        ,\n",
       "         0.        ,  0.        ,  0.        ,  0.        ,  0.        ,\n",
       "         0.        ,  0.        ,  0.84852814, 18.        ,  0.87177979],\n",
       "       [ 0.        ,  0.        ,  0.        ,  0.        ,  0.        ,\n",
       "         0.        ,  0.        ,  0.        ,  0.        ,  0.        ,\n",
       "         0.        ,  0.        ,  0.        ,  0.        ,  0.        ,\n",
       "         0.        ,  0.        ,  0.        ,  0.87177979, 19.        ]])"
      ]
     },
     "execution_count": 16,
     "metadata": {},
     "output_type": "execute_result"
    }
   ],
   "source": [
    "H(a, at, **{'epsilon' : 0.2})"
   ]
  },
  {
   "cell_type": "markdown",
   "metadata": {},
   "source": [
    "Ansatz : $ \\hat \\rho = \\frac{e^{- \\lambda_0 \\hat H - \\lambda_1 \\hat a^\\dag \\hat a^\\dag \\hat a \\hat a }}{\\text{Tr}(e^{- \\lambda_0 \\hat H - \\lambda_1 \\hat a^\\dag \\hat a^\\dag \\hat a \\hat a })}$\n"
   ]
  },
  {
   "cell_type": "code",
   "execution_count": 17,
   "metadata": {},
   "outputs": [],
   "source": [
    "def ansatz_3(lagr, a, at, **args) :\n",
    "    '''\n",
    "    Creates an ansatz for the density matrix given some parameters\n",
    "\n",
    "    Parameters\n",
    "    ----------\n",
    "    lagr : array\n",
    "        Lagrange multipliers of (pseudo-)conserved quantities.\n",
    "        They are the variational parameters\n",
    "    a : array\n",
    "        annihilation operator\n",
    "    at : array\n",
    "        creation operator\n",
    "    **args : dic\n",
    "        (optional) extra parameters used in the Hamiltonian (like\n",
    "        frequencies, ratio parameters, ...)\n",
    "        \n",
    "    Return\n",
    "    ------\n",
    "    rho : array\n",
    "        density matrix (ansatz)\n",
    "    '''\n",
    "    U = exp_mat(- lagr[0] * H(a, at, **args) - lagr[1] * at @ at @ a @ a)\n",
    "    rho = U / np.trace(U)\n",
    "    return rho"
   ]
  },
  {
   "cell_type": "code",
   "execution_count": 18,
   "metadata": {},
   "outputs": [
    {
     "data": {
      "text/plain": [
       "array([[ 6.49578903e-01, -6.53065687e-02,  2.89363510e-03,\n",
       "        -7.46358709e-05,  1.28534552e-06, -1.60488469e-08,\n",
       "         1.53486282e-10, -1.16922313e-12,  7.30529907e-15,\n",
       "        -3.82950310e-17,  1.71499446e-19, -6.69351337e-22,\n",
       "         8.43316792e-22, -2.33950640e-19,  7.37412918e-17,\n",
       "        -2.60863473e-14,  1.02720753e-11, -4.47040617e-09,\n",
       "         2.13681758e-06, -1.11564442e-03],\n",
       "       [-6.53065687e-02,  3.27138277e-01, -2.22127131e-02,\n",
       "         6.96275451e-04, -1.34282446e-05,  1.80582334e-07,\n",
       "        -1.82007318e-09,  1.44174482e-11, -9.28456996e-14,\n",
       "         4.98575756e-16, -2.27712467e-18,  8.98741980e-21,\n",
       "        -1.13461718e-22,  2.30420158e-20, -7.29432892e-18,\n",
       "         2.58995875e-15, -1.02311363e-12,  4.46500349e-10,\n",
       "        -2.13947056e-07,  1.11945916e-04],\n",
       "       [ 2.89363510e-03, -2.22127131e-02,  2.30288407e-02,\n",
       "        -1.14737786e-03,  2.77562640e-05, -4.28332980e-07,\n",
       "         4.73883221e-09, -4.01611774e-11,  2.72245114e-13,\n",
       "        -1.52210780e-15,  7.18195449e-18, -2.91163160e-20,\n",
       "         1.06492323e-22, -1.00985997e-21,  3.20348903e-19,\n",
       "        -1.13975261e-16,  4.51024125e-14, -1.97132287e-11,\n",
       "         9.45849633e-09, -4.95492883e-06],\n",
       "       [-7.46358709e-05,  6.96275451e-04, -1.14737786e-03,\n",
       "         2.53363506e-04, -9.56679841e-06,  1.87489225e-07,\n",
       "        -2.41704222e-09,  2.28057075e-11, -1.67456583e-13,\n",
       "         9.96095693e-16, -4.93873470e-18,  2.08508927e-20,\n",
       "        -7.63116845e-23,  2.61022946e-23, -8.21743076e-21,\n",
       "         2.92732681e-18, -1.15966315e-15,  5.07340883e-13,\n",
       "        -2.43626222e-10,  1.27719635e-07],\n",
       "       [ 1.28534552e-06, -1.34282446e-05,  2.77562640e-05,\n",
       "        -9.56679841e-06,  6.15677089e-07, -1.61114279e-08,\n",
       "         2.49822575e-10, -2.68307014e-12,  2.16951967e-14,\n",
       "        -1.39079155e-16,  7.32132848e-19, -3.24654722e-21,\n",
       "         1.23661027e-23, -4.84272624e-25,  1.40989953e-22,\n",
       "        -5.02683697e-20,  1.99285264e-17, -8.72410856e-15,\n",
       "         4.19168795e-12, -2.19855871e-09],\n",
       "       [-1.60488469e-08,  1.80582334e-07, -4.28332980e-07,\n",
       "         1.87489225e-07, -1.61114279e-08,  5.00497888e-10,\n",
       "        -8.72986839e-12,  1.02277987e-13, -8.84633578e-16,\n",
       "         5.98499615e-18, -3.29292127e-20,  1.51515067e-22,\n",
       "        -5.95455872e-25,  7.54674319e-27, -1.75568113e-24,\n",
       "         6.26353187e-22, -2.48444939e-19,  1.08811861e-16,\n",
       "        -5.23021626e-14,  2.74425149e-11],\n",
       "       [ 1.53486282e-10, -1.82007318e-09,  4.73883221e-09,\n",
       "        -2.41704222e-09,  2.49822575e-10, -8.72986839e-12,\n",
       "         1.64693672e-13, -2.04148744e-15,  1.84301134e-17,\n",
       "        -1.28977199e-19,  7.29396839e-22, -3.43363961e-24,\n",
       "         1.37571170e-26, -1.00333700e-28,  1.67568976e-26,\n",
       "        -5.98090970e-24,  2.37329580e-21, -1.03979768e-18,\n",
       "         4.99947625e-16, -2.62389006e-13],\n",
       "       [-1.16922313e-12,  1.44174482e-11, -4.01611774e-11,\n",
       "         2.28057075e-11, -2.68307014e-12,  1.02277987e-13,\n",
       "        -2.04148744e-15,  2.63328039e-17, -2.44929483e-19,\n",
       "         1.75459596e-21, -1.01118471e-23,  4.83513508e-26,\n",
       "        -1.96291145e-28,  1.08864300e-30, -1.27449591e-28,\n",
       "         4.55057693e-26, -1.80628659e-23,  7.91591885e-21,\n",
       "        -3.80697598e-18,  1.99844583e-15],\n",
       "       [ 7.30529907e-15, -9.28456996e-14,  2.72245114e-13,\n",
       "        -1.67456583e-13,  2.16951967e-14, -8.84633578e-16,\n",
       "         1.84301134e-17, -2.44929483e-19,  2.32934820e-21,\n",
       "        -1.69780202e-23,  9.92179228e-26, -4.79908815e-28,\n",
       "         1.96719010e-30, -9.45401193e-33,  7.95304577e-31,\n",
       "        -2.84042600e-28,  1.12774872e-25, -4.94334979e-23,\n",
       "         2.37784088e-20, -1.24844103e-17],\n",
       "       [-3.82950310e-17,  4.98575756e-16, -1.52210780e-15,\n",
       "         9.96095693e-16, -1.39079155e-16,  5.98499615e-18,\n",
       "        -1.28977199e-19,  1.75459596e-21, -1.69780202e-23,\n",
       "         1.25421620e-25, -7.40893850e-28,  3.61556602e-30,\n",
       "        -1.49312401e-32,  6.62182555e-35, -4.16478723e-33,\n",
       "         1.48778781e-30, -5.90825014e-28,  2.59027058e-25,\n",
       "        -1.24616129e-22,  6.54363821e-20],\n",
       "       [ 1.71499430e-19, -2.27712466e-18,  7.18195449e-18,\n",
       "        -4.93873470e-18,  7.32132848e-19, -3.29292127e-20,\n",
       "         7.29396839e-22, -1.01118471e-23,  9.92179228e-26,\n",
       "        -7.40893850e-28,  4.41455161e-30, -2.16962409e-32,\n",
       "         9.01327242e-35, -3.80939027e-37,  1.86356093e-35,\n",
       "        -6.65843240e-33,  2.64462506e-30, -1.15961758e-27,\n",
       "         5.57956505e-25, -2.93018609e-22],\n",
       "       [-6.65886197e-22,  8.98708237e-21, -2.91163013e-20,\n",
       "         2.08508923e-20, -3.24654722e-21,  1.51515067e-22,\n",
       "        -3.43363961e-24,  4.83513508e-26, -4.79908815e-28,\n",
       "         3.61556602e-30, -2.16962409e-32,  1.07252192e-34,\n",
       "        -4.47729737e-37,  1.83534681e-39, -7.23052303e-38,\n",
       "         2.58383334e-35, -1.02640665e-32,  4.50116224e-30,\n",
       "        -2.16599766e-27,  1.13761424e-24],\n",
       "       [ 2.26918752e-24, -3.10512670e-23,  1.02891879e-22,\n",
       "        -7.62196277e-23,  1.23645267e-23, -5.95436279e-25,\n",
       "         1.37569302e-26, -1.96289726e-28,  1.96718125e-30,\n",
       "        -1.49311938e-32,  9.01325171e-35, -4.47728934e-37,\n",
       "         1.87668016e-39, -7.53801881e-42,  2.46249111e-40,\n",
       "        -8.80085748e-38,  3.49650237e-35, -1.53350708e-32,\n",
       "         7.38006260e-30, -3.87644149e-27],\n",
       "       [-6.85736460e-27,  9.49491981e-26, -3.20716476e-25,\n",
       "         2.44490604e-25, -4.10665375e-26,  2.03173456e-27,\n",
       "        -4.77254824e-29,  6.88690031e-31, -6.95912876e-33,\n",
       "         5.31570939e-35, -3.22510580e-37,  1.60869600e-39,\n",
       "        -6.76626942e-42,  2.67976644e-44, -7.43759856e-43,\n",
       "         2.65845884e-40, -1.05629563e-37,  4.63316706e-35,\n",
       "        -2.22991189e-32,  1.17136494e-29],\n",
       "       [ 1.85392330e-29, -2.59334687e-28,  8.90566318e-28,\n",
       "        -6.95826359e-28,  1.20425977e-28, -6.09950885e-30,\n",
       "         1.45354501e-31, -2.11809825e-33,  2.15564747e-35,\n",
       "        -1.65563614e-37,  1.00888614e-39, -5.05034033e-42,\n",
       "         2.13053263e-44, -8.35326919e-47,  2.00987097e-45,\n",
       "        -7.18464482e-43,  2.85497107e-40, -1.25236131e-37,\n",
       "         6.02796100e-35, -3.16666677e-32],\n",
       "       [-4.51840142e-32,  6.37718148e-31, -2.22168272e-30,\n",
       "         1.77337429e-30, -3.15001769e-31,  1.62869918e-32,\n",
       "        -3.93059031e-34,  5.77686442e-36, -5.91609152e-38,\n",
       "         4.56563478e-40, -2.79274478e-42,  1.40236027e-44,\n",
       "        -5.93134154e-47,  2.30834192e-49, -4.89650917e-48,\n",
       "         1.75048313e-45, -6.95649373e-43,  3.05175461e-40,\n",
       "        -1.46898645e-37,  7.71745145e-35],\n",
       "       [ 9.99368513e-35, -1.42162392e-33,  5.01564826e-33,\n",
       "        -4.07927079e-33,  7.41317630e-34, -3.90354345e-35,\n",
       "         9.52639034e-37, -1.41074012e-38,  1.45272044e-40,\n",
       "        -1.12585121e-42,  6.90981995e-45, -3.47922972e-47,\n",
       "         1.47491407e-49, -5.70807372e-52,  1.08261258e-50,\n",
       "        -3.87056156e-48,  1.53829099e-45, -6.74878372e-43,\n",
       "         3.24876304e-40, -1.70685113e-37],\n",
       "       [-2.01770348e-37,  2.89033905e-36, -1.03122219e-35,\n",
       "         8.52706079e-36, -1.58120432e-36,  8.46274939e-38,\n",
       "        -2.08596778e-39,  3.10993208e-41, -3.21820549e-43,\n",
       "         2.50346321e-45, -1.54105963e-47,  7.77839625e-50,\n",
       "        -3.30409129e-52,  1.27325139e-54, -2.18508052e-53,\n",
       "         7.81257159e-51, -3.10518301e-48,  1.36238260e-45,\n",
       "        -6.55863393e-43,  3.44595995e-40],\n",
       "       [ 3.73796375e-40, -5.38811831e-39,  1.94167194e-38,\n",
       "        -1.62939243e-38,  3.07628769e-39, -1.67068438e-40,\n",
       "         4.15503040e-42, -6.23217614e-44,  6.47751358e-46,\n",
       "        -5.05583684e-48,  3.12052111e-50, -1.57848346e-52,\n",
       "         6.71717674e-55, -2.57986288e-57,  4.04689861e-56,\n",
       "        -1.44700918e-53,  5.75162127e-51, -2.52362342e-48,\n",
       "         1.21495012e-45, -6.38370169e-43],\n",
       "       [-6.38368094e-43,  9.25359789e-42, -3.36464980e-41,\n",
       "         2.86106101e-41, -5.48953381e-42,  3.02084773e-43,\n",
       "        -7.57382205e-45,  1.14220952e-46, -1.19187767e-48,\n",
       "         9.33100824e-51, -5.77301639e-53,  2.92592560e-55,\n",
       "        -1.24714129e-57,  4.77722337e-60, -6.90952007e-59,\n",
       "         2.47067993e-56, -9.82107047e-54,  4.30936562e-51,\n",
       "        -2.07474617e-48,  1.09017133e-45]])"
      ]
     },
     "execution_count": 18,
     "metadata": {},
     "output_type": "execute_result"
    }
   ],
   "source": [
    "ansatz_3(np.array([0.7, 1]), a, at, **{'epsilon' : 0.2})"
   ]
  },
  {
   "cell_type": "markdown",
   "metadata": {},
   "source": [
    "$ \\mathcal{L} \\hat \\rho = - i\\mkern1mu \\left[\\hat H, \\hat \\rho \\right] + \\gamma (\\bar n + 1) \\left( \\hat a \\hat \\rho \\hat a^\\dag - \\frac{1}{2} \\left\\{ \\hat a^\\dag \\hat a, \\hat \\rho \\right\\} \\right) + \\gamma \\bar n \\left( \\hat a^\\dag \\hat \\rho \\hat a - \\frac{1}{2} \\left\\{ \\hat a \\hat a^\\dag, \\hat \\rho \\right\\} \\right)$\n"
   ]
  },
  {
   "cell_type": "code",
   "execution_count": 19,
   "metadata": {},
   "outputs": [],
   "source": [
    "def lindblad(M, a, at, beta, **args) :\n",
    "    '''\n",
    "    Computes the lindbladian of a density matrix M\n",
    "\n",
    "    Parameters\n",
    "    ----------\n",
    "    M : array \n",
    "        density matrix\n",
    "    a : array\n",
    "        annihilation operator\n",
    "    at : array\n",
    "        creation operator\n",
    "    beta : float\n",
    "        inversee temperature\n",
    "    **args : dic\n",
    "        (optional) extra parameters used in the Hamiltonian (like\n",
    "        frequencies, ratio parameters, ...)\n",
    "\n",
    "    Return\n",
    "    ------\n",
    "    L : float\n",
    "        the lindbladian\n",
    "    '''\n",
    "    L0 = - 1j * (H(a, at, **args) @ M - (H(a, at, **args).T @ M.T).T)\n",
    "    L1 = (n_avg(beta) + 1) * (a @ (a @ M.T).T - 0.5 * (at @ a @ M + (at @ a @ M.T).T))\n",
    "    L2 = n_avg(beta) * (at @ (at @ M.T).T - 0.5 * (a @ at @ M + (a @ at @ M.T).T))\n",
    "    return L0 + L1 + L2"
   ]
  },
  {
   "cell_type": "code",
   "execution_count": 20,
   "metadata": {},
   "outputs": [
    {
     "data": {
      "text/plain": [
       "array([[ 6.25115057e-03-2.77555756e-17j,  1.01163789e-01-8.32667268e-17j,\n",
       "        -7.02204462e-03-6.39175726e-03j,  2.04832000e-04+3.71519227e-04j,\n",
       "        -3.48993119e-06-9.51993814e-06j,  4.00792207e-08+1.46411563e-07j,\n",
       "        -3.36730089e-10-1.54478305e-09j,  2.18335062e-12+1.20729664e-11j,\n",
       "        -1.13460921e-14-7.34928881e-14j,  4.86040816e-17+3.61120832e-16j,\n",
       "        -1.75415907e-19-1.47104873e-18j,  5.07409182e-22+5.11082548e-21j,\n",
       "         1.43183140e-20-1.55468905e-20j, -6.54734880e-18+7.02589702e-18j,\n",
       "         3.34736600e-15-3.56004860e-15j, -1.89921831e-12+2.00463712e-12j,\n",
       "         1.18797071e-09-1.24577863e-09j, -8.14432289e-07+8.49254969e-07j,\n",
       "         6.08783650e-04-6.31681640e-04j,  1.85844773e-02+5.10207211e-01j],\n",
       "       [ 9.61518113e-02-5.55111512e-17j, -9.82026005e-01+5.55111512e-17j,\n",
       "         3.53512010e-02+7.60069121e-02j,  8.15165633e-05-5.35812290e-03j,\n",
       "        -2.22163620e-05+1.53482000e-04j,  5.08955393e-07-2.53863571e-06j,\n",
       "        -6.49443644e-09+2.81948402e-08j,  5.68954469e-11-2.28912701e-10j,\n",
       "        -3.74049833e-13+1.43511719e-12j,  1.94317376e-15-7.21885328e-15j,\n",
       "        -8.25731244e-18+2.99730029e-17j,  2.94338313e-20-1.04996964e-19j,\n",
       "        -7.12424732e-22+1.50193749e-21j,  2.87889713e-19-5.39723766e-19j,\n",
       "        -1.48538052e-16+2.74823946e-16j,  8.49275276e-14-1.55400130e-13j,\n",
       "        -5.34715385e-11+9.69225885e-11j,  3.68655985e-08-6.62811438e-08j,\n",
       "        -2.76923947e-05+4.94371476e-05j, -1.57058455e-03-4.00284230e-02j],\n",
       "       [-6.46595340e-03+6.39175726e-03j,  3.53512010e-02-7.60069121e-02j,\n",
       "         8.36159167e-01+0.00000000e+00j, -5.82359380e-02+9.26633271e-03j,\n",
       "         1.66138966e-03-4.16195782e-04j, -2.74417046e-05+8.52351696e-06j,\n",
       "         3.04666971e-07-1.07645755e-07j, -2.47376670e-09+9.53183795e-10j,\n",
       "         1.55127871e-11-6.36337997e-12j, -7.80578598e-14+3.35745637e-14j,\n",
       "         3.24215936e-16-1.44742653e-16j, -1.13611752e-18+5.22669671e-19j,\n",
       "         3.43079592e-21-1.65050750e-21j, -6.19909271e-21+1.77808367e-20j,\n",
       "         3.22884434e-18-9.09269125e-18j, -1.86284087e-15+5.16079358e-15j,\n",
       "         1.18179339e-12-3.22893623e-12j, -8.20052605e-10+2.21406938e-09j,\n",
       "         6.19430131e-07-1.65523483e-06j,  5.64996917e-05+1.34291518e-03j],\n",
       "       [ 1.81848352e-04-3.71519227e-04j,  8.15165633e-05+5.35812290e-03j,\n",
       "        -5.82359380e-02-9.26633271e-03j,  1.37311666e-01+1.08420217e-19j,\n",
       "        -6.01175981e-03+1.31578951e-04j,  1.21372060e-04-4.49420723e-06j,\n",
       "        -1.51804994e-06+7.33044881e-08j,  1.33468403e-08-7.61036124e-10j,\n",
       "        -8.86173115e-11+5.67126548e-12j,  4.65542778e-13-3.24503508e-14j,\n",
       "        -1.99993185e-15+1.48916331e-16j,  7.20072104e-18-5.65159183e-19j,\n",
       "        -2.21489459e-20+1.81555821e-21j,  1.40618188e-22-3.37906342e-22j,\n",
       "        -4.30972526e-20+1.71208901e-19j,  2.51387482e-17-9.76076855e-17j,\n",
       "        -1.60939281e-14+6.12944422e-14j,  1.12535015e-11-4.21585394e-11j,\n",
       "        -8.55601009e-09+3.15996109e-08j, -1.15512218e-06-2.56942123e-05j],\n",
       "       [-2.97610683e-06+9.51993814e-06j, -2.22163620e-05-1.53482000e-04j,\n",
       "         1.66138966e-03+4.16195782e-04j, -6.01175981e-03-1.31578951e-04j,\n",
       "         2.29766982e-03-7.62329653e-21j, -7.52328989e-05+2.86661564e-07j,\n",
       "         1.20739537e-06-7.73420492e-09j, -1.24152302e-08+1.04218189e-10j,\n",
       "         9.18984127e-11-9.17990561e-13j, -5.23149731e-13+5.91337102e-15j,\n",
       "         2.39099233e-15-2.96666993e-17j, -9.04380017e-18+1.20732969e-19j,\n",
       "         2.89597116e-20-4.10182439e-22j, -8.06373397e-23+5.26161748e-24j,\n",
       "         3.94530373e-22-2.11011275e-21j, -2.33151389e-19+1.20995868e-18j,\n",
       "         1.50924793e-16-7.63384027e-16j, -1.06507533e-13+5.27090900e-13j,\n",
       "         8.16077462e-11-3.96354379e-10j,  1.54900468e-08+3.23163504e-07j],\n",
       "       [ 3.27225378e-08-1.46411563e-07j,  5.08955393e-07+2.53863571e-06j,\n",
       "        -2.74417046e-05-8.52351696e-06j,  1.21372060e-04+4.49420723e-06j,\n",
       "        -7.52328989e-05-2.86661564e-07j,  6.34654824e-06+1.32348898e-23j,\n",
       "        -1.51090104e-07+1.49700388e-10j,  1.95744442e-09-3.04515030e-12j,\n",
       "        -1.69212688e-11+3.31026511e-14j,  1.07799957e-13-2.44401086e-16j,\n",
       "        -5.36820863e-16+1.35283971e-18j,  2.17291353e-18-5.93617960e-21j,\n",
       "        -7.35161321e-21+2.14141004e-23j,  2.12356647e-23-1.00537559e-25j,\n",
       "        -2.69549845e-24+1.85008567e-23j,  1.58875190e-21-1.06897866e-20j,\n",
       "        -1.04246152e-18+6.78567376e-18j,  7.43884785e-16-4.70861885e-15j,\n",
       "        -5.75280947e-13+3.55528864e-12j, -1.48509334e-10-2.90874783e-09j],\n",
       "       [-2.62391469e-10+1.54478305e-09j, -6.49443644e-09-2.81948402e-08j,\n",
       "         3.04666971e-07+1.07645755e-07j, -1.51804994e-06-7.33044881e-08j,\n",
       "         1.20739537e-06+7.73420492e-09j, -1.51090104e-07-1.49700388e-10j,\n",
       "         4.77873684e-09+4.03896783e-27j, -7.47412825e-11+2.92629554e-14j,\n",
       "         7.38867013e-13-4.47274079e-16j, -5.20649434e-15+3.87118003e-18j,\n",
       "         2.80532410e-17-2.36248119e-20j, -1.20987892e-19+1.10964250e-22j,\n",
       "         4.31283685e-22-4.21257016e-25j, -1.30129625e-24+1.56442245e-27j,\n",
       "         1.69206675e-26-1.21835149e-25j, -8.31298618e-24+7.11134289e-23j,\n",
       "         5.54656042e-21-4.55032539e-20j, -4.01179239e-18+3.17779155e-17j,\n",
       "         3.13720862e-15-2.41200816e-14j,  1.07810119e-12+1.98194987e-11j],\n",
       "       [ 1.61870526e-12-1.20729664e-11j,  5.68954469e-11+2.28912701e-10j,\n",
       "        -2.47376670e-09-9.53183795e-10j,  1.33468403e-08+7.61036124e-10j,\n",
       "        -1.24152302e-08-1.04218189e-10j,  1.95744442e-09+3.04515030e-12j,\n",
       "        -7.47412825e-11-2.92629554e-14j,  1.31263588e-12+8.87468518e-31j,\n",
       "        -1.40620495e-14+2.65551426e-18j,  1.05222469e-16-3.14679585e-20j,\n",
       "        -5.94284076e-19+2.20626431e-22j,  2.66270291e-21-1.12437830e-24j,\n",
       "        -9.79715132e-24+4.50985773e-27j,  3.03627318e-26-1.60314830e-29j,\n",
       "        -1.35370468e-28+6.25384355e-28j,  3.44275593e-26-3.70027346e-25j,\n",
       "        -2.34561185e-23+2.39265946e-22j,  1.72495139e-20-1.68483764e-19j,\n",
       "        -1.36717273e-17+1.28737651e-16j, -6.17320044e-15-1.06362857e-13j],\n",
       "       [-7.97708135e-15+7.34928881e-14j, -3.74049833e-13-1.43511719e-12j,\n",
       "         1.55127871e-11+6.36337997e-12j, -8.86173115e-11-5.67126548e-12j,\n",
       "         9.18984127e-11+9.17990561e-13j, -1.69212688e-11-3.31026511e-14j,\n",
       "         7.38867013e-13+4.47274079e-16j, -1.40620495e-14-2.65551426e-18j,\n",
       "         1.59156815e-16+1.32407684e-34j, -1.24035832e-18+1.29991612e-22j,\n",
       "         7.23040262e-21-1.23285116e-24j, -3.32303265e-23+7.15066959e-27j,\n",
       "         1.24859353e-25-3.08853541e-29j, -3.93842673e-28+1.11578719e-31j,\n",
       "         1.24032273e-30-2.56631866e-30j, -1.15205009e-28+1.54696290e-27j,\n",
       "         8.06110221e-26-1.01434518e-24j, -6.05183633e-23+7.22001719e-22j,\n",
       "         4.87609985e-20-5.56397603e-19j,  2.87436162e-17+4.62868072e-16j],\n",
       "       [ 3.22923107e-17-3.61120832e-16j,  1.94317376e-15+7.21885328e-15j,\n",
       "        -7.80578598e-14-3.35745637e-14j,  4.65542778e-13+3.24503508e-14j,\n",
       "        -5.23149731e-13-5.91337102e-15j,  1.07799957e-13+2.44401086e-16j,\n",
       "        -5.20649434e-15-3.87118003e-18j,  1.05222469e-16+3.14679585e-20j,\n",
       "        -1.24035832e-18-1.29991612e-22j,  9.95883270e-21+1.35916534e-38j,\n",
       "        -5.94014777e-23+3.81160679e-27j,  2.78057948e-25-2.97230669e-29j,\n",
       "        -1.06060742e-27+1.45404989e-31j,  3.38785339e-30-5.54911719e-34j,\n",
       "        -9.71192190e-33+8.55342092e-33j,  3.15472506e-31-5.29330357e-30j,\n",
       "        -2.28576660e-28+3.53721852e-27j,  1.76165548e-25-2.55377429e-24j,\n",
       "        -1.44864731e-22+1.98976655e-21j, -1.11424732e-19-1.66978447e-18j],\n",
       "       [-1.09712988e-19+1.47104862e-18j, -8.25731243e-18-2.99730028e-17j,\n",
       "         3.24215936e-16+1.44742653e-16j, -1.99993185e-15-1.48916331e-16j,\n",
       "         2.39099233e-15+2.96666993e-17j, -5.36820863e-16-1.35283971e-18j,\n",
       "         2.80532410e-17+2.36248119e-20j, -5.94284076e-19-2.20626431e-22j,\n",
       "         7.23040262e-21+1.23285116e-24j, -5.94014777e-23-3.81160679e-27j,\n",
       "         3.60595756e-25+3.81153182e-43j, -1.71168343e-27+7.22349196e-32j,\n",
       "         6.60382097e-30-4.73516656e-34j, -2.12959325e-32+2.02462492e-36j,\n",
       "         5.95955176e-35-2.32933359e-35j, -7.10105877e-34+1.49893217e-32j,\n",
       "         5.39527601e-31-1.02867197e-29j, -4.30324078e-28+7.57053083e-27j,\n",
       "         3.63125790e-25-5.98415998e-24j,  3.66400009e-22+5.07824897e-21j],\n",
       "       [ 3.18190756e-22-5.07200810e-21j,  2.94323160e-20+1.04994020e-19j,\n",
       "        -1.13611749e-18-5.22669575e-19j,  7.20072104e-18+5.65159181e-19j,\n",
       "        -9.04380017e-18-1.20732969e-19j,  2.17291353e-18+5.93617960e-21j,\n",
       "        -1.20987892e-19-1.10964250e-22j,  2.66270291e-21+1.12437830e-24j,\n",
       "        -3.32303265e-23-7.15066959e-27j,  2.78057948e-25+2.97230669e-29j,\n",
       "        -1.71168343e-27-7.22349196e-32j,  8.21531714e-30+9.23707484e-48j,\n",
       "        -3.19817340e-32+9.36908329e-37j,  1.03909136e-34-5.33177150e-39j,\n",
       "        -2.89482388e-37+5.13900856e-38j,  1.30493913e-36-3.52160198e-35j,\n",
       "        -1.06190269e-33+2.51383151e-32j,  8.87455027e-31-1.90035952e-29j,\n",
       "        -7.74544086e-28+1.53151996e-26j, -1.03766373e-24-1.31875430e-23j],\n",
       "       [-7.98579862e-25+1.50495168e-23j, -8.97072971e-23-3.15727368e-22j,\n",
       "         3.41758476e-21+1.61165383e-21j, -2.21487748e-20-1.81483563e-21j,\n",
       "         2.89597101e-20+4.10173680e-22j, -7.35161320e-21-2.14140253e-23j,\n",
       "         4.31283685e-22+4.21256537e-25j, -9.79715132e-24-4.50985538e-27j,\n",
       "         1.24859353e-25+3.08853451e-29j, -1.06060742e-27-1.45404962e-31j,\n",
       "         6.60382097e-30+4.73516593e-34j, -3.19817340e-32-9.36908237e-37j,\n",
       "         1.25415654e-34+2.00979378e-52j, -4.09957139e-37+8.79062243e-42j,\n",
       "         1.14356317e-39-8.81925684e-41j, -1.90250251e-39+6.78845456e-38j,\n",
       "         1.72734119e-36-5.16191109e-35j, -1.54465644e-33+4.05969076e-32j,\n",
       "         1.41141547e-30-3.36127423e-29j,  2.56288410e-27+2.95135934e-26j],\n",
       "       [ 1.75381442e-27-3.89546106e-26j,  2.37404307e-25+8.26630414e-25j,\n",
       "        -8.95072954e-24-4.30948886e-24j,  5.91001323e-23+5.01945350e-24j,\n",
       "        -7.99039255e-23-1.18848518e-24j,  2.12308543e-23+6.51723892e-26j,\n",
       "        -1.30127228e-24-1.33460087e-27j,  3.03626386e-26+1.48732474e-29j,\n",
       "        -3.93842386e-28-1.06948219e-31j,  3.38785270e-30+5.40067702e-34j,\n",
       "        -2.12959312e-32-1.98666147e-36j,  1.03909134e-34+5.25720441e-39j,\n",
       "        -4.09957138e-37-8.69450836e-42j,  1.34682440e-39+3.08263285e-56j,\n",
       "        -3.76777557e-42+1.00396238e-43j,  2.00848070e-42-1.02887035e-40j,\n",
       "        -2.25255027e-39+8.79036214e-38j,  2.24561294e-36-7.36558234e-35j,\n",
       "        -2.19311150e-33+6.34553410e-32j, -5.57864824e-30-5.72494787e-29j],\n",
       "       [-3.40128329e-30+8.89636481e-29j, -5.52363966e-28-1.90658672e-27j,\n",
       "         2.06506858e-26+1.01198336e-26j, -1.38530285e-25-1.21284993e-26j,\n",
       "         1.92669837e-25+2.98629093e-27j, -5.32008807e-26-1.70630758e-28j,\n",
       "         3.38463378e-27+3.61012737e-30j, -8.08109833e-29-4.14946031e-32j,\n",
       "         1.06413955e-30+3.08972808e-34j, -9.25238720e-33-1.63288186e-36j,\n",
       "         5.86315972e-35+6.42874361e-39j, -2.87899952e-37-1.91867007e-41j,\n",
       "         1.14170718e-39+4.23894591e-44j, -3.76681080e-42-6.02490520e-47j,\n",
       "         1.05711416e-44-2.63642710e-56j, -9.57739826e-46+1.04390591e-43j,\n",
       "         2.14285274e-42-1.18777924e-40j, -2.64209328e-39+1.11843271e-37j,\n",
       "         2.87233978e-36-1.02671548e-34j,  1.07972028e-32+9.63960898e-32j],\n",
       "       [ 5.86849629e-33-1.80989375e-31j,  1.14170212e-30+3.91241322e-30j,\n",
       "        -4.23881423e-29-2.10907667e-29j,  2.88252258e-28+2.59034689e-29j,\n",
       "        -4.10745120e-28-6.59443336e-30j,  1.17209958e-28+3.90206183e-31j,\n",
       "        -7.70045531e-30-8.48339534e-33j,  1.87565717e-31+9.99414085e-35j,\n",
       "        -2.50233349e-33-7.64088235e-37j,  2.19590407e-35+4.17004389e-39j,\n",
       "        -1.40122517e-37-1.71504398e-41j,  6.91803471e-40+5.47122556e-44j,\n",
       "        -2.75554893e-42-1.36198873e-46j,  9.12452749e-45+2.58135915e-49j,\n",
       "        -2.56843087e-47-3.72899225e-49j, -1.61451043e-48+1.31087817e-56j,\n",
       "        -9.02453791e-46+1.08295380e-43j,  2.28645764e-42-1.35823047e-40j,\n",
       "        -3.06958218e-39+1.40133960e-37j, -1.87224272e-35-1.40211284e-34j],\n",
       "       [-9.06199859e-36+3.30717095e-34j, -2.11493041e-33-7.20359520e-33j,\n",
       "         7.80660135e-32+3.93608022e-32j, -5.37199573e-31-4.93795968e-32j,\n",
       "         7.81739854e-31+1.29386267e-32j, -2.29518912e-31-7.89052914e-34j,\n",
       "         1.55072095e-32+1.75552457e-35j, -3.84404870e-34-2.11040016e-37j,\n",
       "         5.18721315e-36+1.64735196e-39j, -4.58883314e-38-9.20927837e-42j,\n",
       "         2.94593334e-40+3.90522325e-44j, -1.46134849e-42-1.30000840e-46j,\n",
       "         5.84305694e-45+3.45641598e-49j, -1.94095960e-47-7.37081310e-52j,\n",
       "         5.47855083e-50+1.23468177e-51j,  5.08536396e-51-3.15097557e-49j,\n",
       "        -1.56665634e-48-4.57765004e-57j, -8.75509121e-46+1.12066024e-43j,\n",
       "         2.43015248e-42-1.54022558e-40j,  2.92750135e-38+1.73220947e-37j],\n",
       "       [ 1.25809007e-38-5.46669332e-37j,  3.53785886e-36+1.19880095e-35j,\n",
       "        -1.29946523e-34-6.62860148e-35j,  9.03552649e-34+8.47181192e-35j,\n",
       "        -1.33926962e-33-2.27639406e-35j,  4.03118905e-34+1.42525329e-36j,\n",
       "        -2.79154723e-35-3.23467810e-38j,  7.02823244e-37+3.95499653e-40j,\n",
       "        -9.57995832e-39-3.13962373e-42j,  8.53520055e-41+1.78833488e-44j,\n",
       "        -5.50862394e-43-7.75761374e-47j,  2.74397183e-45+2.66017537e-49j,\n",
       "        -1.10083808e-47-7.37545830e-52j,  3.66694912e-50+1.67792734e-54j,\n",
       "        -1.03757986e-52-2.79370783e-54j, -7.38693871e-54+9.49525350e-52j,\n",
       "         4.58845392e-51-2.69260647e-49j, -1.45960141e-48+1.11360858e-57j,\n",
       "        -8.50842372e-46+1.15715341e-43j, -4.15079608e-41-1.73376581e-40j],\n",
       "       [-1.57517193e-41+8.22569471e-40j, -5.37948066e-39-1.81473265e-38j,\n",
       "         1.96755820e-37+1.01405586e-37j, -1.38073647e-36-1.31747664e-37j,\n",
       "         2.08006155e-36+3.61945043e-38j, -6.39990910e-37-2.31925709e-39j,\n",
       "         4.52968755e-38+5.35577800e-41j, -1.15634651e-39-6.64362834e-43j,\n",
       "         1.59035995e-41+5.34803460e-45j, -1.42587621e-43-3.09238583e-47j,\n",
       "         9.24609298e-46+1.36520268e-49j, -4.62268455e-48-4.78507614e-52j,\n",
       "         1.86006552e-50+1.36583559e-54j, -6.21120534e-53-3.23723645e-57j,\n",
       "         1.76134661e-55+5.14721613e-57j,  5.30412051e-57-1.96595769e-54j,\n",
       "        -6.67168917e-54+7.42647102e-52j,  4.01587401e-51-2.32215294e-49j,\n",
       "        -1.35858406e-48-1.41884748e-58j,  5.36204136e-44+1.19254243e-43j],\n",
       "       [-7.24384875e-45-1.13291339e-42j,  8.04071598e-42+2.51298421e-41j,\n",
       "        -2.75725311e-40-1.41749764e-40j,  1.93242234e-39+1.86871648e-40j,\n",
       "        -2.94817940e-39-5.23590585e-41j,  9.24658261e-40+3.42476502e-42j,\n",
       "        -6.67292163e-41-8.03052304e-44j,  1.72478345e-42+1.00864850e-45j,\n",
       "        -2.39124625e-44-8.21560812e-48j,  2.15603772e-46+4.80955625e-50j,\n",
       "        -1.40397861e-48-2.15322759e-52j,  7.04244655e-51+7.67538588e-55j,\n",
       "        -2.84124083e-53-2.23821207e-57j,  9.50836998e-56+5.45718375e-60j,\n",
       "        -2.69923274e-58-8.18314625e-60j, -1.60503324e-58+3.33042231e-57j,\n",
       "         1.23932156e-55-1.41411949e-54j, -9.50019478e-53+5.89086329e-52j,\n",
       "         7.55704589e-50-2.01912369e-49j, -3.19014632e-47-2.17805535e-60j]])"
      ]
     },
     "execution_count": 20,
     "metadata": {},
     "output_type": "execute_result"
    }
   ],
   "source": [
    "lindblad(ansatz_3([0.5, 1], a, at, **{'epsilon' : 0.2}), a, at, 0.5, **{'epsilon' : 0.2})"
   ]
  },
  {
   "cell_type": "markdown",
   "metadata": {},
   "source": [
    "Loss\n"
   ]
  },
  {
   "cell_type": "code",
   "execution_count": 32,
   "metadata": {},
   "outputs": [],
   "source": [
    "def loss_lindblad(lagr, ansatz, a, at, beta, **args) :\n",
    "    '''\n",
    "    Computes the (Nuclear) norm of the Lindbladian of an ansatz density matrix\n",
    "    given the Lagrange multipliers\n",
    "\n",
    "    Parameters\n",
    "    ----------\n",
    "    lagr : array\n",
    "        Lagrange multipliers of (pseudo-)conserved quantities.\n",
    "        They are the variational parameters\n",
    "    ansatz : function\n",
    "        ansatz used in the variational procedure\n",
    "    a : array\n",
    "        annihilation operator\n",
    "    at : array\n",
    "        creation operator\n",
    "    beta : float\n",
    "        inverse temperature\n",
    "    **args : dic\n",
    "        (optional) extra parameters used in the Hamiltonian (like\n",
    "        frequencies, ratio parameters, ...)\n",
    "\n",
    "    Return\n",
    "    ------\n",
    "    ||L rho || : float\n",
    "        the Nuclear norm of the linbladian of the density matrix\n",
    "\n",
    "    Note\n",
    "    ----\n",
    "    We use the Nuclear norm because it is not biased (see [1])\n",
    "\n",
    "    References\n",
    "    ----------\n",
    "    [1] - Weimer, Variational principle for steady states of dissipative quantum many-body systems, 2015\n",
    "    '''\n",
    "    return np.linalg.norm(lindblad(ansatz(lagr, a, at, **args), a, at, beta, **args), 'nuc')\n",
    "    # rho_ansatz = ansatz(lagr, a, at, **args)\n",
    "    # return np.abs(np.trace((np.identity(rho_ansatz.shape[0]) + scp.linalg.logm(rho_ansatz)) * lindblad(rho_ansatz, a, at, beta, **args)))"
   ]
  },
  {
   "cell_type": "code",
   "execution_count": null,
   "metadata": {},
   "outputs": [],
   "source": [
    "def loss(lagr, ansatz, a, at, beta, **args) :\n",
    "    '''\n",
    "    Computes the (Nuclear) norm of the Lindbladian of an ansatz density matrix\n",
    "    given the Lagrange multipliers\n",
    "\n",
    "    Parameters\n",
    "    ----------\n",
    "    lagr : array\n",
    "        Lagrange multipliers of (pseudo-)conserved quantities.\n",
    "        They are the variational parameters\n",
    "    ansatz : function\n",
    "        ansatz used in the variational procedure\n",
    "    a : array\n",
    "        annihilation operator\n",
    "    at : array\n",
    "        creation operator\n",
    "    beta : float\n",
    "        inverse temperature\n",
    "    **args : dic\n",
    "        (optional) extra parameters used in the Hamiltonian (like\n",
    "        frequencies, ratio parameters, ...)\n",
    "\n",
    "    Return\n",
    "    ------\n",
    "    ||L rho || : float\n",
    "        the Nuclear norm of the linbladian of the density matrix\n",
    "\n",
    "    Note\n",
    "    ----\n",
    "    We use the Nuclear norm because it is not biased (see [1])\n",
    "\n",
    "    References\n",
    "    ----------\n",
    "    [1] - Weimer, Variational principle for steady states of dissipative quantum many-body systems, 2015\n",
    "    '''\n",
    "    # return np.linalg.norm(lindblad(ansatz(lagr, a, at, **args), a, at, beta, **args), 'nuc')\n",
    "    rho_ansatz = ansatz(lagr, a, at, **args)\n",
    "    return np.abs(np.trace((np.identity(rho_ansatz.shape[0]) + scp.linalg.logm(rho_ansatz)) * lindblad(rho_ansatz, a, at, beta, **args)))"
   ]
  },
  {
   "cell_type": "code",
   "execution_count": 30,
   "metadata": {},
   "outputs": [
    {
     "data": {
      "text/plain": [
       "1.5304144213143709"
      ]
     },
     "execution_count": 30,
     "metadata": {},
     "output_type": "execute_result"
    }
   ],
   "source": [
    "beta = 1\n",
    "loss([0.5, 1], ansatz_3, a, at, beta, **{'epsilon' : 0.2})"
   ]
  },
  {
   "cell_type": "markdown",
   "metadata": {},
   "source": [
    "##### Parameters\n"
   ]
  },
  {
   "cell_type": "code",
   "execution_count": 33,
   "metadata": {},
   "outputs": [],
   "source": [
    "case = 5\n",
    "folder = f'{dir_res}/case_{case}'\n",
    "os.makedirs(folder, exist_ok=True)"
   ]
  },
  {
   "cell_type": "code",
   "execution_count": 34,
   "metadata": {},
   "outputs": [],
   "source": [
    "N = 25\n",
    "a, at = creation_annihilation(N)\n",
    "betas = np.linspace(0.3, 5, 10)        # true inverse temperature\n",
    "lambda_0 = np.array([1, 0.05])\n",
    "params_H = {\n",
    "    'epsilon' : 0.2\n",
    "}"
   ]
  },
  {
   "cell_type": "code",
   "execution_count": 37,
   "metadata": {},
   "outputs": [
    {
     "name": "stdout",
     "output_type": "stream",
     "text": [
      "Optimization terminated successfully.\n",
      "         Current function value: 0.461562\n",
      "         Iterations: 57\n",
      "         Function evaluations: 106\n",
      "[0.18433945 0.00841683]\n",
      "Optimization terminated successfully.\n",
      "         Current function value: 0.437407\n",
      "         Iterations: 36\n",
      "         Function evaluations: 69\n",
      "[0.67577366 0.0220148 ]\n",
      "Optimization terminated successfully.\n",
      "         Current function value: 0.451818\n",
      "         Iterations: 36\n",
      "         Function evaluations: 71\n",
      "[1.14622081 0.0202978 ]\n",
      "Optimization terminated successfully.\n",
      "         Current function value: 0.482508\n",
      "         Iterations: 34\n",
      "         Function evaluations: 65\n",
      "[1.57970255 0.02253253]\n",
      "Optimization terminated successfully.\n",
      "         Current function value: 0.501368\n",
      "         Iterations: 40\n",
      "         Function evaluations: 77\n",
      "[1.94649845 0.02476172]\n",
      "Optimization terminated successfully.\n",
      "         Current function value: 0.512622\n",
      "         Iterations: 46\n",
      "         Function evaluations: 89\n",
      "[2.24076212 0.02670066]\n",
      "Optimization terminated successfully.\n",
      "         Current function value: 0.519315\n",
      "         Iterations: 43\n",
      "         Function evaluations: 83\n",
      "[2.46301316 0.02825905]\n",
      "Optimization terminated successfully.\n",
      "         Current function value: 0.523289\n",
      "         Iterations: 45\n",
      "         Function evaluations: 87\n",
      "[2.6210332  0.02941642]\n",
      "Optimization terminated successfully.\n",
      "         Current function value: 0.525649\n",
      "         Iterations: 47\n",
      "         Function evaluations: 89\n",
      "[2.7274553  0.03021354]\n",
      "Optimization terminated successfully.\n",
      "         Current function value: 0.527049\n",
      "         Iterations: 46\n",
      "         Function evaluations: 88\n",
      "[2.79610034 0.03073943]\n"
     ]
    }
   ],
   "source": [
    "for i,beta in enumerate(betas) :\n",
    "    opt = optimize(loss, lambda_0, a, at, beta, ansatz_3, folder, i, **params_H)\n",
    "    print(opt['lagr_best'])\n",
    "    np.savetxt(f'{folder}/loss_rho_best.txt', np.array([loss_lindblad(opt['lagr_best'], ansatz_3, a, at, beta, **params_H)]))"
   ]
  },
  {
   "cell_type": "code",
   "execution_count": 38,
   "metadata": {},
   "outputs": [
    {
     "data": {
      "image/png": "[encoded data removed]",
      "text/plain": [
       "<Figure size 330x250 with 1 Axes>"
      ]
     },
     "metadata": {},
     "output_type": "display_data"
    },
    {
     "data": {
      "image/png": "[encoded data removed]",
      "text/plain": [
       "<Figure size 330x250 with 1 Axes>"
      ]
     },
     "metadata": {},
     "output_type": "display_data"
    }
   ],
   "source": [
    "lagr_to_plot = [0, 1]\n",
    "\n",
    "for i,beta in enumerate(betas) :\n",
    "\n",
    "    subfolder = f'{folder}/output_{i}'\n",
    "    explored_solutions = np.loadtxt(f'{subfolder}/history.txt', unpack=True)\n",
    "\n",
    "    for lagr in lagr_to_plot :\n",
    "        plt.figure(lagr)\n",
    "        if lagr == 0 :\n",
    "            plt.hlines(beta, 0, len(explored_solutions[lagr]), color='r', ls='--', lw=1.5, label='ground truth' if i==0 else \"\")\n",
    "        plt.plot(explored_solutions[lagr], lw=2, label=rf'$\\beta = {round(beta,2)}$')\n",
    "\n",
    "for lagr in lagr_to_plot :\n",
    "    plt.figure(lagr)   \n",
    "    plt.xlabel(\"iteration\")\n",
    "    plt.ylabel(rf\"Lagrange multiplier $\\lambda_{lagr}$\")\n",
    "    plt.legend(loc='upper center', ncols=4, bbox_to_anchor=(0.5, 1.33))\n",
    "    plt.savefig(f'figs/opti_case_{case}_lagr_{lagr}.pdf', bbox_inches='tight')\n"
   ]
  },
  {
   "cell_type": "code",
   "execution_count": 39,
   "metadata": {},
   "outputs": [
    {
     "data": {
      "image/png": "[encoded data removed]",
      "text/plain": [
       "<Figure size 400x400 with 2 Axes>"
      ]
     },
     "metadata": {},
     "output_type": "display_data"
    },
    {
     "data": {
      "image/png": "[encoded data removed]",
      "text/plain": [
       "<Figure size 400x400 with 2 Axes>"
      ]
     },
     "metadata": {},
     "output_type": "display_data"
    }
   ],
   "source": [
    "for i,beta in enumerate(betas) :\n",
    "    subfolder = f'{folder}/output_{i}'\n",
    "    estimated_rho = np.loadtxt(f'{subfolder}/rho_best.txt')\n",
    "\n",
    "    plt.matshow(estimated_rho)\n",
    "    plt.colorbar()\n",
    "    plt.savefig(f'{subfolder}/rho_best.pdf', bbox_inches='tight')\n",
    "\n",
    "    if i == 0 or i == len(betas) - 1 :\n",
    "        plt.show()\n",
    "    else :\n",
    "        plt.close()"
   ]
  },
  {
   "cell_type": "code",
   "execution_count": null,
   "metadata": {},
   "outputs": [],
   "source": []
  },
  {
   "cell_type": "markdown",
   "metadata": {},
   "source": [
    "# Compare cases\n"
   ]
  },
  {
   "cell_type": "markdown",
   "metadata": {},
   "source": [
    "##### compute\n"
   ]
  },
  {
   "cell_type": "code",
   "execution_count": 40,
   "metadata": {},
   "outputs": [],
   "source": [
    "cases_to_compare = np.array([1, 2, 3, 4, 5])\n",
    "is_to_plot = np.arange(10)\n",
    "\n",
    "losses = []\n",
    "\n",
    "for c in cases_to_compare :\n",
    "    avg = 0\n",
    "    for i in is_to_plot :\n",
    "        filename = f'results/case_{c}/output_{i}/loss_rho_best.txt'\n",
    "        loss_best = np.loadtxt(filename)\n",
    "        avg += loss_best\n",
    "    avg /= len(is_to_plot)\n",
    "    losses.append(avg)\n",
    "\n",
    "np.savetxt('results/comp_cases/comp_avg_loss.txt', np.vstack((cases_to_compare, np.array(losses))).T)\n"
   ]
  },
  {
   "cell_type": "markdown",
   "metadata": {},
   "source": [
    "##### plot\n"
   ]
  },
  {
   "cell_type": "code",
   "execution_count": 42,
   "metadata": {},
   "outputs": [
    {
     "data": {
      "text/plain": [
       "([<matplotlib.axis.XTick at 0x1f94a023250>,\n",
       "  <matplotlib.axis.XTick at 0x1f94a129e10>,\n",
       "  <matplotlib.axis.XTick at 0x1f94a0a1050>,\n",
       "  <matplotlib.axis.XTick at 0x1f94a16ec10>,\n",
       "  <matplotlib.axis.XTick at 0x1f94a179590>],\n",
       " [Text(0, 0, 'HO ansatz 1'),\n",
       "  Text(1, 0, 'HO ansatz 2'),\n",
       "  Text(2, 0, 'drive ansatz 2'),\n",
       "  Text(3, 0, 'Kerr ansatz 2'),\n",
       "  Text(4, 0, 'entropy production')])"
      ]
     },
     "execution_count": 42,
     "metadata": {},
     "output_type": "execute_result"
    },
    {
     "data": {
      "image/png": "[encoded data removed]",
      "text/plain": [
       "<Figure size 330x250 with 1 Axes>"
      ]
     },
     "metadata": {},
     "output_type": "display_data"
    }
   ],
   "source": [
    "cases_to_compare, losses = np.loadtxt('results/comp_cases/comp_avg_loss.txt', unpack=True)\n",
    "cases_to_compare = cases_to_compare.astype(int)\n",
    "\n",
    "X = ['HO ansatz 1', 'HO ansatz 2', 'drive ansatz 2', 'Kerr ansatz 2', 'S-prod, ansatz 3']\n",
    "\n",
    "plt.bar(X, losses)\n",
    "plt.ylabel(r'average loss  $||  \\mathcal{L} \\, \\rho_{\\,best\\_GGE}||$')\n",
    "plt.xticks(range(len(cases_to_compare)), X, rotation=45)\n",
    "# plt.savefig('figs/comp_avg_loss.pdf')\n"
   ]
  },
  {
   "cell_type": "code",
   "execution_count": null,
   "metadata": {},
   "outputs": [],
   "source": []
  },
  {
   "cell_type": "code",
   "execution_count": null,
   "metadata": {},
   "outputs": [],
   "source": []
  },
  {
   "cell_type": "markdown",
   "metadata": {},
   "source": [
    "# Entropy production with drive - ansatz drive\n"
   ]
  },
  {
   "cell_type": "markdown",
   "metadata": {},
   "source": [
    "#### $\\hat H = \\hat a^\\dag \\hat a + \\epsilon \\left( \\hat a + \\hat a^\\dag \\right)$\n"
   ]
  },
  {
   "cell_type": "markdown",
   "metadata": {},
   "source": [
    "#### $ \\mathcal{L} \\hat \\rho = - i\\mkern1mu \\left[\\hat H, \\hat \\rho \\right] + \\gamma (\\bar n + 1) \\left( \\hat a \\hat \\rho \\hat a^\\dag - \\frac{1}{2} \\left\\{ \\hat a^\\dag \\hat a, \\hat \\rho \\right\\} \\right) + \\gamma \\bar n \\left( \\hat a^\\dag \\hat \\rho \\hat a - \\frac{1}{2} \\left\\{ \\hat a \\hat a^\\dag, \\hat \\rho \\right\\} \\right)$\n"
   ]
  },
  {
   "cell_type": "markdown",
   "metadata": {},
   "source": [
    "#### Ansatz : $ \\hat \\rho = \\frac{e^{- \\lambda_0 \\hat a^\\dagger \\hat a - \\lambda_1 \\left( \\hat a + \\hat a^\\dag \\right) }}{\\text{Tr}(e^{- \\lambda_0 \\hat a^\\dagger \\hat a - \\lambda_1 \\left( \\hat a + \\hat a^\\dag \\right) })}$\n"
   ]
  },
  {
   "cell_type": "markdown",
   "metadata": {},
   "source": [
    "Description of the physical system\n"
   ]
  },
  {
   "cell_type": "markdown",
   "metadata": {},
   "source": [
    "$ \\hat H = \\hat a^\\dag \\hat a + \\epsilon \\left( \\hat a + \\hat a^\\dag \\right) $\n"
   ]
  },
  {
   "cell_type": "code",
   "execution_count": null,
   "metadata": {},
   "outputs": [],
   "source": [
    "def H(a, at, **args) :\n",
    "    '''\n",
    "    Computes the matrix form of a Hamiltonian in the computational basis\n",
    "\n",
    "    Parameters\n",
    "    ----------\n",
    "    a : array\n",
    "        annihilation operator\n",
    "    at : array\n",
    "        creation operator\n",
    "    **args : dic\n",
    "        (optional) extra parameters used in the Hamiltonian (like\n",
    "        frequencies, ratio parameters, ...)  \n",
    "\n",
    "    Return\n",
    "    ------\n",
    "    H : array\n",
    "        matrix form of Hamiltonian \n",
    "    '''\n",
    "    epsilon = args['epsilon']\n",
    "    a, at = creation_annihilation(N)\n",
    "    H = at @ a + epsilon * (a + at)\n",
    "    return H\n"
   ]
  },
  {
   "cell_type": "code",
   "execution_count": null,
   "metadata": {},
   "outputs": [
    {
     "data": {
      "text/plain": [
       "array([[ 0.        ,  0.2       ,  0.        ,  0.        ,  0.        ,\n",
       "         0.        ,  0.        ,  0.        ,  0.        ,  0.        ,\n",
       "         0.        ,  0.        ,  0.        ,  0.        ,  0.        ,\n",
       "         0.        ,  0.        ,  0.        ,  0.        ,  0.87177979],\n",
       "       [ 0.2       ,  1.        ,  0.28284271,  0.        ,  0.        ,\n",
       "         0.        ,  0.        ,  0.        ,  0.        ,  0.        ,\n",
       "         0.        ,  0.        ,  0.        ,  0.        ,  0.        ,\n",
       "         0.        ,  0.        ,  0.        ,  0.        ,  0.        ],\n",
       "       [ 0.        ,  0.28284271,  2.        ,  0.34641016,  0.        ,\n",
       "         0.        ,  0.        ,  0.        ,  0.        ,  0.        ,\n",
       "         0.        ,  0.        ,  0.        ,  0.        ,  0.        ,\n",
       "         0.        ,  0.        ,  0.        ,  0.        ,  0.        ],\n",
       "       [ 0.        ,  0.        ,  0.34641016,  3.        ,  0.4       ,\n",
       "         0.        ,  0.        ,  0.        ,  0.        ,  0.        ,\n",
       "         0.        ,  0.        ,  0.        ,  0.        ,  0.        ,\n",
       "         0.        ,  0.        ,  0.        ,  0.        ,  0.        ],\n",
       "       [ 0.        ,  0.        ,  0.        ,  0.4       ,  4.        ,\n",
       "         0.4472136 ,  0.        ,  0.        ,  0.        ,  0.        ,\n",
       "         0.        ,  0.        ,  0.        ,  0.        ,  0.        ,\n",
       "         0.        ,  0.        ,  0.        ,  0.        ,  0.        ],\n",
       "       [ 0.        ,  0.        ,  0.        ,  0.        ,  0.4472136 ,\n",
       "         5.        ,  0.48989795,  0.        ,  0.        ,  0.        ,\n",
       "         0.        ,  0.        ,  0.        ,  0.        ,  0.        ,\n",
       "         0.        ,  0.        ,  0.        ,  0.        ,  0.        ],\n",
       "       [ 0.        ,  0.        ,  0.        ,  0.        ,  0.        ,\n",
       "         0.48989795,  6.        ,  0.52915026,  0.        ,  0.        ,\n",
       "         0.        ,  0.        ,  0.        ,  0.        ,  0.        ,\n",
       "         0.        ,  0.        ,  0.        ,  0.        ,  0.        ],\n",
       "       [ 0.        ,  0.        ,  0.        ,  0.        ,  0.        ,\n",
       "         0.        ,  0.52915026,  7.        ,  0.56568542,  0.        ,\n",
       "         0.        ,  0.        ,  0.        ,  0.        ,  0.        ,\n",
       "         0.        ,  0.        ,  0.        ,  0.        ,  0.        ],\n",
       "       [ 0.        ,  0.        ,  0.        ,  0.        ,  0.        ,\n",
       "         0.        ,  0.        ,  0.56568542,  8.        ,  0.6       ,\n",
       "         0.        ,  0.        ,  0.        ,  0.        ,  0.        ,\n",
       "         0.        ,  0.        ,  0.        ,  0.        ,  0.        ],\n",
       "       [ 0.        ,  0.        ,  0.        ,  0.        ,  0.        ,\n",
       "         0.        ,  0.        ,  0.        ,  0.6       ,  9.        ,\n",
       "         0.63245553,  0.        ,  0.        ,  0.        ,  0.        ,\n",
       "         0.        ,  0.        ,  0.        ,  0.        ,  0.        ],\n",
       "       [ 0.        ,  0.        ,  0.        ,  0.        ,  0.        ,\n",
       "         0.        ,  0.        ,  0.        ,  0.        ,  0.63245553,\n",
       "        10.        ,  0.66332496,  0.        ,  0.        ,  0.        ,\n",
       "         0.        ,  0.        ,  0.        ,  0.        ,  0.        ],\n",
       "       [ 0.        ,  0.        ,  0.        ,  0.        ,  0.        ,\n",
       "         0.        ,  0.        ,  0.        ,  0.        ,  0.        ,\n",
       "         0.66332496, 11.        ,  0.69282032,  0.        ,  0.        ,\n",
       "         0.        ,  0.        ,  0.        ,  0.        ,  0.        ],\n",
       "       [ 0.        ,  0.        ,  0.        ,  0.        ,  0.        ,\n",
       "         0.        ,  0.        ,  0.        ,  0.        ,  0.        ,\n",
       "         0.        ,  0.69282032, 12.        ,  0.72111026,  0.        ,\n",
       "         0.        ,  0.        ,  0.        ,  0.        ,  0.        ],\n",
       "       [ 0.        ,  0.        ,  0.        ,  0.        ,  0.        ,\n",
       "         0.        ,  0.        ,  0.        ,  0.        ,  0.        ,\n",
       "         0.        ,  0.        ,  0.72111026, 13.        ,  0.74833148,\n",
       "         0.        ,  0.        ,  0.        ,  0.        ,  0.        ],\n",
       "       [ 0.        ,  0.        ,  0.        ,  0.        ,  0.        ,\n",
       "         0.        ,  0.        ,  0.        ,  0.        ,  0.        ,\n",
       "         0.        ,  0.        ,  0.        ,  0.74833148, 14.        ,\n",
       "         0.77459667,  0.        ,  0.        ,  0.        ,  0.        ],\n",
       "       [ 0.        ,  0.        ,  0.        ,  0.        ,  0.        ,\n",
       "         0.        ,  0.        ,  0.        ,  0.        ,  0.        ,\n",
       "         0.        ,  0.        ,  0.        ,  0.        ,  0.77459667,\n",
       "        15.        ,  0.8       ,  0.        ,  0.        ,  0.        ],\n",
       "       [ 0.        ,  0.        ,  0.        ,  0.        ,  0.        ,\n",
       "         0.        ,  0.        ,  0.        ,  0.        ,  0.        ,\n",
       "         0.        ,  0.        ,  0.        ,  0.        ,  0.        ,\n",
       "         0.8       , 16.        ,  0.82462113,  0.        ,  0.        ],\n",
       "       [ 0.        ,  0.        ,  0.        ,  0.        ,  0.        ,\n",
       "         0.        ,  0.        ,  0.        ,  0.        ,  0.        ,\n",
       "         0.        ,  0.        ,  0.        ,  0.        ,  0.        ,\n",
       "         0.        ,  0.82462113, 17.        ,  0.84852814,  0.        ],\n",
       "       [ 0.        ,  0.        ,  0.        ,  0.        ,  0.        ,\n",
       "         0.        ,  0.        ,  0.        ,  0.        ,  0.        ,\n",
       "         0.        ,  0.        ,  0.        ,  0.        ,  0.        ,\n",
       "         0.        ,  0.        ,  0.84852814, 18.        ,  0.87177979],\n",
       "       [ 0.        ,  0.        ,  0.        ,  0.        ,  0.        ,\n",
       "         0.        ,  0.        ,  0.        ,  0.        ,  0.        ,\n",
       "         0.        ,  0.        ,  0.        ,  0.        ,  0.        ,\n",
       "         0.        ,  0.        ,  0.        ,  0.87177979, 19.        ]])"
      ]
     },
     "metadata": {},
     "output_type": "display_data"
    }
   ],
   "source": [
    "H(a, at, **{'epsilon' : 0.2})"
   ]
  },
  {
   "cell_type": "markdown",
   "metadata": {},
   "source": [
    "Ansatz : $ \\hat \\rho = \\frac{e^{- \\lambda_0 \\hat a^\\dagger \\hat a - \\lambda_1 \\left( \\hat a + \\hat a^\\dag \\right) }}{\\text{Tr}(e^{- \\lambda_0 \\hat a^\\dagger \\hat a - \\lambda_1 \\left( \\hat a + \\hat a^\\dag \\right) })}$\n"
   ]
  },
  {
   "cell_type": "code",
   "execution_count": 43,
   "metadata": {},
   "outputs": [],
   "source": [
    "def ansatz_4(lagr, a, at, **args) :\n",
    "    '''\n",
    "    Creates an ansatz for the density matrix given some parameters\n",
    "\n",
    "    Parameters\n",
    "    ----------\n",
    "    lagr : array\n",
    "        Lagrange multipliers of (pseudo-)conserved quantities.\n",
    "        They are the variational parameters\n",
    "    a : array\n",
    "        annihilation operator\n",
    "    at : array\n",
    "        creation operator\n",
    "    **args : dic\n",
    "        (optional) extra parameters used in the Hamiltonian (like\n",
    "        frequencies, ratio parameters, ...)\n",
    "        \n",
    "    Return\n",
    "    ------\n",
    "    rho : array\n",
    "        density matrix (ansatz)\n",
    "    '''\n",
    "    U = exp_mat(- lagr[0] * at @ a - lagr[1] * (a + at))\n",
    "    rho = U / np.trace(U)\n",
    "    return rho"
   ]
  },
  {
   "cell_type": "code",
   "execution_count": 44,
   "metadata": {},
   "outputs": [
    {
     "data": {
      "text/plain": [
       "array([[ 1.80203785e-01, -1.29596048e-01,  6.59029127e-02,\n",
       "        -2.73635117e-02,  9.83942423e-03, -3.16455416e-03,\n",
       "         9.29104897e-04, -2.52547690e-04,  6.42129617e-05,\n",
       "        -1.53907979e-05,  3.49002844e-06, -7.17646428e-07,\n",
       "         9.44609013e-09,  4.61550835e-07, -1.53316235e-06,\n",
       "         4.55112444e-06, -1.29027664e-05,  3.55372852e-05,\n",
       "        -9.65698834e-05,  2.62878055e-04, -7.26237135e-04,\n",
       "         2.05492320e-03, -5.98435239e-03,  1.79619830e-02,\n",
       "        -5.55303792e-02],\n",
       "       [-1.29596048e-01,  1.82687344e-01, -1.38407403e-01,\n",
       "         7.63626670e-02, -3.42527938e-02,  1.32015148e-02,\n",
       "        -4.51748099e-03,  1.40231957e-03, -4.00897348e-04,\n",
       "         1.06732540e-04, -2.66891728e-05,  6.30619753e-06,\n",
       "        -1.39712414e-06,  2.20475452e-07,  2.42700234e-07,\n",
       "        -1.04336210e-06,  3.50919053e-06, -1.13447395e-05,\n",
       "         3.59536955e-05, -1.12829608e-04,  3.53648553e-04,\n",
       "        -1.11500124e-03,  3.55513047e-03, -1.15051364e-02,\n",
       "         3.78744051e-02],\n",
       "       [ 6.59029127e-02, -1.38407403e-01,  1.61103563e-01,\n",
       "        -1.23010414e-01,  7.10462197e-02, -3.36075853e-02,\n",
       "         1.36520227e-02, -4.90997291e-03,  1.59660919e-03,\n",
       "        -4.76588272e-04,  1.32088537e-04, -3.42923617e-05,\n",
       "         8.39543824e-06, -1.93666552e-06,  3.71764258e-07,\n",
       "         1.41890230e-07, -8.48344692e-07,  3.11763901e-06,\n",
       "        -1.09782927e-05,  3.80082787e-05, -1.30393332e-04,\n",
       "         4.45986936e-04, -1.52858459e-03,  5.27123784e-03,\n",
       "        -1.83448289e-02],\n",
       "       [-2.73635117e-02,  7.63626670e-02, -1.23010414e-01,\n",
       "         1.31076748e-01, -1.00034133e-01,  5.95011276e-02,\n",
       "        -2.92703055e-02,  1.23943623e-02, -4.64452444e-03,\n",
       "         1.57114506e-03, -4.86936841e-04,  1.39840342e-04,\n",
       "        -3.75457074e-05,  9.48994889e-06, -2.26160257e-06,\n",
       "         4.69498890e-07,  8.39427052e-08, -7.48056518e-07,\n",
       "         2.94343931e-06, -1.10425748e-05,  4.07935573e-05,\n",
       "        -1.49394258e-04,  5.44981008e-04, -1.98831260e-03,\n",
       "         7.27914013e-03],\n",
       "       [ 9.83942423e-03, -3.42527938e-02,  7.10462197e-02,\n",
       "        -1.00034133e-01,  1.01061253e-01, -7.69344055e-02,\n",
       "         4.67130817e-02, -2.36850556e-02,  1.03743709e-02,\n",
       "        -4.02455923e-03,  1.40871014e-03, -4.51273457e-04,\n",
       "         1.33779185e-04, -3.70255349e-05,  9.63412221e-06,\n",
       "        -2.36267433e-06,  5.13467124e-07,  5.15984944e-08,\n",
       "        -6.93064535e-07,  2.87769067e-06, -1.13515905e-05,\n",
       "         4.41436975e-05, -1.70249914e-04,  6.53783576e-04,\n",
       "        -2.50822472e-03],\n",
       "       [-3.16455416e-03,  1.32015148e-02, -3.36075853e-02,\n",
       "         5.95011276e-02, -7.69344055e-02,  7.49291650e-02,\n",
       "        -5.68747820e-02,  3.50646799e-02, -1.82140455e-02,\n",
       "         8.20618966e-03, -3.27942724e-03,  1.18273106e-03,\n",
       "        -3.90193739e-04,  1.19027924e-04, -3.38654301e-05,\n",
       "         9.04939986e-06, -2.27753042e-06,  5.10858678e-07,\n",
       "         3.73716827e-08, -6.64538298e-07,  2.87841465e-06,\n",
       "        -1.18350095e-05,  4.80205669e-05, -1.93323543e-04,\n",
       "         7.74834893e-04],\n",
       "       [ 9.29104916e-04, -4.51748099e-03,  1.36520227e-02,\n",
       "        -2.92703055e-02,  4.67130817e-02, -5.68747820e-02,\n",
       "         5.39070110e-02, -4.08010213e-02,  2.54539407e-02,\n",
       "        -1.34869219e-02,  6.22372821e-03, -2.55226701e-03,\n",
       "         9.45165488e-04, -3.20159897e-04,  1.00231129e-04,\n",
       "        -2.92475073e-05,  8.00933833e-06, -2.06414774e-06,\n",
       "         4.73795105e-07,  3.60784348e-08, -6.53381232e-07,\n",
       "         2.92573675e-06, -1.24610151e-05,  5.24262804e-05,\n",
       "        -2.18947214e-04],\n",
       "       [-2.52547799e-04,  1.40231958e-03, -4.90997291e-03,\n",
       "         1.23943623e-02, -2.36850556e-02,  3.50646799e-02,\n",
       "        -4.08010213e-02,  3.78598972e-02, -2.85789697e-02,\n",
       "         1.79984661e-02, -9.69665648e-03,  4.56804023e-03,\n",
       "        -1.91635343e-03,  7.26648794e-04, -2.52085826e-04,\n",
       "         8.08107472e-05, -2.41355158e-05,  6.76110773e-06,\n",
       "        -1.78090722e-06,  4.15499665e-07,  4.34562998e-08,\n",
       "        -6.54460709e-07,  3.00907895e-06, -1.32144193e-05,\n",
       "         5.73811215e-05],\n",
       "       [ 6.42135151e-05, -4.00897399e-04,  1.59660920e-03,\n",
       "        -4.64452444e-03,  1.03743709e-02, -1.82140455e-02,\n",
       "         2.54539407e-02, -2.85789697e-02,  2.60672379e-02,\n",
       "        -1.96291199e-02,  1.24582341e-02, -6.80782533e-03,\n",
       "         3.26549520e-03, -1.39785852e-03,  5.41446623e-04,\n",
       "        -1.91959853e-04,  6.28884095e-05, -1.91908974e-05,\n",
       "         5.49052229e-06, -1.47562915e-06,  3.47610805e-07,\n",
       "         5.60333780e-08, -6.64590437e-07,  3.12243378e-06,\n",
       "        -1.40885477e-05],\n",
       "       [-1.53933463e-05,  1.06732802e-04, -4.76588304e-04,\n",
       "         1.57114506e-03, -4.02455924e-03,  8.20618966e-03,\n",
       "        -1.34869219e-02,  1.79984661e-02, -1.96291199e-02,\n",
       "         1.76501251e-02, -1.32613053e-02,  8.47149768e-03,\n",
       "        -4.68646557e-03,  2.28401339e-03, -9.95560917e-04,\n",
       "         3.93132268e-04, -1.42174956e-04,  4.75213049e-05,\n",
       "        -1.47937927e-05,  4.31654654e-06, -1.18180639e-06,\n",
       "         2.78915176e-07,  7.11797939e-08, -6.81731037e-07,\n",
       "         3.26245908e-06],\n",
       "       [ 3.50074832e-06, -2.66904085e-05,  1.32088700e-04,\n",
       "        -4.86936863e-04,  1.40871014e-03, -3.27942724e-03,\n",
       "         6.22372821e-03, -9.69665648e-03,  1.24582341e-02,\n",
       "        -1.32613053e-02,  1.17806732e-02, -8.83337803e-03,\n",
       "         5.67413581e-03, -3.17287973e-03,  1.56842244e-03,\n",
       "        -6.94896472e-04,  2.79273997e-04, -1.02861020e-04,\n",
       "         3.50249924e-05, -1.11081747e-05,  3.30128862e-06,\n",
       "        -9.19295329e-07,  2.15119749e-07,  8.72222303e-08,\n",
       "        -7.05191252e-07],\n",
       "       [-7.59088472e-07,  6.31159641e-06, -3.42931453e-05,\n",
       "         1.39840458e-04, -4.51273474e-04,  1.18273106e-03,\n",
       "        -2.55226701e-03,  4.56804023e-03, -6.80782533e-03,\n",
       "         8.47149768e-03, -8.83337803e-03,  7.76550406e-03,\n",
       "        -5.81193393e-03,  3.75114938e-03, -2.11761321e-03,\n",
       "         1.06018593e-03, -4.76733235e-04,  1.94710021e-04,\n",
       "        -7.29355111e-05,  2.52674329e-05, -8.15400883e-06,\n",
       "         2.46540543e-06, -6.96991279e-07,  1.58747448e-07,\n",
       "         1.05444056e-07],\n",
       "       [ 1.57590351e-07, -1.41913394e-06,  8.39896947e-06,\n",
       "        -3.75462754e-05,  1.33779275e-04, -3.90193753e-04,\n",
       "         9.45165490e-04, -1.91635343e-03,  3.26549520e-03,\n",
       "        -4.68646557e-03,  5.67413581e-03, -5.81193393e-03,\n",
       "         5.06282012e-03, -3.78272628e-03,  2.45164337e-03,\n",
       "        -1.39579687e-03,  7.06890440e-04, -3.22198155e-04,\n",
       "         1.33562503e-04, -5.08198391e-05,  1.78914818e-05,\n",
       "        -5.86840344e-06,  1.80271795e-06, -5.14387142e-07,\n",
       "         1.03154404e-07],\n",
       "       [-3.14329974e-08,  3.04765290e-07, -1.95167418e-06,\n",
       "         9.49257610e-06, -3.70259818e-05,  1.19027998e-04,\n",
       "        -3.20159909e-04,  7.26648796e-04, -1.39785852e-03,\n",
       "         2.28401339e-03, -3.17287973e-03,  3.75114938e-03,\n",
       "        -3.78272628e-03,  3.26862527e-03, -2.43836102e-03,\n",
       "         1.58615703e-03, -9.09957631e-04,  4.65685464e-04,\n",
       "        -2.14910551e-04,  9.03197324e-05, -3.48704012e-05,\n",
       "         1.24622301e-05, -4.14879464e-06,  1.28695566e-06,\n",
       "        -3.45775720e-07],\n",
       "       [ 6.04156745e-09, -6.27490228e-08,  4.32322687e-07,\n",
       "        -2.27315681e-06,  9.63623644e-06, -3.38658019e-05,\n",
       "         1.00231192e-04, -2.52085836e-04,  5.41446625e-04,\n",
       "        -9.95560917e-04,  1.56842244e-03, -2.11761321e-03,\n",
       "         2.45164337e-03, -2.43836102e-03,  2.09181554e-03,\n",
       "        -1.55821993e-03,  1.01694445e-03, -5.87445129e-04,\n",
       "         3.03522526e-04, -1.41686446e-04,  6.03095343e-05,\n",
       "        -2.36014412e-05,  8.54911642e-06, -2.86705284e-06,\n",
       "         8.32887111e-07],\n",
       "       [-1.12184240e-09,  1.24263335e-08, -9.16549478e-08,\n",
       "         5.18106461e-07, -2.37224502e-06,  9.05119383e-06,\n",
       "        -2.92478291e-05,  8.08108027e-05, -1.91959862e-04,\n",
       "         3.93132270e-04, -6.94896472e-04,  1.06018593e-03,\n",
       "        -1.39579687e-03,  1.58615703e-03, -1.55821993e-03,\n",
       "         1.32810652e-03, -9.87999636e-04,  6.46694276e-04,\n",
       "        -3.75919712e-04,  1.95944142e-04, -9.24412187e-05,\n",
       "         3.98130964e-05, -1.57635726e-05,  5.73269669e-06,\n",
       "        -1.77952004e-06],\n",
       "       [ 2.01697124e-10, -2.37341507e-09,  1.86604155e-08,\n",
       "        -1.12859216e-07,  5.55150243e-07, -2.28585718e-06,\n",
       "         8.01091952e-06, -2.41358029e-05,  6.28884596e-05,\n",
       "        -1.42174964e-04,  2.79273998e-04, -4.76733235e-04,\n",
       "         7.06890440e-04, -9.09957631e-04,  1.01694445e-03,\n",
       "        -9.87999636e-04,  8.37151556e-04, -6.21995484e-04,\n",
       "         4.08205770e-04, -2.38653223e-04,  1.25403321e-04,\n",
       "        -5.97333995e-05,  2.59702327e-05, -1.02775303e-05,\n",
       "         3.41053336e-06],\n",
       "       [-3.51805884e-11,  4.38270159e-10, -3.65906043e-09,\n",
       "         2.35779302e-08, -1.24016334e-07,  5.48213908e-07,\n",
       "        -2.07165105e-06,  6.76254158e-06, -1.91911595e-05,\n",
       "         4.75213509e-05, -1.02861028e-04,  1.94710023e-04,\n",
       "        -3.22198155e-04,  4.65685464e-04, -5.87445129e-04,\n",
       "         6.46694276e-04, -6.21995484e-04,  5.24206982e-04,\n",
       "        -3.89027555e-04,  2.55923607e-04, -1.50403207e-04,\n",
       "         7.95910037e-05, -3.81592248e-05,  1.64842511e-05,\n",
       "        -5.85271327e-06],\n",
       "       [ 5.96340992e-12, -7.84082935e-11,  6.92788184e-10,\n",
       "        -4.73846235e-09,  2.65412463e-08, -1.25384923e-07,\n",
       "         5.08337489e-07, -1.78784784e-06,  5.49185138e-06,\n",
       "        -1.47940365e-05,  3.50250354e-05, -7.29355185e-05,\n",
       "         1.33562504e-04, -2.14910551e-04,  3.03522526e-04,\n",
       "        -3.75919712e-04,  4.08205770e-04, -3.89027555e-04,\n",
       "         3.26252520e-04, -2.41846994e-04,  1.59419366e-04,\n",
       "        -9.40628290e-05,  4.99064864e-05, -2.35863334e-05,\n",
       "         8.96035141e-06],\n",
       "       [-9.83890509e-13,  1.36157717e-11, -1.26934036e-10,\n",
       "         9.18490113e-10, -5.45862769e-09,  2.74481390e-08,\n",
       "        -1.18858854e-07,  4.48193524e-07, -1.48217985e-06,\n",
       "         4.31780004e-06, -1.11084049e-05,  2.52674736e-05,\n",
       "        -5.08198460e-05,  9.03197335e-05, -1.41686446e-04,\n",
       "         1.95944142e-04, -2.38653223e-04,  2.55923607e-04,\n",
       "        -2.41846994e-04,  2.01877138e-04, -1.49425073e-04,\n",
       "         9.85169689e-05, -5.79678075e-05,  2.99962809e-05,\n",
       "        -1.21784193e-05],\n",
       "       [ 1.58221413e-13, -2.29880575e-12,  2.25503955e-11,\n",
       "        -1.72115126e-10,  1.08177950e-09, -5.76927016e-09,\n",
       "         2.65793282e-08, -1.06992767e-07,  3.79112472e-07,\n",
       "        -1.18808786e-06,  3.30248740e-06, -8.15422868e-06,\n",
       "         1.78915206e-05, -3.48704078e-05,  6.03095354e-05,\n",
       "        -9.24412189e-05,  1.25403321e-04, -1.50403207e-04,\n",
       "         1.59419366e-04, -1.49425073e-04,  1.24055489e-04,\n",
       "        -9.13904913e-05,  5.96298791e-05, -3.37345814e-05,\n",
       "         1.45946874e-05],\n",
       "       [-2.48409621e-14,  3.77928490e-13, -3.89124717e-12,\n",
       "         3.12433133e-11, -2.07070407e-10,  1.16752061e-09,\n",
       "        -5.70257504e-09,  2.44111839e-08, -9.22886667e-08,\n",
       "         3.09696417e-07, -9.25395660e-07,  2.46656497e-06,\n",
       "        -5.86861559e-06,  1.24622675e-05, -2.36014476e-05,\n",
       "         3.98130974e-05, -5.97333997e-05,  7.95910038e-05,\n",
       "        -9.40628290e-05,  9.85169689e-05, -9.13904913e-05,\n",
       "         7.49857713e-05, -5.40575953e-05,  3.32747064e-05,\n",
       "        -1.52613628e-05],\n",
       "       [ 3.80574268e-15, -6.05679733e-14,  6.53201406e-13,\n",
       "        -5.50388019e-12,  3.83640293e-11, -2.28025858e-10,\n",
       "         1.17708248e-09, -5.33993445e-09,  2.14586037e-08,\n",
       "        -7.67887917e-08,  2.45535738e-07, -7.02977253e-07,\n",
       "         1.80385010e-06, -4.14900107e-06,  8.54915280e-06,\n",
       "        -1.57635788e-05,  2.59702338e-05, -3.81592250e-05,\n",
       "         4.99064865e-05, -5.79678075e-05,  5.96298791e-05,\n",
       "        -5.40575953e-05,  4.26818406e-05, -2.83216601e-05,\n",
       "         1.36623245e-05],\n",
       "       [-5.77579452e-16,  9.47677086e-15, -1.06759234e-13,\n",
       "         9.41846635e-13, -6.88713901e-12,  4.30346025e-11,\n",
       "        -2.34070277e-10,  1.12161449e-09, -4.77333069e-09,\n",
       "         1.81409709e-08, -6.17930539e-08,  1.89076613e-07,\n",
       "        -5.20311098e-07,  1.28806973e-06, -2.86725514e-06,\n",
       "         5.73273225e-06, -1.02775364e-05,  1.64842521e-05,\n",
       "        -2.35863335e-05,  2.99962810e-05, -3.37345814e-05,\n",
       "         3.32747064e-05, -2.83216601e-05,  1.99608753e-05,\n",
       "        -1.00165823e-05],\n",
       "       [ 6.86125094e-17, -1.40122570e-15,  1.66178198e-14,\n",
       "        -1.52968802e-13,  1.16831426e-12, -7.63735670e-12,\n",
       "         4.35341294e-11, -2.19018262e-10,  9.80498503e-10,\n",
       "        -3.92779623e-09,  1.41318674e-08, -4.57723831e-08,\n",
       "         1.33623003e-07, -3.51679920e-07,  8.33990634e-07,\n",
       "        -1.77971948e-06,  3.41056828e-06, -5.85271920e-06,\n",
       "         8.96035239e-06, -1.21784194e-05,  1.45946875e-05,\n",
       "        -1.52613628e-05,  1.36623245e-05, -1.00165823e-05,\n",
       "         5.15497244e-06]])"
      ]
     },
     "execution_count": 44,
     "metadata": {},
     "output_type": "execute_result"
    }
   ],
   "source": [
    "ansatz_4(np.array([0.7, 1]), a, at, **{'epsilon' : 0.2})"
   ]
  },
  {
   "cell_type": "markdown",
   "metadata": {},
   "source": [
    "$ \\mathcal{L} \\hat \\rho = - i\\mkern1mu \\left[\\hat H, \\hat \\rho \\right] + \\gamma (\\bar n + 1) \\left( \\hat a \\hat \\rho \\hat a^\\dag - \\frac{1}{2} \\left\\{ \\hat a^\\dag \\hat a, \\hat \\rho \\right\\} \\right) + \\gamma \\bar n \\left( \\hat a^\\dag \\hat \\rho \\hat a - \\frac{1}{2} \\left\\{ \\hat a \\hat a^\\dag, \\hat \\rho \\right\\} \\right)$\n"
   ]
  },
  {
   "cell_type": "code",
   "execution_count": 45,
   "metadata": {},
   "outputs": [],
   "source": [
    "def lindblad(M, a, at, beta, **args) :\n",
    "    '''\n",
    "    Computes the lindbladian of a density matrix M\n",
    "\n",
    "    Parameters\n",
    "    ----------\n",
    "    M : array \n",
    "        density matrix\n",
    "    a : array\n",
    "        annihilation operator\n",
    "    at : array\n",
    "        creation operator\n",
    "    beta : float\n",
    "        inversee temperature\n",
    "    **args : dic\n",
    "        (optional) extra parameters used in the Hamiltonian (like\n",
    "        frequencies, ratio parameters, ...)\n",
    "\n",
    "    Return\n",
    "    ------\n",
    "    L : float\n",
    "        the lindbladian\n",
    "    '''\n",
    "    L0 = - 1j * (H(a, at, **args) @ M - (H(a, at, **args).T @ M.T).T)\n",
    "    L1 = (n_avg(beta) + 1) * (a @ (a @ M.T).T - 0.5 * (at @ a @ M + (at @ a @ M.T).T))\n",
    "    L2 = n_avg(beta) * (at @ (at @ M.T).T - 0.5 * (a @ at @ M + (a @ at @ M.T).T))\n",
    "    return L0 + L1 + L2"
   ]
  },
  {
   "cell_type": "code",
   "execution_count": 46,
   "metadata": {},
   "outputs": [
    {
     "data": {
      "text/plain": [
       "array([[ 1.36924005e-01+3.81639165e-17j, -6.91579178e-02-5.79601808e-02j,\n",
       "         2.05651656e-02+6.45038479e-02j, -1.20283140e-03-4.39599457e-02j,\n",
       "        -2.72985065e-03+2.30625211e-02j,  2.08799120e-03-1.01454819e-02j,\n",
       "        -1.03295682e-03+3.91128197e-03j,  4.14952451e-04-1.35723919e-03j,\n",
       "        -1.45401128e-04+4.31535754e-04j,  4.58875919e-05-1.27196010e-04j,\n",
       "        -1.27540375e-05+3.44215766e-05j,  4.69418173e-07-5.64611354e-06j,\n",
       "         1.30110573e-05-1.20676862e-05j, -5.51808609e-05+5.22011166e-05j,\n",
       "         1.99898595e-04-1.76651263e-04j, -6.57467449e-04+5.42108559e-04j,\n",
       "         1.97621703e-03-1.52742483e-03j, -5.44937465e-03+3.97333803e-03j,\n",
       "         1.38479829e-02-9.60682208e-03j, -3.26304975e-02+2.17853807e-02j,\n",
       "         7.19074567e-02-4.69027725e-02j, -1.49951336e-01+9.73792244e-02j,\n",
       "         3.00516083e-01-1.98599111e-01j, -5.89700187e-01+4.05550706e-01j,\n",
       "         1.20544348e+00-8.43074865e-01j],\n",
       "       [-3.63912031e-01+5.79601808e-02j,  1.07204929e-01-6.93889390e-17j,\n",
       "        -6.14045294e-02-7.50964364e-02j,  1.61448672e-02+9.08265172e-02j,\n",
       "         3.20978209e-03-6.69377021e-02j, -6.23256096e-03+3.76654987e-02j,\n",
       "         4.19997735e-03-1.76379971e-02j, -2.06892807e-03+7.19203603e-03j,\n",
       "         8.49887596e-04-2.62555040e-03j, -3.06989971e-04+8.74344716e-04j,\n",
       "         1.00285776e-04-2.69144798e-04j, -2.99531084e-05+7.70856941e-05j,\n",
       "         7.26282259e-06-1.94696895e-05j,  3.17734418e-06-7.83613220e-07j,\n",
       "        -2.15408756e-05+2.21578551e-05j,  8.26964187e-05-8.23119427e-05j,\n",
       "        -2.86305261e-04+2.69783517e-04j,  9.17186385e-04-8.22251109e-04j,\n",
       "        -2.73631889e-03+2.35228161e-03j,  7.64902702e-03-6.36551482e-03j,\n",
       "        -2.01797410e-02+1.64404019e-02j,  5.06815054e-02-4.09418780e-02j,\n",
       "        -1.22399880e-01+9.94137763e-02j,  2.87447015e-01-2.38053034e-01j,\n",
       "        -7.66210277e-01+5.68089846e-01j],\n",
       "       [ 3.13660673e-01-6.45038479e-02j, -6.14045294e-02+7.50964364e-02j,\n",
       "         7.59763913e-02+5.55111512e-17j, -4.05588769e-02-8.10552290e-02j,\n",
       "         5.16472350e-03+1.02739348e-01j,  9.45728294e-03-7.99130866e-02j,\n",
       "        -9.97516014e-03+4.74209115e-02j,  6.28758772e-03-2.33491045e-02j,\n",
       "        -3.09860841e-03+9.97665612e-03j,  1.29812099e-03-3.80387341e-03j,\n",
       "        -4.81435889e-04+1.31899157e-03j,  1.61890103e-04-4.21668560e-04j,\n",
       "        -5.00478257e-05+1.25430964e-04j,  1.38700117e-05-3.43136637e-05j,\n",
       "        -1.12355053e-06+5.78380122e-06j, -1.07271952e-05+1.14632503e-05j,\n",
       "         4.51667239e-05-5.00038200e-05j, -1.63498676e-04+1.73494003e-04j,\n",
       "         5.51080970e-04-5.61826061e-04j, -1.74679453e-03+1.72440254e-03j,\n",
       "         5.24044337e-03-5.05486942e-03j, -1.49820851e-02+1.42621453e-02j,\n",
       "         4.11288008e-02-3.90512372e-02j, -1.09304029e-01+1.04640969e-01j,\n",
       "         3.65506745e-01-2.76631633e-01j],\n",
       "       [-1.83947519e-01+4.39599457e-02j,  1.61448672e-02-9.08265172e-02j,\n",
       "        -4.05588769e-02+8.10552290e-02j,  4.40502938e-02+5.55111512e-17j,\n",
       "        -1.77861482e-02-8.01072035e-02j, -6.97633265e-03+1.04652859e-01j,\n",
       "         1.56366090e-02-8.47054460e-02j, -1.32773057e-02+5.24217743e-02j,\n",
       "         8.05512872e-03-2.69036860e-02j, -3.98216831e-03+1.19622523e-02j,\n",
       "         1.69785160e-03-4.73665333e-03j, -6.44540883e-04+1.70221212e-03j,\n",
       "         2.22363241e-04-5.62893723e-04j, -7.06641482e-05+1.72995572e-04j,\n",
       "         2.05994477e-05-4.93792781e-05j, -4.14394683e-06+1.12673029e-05j,\n",
       "        -5.69105100e-06+5.84494982e-06j,  2.83600248e-05-3.45844462e-05j,\n",
       "        -1.07065408e-04+1.26624158e-04j,  3.76415576e-04-4.30730997e-04j,\n",
       "        -1.25291846e-03+1.39728290e-03j,  3.97409234e-03-4.35575872e-03j,\n",
       "        -1.20873501e-02+1.31359882e-02j,  3.54860135e-02-3.85857238e-02j,\n",
       "        -1.47462502e-01+1.11136542e-01j],\n",
       "       [ 8.60823342e-02-2.30625211e-02j,  3.20978209e-03+6.69377021e-02j,\n",
       "         5.16472350e-03-1.02739348e-01j, -1.77861482e-02+8.01072035e-02j,\n",
       "         1.62051975e-02-5.55111512e-17j,  2.12204408e-03-7.49112941e-02j,\n",
       "        -1.75068985e-02+9.99602164e-02j,  2.06352473e-02-8.34344257e-02j,\n",
       "        -1.57344368e-02+5.34341252e-02j,  9.33119789e-03-2.83991820e-02j,\n",
       "        -4.63490358e-03+1.30693910e-02j,  2.00784842e-03-5.35025681e-03j,\n",
       "        -7.78288865e-04+1.98512707e-03j,  2.74764081e-04-6.76801327e-04j,\n",
       "        -8.94619630e-05+2.14205317e-04j,  2.69316433e-05-6.31461878e-05j,\n",
       "        -6.62185218e-06+1.60753834e-05j, -2.80173268e-06+2.22905203e-06j,\n",
       "         1.93807153e-05-2.58558385e-05j, -7.63474874e-05+9.98854316e-05j,\n",
       "         2.78286851e-04-3.54147025e-04j, -9.64830069e-04+1.20218849e-03j,\n",
       "         3.20348746e-03-3.93856949e-03j, -1.02443323e-02+1.25270702e-02j,\n",
       "         5.28561198e-02-3.89046024e-02j],\n",
       "       [-3.44093276e-02+1.01454820e-02j, -6.23256096e-03-3.76654987e-02j,\n",
       "         9.45728294e-03+7.99130866e-02j, -6.97633265e-03-1.04652859e-01j,\n",
       "         2.12204408e-03+7.49112941e-02j, -5.56425425e-03+5.55111512e-17j,\n",
       "         1.73430631e-02-6.73621239e-02j, -2.52637018e-02+9.13124915e-02j,\n",
       "         2.39807416e-02-7.81152948e-02j, -1.71982664e-02+5.14774321e-02j,\n",
       "         1.00610049e-02-2.81927148e-02j, -5.02575912e-03+1.33715474e-02j,\n",
       "         2.20906039e-03-5.63857723e-03j, -8.72571922e-04+2.15318389e-03j,\n",
       "         3.14557354e-04-7.54775903e-04j, -1.04693050e-04+2.45380939e-04j,\n",
       "         3.23295657e-05-7.43648772e-05j, -8.67116554e-06+2.00872292e-05j,\n",
       "        -9.23085129e-07-3.35106893e-07j,  1.40084552e-05-2.03684156e-05j,\n",
       "        -5.77288441e-05+8.30892454e-05j,  2.17193578e-04-3.05330927e-04j,\n",
       "        -7.79719593e-04+1.07696443e-03j,  2.69085008e-03-3.67803926e-03j,\n",
       "        -1.72860866e-02+1.22269547e-02j],\n",
       "       [ 1.21935539e-02-3.91128262e-03j,  4.19997737e-03+1.76379972e-02j,\n",
       "        -9.97516014e-03-4.74209115e-02j,  1.56366090e-02+8.47054460e-02j,\n",
       "        -1.75068985e-02-9.99602164e-02j,  1.73430631e-02+6.73621239e-02j,\n",
       "        -2.09695143e-02-1.66533454e-16j,  2.76270907e-02-5.87986291e-02j,\n",
       "        -3.00452979e-02+8.06822782e-02j,  2.56361461e-02-7.04310566e-02j,\n",
       "        -1.77053563e-02+4.75541530e-02j,  1.02749333e-02-2.67330225e-02j,\n",
       "        -5.16438022e-03+1.30223322e-02j,  2.30059103e-03-5.63933752e-03j,\n",
       "        -9.24457216e-04+2.21045045e-03j,  3.39690661e-04-7.94806206e-04j,\n",
       "        -1.15355339e-04+2.64856305e-04j,  3.64155650e-05-8.22844787e-05j,\n",
       "        -1.02702756e-05+2.31345597e-05j,  3.77462448e-07-2.19816518e-06j,\n",
       "         1.05325720e-05-1.66800910e-05j, -4.55587804e-05+7.18471272e-05j,\n",
       "         1.76329099e-04-2.72460485e-04j, -6.52532957e-04+9.93338012e-04j,\n",
       "         5.24371918e-03-3.51545622e-03j],\n",
       "       [-3.92078427e-03+1.35724378e-03j, -2.06892821e-03-7.19203631e-03j,\n",
       "         6.28758773e-03+2.33491045e-02j, -1.32773057e-02-5.24217743e-02j,\n",
       "         2.06352473e-02+8.34344257e-02j, -2.52637018e-02-9.13124915e-02j,\n",
       "         2.76270907e-02+5.87986291e-02j, -3.06518923e-02+5.55111512e-17j,\n",
       "         3.35161949e-02-5.01243950e-02j, -3.21678505e-02+6.94542885e-02j,\n",
       "         2.58154107e-02-6.16666844e-02j, -1.74014550e-02+4.25177452e-02j,\n",
       "         1.00543899e-02-2.44573764e-02j, -5.08607814e-03+1.22014807e-02j,\n",
       "         2.29398728e-03-5.41250243e-03j, -9.36428048e-04+2.17273129e-03j,\n",
       "         3.50188402e-04-7.99741567e-04j, -1.21147667e-04+2.72662914e-04j,\n",
       "         3.90094029e-05-8.66583079e-05j, -1.13898318e-05+2.51262715e-05j,\n",
       "         1.28975116e-06-3.51315197e-06j,  8.15508686e-06-1.40980258e-05j,\n",
       "        -3.71400283e-05+6.39914751e-05j,  1.47478674e-04-2.49555741e-04j,\n",
       "        -1.49185559e-03+9.36636108e-04j],\n",
       "       [ 1.16217045e-03-4.31564494e-04j,  8.49888690e-04+2.62555234e-03j,\n",
       "        -3.09860848e-03-9.97665628e-03j,  8.05512873e-03+2.69036861e-02j,\n",
       "        -1.57344368e-02-5.34341252e-02j,  2.39807416e-02+7.81152948e-02j,\n",
       "        -3.00452979e-02-8.06822782e-02j,  3.35161949e-02+5.01243950e-02j,\n",
       "        -3.56640458e-02+0.00000000e+00j,  3.58793835e-02-4.19081260e-02j,\n",
       "        -3.21734720e-02+5.85366091e-02j,  2.48449447e-02-5.27307138e-02j,\n",
       "        -1.64800425e-02+3.70278275e-02j,  9.50323465e-03-2.17388659e-02j,\n",
       "        -4.83864883e-03+1.10808019e-02j,  2.20773423e-03-5.02417035e-03j,\n",
       "        -9.14401465e-04+2.06147724e-03j,  3.47550578e-04-7.75387469e-04j,\n",
       "        -1.22322610e-04+2.70037499e-04j,  4.01098702e-05-8.76506317e-05j,\n",
       "        -1.20295242e-05+2.60710749e-05j,  1.91445650e-06-4.36770152e-06j,\n",
       "         6.44735631e-06-1.22521475e-05j, -3.09799717e-05+5.83435593e-05j,\n",
       "         4.01024845e-04-2.33298615e-04j],\n",
       "       [-3.21037079e-04+1.27355548e-04j, -3.06997466e-04-8.74356631e-04j,\n",
       "         1.29812156e-03+3.80387450e-03j, -3.98216835e-03-1.19622524e-02j,\n",
       "         9.33119789e-03+2.83991820e-02j, -1.71982664e-02-5.14774321e-02j,\n",
       "         2.56361461e-02+7.04310566e-02j, -3.21678505e-02-6.94542885e-02j,\n",
       "         3.58793835e-02+4.19081260e-02j, -3.71502076e-02+5.55111512e-17j,\n",
       "         3.56438739e-02-3.44709719e-02j, -3.06523776e-02+4.84727206e-02j,\n",
       "         2.30723756e-02-4.42152076e-02j, -1.51396968e-02+3.15536808e-02j,\n",
       "         8.72734808e-03-1.88671419e-02j, -4.47250892e-03+9.80620760e-03j,\n",
       "         2.06282300e-03-4.53624279e-03j, -8.65965056e-04+1.89923682e-03j,\n",
       "         3.34143068e-04-7.28858190e-04j, -1.19505789e-04+2.58916994e-04j,\n",
       "         3.98555957e-05-8.57075666e-05j, -1.22402586e-05+2.60624139e-05j,\n",
       "         2.39361855e-06-4.82979732e-06j,  4.83711397e-06-1.09316190e-05j,\n",
       "        -1.01542949e-04+5.42405766e-05j],\n",
       "       [ 8.25431574e-05-3.52140722e-05j,  1.00331236e-04+2.69210462e-04j,\n",
       "        -4.81439731e-04-1.31899815e-03j,  1.69785194e-03+4.73665403e-03j,\n",
       "        -4.63490361e-03-1.30693911e-02j,  1.00610049e-02+2.81927148e-02j,\n",
       "        -1.77053563e-02-4.75541530e-02j,  2.58154107e-02+6.16666844e-02j,\n",
       "        -3.21734720e-02-5.85366091e-02j,  3.56438739e-02+3.44709719e-02j,\n",
       "        -3.61684318e-02-5.55111512e-17j,  3.36529089e-02-2.79594455e-02j,\n",
       "        -2.81452878e-02+3.95416536e-02j,  2.08138565e-02-3.64662308e-02j,\n",
       "        -1.35586028e-02+2.64008109e-02j,  7.82201487e-03-1.60489455e-02j,\n",
       "        -4.03427055e-03+8.49098233e-03j,  1.87963885e-03-4.00089827e-03j,\n",
       "        -7.99025728e-04+1.70672269e-03j,  3.12685490e-04-6.67353160e-04j,\n",
       "        -1.13542008e-04+2.41510723e-04j,  3.85554344e-05-8.14284779e-05j,\n",
       "        -1.24401084e-05+2.52455852e-05j,  4.17916112e-06-4.93884393e-06j,\n",
       "         2.07777132e-05-1.01164390e-05j],\n",
       "       [-1.64646140e-05+9.19080361e-06j, -3.02001450e-05-7.74129368e-05j,\n",
       "         1.61913206e-04+4.21704623e-04j, -6.44543168e-04-1.70221633e-03j,\n",
       "         2.00784865e-03+5.35025731e-03j, -5.02575914e-03-1.33715474e-02j,\n",
       "         1.02749333e-02+2.67330225e-02j, -1.74014550e-02-4.25177452e-02j,\n",
       "         2.48449447e-02+5.27307138e-02j, -3.06523776e-02-4.84727206e-02j,\n",
       "         3.36529089e-02+2.79594455e-02j, -3.36076556e-02+5.55111512e-17j,\n",
       "         3.06033321e-02-2.24033685e-02j, -2.50989271e-02+3.18407659e-02j,\n",
       "         1.83291485e-02-2.96504507e-02j, -1.18822646e-02+2.17453988e-02j,\n",
       "         6.86558953e-03-1.34187459e-02j, -3.56323254e-03+7.21602425e-03j,\n",
       "         1.67608054e-03-3.45853982e-03j, -7.20922183e-04+1.50124314e-03j,\n",
       "         2.85952464e-04-5.97369165e-04j, -1.05686107e-04+2.19981230e-04j,\n",
       "         3.78958439e-05-7.54384818e-05j, -1.79075538e-05+2.36959958e-05j,\n",
       "         9.28002227e-06-4.32341774e-06j],\n",
       "       [-1.06001788e-05-2.27767795e-06j,  8.47573004e-06+2.09536757e-05j,\n",
       "        -5.01732617e-05-1.25611371e-04j,  2.22376895e-04+5.62916725e-04j,\n",
       "        -7.78290358e-04-1.98513003e-03j,  2.20906055e-03+5.63857760e-03j,\n",
       "        -5.16438023e-03-1.30223322e-02j,  1.00543899e-02+2.44573764e-02j,\n",
       "        -1.64800425e-02-3.70278275e-02j,  2.30723756e-02+4.42152076e-02j,\n",
       "        -2.81452878e-02-3.95416536e-02j,  3.06033321e-02+2.24033685e-02j,\n",
       "        -3.01636461e-02+0.00000000e+00j,  2.70307471e-02-1.77598097e-02j,\n",
       "        -2.18541840e-02+2.53502315e-02j,  1.58147831e-02-2.38115404e-02j,\n",
       "        -1.02202361e-02+1.76683005e-02j,  5.91762521e-03-1.10532571e-02j,\n",
       "        -3.09006449e-03+6.03382556e-03j,  1.46674300e-03-2.93796758e-03j,\n",
       "        -6.38246333e-04+1.29613718e-03j,  2.57771748e-04-5.24266690e-04j,\n",
       "        -1.01862547e-04+1.96165601e-04j,  5.54037379e-05-6.79898781e-05j,\n",
       "        -4.66258774e-05+2.01455199e-05j],\n",
       "       [ 5.10162414e-05+5.38547035e-07j, -2.23789298e-06-5.37220563e-06j,\n",
       "         1.44901658e-05+3.51420873e-05j, -7.07383084e-05-1.73111132e-04j,\n",
       "         2.74772965e-04+6.76817461e-04j, -8.72572964e-04-2.15318611e-03j,\n",
       "         2.30059115e-03+5.63933782e-03j, -5.08607815e-03-1.22014808e-02j,\n",
       "         9.50323465e-03+2.17388659e-02j, -1.51396968e-02-3.15536808e-02j,\n",
       "         2.08138565e-02+3.64662308e-02j, -2.50989271e-02-3.18407659e-02j,\n",
       "         2.70307471e-02+1.77598097e-02j, -2.63482912e-02-2.77555756e-17j,\n",
       "         2.33206226e-02-1.39449362e-02j, -1.86525167e-02+1.99808418e-02j,\n",
       "         1.34077737e-02-1.89146163e-02j, -8.64833988e-03+1.41845984e-02j,\n",
       "         5.01989752e-03-8.98617851e-03j, -2.63725472e-03+4.97398704e-03j,\n",
       "         1.26394459e-03-2.45777188e-03j, -5.60840502e-04+1.10081050e-03j,\n",
       "         2.46471689e-04-4.51873702e-04j, -1.54004374e-04+1.70477974e-04j,\n",
       "         1.35901631e-04-5.52979454e-05j],\n",
       "       [-1.57880983e-04-1.21979036e-07j,  5.59734859e-07+1.31132835e-06j,\n",
       "        -3.93385995e-06-9.29449410e-06j,  2.09686359e-05+4.99160790e-05j,\n",
       "        -8.95102740e-05-2.14286743e-04j,  3.14563535e-04+7.54787998e-04j,\n",
       "        -9.24457979e-04-2.21045219e-03j,  2.29398737e-03+5.41250267e-03j,\n",
       "        -4.83864884e-03-1.10808019e-02j,  8.72734808e-03+1.88671419e-02j,\n",
       "        -1.35586028e-02-2.64008109e-02j,  1.83291485e-02+2.96504507e-02j,\n",
       "        -2.18541840e-02-2.53502315e-02j,  2.33206226e-02+1.39449362e-02j,\n",
       "        -2.25151736e-02+2.77555756e-17j,  1.97314120e-02-1.08560616e-02j,\n",
       "        -1.56510588e-02+1.56078074e-02j,  1.11946311e-02-1.48793121e-02j,\n",
       "        -7.21401069e-03+1.12672948e-02j,  4.20007452e-03-7.22126975e-03j,\n",
       "        -2.22413046e-03+4.04886735e-03j,  1.09074280e-03-2.02807441e-03j,\n",
       "        -5.39408391e-04+9.20448490e-04j,  3.88829129e-04-3.79788295e-04j,\n",
       "        -3.46514136e-04+1.32593415e-04j],\n",
       "       [ 4.30907752e-04+2.65548394e-08j, -1.33343620e-07-3.06042793e-07j,\n",
       "         1.01070590e-06+2.33631870e-06j, -5.83983893e-06-1.35854288e-05j,\n",
       "         2.71738066e-05+6.35285055e-05j, -1.04726734e-04-2.45442266e-04j,\n",
       "         3.39695181e-04+7.94815729e-04j, -9.36428628e-04-2.17273271e-03j,\n",
       "         2.20773430e-03+5.02417056e-03j, -4.47250893e-03-9.80620763e-03j,\n",
       "         7.82201487e-03+1.60489455e-02j, -1.18822646e-02-2.17453988e-02j,\n",
       "         1.58147831e-02+2.38115404e-02j, -1.86525167e-02-1.99808418e-02j,\n",
       "         1.97314120e-02+1.08560616e-02j, -1.88907777e-02-2.77555756e-17j,\n",
       "         1.64213053e-02-8.38612694e-03j, -1.29407979e-02+1.20934975e-02j,\n",
       "         9.22326295e-03-1.16031439e-02j, -5.94626253e-03+8.86514179e-03j,\n",
       "         3.48691459e-03-5.74288342e-03j, -1.90281660e-03+3.25817065e-03j,\n",
       "         1.07323730e-03-1.65055048e-03j, -8.92125531e-04+7.49945002e-04j,\n",
       "         7.87421845e-04-2.82529964e-04j],\n",
       "       [-1.05362968e-03-5.57254127e-09j,  3.03901244e-08+6.85364680e-08j,\n",
       "        -2.47077745e-07-5.60619533e-07j,  1.53808328e-06+3.50905210e-06j,\n",
       "        -7.74827580e-06-1.77544545e-05j,  3.24995674e-05+7.46557388e-05j,\n",
       "        -1.15380035e-04-2.64904830e-04j,  3.50191835e-04+7.99749355e-04j,\n",
       "        -9.14401919e-04-2.06147844e-03j,  2.06282306e-03+4.53624297e-03j,\n",
       "        -4.03427055e-03-8.49098235e-03j,  6.86558953e-03+1.34187459e-02j,\n",
       "        -1.02202361e-02-1.76683005e-02j,  1.34077737e-02+1.89146163e-02j,\n",
       "        -1.56510588e-02-1.56078074e-02j,  1.64213053e-02+8.38612694e-03j,\n",
       "        -1.56054811e-02+2.77555756e-17j,  1.34749135e-02-6.43258813e-03j,\n",
       "        -1.05676927e-02+9.30183166e-03j,  7.52510572e-03-8.97706946e-03j,\n",
       "        -4.89405856e-03+6.91502443e-03j,  2.99628702e-03-4.52277670e-03j,\n",
       "        -1.95413018e-03+2.58857992e-03j,  1.85779883e-03-1.30585983e-03j,\n",
       "        -1.58856553e-03+5.33237568e-04j],\n",
       "       [ 2.30600520e-03+1.13005256e-09j, -6.65057803e-09-1.47727271e-08j,\n",
       "         5.77257727e-08+1.28901300e-07j, -3.85134853e-07-8.64100883e-07j,\n",
       "         2.08824233e-06+4.70341285e-06j, -9.47122558e-06-2.13842981e-05j,\n",
       "         3.65410579e-05+8.25168224e-05j, -1.21166486e-04-2.72702796e-04j,\n",
       "         3.47553266e-04+7.75394031e-04j, -8.65965420e-04-1.89923785e-03j,\n",
       "         1.87963889e-03+4.00089842e-03j, -3.56323254e-03-7.21602428e-03j,\n",
       "         5.91762522e-03+1.10532571e-02j, -8.64833988e-03-1.41845984e-02j,\n",
       "         1.11946311e-02+1.48793121e-02j, -1.29407979e-02-1.20934975e-02j,\n",
       "         1.34749135e-02+6.43258813e-03j, -1.27244259e-02-1.38777878e-17j,\n",
       "         1.09367776e-02-4.90231566e-03j, -8.57880559e-03+7.10650138e-03j,\n",
       "         6.20141099e-03-6.89451126e-03j, -4.30438153e-03+5.34765792e-03j,\n",
       "         3.28083574e-03-3.51670358e-03j, -3.50150915e-03+1.99030036e-03j,\n",
       "         2.82169177e-03-8.85753439e-04j],\n",
       "       [-4.50459803e-03-2.21935574e-10j,  1.40184587e-09+3.07290190e-09j,\n",
       "        -1.29372754e-08-2.84896681e-08j,  9.20899965e-08+2.03642430e-07j,\n",
       "        -5.34734417e-07-1.18657705e-06j,  2.60793235e-06+5.80050300e-06j,\n",
       "        -1.08673981e-05-2.41852614e-05j,  3.91056830e-05+8.68509980e-05j,\n",
       "        -1.22337393e-04-2.70071278e-04j,  3.34145223e-04+7.28863856e-04j,\n",
       "        -7.99026025e-04-1.70672360e-03j,  1.67608058e-03+3.45853996e-03j,\n",
       "        -3.09006449e-03-6.03382558e-03j,  5.01989752e-03+8.98617851e-03j,\n",
       "        -7.21401069e-03-1.12672948e-02j,  9.22326295e-03+1.16031439e-02j,\n",
       "        -1.05676927e-02-9.30183166e-03j,  1.09367776e-02+4.90231566e-03j,\n",
       "        -1.03004164e-02+1.38777878e-17j,  8.90348278e-03-3.71357787e-03j,\n",
       "        -7.19482193e-03+5.39382576e-03j,  5.73454373e-03-5.25174862e-03j,\n",
       "        -5.11466234e-03+4.07704485e-03j,  5.94393513e-03-2.62652519e-03j,\n",
       "        -4.35386241e-03+1.28321784e-03j],\n",
       "       [ 7.82223599e-03+4.22932987e-11j, -2.85369479e-10-6.18284944e-10j,\n",
       "         2.79009771e-09+6.06957681e-09j, -2.11052578e-08-4.60821195e-08j,\n",
       "         1.30667932e-07+2.86194180e-07j, -6.81957764e-07-1.49695007e-06j,\n",
       "         3.05299506e-06+6.70722066e-06j, -1.18527525e-05-2.60089802e-05j,\n",
       "         4.01860165e-05+8.78152456e-05j, -1.19517688e-04-2.58946307e-04j,\n",
       "         3.12687252e-04+6.67358151e-04j, -7.20922428e-04-1.50124395e-03j,\n",
       "         1.46674303e-03+2.93796770e-03j, -2.63725472e-03-4.97398706e-03j,\n",
       "         4.20007452e-03+7.22126975e-03j, -5.94626253e-03-8.86514179e-03j,\n",
       "         7.52510572e-03+8.97706946e-03j, -8.57880559e-03-7.10650138e-03j,\n",
       "         8.90348278e-03+3.71357787e-03j, -8.54750590e-03+0.00000000e+00j,\n",
       "         7.82070680e-03-2.79487540e-03j, -7.23938973e-03+4.05682458e-03j,\n",
       "         7.43015306e-03-3.92830277e-03j, -9.01705915e-03+2.95058968e-03j,\n",
       "         5.69901535e-03-1.60017701e-03j],\n",
       "       [-1.20093083e-02-7.83381509e-12j,  5.62317603e-11+1.20576611e-10j,\n",
       "        -5.80598958e-10-1.24944572e-09j,  4.65078529e-09+1.00414287e-08j,\n",
       "        -3.05832058e-08-6.62171685e-08j,  1.70082887e-07+3.69018366e-07j,\n",
       "        -8.14229513e-07-1.76832468e-06j,  3.39318008e-06+7.36479457e-06j,\n",
       "        -1.23992976e-05-2.68342906e-05j,  3.99173046e-05+8.58516066e-05j,\n",
       "        -1.13551778e-04-2.41536676e-04j,  2.85953928e-04+5.97373636e-04j,\n",
       "        -6.38246539e-04-1.29613791e-03j,  1.26394461e-03+2.45777200e-03j,\n",
       "        -2.22413047e-03-4.04886736e-03j,  3.48691459e-03+5.74288342e-03j,\n",
       "        -4.89405856e-03-6.91502443e-03j,  6.20141099e-03+6.89451126e-03j,\n",
       "        -7.19482193e-03-5.39382576e-03j,  7.82070680e-03+2.79487540e-03j,\n",
       "        -8.25224443e-03+6.93889390e-18j,  8.85051297e-03-2.07741740e-03j,\n",
       "        -1.00291480e-02+2.97160989e-03j,  1.20740149e-02-2.73870914e-03j,\n",
       "        -6.02131184e-03+1.68277076e-03j],\n",
       "       [ 1.61763147e-02+1.41250851e-12j, -1.07477664e-11-2.28323696e-11j,\n",
       "         1.16864824e-10+2.49049122e-10j, -9.88274017e-10-2.11221776e-09j,\n",
       "         6.87947112e-09+1.47398410e-08j, -4.06194452e-08-8.71912213e-08j,\n",
       "         2.07115672e-07+4.44990375e-07j, -9.22523187e-07-1.98122335e-06j,\n",
       "         3.61669159e-06+7.74913038e-06j, -1.25427932e-05-2.67378113e-05j,\n",
       "         3.86064440e-05+8.15570244e-05j, -1.05694260e-04-2.20004594e-04j,\n",
       "         2.57772979e-04+5.24270750e-04j, -5.60840676e-04-1.10081117e-03j,\n",
       "         1.09074283e-03+2.02807451e-03j, -1.90281660e-03-3.25817066e-03j,\n",
       "         2.99628702e-03+4.52277670e-03j, -4.30438153e-03-5.34765792e-03j,\n",
       "         5.73454373e-03+5.25174862e-03j, -7.23938973e-03-4.05682458e-03j,\n",
       "         8.85051297e-03+2.07741740e-03j, -1.06127385e-02-6.93889390e-18j,\n",
       "         1.24351838e-02-1.47958441e-03j, -1.39757908e-02+1.97200057e-03j,\n",
       "         4.43929644e-03-1.44001948e-03j],\n",
       "       [-1.88913687e-02-2.48283036e-13j,  2.00223311e-12+4.20482349e-12j,\n",
       "        -2.28850779e-11-4.81580463e-11j,  2.03931615e-10+4.29835608e-10j,\n",
       "        -1.50000323e-09-3.16461394e-09j,  9.38696103e-09+1.98039444e-08j,\n",
       "        -5.09026450e-08-1.07246652e-07j,  2.42055955e-07+5.08343426e-07j,\n",
       "        -1.01758749e-06-2.12450300e-06j,  3.80347724e-06+7.86464353e-06j,\n",
       "        -1.26924982e-05-2.58547736e-05j,  3.79387002e-05+7.55551029e-05j,\n",
       "        -1.01869443e-04-1.96186935e-04j,  2.46472737e-04+4.51877435e-04j,\n",
       "        -5.39408541e-04-9.20449115e-04j,  1.07323732e-03+1.65055058e-03j,\n",
       "        -1.95413018e-03-2.58857993e-03j,  3.28083574e-03+3.51670358e-03j,\n",
       "        -5.11466234e-03-4.07704485e-03j,  7.43015306e-03+3.92830277e-03j,\n",
       "        -1.00291480e-02-2.97160989e-03j,  1.24351838e-02+1.47958441e-03j,\n",
       "        -1.38660987e-02+0.00000000e+00j,  1.34258110e-02-9.12058147e-04j,\n",
       "        -5.81776283e-04+9.30633631e-04j],\n",
       "       [ 1.87248194e-02+4.25829274e-14j, -4.01515295e-13-7.53704463e-13j,\n",
       "         4.87469009e-12+9.04211857e-12j, -4.63275772e-11-8.47124601e-11j,\n",
       "         3.65137431e-10+6.56112181e-10j, -2.46163912e-09-4.32987485e-09j,\n",
       "         1.44677606e-08+2.47926234e-08j, -7.50742950e-08-1.24613967e-07j,\n",
       "         3.47021122e-07+5.54005369e-07j, -1.43813016e-06-2.18925309e-06j,\n",
       "         5.36902076e-06+7.71235747e-06j, -1.81214985e-05-2.42542621e-05j,\n",
       "         5.54402299e-05+6.80971581e-05j, -1.54010270e-04-1.70497689e-04j,\n",
       "         3.88830028e-04+3.79791763e-04j, -8.92125660e-04-7.49945586e-04j,\n",
       "         1.85779885e-03+1.30585993e-03j, -3.50150915e-03-1.99030037e-03j,\n",
       "         5.94393513e-03+2.62652520e-03j, -9.01705915e-03-2.95058968e-03j,\n",
       "         1.20740149e-02+2.73870914e-03j, -1.39757908e-02-1.97200057e-03j,\n",
       "         1.34258110e-02+9.12058147e-04j, -9.62141642e-03+3.46944695e-18j,\n",
       "        -4.96152134e-03-3.65193672e-04j],\n",
       "       [-1.50118369e-02-6.97784943e-15j,  1.91210672e-13+1.28484432e-13j,\n",
       "        -2.46354591e-12-1.60750927e-12j,  2.48737297e-11+1.57351042e-11j,\n",
       "        -2.08384091e-10-1.27562139e-10j,  1.49329124e-09+8.82785393e-10j,\n",
       "        -9.32378296e-09-5.31138635e-09j,  5.13329836e-08+2.81118691e-08j,\n",
       "        -2.51198103e-07-1.31909040e-07j,  1.09836395e-06+5.51528388e-07j,\n",
       "        -4.30557878e-06-2.06121876e-06j,  1.51582020e-05+6.89653470e-06j,\n",
       "        -4.79509198e-05-2.06640151e-05j,  1.36189683e-04+5.53978062e-05j,\n",
       "        -3.46574662e-04-1.32611824e-04j,  7.87434161e-04+2.82533215e-04j,\n",
       "        -1.58856796e-03-5.33238117e-04j,  2.82169224e-03+8.85753528e-04j,\n",
       "        -4.35386250e-03-1.28321786e-03j,  5.69901536e-03+1.60017701e-03j,\n",
       "        -6.02131185e-03-1.68277076e-03j,  4.43929644e-03+1.44001948e-03j,\n",
       "        -5.81776283e-04-9.30633631e-04j, -4.96152134e-03+3.65193672e-04j,\n",
       "         1.49870045e-02+0.00000000e+00j]])"
      ]
     },
     "execution_count": 46,
     "metadata": {},
     "output_type": "execute_result"
    }
   ],
   "source": [
    "lindblad(ansatz_4([0.5, 1], a, at, **{'epsilon' : 0.2}), a, at, 0.5, **{'epsilon' : 0.2})"
   ]
  },
  {
   "cell_type": "markdown",
   "metadata": {},
   "source": [
    "Loss\n"
   ]
  },
  {
   "cell_type": "code",
   "execution_count": 47,
   "metadata": {},
   "outputs": [],
   "source": [
    "def loss_lindblad(lagr, ansatz, a, at, beta, **args) :\n",
    "    '''\n",
    "    Computes the (Nuclear) norm of the Lindbladian of an ansatz density matrix\n",
    "    given the Lagrange multipliers\n",
    "\n",
    "    Parameters\n",
    "    ----------\n",
    "    lagr : array\n",
    "        Lagrange multipliers of (pseudo-)conserved quantities.\n",
    "        They are the variational parameters\n",
    "    ansatz : function\n",
    "        ansatz used in the variational procedure\n",
    "    a : array\n",
    "        annihilation operator\n",
    "    at : array\n",
    "        creation operator\n",
    "    beta : float\n",
    "        inverse temperature\n",
    "    **args : dic\n",
    "        (optional) extra parameters used in the Hamiltonian (like\n",
    "        frequencies, ratio parameters, ...)\n",
    "\n",
    "    Return\n",
    "    ------\n",
    "    ||L rho || : float\n",
    "        the Nuclear norm of the linbladian of the density matrix\n",
    "\n",
    "    Note\n",
    "    ----\n",
    "    We use the Nuclear norm because it is not biased (see [1])\n",
    "\n",
    "    References\n",
    "    ----------\n",
    "    [1] - Weimer, Variational principle for steady states of dissipative quantum many-body systems, 2015\n",
    "    '''\n",
    "    return np.linalg.norm(lindblad(ansatz(lagr, a, at, **args), a, at, beta, **args), 'nuc')\n",
    "    # rho_ansatz = ansatz(lagr, a, at, **args)\n",
    "    # return np.abs(np.trace((np.identity(rho_ansatz.shape[0]) + scp.linalg.logm(rho_ansatz)) * lindblad(rho_ansatz, a, at, beta, **args)))"
   ]
  },
  {
   "cell_type": "code",
   "execution_count": 48,
   "metadata": {},
   "outputs": [],
   "source": [
    "def loss(lagr, ansatz, a, at, beta, **args) :\n",
    "    '''\n",
    "    Computes the (Nuclear) norm of the Lindbladian of an ansatz density matrix\n",
    "    given the Lagrange multipliers\n",
    "\n",
    "    Parameters\n",
    "    ----------\n",
    "    lagr : array\n",
    "        Lagrange multipliers of (pseudo-)conserved quantities.\n",
    "        They are the variational parameters\n",
    "    ansatz : function\n",
    "        ansatz used in the variational procedure\n",
    "    a : array\n",
    "        annihilation operator\n",
    "    at : array\n",
    "        creation operator\n",
    "    beta : float\n",
    "        inverse temperature\n",
    "    **args : dic\n",
    "        (optional) extra parameters used in the Hamiltonian (like\n",
    "        frequencies, ratio parameters, ...)\n",
    "\n",
    "    Return\n",
    "    ------\n",
    "    ||L rho || : float\n",
    "        the Nuclear norm of the linbladian of the density matrix\n",
    "\n",
    "    Note\n",
    "    ----\n",
    "    We use the Nuclear norm because it is not biased (see [1])\n",
    "\n",
    "    References\n",
    "    ----------\n",
    "    [1] - Weimer, Variational principle for steady states of dissipative quantum many-body systems, 2015\n",
    "    '''\n",
    "    # return np.linalg.norm(lindblad(ansatz(lagr, a, at, **args), a, at, beta, **args), 'nuc')\n",
    "    rho_ansatz = ansatz(lagr, a, at, **args)\n",
    "    return np.abs(np.trace((np.identity(rho_ansatz.shape[0]) + scp.linalg.logm(rho_ansatz)) * lindblad(rho_ansatz, a, at, beta, **args)))"
   ]
  },
  {
   "cell_type": "code",
   "execution_count": 49,
   "metadata": {},
   "outputs": [
    {
     "data": {
      "text/plain": [
       "2.4384856828781127"
      ]
     },
     "execution_count": 49,
     "metadata": {},
     "output_type": "execute_result"
    }
   ],
   "source": [
    "beta = 1\n",
    "loss([0.5, 1], ansatz_4, a, at, beta, **{'epsilon' : 0.2})"
   ]
  },
  {
   "cell_type": "markdown",
   "metadata": {},
   "source": [
    "##### Parameters\n"
   ]
  },
  {
   "cell_type": "code",
   "execution_count": 50,
   "metadata": {},
   "outputs": [],
   "source": [
    "case = 6\n",
    "folder = f'{dir_res}/case_{case}'\n",
    "os.makedirs(folder, exist_ok=True)"
   ]
  },
  {
   "cell_type": "code",
   "execution_count": null,
   "metadata": {},
   "outputs": [],
   "source": [
    "N = 20\n",
    "a, at = creation_annihilation(N)\n",
    "betas = np.linspace(0.3, 5, 10)        # true inverse temperature\n",
    "lambda_0 = np.array([1, 0.05])\n",
    "params_H = {\n",
    "    'epsilon' : 0.2\n",
    "}"
   ]
  },
  {
   "cell_type": "code",
   "execution_count": 52,
   "metadata": {},
   "outputs": [
    {
     "name": "stdout",
     "output_type": "stream",
     "text": [
      "Optimization terminated successfully.\n",
      "         Current function value: 0.000045\n",
      "         Iterations: 29\n",
      "         Function evaluations: 58\n",
      "[0.30495803 0.08059219]\n",
      "Optimization terminated successfully.\n",
      "         Current function value: 0.000000\n",
      "         Iterations: 34\n",
      "         Function evaluations: 62\n",
      "[0.82602705 0.06010983]\n",
      "Optimization terminated successfully.\n",
      "         Current function value: 0.000001\n",
      "         Iterations: 31\n",
      "         Function evaluations: 56\n",
      "[1.34560596 0.03167518]\n",
      "Optimization terminated successfully.\n",
      "         Current function value: 0.000005\n",
      "         Iterations: 27\n",
      "         Function evaluations: 53\n",
      "[ 1.86669461 -0.00339517]\n"
     ]
    },
    {
     "name": "stderr",
     "output_type": "stream",
     "text": [
      "c:\\Users\\antho\\miniconda3\\envs\\perso\\Lib\\site-packages\\scipy\\linalg\\_matfuncs_inv_ssq.py:836: LogmNearlySingularWarning: The logm input matrix may be nearly singular.\n",
      "  warnings.warn(near_singularity_msg, LogmNearlySingularWarning)\n"
     ]
    },
    {
     "name": "stdout",
     "output_type": "stream",
     "text": [
      "Optimization terminated successfully.\n",
      "         Current function value: 0.000000\n",
      "         Iterations: 44\n",
      "         Function evaluations: 79\n",
      "[ 2.39049967 -0.03197915]\n",
      "Optimization terminated successfully.\n",
      "         Current function value: 0.000000\n",
      "         Iterations: 42\n",
      "         Function evaluations: 77\n",
      "[ 2.91949568 -0.06579546]\n",
      "Optimization terminated successfully.\n",
      "         Current function value: 0.000000\n",
      "         Iterations: 38\n",
      "         Function evaluations: 72\n",
      "[ 3.45474956 -0.09333249]\n",
      "Optimization terminated successfully.\n",
      "         Current function value: 0.000000\n",
      "         Iterations: 40\n",
      "         Function evaluations: 74\n",
      "[ 4.013079   -0.13378432]\n",
      "Optimization terminated successfully.\n",
      "         Current function value: 0.000000\n",
      "         Iterations: 51\n",
      "         Function evaluations: 97\n",
      "[ 4.58746147 -0.15929739]\n",
      "logm result may be inaccurate, approximate err = 1.3330113079178482e-11\n",
      "logm result may be inaccurate, approximate err = 2.6288513658894837e-12\n",
      "Optimization terminated successfully.\n",
      "         Current function value: 0.000000\n",
      "         Iterations: 54\n",
      "         Function evaluations: 97\n",
      "[ 5.24011148 -0.19993294]\n"
     ]
    }
   ],
   "source": [
    "for i,beta in enumerate(betas) :\n",
    "    opt = optimize(loss, lambda_0, a, at, beta, ansatz_4, folder, i, **params_H)\n",
    "    print(opt['lagr_best'])\n",
    "    np.savetxt(f'{folder}/loss_rho_best.txt', np.array([loss_lindblad(opt['lagr_best'], ansatz_4, a, at, beta, **params_H)]))"
   ]
  },
  {
   "cell_type": "code",
   "execution_count": 53,
   "metadata": {},
   "outputs": [
    {
     "data": {
      "image/png": "[encoded data removed]",
      "text/plain": [
       "<Figure size 330x250 with 1 Axes>"
      ]
     },
     "metadata": {},
     "output_type": "display_data"
    },
    {
     "data": {
      "image/png": "[encoded data removed]",
      "text/plain": [
       "<Figure size 330x250 with 1 Axes>"
      ]
     },
     "metadata": {},
     "output_type": "display_data"
    }
   ],
   "source": [
    "lagr_to_plot = [0, 1]\n",
    "\n",
    "for i,beta in enumerate(betas) :\n",
    "\n",
    "    subfolder = f'{folder}/output_{i}'\n",
    "    explored_solutions = np.loadtxt(f'{subfolder}/history.txt', unpack=True)\n",
    "\n",
    "    for lagr in lagr_to_plot :\n",
    "        plt.figure(lagr)\n",
    "        if lagr == 0 :\n",
    "            plt.hlines(beta, 0, len(explored_solutions[lagr]), color='r', ls='--', lw=1.5, label='ground truth' if i==0 else \"\")\n",
    "        plt.plot(explored_solutions[lagr], lw=2, label=rf'$\\beta = {round(beta,2)}$')\n",
    "\n",
    "for lagr in lagr_to_plot :\n",
    "    plt.figure(lagr)   \n",
    "    plt.xlabel(\"iteration\")\n",
    "    plt.ylabel(rf\"Lagrange multiplier $\\lambda_{lagr}$\")\n",
    "    plt.legend(loc='upper center', ncols=4, bbox_to_anchor=(0.5, 1.33))\n",
    "    plt.savefig(f'figs/opti_case_{case}_lagr_{lagr}.pdf', bbox_inches='tight')\n"
   ]
  },
  {
   "cell_type": "code",
   "execution_count": null,
   "metadata": {},
   "outputs": [
    {
     "data": {
      "image/png": "[encoded data removed]",
      "text/plain": [
       "<Figure size 400x400 with 2 Axes>"
      ]
     },
     "metadata": {},
     "output_type": "display_data"
    },
    {
     "data": {
      "image/png": "[encoded data removed]",
      "text/plain": [
       "<Figure size 400x400 with 2 Axes>"
      ]
     },
     "metadata": {},
     "output_type": "display_data"
    }
   ],
   "source": [
    "for i,beta in enumerate(betas) :\n",
    "    subfolder = f'{folder}/output_{i}'\n",
    "    estimated_rho = np.loadtxt(f'{subfolder}/rho_best.txt')\n",
    "\n",
    "    plt.matshow(estimated_rho)\n",
    "    plt.colorbar()\n",
    "    plt.savefig(f'{subfolder}/rho_best.pdf', bbox_inches='tight')\n",
    "\n",
    "    if i == 0 or i == len(betas) - 1 :\n",
    "        plt.show()\n",
    "    else :\n",
    "        plt.close()"
   ]
  },
  {
   "cell_type": "code",
   "execution_count": null,
   "metadata": {},
   "outputs": [],
   "source": []
  },
  {
   "cell_type": "markdown",
   "metadata": {},
   "source": [
    "# Compare cases\n"
   ]
  },
  {
   "cell_type": "markdown",
   "metadata": {},
   "source": [
    "##### compute\n"
   ]
  },
  {
   "cell_type": "code",
   "execution_count": 64,
   "metadata": {},
   "outputs": [],
   "source": [
    "cases_to_compare = np.array([2, 3, 4, 5, 6])\n",
    "is_to_plot = np.arange(10)\n",
    "\n",
    "losses = []\n",
    "\n",
    "for c in cases_to_compare :\n",
    "    avg = 0\n",
    "    for i in is_to_plot :\n",
    "        if i != 6 :\n",
    "            filename = f'results/case_{c}/output_{i}/loss_rho_best.txt'\n",
    "            loss_best = np.loadtxt(filename)\n",
    "        else :\n",
    "            filename = f'results/case_{c}/output_{i}/lagr_best.txt'\n",
    "            param_best = np.loadtxt(filename, unpack=True)\n",
    "            loss_best = loss_lindblad(param_best, ansatz_4, a, at, beta, **{'epsilon' : 0.2})\n",
    "        avg += loss_best\n",
    "    avg /= len(is_to_plot)\n",
    "    losses.append(avg)\n",
    "\n",
    "np.savetxt('results/comp_cases/comp_avg_loss.txt', np.vstack((cases_to_compare, np.array(losses))).T)\n"
   ]
  },
  {
   "cell_type": "markdown",
   "metadata": {},
   "source": [
    "##### plot\n"
   ]
  },
  {
   "cell_type": "code",
   "execution_count": 65,
   "metadata": {},
   "outputs": [
    {
     "data": {
      "text/plain": [
       "([<matplotlib.axis.XTick at 0x1f94a565810>,\n",
       "  <matplotlib.axis.XTick at 0x1f94cd61d10>,\n",
       "  <matplotlib.axis.XTick at 0x1f94cd81890>,\n",
       "  <matplotlib.axis.XTick at 0x1f94ceb70d0>,\n",
       "  <matplotlib.axis.XTick at 0x1f94cebd110>],\n",
       " [Text(0, 0, 'HO ansatz 2'),\n",
       "  Text(1, 0, 'drive ansatz 2'),\n",
       "  Text(2, 0, 'Kerr ansatz 2'),\n",
       "  Text(3, 0, 'S-prod, ansatz 3'),\n",
       "  Text(4, 0, 'S-prod, ansatz 4')])"
      ]
     },
     "execution_count": 65,
     "metadata": {},
     "output_type": "execute_result"
    },
    {
     "data": {
      "image/png": "[encoded data removed]",
      "text/plain": [
       "<Figure size 330x250 with 1 Axes>"
      ]
     },
     "metadata": {},
     "output_type": "display_data"
    }
   ],
   "source": [
    "cases_to_compare, losses = np.loadtxt('results/comp_cases/comp_avg_loss.txt', unpack=True)\n",
    "cases_to_compare = cases_to_compare.astype(int)\n",
    "\n",
    "X = ['HO ansatz 2', 'drive ansatz 2', 'Kerr ansatz 2', 'S-prod, ansatz 3','S-prod, ansatz 4' ]\n",
    "\n",
    "plt.bar(X, losses)\n",
    "plt.ylabel(r'average loss  $||  \\mathcal{L} \\, \\rho_{\\,best\\_GGE}||$')\n",
    "plt.xticks(range(len(cases_to_compare)), X, rotation=45)\n",
    "# plt.savefig('figs/comp_avg_loss.pdf')\n"
   ]
  },
  {
   "cell_type": "code",
   "execution_count": null,
   "metadata": {},
   "outputs": [],
   "source": [
    "filename = f'results/case_{c}/output_{i}/loss_rho_best.txt'\n",
    "loss_best = np.loadtxt(filename)\n",
    "loss_lindblad([0.5, 1], ansatz_4, a, at, beta, **{'epsilon' : 0.2})"
   ]
  },
  {
   "cell_type": "code",
   "execution_count": null,
   "metadata": {},
   "outputs": [],
   "source": []
  },
  {
   "cell_type": "code",
   "execution_count": null,
   "metadata": {},
   "outputs": [],
   "source": []
  },
  {
   "cell_type": "code",
   "execution_count": null,
   "metadata": {},
   "outputs": [],
   "source": []
  }
 ],
 "metadata": {
  "kernelspec": {
   "display_name": "perso",
   "language": "python",
   "name": "python3"
  },
  "language_info": {
   "codemirror_mode": {
    "name": "ipython",
    "version": 3
   },
   "file_extension": ".py",
   "mimetype": "text/x-python",
   "name": "python",
   "nbconvert_exporter": "python",
   "pygments_lexer": "ipython3",
   "version": "3.11.5"
  }
 },
 "nbformat": 4,
 "nbformat_minor": 2
}
